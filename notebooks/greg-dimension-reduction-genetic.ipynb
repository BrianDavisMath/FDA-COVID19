{
 "cells": [
  {
   "cell_type": "markdown",
   "metadata": {},
   "source": [
    "# Exploration of Dimension Reduction\n",
    "<span style=\"font-weight:bold; font-size:17pt; color:#666666;\">Genetic Algorithm for feature selection</span>\n",
    "<hr>"
   ]
  },
  {
   "cell_type": "code",
   "execution_count": 2,
   "metadata": {},
   "outputs": [
    {
     "name": "stdout",
     "output_type": "stream",
     "text": [
      "Populating the interactive namespace from numpy and matplotlib\n"
     ]
    },
    {
     "data": {
      "application/javascript": [
       "IPython.notebook.set_autosave_interval(25000)"
      ]
     },
     "metadata": {},
     "output_type": "display_data"
    },
    {
     "name": "stdout",
     "output_type": "stream",
     "text": [
      "Autosaving every 25 seconds\n"
     ]
    }
   ],
   "source": [
    "%pylab inline\n",
    "%autosave 25\n",
    "\n",
    "import h5py\n",
    "import random\n",
    "import pandas as pd\n",
    "import pickle\n",
    "\n",
    "from abc import ABC, abstractmethod\n",
    "from deap import base\n",
    "from deap import creator\n",
    "from deap import tools\n",
    "from sklearn.model_selection import StratifiedKFold\n",
    "from sklearn.base import BaseEstimator, TransformerMixin\n",
    "from sklearn.ensemble import RandomForestClassifier\n",
    "from sklearn.metrics import roc_auc_score"
   ]
  },
  {
   "cell_type": "markdown",
   "metadata": {},
   "source": [
    "## Data location\n",
    "\n",
    "Change this when you get a new data set."
   ]
  },
  {
   "cell_type": "code",
   "execution_count": 3,
   "metadata": {},
   "outputs": [],
   "source": [
    "data_loc = '../data/FDA-COVID19_files_v1.0/'"
   ]
  },
  {
   "cell_type": "markdown",
   "metadata": {},
   "source": [
    "## GA code\n",
    "\n",
    "Reference material:\n",
    "\n",
    "* [deap](https://deap.readthedocs.io/en/master/)\n",
    "* [deap: Knapsack problem](https://deap.readthedocs.io/en/master/examples/ga_knapsack.html)\n",
    "\n",
    "Things to tune:\n",
    "\n",
    "* **target_ratio** = 0.1 <- percentage of features to keep\n",
    "\n",
    "other parameters are adjusted on an exploration vs. stability continuum:\n",
    "\n",
    "* **pop_size** = 50 <- (int) +explore\n",
    "\n",
    "* **INDPB** = 0.05 <- (probability float) +explore\n",
    "\n",
    "* **TOURNSIZE** = 3 <- (int) +stable\n",
    "\n",
    "* **CXPB** = 0.5 <- (probability float) +explore\n",
    "\n",
    "* **MUTPB** = 0.2 (probability float) +explore"
   ]
  },
  {
   "cell_type": "code",
   "execution_count": 4,
   "metadata": {},
   "outputs": [],
   "source": [
    "# TODO: this likely should be tuned to the data\n",
    "model = RandomForestClassifier()\n",
    "\n",
    "\n",
    "def mask_value(mask, features, labels):\n",
    "    \"\"\"Returns the mean roc_auc_score of a random forest model trained with\n",
    "    the indicated subset of features.\"\"\"\n",
    "    features_tmp = features[:, mask == 1]\n",
    "    np.random.seed(42)\n",
    "    scores = []\n",
    "    mini_batches_generator = StratifiedKFold(n_splits=4, random_state=42, shuffle=True)\n",
    "    try:\n",
    "        for training_index, validation_index in mini_batches_generator.split(features_tmp, labels):\n",
    "            training_features = features_tmp[training_index]\n",
    "            training_labels = np.ravel(labels[training_index])\n",
    "            validation_features = features_tmp[validation_index]\n",
    "            validation_labels = np.ravel(labels[validation_index])\n",
    "            model.fit(training_features, training_labels)\n",
    "            predictions = model.predict_proba(validation_features)[:, 1]\n",
    "            scores.append(roc_auc_score(validation_labels, predictions))\n",
    "        return np.mean(scores)\n",
    "    except ValueError:\n",
    "        return 0\n",
    "\n",
    "\n",
    "def mask_opt_function(mask, features, labels):\n",
    "    \"\"\"The function being maximized by genetic algorithm.\n",
    "     It attempts to balance the output of mask_value with the feature dimension.\"\"\"\n",
    "    feature_dim = np.sum(mask)\n",
    "    model_auc = mask_value(mask, features, labels)\n",
    "    return model_auc ** 2 / (1 + feature_dim),\n",
    "\n",
    "\n",
    "def genetic_algorithm(features, labels, num_gens):\n",
    "    _, num_features = np.shape(features)\n",
    "    np.random.seed(42)\n",
    "    print_freq = 10\n",
    "    target_ratio = 0.1\n",
    "    pop_size = 50\n",
    "    INDPB = 0.05\n",
    "    TOURNSIZE = 3\n",
    "    CXPB = 0.5\n",
    "    MUTPB = 0.2\n",
    "\n",
    "    creator.create(\"FitnessMax\", base.Fitness, weights=(1.0,))\n",
    "    creator.create(\"Individual\", np.ndarray, typecode='b', fitness=creator.FitnessMax)\n",
    "    toolbox = base.Toolbox()\n",
    "    toolbox.register(\"attr_bool\", np.random.choice, 2, p=[1 - target_ratio, target_ratio])\n",
    "    toolbox.register(\"individual\", tools.initRepeat, creator.Individual, toolbox.attr_bool, num_features)\n",
    "    toolbox.register(\"population\", tools.initRepeat, list, toolbox.individual)\n",
    "    toolbox.register(\"evaluate\", mask_opt_function, features=features, labels=labels)\n",
    "    toolbox.register(\"mate\", tools.cxOnePoint)\n",
    "    toolbox.register(\"mutate\", tools.mutFlipBit, indpb=INDPB)\n",
    "    toolbox.register(\"select\", tools.selTournament, tournsize=TOURNSIZE)\n",
    "\n",
    "    max_record = []\n",
    "    pop = toolbox.population(n=pop_size)\n",
    "    fitnesses = list(map(toolbox.evaluate, pop))\n",
    "    for ind, fit in zip(pop, fitnesses):\n",
    "        ind.fitness.values = fit\n",
    "    gen = 0\n",
    "    while gen < num_gens:\n",
    "        # Select the next generation individuals\n",
    "        offspring = toolbox.select(pop, len(pop))\n",
    "        # Clone the selected individuals\n",
    "        offspring = list(map(toolbox.clone, offspring))\n",
    "        # Apply crossover and mutation on the offspring\n",
    "        for child1, child2 in zip(offspring[::2], offspring[1::2]):\n",
    "            if np.random.random() < CXPB:\n",
    "                toolbox.mate(child1, child2)\n",
    "                del child1.fitness.values\n",
    "                del child2.fitness.values\n",
    "        for mutant in offspring:\n",
    "            if np.random.random() < MUTPB:\n",
    "                toolbox.mutate(mutant)\n",
    "                del mutant.fitness.values\n",
    "        # Evaluate the individuals with an invalid fitness\n",
    "        invalid_ind = [ind for ind in offspring if not ind.fitness.valid]\n",
    "        fitnesses = map(toolbox.evaluate, invalid_ind)\n",
    "        for ind, fit in zip(invalid_ind, fitnesses):\n",
    "            ind.fitness.values = fit\n",
    "        pop[:] = offspring\n",
    "        scores = [toolbox.evaluate(ind) for ind in pop]\n",
    "        if (gen % print_freq == 0) or (gen == num_gens - 1):\n",
    "            best_mask = pop[np.argmax(scores)]\n",
    "            max_score = np.round(np.max(scores), 3)\n",
    "            print('Best ROC-AUC: {},'\n",
    "                  ' Feature Dimension: {}'.format(max_score, np.sum(best_mask)))\n",
    "            max_record.append([max_score, int(np.sum(best_mask))])\n",
    "        gen += 1\n",
    "    return max_record, np.array(pop[np.argmax(scores)])"
   ]
  },
  {
   "cell_type": "code",
   "execution_count": 5,
   "metadata": {},
   "outputs": [],
   "source": [
    "class BaseFeatureSelectionModel(ABC):\n",
    "    @abstractmethod\n",
    "    def fit(self, features, labels, params):\n",
    "        pass\n",
    "\n",
    "    @abstractmethod\n",
    "    def transform(self, features, num_keep_features):\n",
    "        pass\n",
    "\n",
    "    @abstractmethod\n",
    "    def save(self, location):\n",
    "        pass\n",
    "\n",
    "    @abstractmethod\n",
    "    def load(self, location):\n",
    "        pass\n",
    "\n",
    "class GeneticFeatureSelection(BaseEstimator, TransformerMixin):\n",
    "    def __init__(self):\n",
    "        self.feature_mask = None\n",
    "        self.opt_record = None\n",
    "\n",
    "    def fit(self, features, labels, params):\n",
    "        num_gens = params.get('num_gens', 100)\n",
    "\n",
    "        self.opt_record, self.feature_mask = genetic_algorithm(features, labels, num_gens)\n",
    "\n",
    "    def transform(self, features):\n",
    "        return features[:, self.feature_mask == 1]\n",
    "\n",
    "    def save(self, location, serialized_feature_selector=None):\n",
    "        pickle_out = open(location,\"wb\")\n",
    "        pickle.dump(self, pickle_out)\n",
    "        pickle_out.close()\n",
    "\n",
    "    def load(self, location):\n",
    "        serialized_fs = open(location, 'rb')\n",
    "        fs = pickle.load(serialized_fs)\n",
    "        self.opt_record = fs.opt_record\n",
    "        self.feature_mask = fs.feature_mask"
   ]
  },
  {
   "cell_type": "markdown",
   "metadata": {},
   "source": [
    "## Test using dummy inputs"
   ]
  },
  {
   "cell_type": "code",
   "execution_count": 6,
   "metadata": {},
   "outputs": [
    {
     "name": "stderr",
     "output_type": "stream",
     "text": [
      "/Library/Frameworks/Python.framework/Versions/3.6/lib/python3.6/site-packages/sklearn/ensemble/forest.py:248: FutureWarning: The default value of n_estimators will change from 10 in version 0.20 to 100 in 0.22.\n",
      "  \"10 in version 0.20 to 100 in 0.22.\", FutureWarning)\n"
     ]
    },
    {
     "name": "stdout",
     "output_type": "stream",
     "text": [
      "Best ROC-AUC: 0.074, Feature Dimension: 3\n",
      "[[0.21680072 0.7164187  0.61530106]\n",
      " [0.33611435 0.4118338  0.46209917]\n",
      " [0.36317541 0.66106757 0.98827968]\n",
      " ...\n",
      " [0.48051528 0.23755224 0.88459333]\n",
      " [0.36934608 0.61523007 0.19875022]\n",
      " [0.63152305 0.10875524 0.37207128]]\n"
     ]
    }
   ],
   "source": [
    "# synthetic data\n",
    "n_samples, n_dims = 1000, 100\n",
    "input_array = np.random.sample(size=(n_samples, n_dims))\n",
    "activity_labels = np.random.choice(2, size=n_samples, p=(0.95, 0.05))\n",
    "\n",
    "# Random Forest Method: usage example\n",
    "model_location = data_loc+'genetic_alg.mdl'\n",
    "\n",
    "feature_selector = GeneticFeatureSelection()\n",
    "feature_selector.fit(input_array, activity_labels, {'num_gens': 1})\n",
    "feature_selector.save(model_location)\n",
    "\n",
    "feature_selector2 = GeneticFeatureSelection()\n",
    "feature_selector2.load(model_location)\n",
    "reduced_features = feature_selector2.transform(input_array)\n",
    "print(reduced_features)\n",
    "\n",
    "# basic assertions on shape and number of results\n",
    "results_shape = reduced_features.shape\n",
    "assert(len(results_shape) is 2)\n",
    "assert(results_shape[0] == 1000)\n",
    "assert(results_shape[1] > 1)"
   ]
  },
  {
   "cell_type": "markdown",
   "metadata": {},
   "source": [
    "## Load the real cid-pid data"
   ]
  },
  {
   "cell_type": "code",
   "execution_count": 6,
   "metadata": {},
   "outputs": [
    {
     "name": "stdout",
     "output_type": "stream",
     "text": [
      "rows: 22,172, columns: 17,076\n"
     ]
    }
   ],
   "source": [
    "store = pd.HDFStore(data_loc + 'sampled_data.h5')\n",
    "df_features = pd.DataFrame(store['df' ])\n",
    "store.close()\n",
    "print('rows: {:,}, columns: {:,}'.format(len(df_features), len(df_features.columns)))"
   ]
  },
  {
   "cell_type": "markdown",
   "metadata": {},
   "source": [
    "## Run data against GA"
   ]
  },
  {
   "cell_type": "code",
   "execution_count": 24,
   "metadata": {},
   "outputs": [],
   "source": [
    "# split data into train and test sets\n",
    "X_train = df_features.copy()\n",
    "X_train.drop(columns=['cid', 'pid', 'activity'], inplace=True)\n",
    "input_array = X_train.values\n",
    "del X_train\n",
    "labels = df_features['activity'].values\n",
    "\n",
    "feature_selector = GeneticFeatureSelection()"
   ]
  },
  {
   "cell_type": "code",
   "execution_count": 25,
   "metadata": {},
   "outputs": [
    {
     "name": "stdout",
     "output_type": "stream",
     "text": [
      "Best ROC-AUC: 0.0, Feature Dimension: 1638\n",
      "CPU times: user 17min 11s, sys: 1min 47s, total: 18min 59s\n",
      "Wall time: 18min 59s\n"
     ]
    }
   ],
   "source": [
    "%%time\n",
    "\n",
    "feature_selector.fit(input_array, labels, {'num_gens': 1})"
   ]
  },
  {
   "cell_type": "code",
   "execution_count": 41,
   "metadata": {},
   "outputs": [
    {
     "data": {
      "text/plain": [
       "array(['KEY', '*KP', '*EE', ..., '4071', '4075', '4091'], dtype='<U14')"
      ]
     },
     "execution_count": 41,
     "metadata": {},
     "output_type": "execute_result"
    }
   ],
   "source": [
    "selected_features = np.array(df_features.columns.tolist())[3:][feature_selector.feature_mask == 1]\n",
    "selected_features"
   ]
  },
  {
   "cell_type": "code",
   "execution_count": null,
   "metadata": {},
   "outputs": [],
   "source": []
  }
 ],
 "metadata": {
  "kernelspec": {
   "display_name": "Python 3",
   "language": "python",
   "name": "python3"
  },
  "language_info": {
   "codemirror_mode": {
    "name": "ipython",
    "version": 3
   },
   "file_extension": ".py",
   "mimetype": "text/x-python",
   "name": "python",
   "nbconvert_exporter": "python",
   "pygments_lexer": "ipython3",
   "version": "3.6.2"
  }
 },
 "nbformat": 4,
 "nbformat_minor": 4
}
