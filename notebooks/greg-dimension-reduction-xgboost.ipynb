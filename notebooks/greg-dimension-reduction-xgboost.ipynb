{
 "cells": [
  {
   "cell_type": "markdown",
   "metadata": {},
   "source": [
    "# Exploration of Dimension Reduction\n",
    "<span style=\"font-weight:bold; font-size:17pt; color:#666666;\">XGBoost for feature selection</span>\n",
    "<hr>\n",
    "\n",
    "This notebook is for EDA, feature extraction, engineering and the subsequent evaluation of XGBoost as a dimension reduction technique.\n",
    "\n",
    "It assumes the data are in a sub-directory of the **/data** folder. I've already added entries to the _.gitignore_ file so that they won't be committed to the repository. Note that this file should be updated for new versions of the data.\n",
    "\n",
    "See the [data readme in the Gitbug repository](https://github.com/BrianDavisMath/FDA-COVID19/tree/master/data) for more details.\n",
    "\n",
    "reference material:\n",
    "\n",
    "* [An End-to-End Guide to Understand the Math behind XGBoost](https://www.analyticsvidhya.com/blog/2018/09/an-end-to-end-guide-to-understand-the-math-behind-xgboost/)\n",
    "* [XGBoost Algorithm: Long May She Reign!](https://towardsdatascience.com/https-medium-com-vishalmorde-xgboost-algorithm-long-she-may-rein-edd9f99be63d)\n",
    "* [Notes on Parameter Tuning](https://xgboost.readthedocs.io/en/latest/tutorials/param_tuning.html)\n",
    "* [Complete Guide to Parameter Tuning in XGBoost with codes in Python](https://www.analyticsvidhya.com/blog/2016/03/complete-guide-parameter-tuning-xgboost-with-codes-python/)\n",
    "* [XGBoost Parameters](https://xgboost.readthedocs.io/en/latest/parameter.html)\n",
    "* [How to Tune the Number and Size of Decision Trees with XGBoost in Python](https://machinelearningmastery.com/tune-number-size-decision-trees-xgboost-python/)\n",
    "*[Python's Xgoost: ValueError('feature_names may not contain \\[, \\] or \\<')](https://stackoverflow.com/questions/48645846/pythons-xgoost-valueerrorfeature-names-may-not-contain-or/50633571)\n",
    "* [Fine-tuning XGBoost in Python like a boss](https://towardsdatascience.com/fine-tuning-xgboost-in-python-like-a-boss-b4543ed8b1e)\n",
    "\n",
    "<hr>"
   ]
  },
  {
   "cell_type": "code",
   "execution_count": 2,
   "metadata": {},
   "outputs": [
    {
     "name": "stdout",
     "output_type": "stream",
     "text": [
      "Populating the interactive namespace from numpy and matplotlib\n"
     ]
    },
    {
     "data": {
      "application/javascript": [
       "IPython.notebook.set_autosave_interval(25000)"
      ]
     },
     "metadata": {},
     "output_type": "display_data"
    },
    {
     "name": "stdout",
     "output_type": "stream",
     "text": [
      "Autosaving every 25 seconds\n"
     ]
    },
    {
     "name": "stderr",
     "output_type": "stream",
     "text": [
      "/Library/Frameworks/Python.framework/Versions/3.6/lib/python3.6/site-packages/sklearn/externals/joblib/__init__.py:15: DeprecationWarning: sklearn.externals.joblib is deprecated in 0.21 and will be removed in 0.23. Please import this functionality directly from joblib, which can be installed with: pip install joblib. If this warning is raised when loading pickled models, you may need to re-serialize those models with scikit-learn 0.21+.\n",
      "  warnings.warn(msg, category=DeprecationWarning)\n"
     ]
    }
   ],
   "source": [
    "%pylab inline\n",
    "%autosave 25\n",
    "\n",
    "import h5py\n",
    "import random\n",
    "import pandas as pd\n",
    "\n",
    "from sklearn.externals import joblib\n",
    "from sklearn.model_selection import train_test_split\n",
    "from sklearn.metrics import accuracy_score\n",
    "\n",
    "import warnings\n",
    "warnings.filterwarnings('ignore')\n",
    "from sklearn.model_selection import RandomizedSearchCV, GridSearchCV\n",
    "from sklearn.metrics import roc_auc_score\n",
    "from sklearn.model_selection import StratifiedKFold\n",
    "from xgboost import XGBClassifier\n",
    "\n",
    "from sklearn.metrics import f1_score\n",
    "from sklearn.model_selection import GridSearchCV\n",
    "from sklearn.neighbors import NearestNeighbors\n",
    "\n",
    "from datetime import datetime"
   ]
  },
  {
   "cell_type": "markdown",
   "metadata": {},
   "source": [
    "## Data location\n",
    "\n",
    "Change this when you get a new data set."
   ]
  },
  {
   "cell_type": "code",
   "execution_count": 3,
   "metadata": {},
   "outputs": [],
   "source": [
    "data_loc = '../data/FDA-COVID19_files_v1.0/'"
   ]
  },
  {
   "cell_type": "markdown",
   "metadata": {},
   "source": [
    "### Common methods used across experiments"
   ]
  },
  {
   "cell_type": "code",
   "execution_count": 37,
   "metadata": {},
   "outputs": [],
   "source": [
    "# train an XGBoost model and use an internal split for evaluation.\n",
    "def train(X, Y, random_state=42, n_estimators=600, xgb=None):\n",
    "    X_train, X_test, y_train, y_test = train_test_split(X, Y, test_size=0.2, random_state=random_state)\n",
    "\n",
    "    # fit model to training data\n",
    "    eval_set = [(X_train, y_train), (X_test, y_test)]\n",
    "\n",
    "    if xgb is None:\n",
    "        print('USING DEFAULT XBGClassifier')\n",
    "        xgb = XGBClassifier(learning_rate=0.02, n_estimators=n_estimators, objective='binary:logistic',\n",
    "                        silent=True, nthread=1)\n",
    "\n",
    "    xgb.fit(X_train, y_train, eval_metric=[\"error\", \"logloss\"], eval_set=eval_set, verbose=False, early_stopping_rounds=50)\n",
    "\n",
    "    # make predictions for test data\n",
    "    y_pred = xgb.predict(X_test)\n",
    "    predictions = [round(value) for value in y_pred]\n",
    "\n",
    "    # evaluate predictions\n",
    "    accuracy = accuracy_score(y_test, predictions)\n",
    "    print(\"Accuracy: %.2f%%\" % (accuracy * 100.0))\n",
    "\n",
    "    # retrieve performance metrics\n",
    "    results = xgb.evals_result()\n",
    "    epochs = len(results['validation_0']['error'])\n",
    "    x_axis = range(0, epochs)\n",
    "    # plot log loss\n",
    "    fig, ax = pyplot.subplots()\n",
    "    ax.plot(x_axis, results['validation_0']['logloss'], label='Train')\n",
    "    ax.plot(x_axis, results['validation_1']['logloss'], label='Test')\n",
    "    ax.legend()\n",
    "    pyplot.ylabel('Log Loss')\n",
    "    pyplot.title('XGBoost Log Loss')\n",
    "    pyplot.show()\n",
    "    # plot classification error\n",
    "    fig, ax = pyplot.subplots()\n",
    "    ax.plot(x_axis, results['validation_0']['error'], label='Train')\n",
    "    ax.plot(x_axis, results['validation_1']['error'], label='Test')\n",
    "    ax.legend()\n",
    "    pyplot.ylabel('Classification Error')\n",
    "    pyplot.title('XGBoost Classification Error')\n",
    "    pyplot.show()\n",
    "    return xgb\n",
    "\n",
    "\n",
    "# Get feature importance as information gain (the improvement in accuracy brought by a feature) from an XGBoost model.\n",
    "def get_features(model):\n",
    "    gain_importance = model.get_booster().get_score(importance_type=\"gain\")\n",
    "    return [int(key) for key in gain_importance.keys()]\n",
    "\n",
    "\n",
    "# Perform a grid search over an XGBoost model to determine a decent value for n_estimators\n",
    "def n_est_grid_search(X, Y):\n",
    "    xgb = XGBClassifier(learning_rate=0.02, objective='binary:logistic', silent=True, nthread=1)\n",
    "\n",
    "    n_estimators = range(1000, 2200, 200) # try different numbers of epochs\n",
    "\n",
    "    print('set of n_estimators to test: {}'.format([x for x in n_estimators]))\n",
    "\n",
    "    param_grid = dict(n_estimators=n_estimators)\n",
    "    kfold = StratifiedKFold(n_splits=2, shuffle=True, random_state=7)\n",
    "    grid_search = GridSearchCV(xgb, param_grid, scoring=\"neg_log_loss\", n_jobs=-1, cv=kfold)\n",
    "    grid_result = grid_search.fit(X, Y)\n",
    "\n",
    "    # summarize results\n",
    "    print(\"Best: %f using %s\" % (grid_result.best_score_, grid_result.best_params_))\n",
    "    means = grid_result.cv_results_['mean_test_score']\n",
    "    stds = grid_result.cv_results_['std_test_score']\n",
    "    params = grid_result.cv_results_['params']\n",
    "\n",
    "    for mean, stdev, param in zip(means, stds, params):\n",
    "        print(\"%f (%f) with: %r\" % (mean, stdev, param))\n",
    "    # plot\n",
    "    pyplot.errorbar(n_estimators, means, yerr=stds)\n",
    "    pyplot.title(\"XGBoost n_estimators vs Log Loss\")\n",
    "    pyplot.xlabel('n_estimators')\n",
    "    pyplot.ylabel('Log Loss')\n",
    "    \n",
    "    \n",
    "# routine for timing random parameter search\n",
    "def timer(start_time=None):\n",
    "    if not start_time:\n",
    "        start_time = datetime.now()\n",
    "        return start_time\n",
    "    elif start_time:\n",
    "        thour, temp_sec = divmod((datetime.now() - start_time).total_seconds(), 3600)\n",
    "        tmin, tsec = divmod(temp_sec, 60)\n",
    "        print('\\n Time taken: %i hours %i minutes and %s seconds.' % (thour, tmin, round(tsec, 2)))\n",
    "        \n",
    "        \n",
    "# calculate the sample weights used for thte F1 Score\n",
    "def get_validation_weights(training_features_active, training_features_inactive,\n",
    "                           validation_features_active, validation_features_inactive):\n",
    "    active_nbrs = NearestNeighbors(n_neighbors=1).fit(training_features_active)\n",
    "    inactive_nbrs = NearestNeighbors(n_neighbors=1).fit(training_features_inactive)\n",
    "    act_act_distances, _ = active_nbrs.kneighbors(validation_features_active)\n",
    "    inact_act_distances, _ = active_nbrs.kneighbors(validation_features_inactive)\n",
    "    act_inact_distances, _ = inactive_nbrs.kneighbors(validation_features_active)\n",
    "    inact_inact_distances, _ = inactive_nbrs.kneighbors(validation_features_inactive)\n",
    "    active_scores = act_act_distances / act_inact_distances\n",
    "    active_weights = (1 + np.argsort(np.argsort(active_scores.flatten()))) / len(active_scores)\n",
    "    inactive_scores = inact_inact_distances / inact_act_distances\n",
    "    inactive_weights = (1 + np.argsort(np.argsort(inactive_scores.flatten()))) / len(inactive_scores)\n",
    "    return active_weights, inactive_weights\n",
    "\n",
    "\n",
    "# get only the feature names from a csv file\n",
    "def get_csv_feature_names(file):\n",
    "    columns = pd.read_csv(data_loc + file, index_col=0, nrows=1).columns.tolist()\n",
    "    print('{}: columns: {:,}'.format(file, len(columns)))\n",
    "    return columns"
   ]
  },
  {
   "cell_type": "markdown",
   "metadata": {},
   "source": [
    "## Experiment 1\n",
    "\n",
    "XGBoost for features extraction.\n",
    "\n",
    "* obtain features using the **greg-features.ipynb** notebobook\n",
    "* sample data using **_centroid_sampling.ipynb_** noteboob\n",
    "* remove highly correlated columns using **dim-red-via-correlation.ipynb**\n",
    "* run basic model multiple times to determine a candidate set for features\n",
    "* make sure the most important features do not drastically change across each model trained\n",
    "* reduce data set to use the subset of candidate features\n",
    "* determine number of epochs for training XGBoost\n",
    "* grid/random search parameter space to finley tune parameters\n",
    "* evaluate the model w.r.t. weighted F1 score (see greg-train-validation-split-eval.ipynb for details)\n",
    "\n",
    "<hr>"
   ]
  },
  {
   "cell_type": "markdown",
   "metadata": {},
   "source": [
    "## Load the data from sampled_data.h5"
   ]
  },
  {
   "cell_type": "code",
   "execution_count": 3,
   "metadata": {},
   "outputs": [
    {
     "name": "stdout",
     "output_type": "stream",
     "text": [
      "rows: 19,632, columns: 13,851\n"
     ]
    }
   ],
   "source": [
    "store = pd.HDFStore(data_loc + 'training_sampled_data.h5')\n",
    "df_features = pd.DataFrame(store['df' ])\n",
    "store.close()\n",
    "print('rows: {:,}, columns: {:,}'.format(len(df_features), len(df_features.columns)))"
   ]
  },
  {
   "cell_type": "markdown",
   "metadata": {},
   "source": [
    "# XGBoost"
   ]
  },
  {
   "cell_type": "code",
   "execution_count": 5,
   "metadata": {},
   "outputs": [],
   "source": [
    "Y = df_features['activity'].values\n",
    "X = df_features.drop(['activity', 'cid', 'pid'], axis=1)"
   ]
  },
  {
   "cell_type": "markdown",
   "metadata": {},
   "source": [
    "### Fix column names\n",
    "\n",
    "#### XGBoost does not like <>, [] and , in column names\n",
    "\n",
    "..change the column names to their ordinal numbers."
   ]
  },
  {
   "cell_type": "code",
   "execution_count": 6,
   "metadata": {},
   "outputs": [
    {
     "data": {
      "text/html": [
       "<div>\n",
       "<style scoped>\n",
       "    .dataframe tbody tr th:only-of-type {\n",
       "        vertical-align: middle;\n",
       "    }\n",
       "\n",
       "    .dataframe tbody tr th {\n",
       "        vertical-align: top;\n",
       "    }\n",
       "\n",
       "    .dataframe thead th {\n",
       "        text-align: right;\n",
       "    }\n",
       "</style>\n",
       "<table border=\"1\" class=\"dataframe\">\n",
       "  <thead>\n",
       "    <tr style=\"text-align: right;\">\n",
       "      <th></th>\n",
       "      <th>0</th>\n",
       "      <th>1</th>\n",
       "      <th>2</th>\n",
       "      <th>3</th>\n",
       "      <th>4</th>\n",
       "      <th>5</th>\n",
       "      <th>6</th>\n",
       "      <th>7</th>\n",
       "      <th>8</th>\n",
       "      <th>9</th>\n",
       "      <th>...</th>\n",
       "      <th>13838</th>\n",
       "      <th>13839</th>\n",
       "      <th>13840</th>\n",
       "      <th>13841</th>\n",
       "      <th>13842</th>\n",
       "      <th>13843</th>\n",
       "      <th>13844</th>\n",
       "      <th>13845</th>\n",
       "      <th>13846</th>\n",
       "      <th>13847</th>\n",
       "    </tr>\n",
       "  </thead>\n",
       "  <tbody>\n",
       "    <tr>\n",
       "      <th>0</th>\n",
       "      <td>-1.0</td>\n",
       "      <td>-1.0</td>\n",
       "      <td>-1.0</td>\n",
       "      <td>-1.0</td>\n",
       "      <td>-1.0</td>\n",
       "      <td>-1.0</td>\n",
       "      <td>-1.0</td>\n",
       "      <td>-1.0</td>\n",
       "      <td>-1.00000</td>\n",
       "      <td>-1.0</td>\n",
       "      <td>...</td>\n",
       "      <td>0</td>\n",
       "      <td>0</td>\n",
       "      <td>0</td>\n",
       "      <td>0</td>\n",
       "      <td>0</td>\n",
       "      <td>0</td>\n",
       "      <td>0</td>\n",
       "      <td>0</td>\n",
       "      <td>0</td>\n",
       "      <td>0</td>\n",
       "    </tr>\n",
       "    <tr>\n",
       "      <th>1</th>\n",
       "      <td>-1.0</td>\n",
       "      <td>-1.0</td>\n",
       "      <td>-1.0</td>\n",
       "      <td>-1.0</td>\n",
       "      <td>-1.0</td>\n",
       "      <td>-1.0</td>\n",
       "      <td>-1.0</td>\n",
       "      <td>-1.0</td>\n",
       "      <td>-1.00000</td>\n",
       "      <td>-1.0</td>\n",
       "      <td>...</td>\n",
       "      <td>0</td>\n",
       "      <td>0</td>\n",
       "      <td>0</td>\n",
       "      <td>0</td>\n",
       "      <td>0</td>\n",
       "      <td>0</td>\n",
       "      <td>0</td>\n",
       "      <td>0</td>\n",
       "      <td>0</td>\n",
       "      <td>0</td>\n",
       "    </tr>\n",
       "    <tr>\n",
       "      <th>3</th>\n",
       "      <td>-1.0</td>\n",
       "      <td>-1.0</td>\n",
       "      <td>-1.0</td>\n",
       "      <td>-1.0</td>\n",
       "      <td>-1.0</td>\n",
       "      <td>-1.0</td>\n",
       "      <td>-1.0</td>\n",
       "      <td>-1.0</td>\n",
       "      <td>-1.00000</td>\n",
       "      <td>-1.0</td>\n",
       "      <td>...</td>\n",
       "      <td>0</td>\n",
       "      <td>0</td>\n",
       "      <td>0</td>\n",
       "      <td>0</td>\n",
       "      <td>0</td>\n",
       "      <td>0</td>\n",
       "      <td>0</td>\n",
       "      <td>0</td>\n",
       "      <td>0</td>\n",
       "      <td>0</td>\n",
       "    </tr>\n",
       "    <tr>\n",
       "      <th>4</th>\n",
       "      <td>-1.0</td>\n",
       "      <td>-1.0</td>\n",
       "      <td>-1.0</td>\n",
       "      <td>-1.0</td>\n",
       "      <td>-1.0</td>\n",
       "      <td>-1.0</td>\n",
       "      <td>-1.0</td>\n",
       "      <td>-1.0</td>\n",
       "      <td>-1.00000</td>\n",
       "      <td>-1.0</td>\n",
       "      <td>...</td>\n",
       "      <td>0</td>\n",
       "      <td>0</td>\n",
       "      <td>0</td>\n",
       "      <td>0</td>\n",
       "      <td>0</td>\n",
       "      <td>0</td>\n",
       "      <td>0</td>\n",
       "      <td>0</td>\n",
       "      <td>0</td>\n",
       "      <td>0</td>\n",
       "    </tr>\n",
       "    <tr>\n",
       "      <th>7</th>\n",
       "      <td>-1.0</td>\n",
       "      <td>-1.0</td>\n",
       "      <td>-1.0</td>\n",
       "      <td>-1.0</td>\n",
       "      <td>-1.0</td>\n",
       "      <td>-1.0</td>\n",
       "      <td>-1.0</td>\n",
       "      <td>-1.0</td>\n",
       "      <td>3.95519</td>\n",
       "      <td>-1.0</td>\n",
       "      <td>...</td>\n",
       "      <td>0</td>\n",
       "      <td>0</td>\n",
       "      <td>0</td>\n",
       "      <td>0</td>\n",
       "      <td>0</td>\n",
       "      <td>0</td>\n",
       "      <td>0</td>\n",
       "      <td>0</td>\n",
       "      <td>0</td>\n",
       "      <td>0</td>\n",
       "    </tr>\n",
       "  </tbody>\n",
       "</table>\n",
       "<p>5 rows × 13848 columns</p>\n",
       "</div>"
      ],
      "text/plain": [
       "   0      1      2      3      4      5      6      7        8      9      \\\n",
       "0   -1.0   -1.0   -1.0   -1.0   -1.0   -1.0   -1.0   -1.0 -1.00000   -1.0   \n",
       "1   -1.0   -1.0   -1.0   -1.0   -1.0   -1.0   -1.0   -1.0 -1.00000   -1.0   \n",
       "3   -1.0   -1.0   -1.0   -1.0   -1.0   -1.0   -1.0   -1.0 -1.00000   -1.0   \n",
       "4   -1.0   -1.0   -1.0   -1.0   -1.0   -1.0   -1.0   -1.0 -1.00000   -1.0   \n",
       "7   -1.0   -1.0   -1.0   -1.0   -1.0   -1.0   -1.0   -1.0  3.95519   -1.0   \n",
       "\n",
       "   ...  13838  13839  13840  13841  13842  13843  13844  13845  13846  13847  \n",
       "0  ...      0      0      0      0      0      0      0      0      0      0  \n",
       "1  ...      0      0      0      0      0      0      0      0      0      0  \n",
       "3  ...      0      0      0      0      0      0      0      0      0      0  \n",
       "4  ...      0      0      0      0      0      0      0      0      0      0  \n",
       "7  ...      0      0      0      0      0      0      0      0      0      0  \n",
       "\n",
       "[5 rows x 13848 columns]"
      ]
     },
     "execution_count": 6,
     "metadata": {},
     "output_type": "execute_result"
    }
   ],
   "source": [
    "X.columns = list(range(0, len(X.columns)))\n",
    "X.head()"
   ]
  },
  {
   "cell_type": "markdown",
   "metadata": {},
   "source": [
    "## XGBoost parameter tuning\n",
    "\n",
    "Play around with fitting a model and see if we can narrow down the parameter search space for subsequent fine tuning.\n",
    "\n",
    "reference material:\n",
    "\n",
    "* [Avoid Overfitting By Early Stopping With XGBoost In Python](https://machinelearningmastery.com/avoid-overfitting-by-early-stopping-with-xgboost-in-python/)\n",
    "* [How to Tune the Number and Size of Decision Trees with XGBoost in Python](https://machinelearningmastery.com/tune-number-size-decision-trees-xgboost-python/)\n",
    "* [A Gentle Introduction to Early Stopping to Avoid Overtraining Neural Networks](https://machinelearningmastery.com/early-stopping-to-avoid-overtraining-neural-network-models/)\n",
    "* [Stackoverflow: Training Error is Lower than Testing error in a Random Forest Model](https://stackoverflow.com/questions/53420692/training-error-is-lower-than-testing-error-in-a-random-forest-model)"
   ]
  },
  {
   "cell_type": "markdown",
   "metadata": {},
   "source": [
    "### run twice to compare the most important features\n",
    "\n",
    "We do not want to see different features every time."
   ]
  },
  {
   "cell_type": "code",
   "execution_count": 8,
   "metadata": {},
   "outputs": [
    {
     "name": "stdout",
     "output_type": "stream",
     "text": [
      "Accuracy: 82.13%\n"
     ]
    },
    {
     "data": {
      "image/png": "[encoded data removed]",
      "text/plain": [
       "<Figure size 432x288 with 1 Axes>"
      ]
     },
     "metadata": {
      "needs_background": "light"
     },
     "output_type": "display_data"
    },
    {
     "data": {
      "image/png": "[encoded data removed]",
      "text/plain": [
       "<Figure size 432x288 with 1 Axes>"
      ]
     },
     "metadata": {
      "needs_background": "light"
     },
     "output_type": "display_data"
    },
    {
     "name": "stdout",
     "output_type": "stream",
     "text": [
      "Accuracy: 81.48%\n"
     ]
    },
    {
     "data": {
      "image/png": "[encoded data removed]",
      "text/plain": [
       "<Figure size 432x288 with 1 Axes>"
      ]
     },
     "metadata": {
      "needs_background": "light"
     },
     "output_type": "display_data"
    },
    {
     "data": {
      "image/png": "[encoded data removed]",
      "text/plain": [
       "<Figure size 432x288 with 1 Axes>"
      ]
     },
     "metadata": {
      "needs_background": "light"
     },
     "output_type": "display_data"
    }
   ],
   "source": [
    "xgb = train(X, Y)\n",
    "xgb2 = train(X, Y, random_state=7)"
   ]
  },
  {
   "cell_type": "markdown",
   "metadata": {},
   "source": [
    "### Find the most important features\n",
    "\n",
    "reference material:\n",
    "\n",
    "* [The Multiple faces of ‘Feature importance’ in XGBoost](https://towardsdatascience.com/be-careful-when-interpreting-your-features-importance-in-xgboost-6e16132588e7)"
   ]
  },
  {
   "cell_type": "code",
   "execution_count": 61,
   "metadata": {},
   "outputs": [
    {
     "name": "stdout",
     "output_type": "stream",
     "text": [
      "number of most important features: 740\n"
     ]
    }
   ],
   "source": [
    "xgb_features = get_features(xgb)\n",
    "print('number of most important features: {:,}'.format(len(xgb_features)))\n",
    "\n",
    "xgb2_features = get_features(xgb2)\n",
    "print('number of most important features: {:,}'.format(len(xgb2_features)))"
   ]
  },
  {
   "cell_type": "markdown",
   "metadata": {},
   "source": [
    "### How many important features in common?"
   ]
  },
  {
   "cell_type": "code",
   "execution_count": 14,
   "metadata": {},
   "outputs": [
    {
     "name": "stdout",
     "output_type": "stream",
     "text": [
      "number of important features in common: 450\n"
     ]
    }
   ],
   "source": [
    "common_features = set(xgb_features).intersection(set(xgb2_features))\n",
    "print('number of important features in common: {:,}'.format(len(common_features)))"
   ]
  },
  {
   "cell_type": "markdown",
   "metadata": {},
   "source": [
    "### Save new features to file"
   ]
  },
  {
   "cell_type": "code",
   "execution_count": 63,
   "metadata": {},
   "outputs": [
    {
     "name": "stdout",
     "output_type": "stream",
     "text": [
      "(19632, 743)\n"
     ]
    },
    {
     "data": {
      "text/html": [
       "<div>\n",
       "<style scoped>\n",
       "    .dataframe tbody tr th:only-of-type {\n",
       "        vertical-align: middle;\n",
       "    }\n",
       "\n",
       "    .dataframe tbody tr th {\n",
       "        vertical-align: top;\n",
       "    }\n",
       "\n",
       "    .dataframe thead th {\n",
       "        text-align: right;\n",
       "    }\n",
       "</style>\n",
       "<table border=\"1\" class=\"dataframe\">\n",
       "  <thead>\n",
       "    <tr style=\"text-align: right;\">\n",
       "      <th></th>\n",
       "      <th>activity</th>\n",
       "      <th>cid</th>\n",
       "      <th>pid</th>\n",
       "      <th>IDM_y</th>\n",
       "      <th>YN*</th>\n",
       "      <th>EEE</th>\n",
       "      <th>NRS_y</th>\n",
       "      <th>IDA</th>\n",
       "      <th>C-027</th>\n",
       "      <th>[G2.1.1.176]</th>\n",
       "      <th>...</th>\n",
       "      <th>Mi</th>\n",
       "      <th>*NL</th>\n",
       "      <th>LOC</th>\n",
       "      <th>ASC</th>\n",
       "      <th>IS*</th>\n",
       "      <th>[G2.1.1.218]</th>\n",
       "      <th>[G5.2.2.38]</th>\n",
       "      <th>ARR_y</th>\n",
       "      <th>RLL</th>\n",
       "      <th>KG*</th>\n",
       "    </tr>\n",
       "  </thead>\n",
       "  <tbody>\n",
       "    <tr>\n",
       "      <th>0</th>\n",
       "      <td>1</td>\n",
       "      <td>204106</td>\n",
       "      <td>Q9UP65</td>\n",
       "      <td>10.043</td>\n",
       "      <td>-1.0</td>\n",
       "      <td>-1.000000</td>\n",
       "      <td>5</td>\n",
       "      <td>-1.0</td>\n",
       "      <td>0.0</td>\n",
       "      <td>0.370370</td>\n",
       "      <td>...</td>\n",
       "      <td>1.107</td>\n",
       "      <td>-1.000000</td>\n",
       "      <td>0.623</td>\n",
       "      <td>-1.0</td>\n",
       "      <td>-1.0</td>\n",
       "      <td>0.185185</td>\n",
       "      <td>0.033679</td>\n",
       "      <td>0.618</td>\n",
       "      <td>-1.0</td>\n",
       "      <td>5.264419</td>\n",
       "    </tr>\n",
       "    <tr>\n",
       "      <th>1</th>\n",
       "      <td>0</td>\n",
       "      <td>204106</td>\n",
       "      <td>P47712</td>\n",
       "      <td>10.043</td>\n",
       "      <td>-1.0</td>\n",
       "      <td>3.704249</td>\n",
       "      <td>5</td>\n",
       "      <td>-1.0</td>\n",
       "      <td>0.0</td>\n",
       "      <td>0.267380</td>\n",
       "      <td>...</td>\n",
       "      <td>1.107</td>\n",
       "      <td>-1.000000</td>\n",
       "      <td>0.623</td>\n",
       "      <td>-1.0</td>\n",
       "      <td>-1.0</td>\n",
       "      <td>0.401070</td>\n",
       "      <td>0.033101</td>\n",
       "      <td>0.618</td>\n",
       "      <td>-1.0</td>\n",
       "      <td>3.736527</td>\n",
       "    </tr>\n",
       "    <tr>\n",
       "      <th>3</th>\n",
       "      <td>1</td>\n",
       "      <td>10290302</td>\n",
       "      <td>P00403</td>\n",
       "      <td>10.047</td>\n",
       "      <td>-1.0</td>\n",
       "      <td>-1.000000</td>\n",
       "      <td>5</td>\n",
       "      <td>-1.0</td>\n",
       "      <td>0.0</td>\n",
       "      <td>0.442478</td>\n",
       "      <td>...</td>\n",
       "      <td>1.110</td>\n",
       "      <td>-1.000000</td>\n",
       "      <td>0.623</td>\n",
       "      <td>-1.0</td>\n",
       "      <td>-1.0</td>\n",
       "      <td>0.000000</td>\n",
       "      <td>0.033883</td>\n",
       "      <td>0.618</td>\n",
       "      <td>-1.0</td>\n",
       "      <td>-1.000000</td>\n",
       "    </tr>\n",
       "    <tr>\n",
       "      <th>4</th>\n",
       "      <td>1</td>\n",
       "      <td>10290302</td>\n",
       "      <td>P00395</td>\n",
       "      <td>10.047</td>\n",
       "      <td>-1.0</td>\n",
       "      <td>-1.000000</td>\n",
       "      <td>5</td>\n",
       "      <td>-1.0</td>\n",
       "      <td>0.0</td>\n",
       "      <td>0.195312</td>\n",
       "      <td>...</td>\n",
       "      <td>1.110</td>\n",
       "      <td>3.208557</td>\n",
       "      <td>0.623</td>\n",
       "      <td>-1.0</td>\n",
       "      <td>-1.0</td>\n",
       "      <td>0.781250</td>\n",
       "      <td>0.035034</td>\n",
       "      <td>0.618</td>\n",
       "      <td>-1.0</td>\n",
       "      <td>-1.000000</td>\n",
       "    </tr>\n",
       "    <tr>\n",
       "      <th>7</th>\n",
       "      <td>0</td>\n",
       "      <td>46938678</td>\n",
       "      <td>O15528</td>\n",
       "      <td>8.411</td>\n",
       "      <td>-1.0</td>\n",
       "      <td>-1.000000</td>\n",
       "      <td>2</td>\n",
       "      <td>-1.0</td>\n",
       "      <td>0.0</td>\n",
       "      <td>0.000000</td>\n",
       "      <td>...</td>\n",
       "      <td>1.131</td>\n",
       "      <td>-1.000000</td>\n",
       "      <td>1.500</td>\n",
       "      <td>-1.0</td>\n",
       "      <td>-1.0</td>\n",
       "      <td>0.000000</td>\n",
       "      <td>0.034528</td>\n",
       "      <td>0.000</td>\n",
       "      <td>-1.0</td>\n",
       "      <td>-1.000000</td>\n",
       "    </tr>\n",
       "  </tbody>\n",
       "</table>\n",
       "<p>5 rows × 743 columns</p>\n",
       "</div>"
      ],
      "text/plain": [
       "   activity       cid     pid   IDM_y  YN*       EEE  NRS_y  IDA  C-027  \\\n",
       "0         1    204106  Q9UP65  10.043 -1.0 -1.000000      5 -1.0    0.0   \n",
       "1         0    204106  P47712  10.043 -1.0  3.704249      5 -1.0    0.0   \n",
       "3         1  10290302  P00403  10.047 -1.0 -1.000000      5 -1.0    0.0   \n",
       "4         1  10290302  P00395  10.047 -1.0 -1.000000      5 -1.0    0.0   \n",
       "7         0  46938678  O15528   8.411 -1.0 -1.000000      2 -1.0    0.0   \n",
       "\n",
       "   [G2.1.1.176]  ...     Mi       *NL    LOC  ASC  IS*  [G2.1.1.218]  \\\n",
       "0      0.370370  ...  1.107 -1.000000  0.623 -1.0 -1.0      0.185185   \n",
       "1      0.267380  ...  1.107 -1.000000  0.623 -1.0 -1.0      0.401070   \n",
       "3      0.442478  ...  1.110 -1.000000  0.623 -1.0 -1.0      0.000000   \n",
       "4      0.195312  ...  1.110  3.208557  0.623 -1.0 -1.0      0.781250   \n",
       "7      0.000000  ...  1.131 -1.000000  1.500 -1.0 -1.0      0.000000   \n",
       "\n",
       "   [G5.2.2.38]  ARR_y  RLL       KG*  \n",
       "0     0.033679  0.618 -1.0  5.264419  \n",
       "1     0.033101  0.618 -1.0  3.736527  \n",
       "3     0.033883  0.618 -1.0 -1.000000  \n",
       "4     0.035034  0.618 -1.0 -1.000000  \n",
       "7     0.034528  0.000 -1.0 -1.000000  \n",
       "\n",
       "[5 rows x 743 columns]"
      ]
     },
     "execution_count": 63,
     "metadata": {},
     "output_type": "execute_result"
    }
   ],
   "source": [
    "top_feature_cols = df_features.drop(['activity', 'cid', 'pid'], axis=1).columns.values[xgb_features]\n",
    "\n",
    "features = ['activity', 'cid', 'pid'] + list(top_feature_cols)\n",
    "df_to_save = df_features[features]\n",
    "print(df_to_save.shape)\n",
    "df_to_save.head()"
   ]
  },
  {
   "cell_type": "code",
   "execution_count": 17,
   "metadata": {},
   "outputs": [],
   "source": [
    "# save to a new file\n",
    "store = pd.HDFStore(data_loc + 'xgboost_features_data.h5')\n",
    "store['df'] = df_to_save\n",
    "store.close()"
   ]
  },
  {
   "cell_type": "markdown",
   "metadata": {},
   "source": [
    "### Grid search on the reduced feature set to find number of epochs (n_estimators)"
   ]
  },
  {
   "cell_type": "code",
   "execution_count": 18,
   "metadata": {},
   "outputs": [
    {
     "data": {
      "text/html": [
       "<div>\n",
       "<style scoped>\n",
       "    .dataframe tbody tr th:only-of-type {\n",
       "        vertical-align: middle;\n",
       "    }\n",
       "\n",
       "    .dataframe tbody tr th {\n",
       "        vertical-align: top;\n",
       "    }\n",
       "\n",
       "    .dataframe thead th {\n",
       "        text-align: right;\n",
       "    }\n",
       "</style>\n",
       "<table border=\"1\" class=\"dataframe\">\n",
       "  <thead>\n",
       "    <tr style=\"text-align: right;\">\n",
       "      <th></th>\n",
       "      <th>0</th>\n",
       "      <th>1</th>\n",
       "      <th>2</th>\n",
       "      <th>3</th>\n",
       "      <th>4</th>\n",
       "      <th>5</th>\n",
       "      <th>6</th>\n",
       "      <th>7</th>\n",
       "      <th>8</th>\n",
       "      <th>9</th>\n",
       "      <th>...</th>\n",
       "      <th>711</th>\n",
       "      <th>712</th>\n",
       "      <th>713</th>\n",
       "      <th>714</th>\n",
       "      <th>715</th>\n",
       "      <th>716</th>\n",
       "      <th>717</th>\n",
       "      <th>718</th>\n",
       "      <th>719</th>\n",
       "      <th>720</th>\n",
       "    </tr>\n",
       "  </thead>\n",
       "  <tbody>\n",
       "    <tr>\n",
       "      <th>0</th>\n",
       "      <td>-1.0</td>\n",
       "      <td>8.863</td>\n",
       "      <td>10.043</td>\n",
       "      <td>95980.0</td>\n",
       "      <td>-1.0</td>\n",
       "      <td>-1.0</td>\n",
       "      <td>4.641</td>\n",
       "      <td>-1.000000</td>\n",
       "      <td>-1.0</td>\n",
       "      <td>-1.0</td>\n",
       "      <td>...</td>\n",
       "      <td>0.0</td>\n",
       "      <td>0</td>\n",
       "      <td>-0.025</td>\n",
       "      <td>1.011</td>\n",
       "      <td>1.107</td>\n",
       "      <td>0</td>\n",
       "      <td>0</td>\n",
       "      <td>0</td>\n",
       "      <td>0</td>\n",
       "      <td>0</td>\n",
       "    </tr>\n",
       "    <tr>\n",
       "      <th>1</th>\n",
       "      <td>-1.0</td>\n",
       "      <td>8.863</td>\n",
       "      <td>10.043</td>\n",
       "      <td>95980.0</td>\n",
       "      <td>-1.0</td>\n",
       "      <td>-1.0</td>\n",
       "      <td>4.641</td>\n",
       "      <td>3.357792</td>\n",
       "      <td>-1.0</td>\n",
       "      <td>-1.0</td>\n",
       "      <td>...</td>\n",
       "      <td>0.0</td>\n",
       "      <td>0</td>\n",
       "      <td>-0.025</td>\n",
       "      <td>1.011</td>\n",
       "      <td>1.107</td>\n",
       "      <td>0</td>\n",
       "      <td>0</td>\n",
       "      <td>0</td>\n",
       "      <td>0</td>\n",
       "      <td>0</td>\n",
       "    </tr>\n",
       "    <tr>\n",
       "      <th>3</th>\n",
       "      <td>-1.0</td>\n",
       "      <td>8.863</td>\n",
       "      <td>10.047</td>\n",
       "      <td>95980.0</td>\n",
       "      <td>-1.0</td>\n",
       "      <td>-1.0</td>\n",
       "      <td>4.641</td>\n",
       "      <td>-1.000000</td>\n",
       "      <td>-1.0</td>\n",
       "      <td>-1.0</td>\n",
       "      <td>...</td>\n",
       "      <td>0.0</td>\n",
       "      <td>0</td>\n",
       "      <td>-0.051</td>\n",
       "      <td>0.995</td>\n",
       "      <td>1.110</td>\n",
       "      <td>1</td>\n",
       "      <td>0</td>\n",
       "      <td>0</td>\n",
       "      <td>0</td>\n",
       "      <td>0</td>\n",
       "    </tr>\n",
       "    <tr>\n",
       "      <th>4</th>\n",
       "      <td>-1.0</td>\n",
       "      <td>8.863</td>\n",
       "      <td>10.047</td>\n",
       "      <td>95980.0</td>\n",
       "      <td>-1.0</td>\n",
       "      <td>-1.0</td>\n",
       "      <td>4.641</td>\n",
       "      <td>-1.000000</td>\n",
       "      <td>-1.0</td>\n",
       "      <td>-1.0</td>\n",
       "      <td>...</td>\n",
       "      <td>0.0</td>\n",
       "      <td>0</td>\n",
       "      <td>-0.051</td>\n",
       "      <td>0.995</td>\n",
       "      <td>1.110</td>\n",
       "      <td>1</td>\n",
       "      <td>0</td>\n",
       "      <td>0</td>\n",
       "      <td>0</td>\n",
       "      <td>0</td>\n",
       "    </tr>\n",
       "    <tr>\n",
       "      <th>7</th>\n",
       "      <td>-1.0</td>\n",
       "      <td>7.452</td>\n",
       "      <td>8.411</td>\n",
       "      <td>17198.0</td>\n",
       "      <td>-1.0</td>\n",
       "      <td>-1.0</td>\n",
       "      <td>4.080</td>\n",
       "      <td>-1.000000</td>\n",
       "      <td>-1.0</td>\n",
       "      <td>-1.0</td>\n",
       "      <td>...</td>\n",
       "      <td>0.0</td>\n",
       "      <td>0</td>\n",
       "      <td>-0.118</td>\n",
       "      <td>0.974</td>\n",
       "      <td>1.131</td>\n",
       "      <td>0</td>\n",
       "      <td>0</td>\n",
       "      <td>0</td>\n",
       "      <td>0</td>\n",
       "      <td>0</td>\n",
       "    </tr>\n",
       "  </tbody>\n",
       "</table>\n",
       "<p>5 rows × 721 columns</p>\n",
       "</div>"
      ],
      "text/plain": [
       "   0      1       2        3    4    5      6         7    8    9    ...  711  \\\n",
       "0 -1.0  8.863  10.043  95980.0 -1.0 -1.0  4.641 -1.000000 -1.0 -1.0  ...  0.0   \n",
       "1 -1.0  8.863  10.043  95980.0 -1.0 -1.0  4.641  3.357792 -1.0 -1.0  ...  0.0   \n",
       "3 -1.0  8.863  10.047  95980.0 -1.0 -1.0  4.641 -1.000000 -1.0 -1.0  ...  0.0   \n",
       "4 -1.0  8.863  10.047  95980.0 -1.0 -1.0  4.641 -1.000000 -1.0 -1.0  ...  0.0   \n",
       "7 -1.0  7.452   8.411  17198.0 -1.0 -1.0  4.080 -1.000000 -1.0 -1.0  ...  0.0   \n",
       "\n",
       "   712    713    714    715  716  717  718  719  720  \n",
       "0    0 -0.025  1.011  1.107    0    0    0    0    0  \n",
       "1    0 -0.025  1.011  1.107    0    0    0    0    0  \n",
       "3    0 -0.051  0.995  1.110    1    0    0    0    0  \n",
       "4    0 -0.051  0.995  1.110    1    0    0    0    0  \n",
       "7    0 -0.118  0.974  1.131    0    0    0    0    0  \n",
       "\n",
       "[5 rows x 721 columns]"
      ]
     },
     "execution_count": 18,
     "metadata": {},
     "output_type": "execute_result"
    }
   ],
   "source": [
    "Y = df_to_save['activity'].values\n",
    "X = df_to_save.drop(['activity', 'cid', 'pid'], axis=1)\n",
    "\n",
    "X.columns = list(range(0, len(X.columns)))\n",
    "X.head()"
   ]
  },
  {
   "cell_type": "code",
   "execution_count": null,
   "metadata": {},
   "outputs": [],
   "source": [
    "n_est_grid_search(X, Y)"
   ]
  },
  {
   "cell_type": "markdown",
   "metadata": {},
   "source": [
    "### Test training with new set of estimators to see if it overfits more"
   ]
  },
  {
   "cell_type": "code",
   "execution_count": 23,
   "metadata": {},
   "outputs": [
    {
     "name": "stdout",
     "output_type": "stream",
     "text": [
      "Accuracy: 84.84%\n"
     ]
    },
    {
     "data": {
      "image/png": "[encoded data removed]",
      "text/plain": [
       "<Figure size 432x288 with 1 Axes>"
      ]
     },
     "metadata": {
      "needs_background": "light"
     },
     "output_type": "display_data"
    },
    {
     "data": {
      "image/png": "[encoded data removed]",
      "text/plain": [
       "<Figure size 432x288 with 1 Axes>"
      ]
     },
     "metadata": {
      "needs_background": "light"
     },
     "output_type": "display_data"
    }
   ],
   "source": [
    "xgb3 = train(X, Y, random_state=42, n_estimators=2000)"
   ]
  },
  {
   "cell_type": "markdown",
   "metadata": {},
   "source": [
    "## Randomized hyperparameter space search\n",
    "\n",
    "Now we have an idea about the number of epochs to use lets carry out a parameter search to refine the other parameters.\n",
    "\n",
    "reference material:\n",
    "\n",
    "* [Kaggle: Hyperparameter Grid Search with XGBoost](https://www.kaggle.com/tilii7/hyperparameter-grid-search-with-xgboost)\n",
    "* [Hi I’m Gamma. What can I do for you?](https://medium.com/data-design/xgboost-hi-im-gamma-what-can-i-do-for-you-and-the-tuning-of-regularization-a42ea17e6ab6)"
   ]
  },
  {
   "cell_type": "code",
   "execution_count": 27,
   "metadata": {},
   "outputs": [
    {
     "name": "stdout",
     "output_type": "stream",
     "text": [
      "Fitting 3 folds for each of 10 candidates, totalling 30 fits\n"
     ]
    },
    {
     "name": "stderr",
     "output_type": "stream",
     "text": [
      "[Parallel(n_jobs=4)]: Using backend LokyBackend with 4 concurrent workers.\n",
      "[Parallel(n_jobs=4)]: Done  30 out of  30 | elapsed:  3.9min finished\n"
     ]
    },
    {
     "name": "stdout",
     "output_type": "stream",
     "text": [
      "\n",
      " Time taken: 0 hours 4 minutes and 47.7 seconds.\n"
     ]
    },
    {
     "data": {
      "text/plain": [
       "{'subsample': 0.6,\n",
       " 'min_child_weight': 1,\n",
       " 'max_depth': 6,\n",
       " 'gamma': 5,\n",
       " 'colsample_bytree': 0.8}"
      ]
     },
     "execution_count": 27,
     "metadata": {},
     "output_type": "execute_result"
    }
   ],
   "source": [
    "# A parameter grid for XGBoost\n",
    "params = {\n",
    "        'min_child_weight': [1, 5, 10],\n",
    "        'gamma': [0.5, 1, 1.5, 2, 5],\n",
    "        'subsample': [0.1, 0.2, 0.4, 0.6, 0.8, 1.0],\n",
    "        'colsample_bytree': [0.6, 0.8, 1.0],\n",
    "        'max_depth': [3, 4, 5, 6, 7]\n",
    "        }\n",
    "\n",
    "\n",
    "xgb4 = XGBClassifier(learning_rate=0.02, n_estimators=1000, objective='binary:logistic',\n",
    "                    silent=True, nthread=1)\n",
    "\n",
    "\n",
    "folds = 3\n",
    "param_comb = 10\n",
    "\n",
    "skf = StratifiedKFold(n_splits=folds, shuffle = True, random_state = 1001)\n",
    "\n",
    "random_search = RandomizedSearchCV(\n",
    "    xgb4, \n",
    "    param_distributions=params, \n",
    "    n_iter=param_comb, \n",
    "    scoring='roc_auc', \n",
    "    n_jobs=4, \n",
    "    cv=skf.split(X,Y), \n",
    "    verbose=3, \n",
    "    random_state=1001)\n",
    "\n",
    "# Here we go\n",
    "start_time = timer(None) # timing starts from this point for \"start_time\" variable\n",
    "random_search.fit(X, Y)\n",
    "timer(start_time) # timing ends here for \"start_time\" variable\n",
    "\n",
    "random_search.best_params_"
   ]
  },
  {
   "cell_type": "markdown",
   "metadata": {},
   "source": [
    "### Fit best model against test set and calculated weighted F1 score"
   ]
  },
  {
   "cell_type": "markdown",
   "metadata": {},
   "source": [
    "#### (1) train"
   ]
  },
  {
   "cell_type": "code",
   "execution_count": 7,
   "metadata": {},
   "outputs": [
    {
     "name": "stdout",
     "output_type": "stream",
     "text": [
      "rows: 19,632, columns: 724\n"
     ]
    },
    {
     "data": {
      "text/html": [
       "<div>\n",
       "<style scoped>\n",
       "    .dataframe tbody tr th:only-of-type {\n",
       "        vertical-align: middle;\n",
       "    }\n",
       "\n",
       "    .dataframe tbody tr th {\n",
       "        vertical-align: top;\n",
       "    }\n",
       "\n",
       "    .dataframe thead th {\n",
       "        text-align: right;\n",
       "    }\n",
       "</style>\n",
       "<table border=\"1\" class=\"dataframe\">\n",
       "  <thead>\n",
       "    <tr style=\"text-align: right;\">\n",
       "      <th></th>\n",
       "      <th>0</th>\n",
       "      <th>1</th>\n",
       "      <th>2</th>\n",
       "      <th>3</th>\n",
       "      <th>4</th>\n",
       "      <th>5</th>\n",
       "      <th>6</th>\n",
       "      <th>7</th>\n",
       "      <th>8</th>\n",
       "      <th>9</th>\n",
       "      <th>...</th>\n",
       "      <th>711</th>\n",
       "      <th>712</th>\n",
       "      <th>713</th>\n",
       "      <th>714</th>\n",
       "      <th>715</th>\n",
       "      <th>716</th>\n",
       "      <th>717</th>\n",
       "      <th>718</th>\n",
       "      <th>719</th>\n",
       "      <th>720</th>\n",
       "    </tr>\n",
       "  </thead>\n",
       "  <tbody>\n",
       "    <tr>\n",
       "      <th>0</th>\n",
       "      <td>-1.0</td>\n",
       "      <td>8.863</td>\n",
       "      <td>10.043</td>\n",
       "      <td>95980.0</td>\n",
       "      <td>-1.0</td>\n",
       "      <td>-1.0</td>\n",
       "      <td>4.641</td>\n",
       "      <td>-1.000000</td>\n",
       "      <td>-1.0</td>\n",
       "      <td>-1.0</td>\n",
       "      <td>...</td>\n",
       "      <td>0.0</td>\n",
       "      <td>0</td>\n",
       "      <td>-0.025</td>\n",
       "      <td>1.011</td>\n",
       "      <td>1.107</td>\n",
       "      <td>0</td>\n",
       "      <td>0</td>\n",
       "      <td>0</td>\n",
       "      <td>0</td>\n",
       "      <td>0</td>\n",
       "    </tr>\n",
       "    <tr>\n",
       "      <th>1</th>\n",
       "      <td>-1.0</td>\n",
       "      <td>8.863</td>\n",
       "      <td>10.043</td>\n",
       "      <td>95980.0</td>\n",
       "      <td>-1.0</td>\n",
       "      <td>-1.0</td>\n",
       "      <td>4.641</td>\n",
       "      <td>3.357792</td>\n",
       "      <td>-1.0</td>\n",
       "      <td>-1.0</td>\n",
       "      <td>...</td>\n",
       "      <td>0.0</td>\n",
       "      <td>0</td>\n",
       "      <td>-0.025</td>\n",
       "      <td>1.011</td>\n",
       "      <td>1.107</td>\n",
       "      <td>0</td>\n",
       "      <td>0</td>\n",
       "      <td>0</td>\n",
       "      <td>0</td>\n",
       "      <td>0</td>\n",
       "    </tr>\n",
       "    <tr>\n",
       "      <th>3</th>\n",
       "      <td>-1.0</td>\n",
       "      <td>8.863</td>\n",
       "      <td>10.047</td>\n",
       "      <td>95980.0</td>\n",
       "      <td>-1.0</td>\n",
       "      <td>-1.0</td>\n",
       "      <td>4.641</td>\n",
       "      <td>-1.000000</td>\n",
       "      <td>-1.0</td>\n",
       "      <td>-1.0</td>\n",
       "      <td>...</td>\n",
       "      <td>0.0</td>\n",
       "      <td>0</td>\n",
       "      <td>-0.051</td>\n",
       "      <td>0.995</td>\n",
       "      <td>1.110</td>\n",
       "      <td>1</td>\n",
       "      <td>0</td>\n",
       "      <td>0</td>\n",
       "      <td>0</td>\n",
       "      <td>0</td>\n",
       "    </tr>\n",
       "    <tr>\n",
       "      <th>4</th>\n",
       "      <td>-1.0</td>\n",
       "      <td>8.863</td>\n",
       "      <td>10.047</td>\n",
       "      <td>95980.0</td>\n",
       "      <td>-1.0</td>\n",
       "      <td>-1.0</td>\n",
       "      <td>4.641</td>\n",
       "      <td>-1.000000</td>\n",
       "      <td>-1.0</td>\n",
       "      <td>-1.0</td>\n",
       "      <td>...</td>\n",
       "      <td>0.0</td>\n",
       "      <td>0</td>\n",
       "      <td>-0.051</td>\n",
       "      <td>0.995</td>\n",
       "      <td>1.110</td>\n",
       "      <td>1</td>\n",
       "      <td>0</td>\n",
       "      <td>0</td>\n",
       "      <td>0</td>\n",
       "      <td>0</td>\n",
       "    </tr>\n",
       "    <tr>\n",
       "      <th>7</th>\n",
       "      <td>-1.0</td>\n",
       "      <td>7.452</td>\n",
       "      <td>8.411</td>\n",
       "      <td>17198.0</td>\n",
       "      <td>-1.0</td>\n",
       "      <td>-1.0</td>\n",
       "      <td>4.080</td>\n",
       "      <td>-1.000000</td>\n",
       "      <td>-1.0</td>\n",
       "      <td>-1.0</td>\n",
       "      <td>...</td>\n",
       "      <td>0.0</td>\n",
       "      <td>0</td>\n",
       "      <td>-0.118</td>\n",
       "      <td>0.974</td>\n",
       "      <td>1.131</td>\n",
       "      <td>0</td>\n",
       "      <td>0</td>\n",
       "      <td>0</td>\n",
       "      <td>0</td>\n",
       "      <td>0</td>\n",
       "    </tr>\n",
       "  </tbody>\n",
       "</table>\n",
       "<p>5 rows × 721 columns</p>\n",
       "</div>"
      ],
      "text/plain": [
       "   0      1       2        3    4    5      6         7    8    9    ...  711  \\\n",
       "0 -1.0  8.863  10.043  95980.0 -1.0 -1.0  4.641 -1.000000 -1.0 -1.0  ...  0.0   \n",
       "1 -1.0  8.863  10.043  95980.0 -1.0 -1.0  4.641  3.357792 -1.0 -1.0  ...  0.0   \n",
       "3 -1.0  8.863  10.047  95980.0 -1.0 -1.0  4.641 -1.000000 -1.0 -1.0  ...  0.0   \n",
       "4 -1.0  8.863  10.047  95980.0 -1.0 -1.0  4.641 -1.000000 -1.0 -1.0  ...  0.0   \n",
       "7 -1.0  7.452   8.411  17198.0 -1.0 -1.0  4.080 -1.000000 -1.0 -1.0  ...  0.0   \n",
       "\n",
       "   712    713    714    715  716  717  718  719  720  \n",
       "0    0 -0.025  1.011  1.107    0    0    0    0    0  \n",
       "1    0 -0.025  1.011  1.107    0    0    0    0    0  \n",
       "3    0 -0.051  0.995  1.110    1    0    0    0    0  \n",
       "4    0 -0.051  0.995  1.110    1    0    0    0    0  \n",
       "7    0 -0.118  0.974  1.131    0    0    0    0    0  \n",
       "\n",
       "[5 rows x 721 columns]"
      ]
     },
     "execution_count": 7,
     "metadata": {},
     "output_type": "execute_result"
    }
   ],
   "source": [
    "# load features\n",
    "store = pd.HDFStore(data_loc + 'xgboost_features_data.h5')\n",
    "df_subset_features = pd.DataFrame(store['df' ])\n",
    "store.close()\n",
    "print('rows: {:,}, columns: {:,}'.format(len(df_subset_features), len(df_subset_features.columns)))\n",
    "\n",
    "Y = df_subset_features['activity'].values\n",
    "X = df_subset_features.drop(['activity', 'cid', 'pid'], axis=1)\n",
    "X.columns = list(range(0, len(X.columns)))\n",
    "\n",
    "X.head()"
   ]
  },
  {
   "cell_type": "code",
   "execution_count": 11,
   "metadata": {},
   "outputs": [
    {
     "name": "stdout",
     "output_type": "stream",
     "text": [
      "Accuracy: 83.95%\n"
     ]
    },
    {
     "data": {
      "image/png": "[encoded data removed]",
      "text/plain": [
       "<Figure size 432x288 with 1 Axes>"
      ]
     },
     "metadata": {
      "needs_background": "light"
     },
     "output_type": "display_data"
    },
    {
     "data": {
      "image/png": "[encoded data removed]",
      "text/plain": [
       "<Figure size 432x288 with 1 Axes>"
      ]
     },
     "metadata": {
      "needs_background": "light"
     },
     "output_type": "display_data"
    }
   ],
   "source": [
    "xgb5 = XGBClassifier(learning_rate=0.02, \n",
    "                    n_estimators=200, \n",
    "                    objective='binary:logistic',\n",
    "                    silent=True, nthread=1,\n",
    "                    subsample=0.6,\n",
    "                    min_child_weight=1,\n",
    "                    max_depth=6,\n",
    "                    gamma=5,\n",
    "                    colsample_bytree=0.8)\n",
    "\n",
    "xgb6 = train(X, Y, random_state=42, xgb=xgb5)"
   ]
  },
  {
   "cell_type": "markdown",
   "metadata": {},
   "source": [
    "#### save the model"
   ]
  },
  {
   "cell_type": "code",
   "execution_count": 12,
   "metadata": {},
   "outputs": [
    {
     "data": {
      "text/plain": [
       "['../data/FDA-COVID19_files_v1.0/xgboost_1.mdl']"
      ]
     },
     "execution_count": 12,
     "metadata": {},
     "output_type": "execute_result"
    }
   ],
   "source": [
    "joblib.dump(xgb6, data_loc + 'xgboost_1.mdl')"
   ]
  },
  {
   "cell_type": "markdown",
   "metadata": {},
   "source": [
    "#### load the model from file"
   ]
  },
  {
   "cell_type": "code",
   "execution_count": 5,
   "metadata": {},
   "outputs": [],
   "source": [
    "xgb6 = joblib.load(data_loc + 'xgboost_1.mdl')"
   ]
  },
  {
   "cell_type": "markdown",
   "metadata": {},
   "source": [
    "#### (2) Load test data"
   ]
  },
  {
   "cell_type": "code",
   "execution_count": 8,
   "metadata": {},
   "outputs": [
    {
     "name": "stdout",
     "output_type": "stream",
     "text": [
      "rows: 19,240, columns: 17,077\n",
      "rows: 19,240, columns: 724\n"
     ]
    }
   ],
   "source": [
    "store = pd.HDFStore(data_loc + 'validation_features.h5')\n",
    "df_test_features = pd.DataFrame(store['df' ])\n",
    "store.close()\n",
    "print('rows: {:,}, columns: {:,}'.format(len(df_test_features), len(df_test_features.columns)))\n",
    "\n",
    "# Take only the reduced set of columns.\n",
    "df_test_features = df_test_features[df_subset_features.columns.tolist()]\n",
    "\n",
    "print('rows: {:,}, columns: {:,}'.format(len(df_test_features), len(df_test_features.columns)))"
   ]
  },
  {
   "cell_type": "markdown",
   "metadata": {},
   "source": [
    "#### Check accuracy, precision and recall"
   ]
  },
  {
   "cell_type": "code",
   "execution_count": 9,
   "metadata": {},
   "outputs": [
    {
     "name": "stdout",
     "output_type": "stream",
     "text": [
      "Accuracy: 59.29%\n"
     ]
    }
   ],
   "source": [
    "X_test = df_test_features.drop(['cid', 'pid', 'activity'], axis=1)\n",
    "y_test = df_test_features['activity'].values\n",
    "\n",
    "X_test.columns = list(range(0, len(X_test.columns)))\n",
    "\n",
    "# make predictions for test data\n",
    "y_pred = xgb6.predict(X_test)\n",
    "predictions = [round(value) for value in y_pred]\n",
    "\n",
    "# evaluate predictions\n",
    "accuracy = accuracy_score(y_test, predictions)\n",
    "print(\"Accuracy: %.2f%%\" % (accuracy * 100.0))"
   ]
  },
  {
   "cell_type": "code",
   "execution_count": 10,
   "metadata": {},
   "outputs": [
    {
     "name": "stdout",
     "output_type": "stream",
     "text": [
      "Accuracy = 59.29%\n",
      "Precision = 38.33%\n",
      "Recall = 76.94%\n"
     ]
    }
   ],
   "source": [
    "from sklearn.metrics import confusion_matrix\n",
    "\n",
    "cm = confusion_matrix(y_test, y_pred)\n",
    "\n",
    "print(\"Accuracy = {:0.2f}%\".format(sum(diag(cm))/sum(cm)*100))\n",
    "print(\"Precision = {:0.2f}%\".format(cm[1][1]/sum(cm[:, 1])*100))\n",
    "print(\"Recall = {:0.2f}%\".format(cm[1][1]/sum(cm[1, :])*100))"
   ]
  },
  {
   "cell_type": "markdown",
   "metadata": {},
   "source": [
    "### Obtain the weighted F1 score"
   ]
  },
  {
   "cell_type": "code",
   "execution_count": 35,
   "metadata": {},
   "outputs": [
    {
     "name": "stdout",
     "output_type": "stream",
     "text": [
      "(19632, 724)\n",
      "(19240, 724)\n"
     ]
    }
   ],
   "source": [
    "print(df_subset_features.shape)\n",
    "print(df_test_features.shape)\n",
    "\n",
    "training_features_active = df_subset_features[df_subset_features['activity']==1]\n",
    "training_features_inactive = df_subset_features[df_subset_features['activity']==0]\n",
    "\n",
    "validation_features_active = df_test_features[df_test_features['activity']==1]\n",
    "validation_features_inactive = df_test_features[df_test_features['activity']==0]›\n",
    "\n",
    "active_weights, inactive_weights = get_validation_weights(\n",
    "    training_features_active.drop(['cid', 'pid', 'activity'], axis=1), \n",
    "    training_features_inactive.drop(['cid', 'pid', 'activity'], axis=1),\n",
    "    validation_features_active.drop(['cid', 'pid', 'activity'], axis=1), \n",
    "    validation_features_inactive.drop(['cid', 'pid', 'activity'], axis=1))"
   ]
  },
  {
   "cell_type": "code",
   "execution_count": 36,
   "metadata": {},
   "outputs": [],
   "source": [
    "assert(len(inactive_weights) + len(active_weights) == len(df_test_features))"
   ]
  },
  {
   "cell_type": "code",
   "execution_count": 37,
   "metadata": {},
   "outputs": [
    {
     "data": {
      "text/plain": [
       "(19240, 724)"
      ]
     },
     "execution_count": 37,
     "metadata": {},
     "output_type": "execute_result"
    }
   ],
   "source": [
    "df_validation_features = validation_features_active.append(validation_features_inactive)\n",
    "df_validation_features.shape"
   ]
  },
  {
   "cell_type": "code",
   "execution_count": 41,
   "metadata": {},
   "outputs": [
    {
     "data": {
      "text/plain": [
       "0.4909518732805291"
      ]
     },
     "execution_count": 41,
     "metadata": {},
     "output_type": "execute_result"
    }
   ],
   "source": [
    "weights = list(active_weights) + list(inactive_weights)\n",
    "\n",
    "y_true = df_validation_features['activity']\n",
    "\n",
    "X_test = df_validation_features.drop(['cid', 'pid', 'activity'], axis=1)\n",
    "X_test.columns = list(range(0, len(X_test.columns)))\n",
    "y_pred = xgb6.predict(X_test)\n",
    "\n",
    "f1_score(y_true, y_pred, average='binary', sample_weight=weights)"
   ]
  },
  {
   "cell_type": "markdown",
   "metadata": {},
   "source": [
    "<hr>\n",
    "\n",
    "## Experiment 2\n",
    "\n",
    "XGBoost for features extraction on sample_activity_scores subset.\n",
    "\n",
    "* obtain features using the **greg-features.ipynb** notebobook\n",
    "* sample data using a threshold on **sample_activity_scores**\n",
    "* run basic model multiple times to determine a candidate set for features\n",
    "* make sure the most important features do not drastically change across each model trained\n",
    "* reduce data set to use the subset of candidate features\n",
    "* determine number of epochs for training XGBoost\n",
    "* grid/random search parameter space to finley tune parameters\n",
    "* evaluate the model w.r.t. weighted F1 score (see greg-train-validation-split-eval.ipynb for details)\n",
    "\n",
    "<hr>"
   ]
  },
  {
   "cell_type": "markdown",
   "metadata": {},
   "source": [
    "#### Sample using sample_activity_scores\n",
    "\n",
    "Scores of zero are interactions where both the pid and cid show no variance in activity across entire data set; scores close to 1.0 have balanced activity for both pid and cid. The idea is that interactions with score close to zero might not improve model very much, and so may want to be omitted."
   ]
  },
  {
   "cell_type": "code",
   "execution_count": 8,
   "metadata": {},
   "outputs": [
    {
     "name": "stdout",
     "output_type": "stream",
     "text": [
      "rows: 163,926, columns: 17,077\n"
     ]
    }
   ],
   "source": [
    "# Load training features data generated by greg-features.ipynb\n",
    "store = pd.HDFStore(data_loc + 'training_features.h5')\n",
    "df_features = pd.DataFrame(store['df' ])\n",
    "store.close()\n",
    "print('rows: {:,}, columns: {:,}'.format(len(df_features), len(df_features.columns)))"
   ]
  },
  {
   "cell_type": "code",
   "execution_count": 10,
   "metadata": {},
   "outputs": [
    {
     "data": {
      "text/plain": [
       "(45616, 17077)"
      ]
     },
     "execution_count": 10,
     "metadata": {},
     "output_type": "execute_result"
    }
   ],
   "source": [
    "df_features_sampled = df_features[df_features['sample_activity_score'] > 0.2]\n",
    "df_features_sampled.shape"
   ]
  },
  {
   "cell_type": "markdown",
   "metadata": {},
   "source": [
    "#### Drop zero-variance columns\n",
    "\n",
    "Zero-variance columns provide no value to the model."
   ]
  },
  {
   "cell_type": "code",
   "execution_count": 11,
   "metadata": {},
   "outputs": [
    {
     "name": "stdout",
     "output_type": "stream",
     "text": [
      "Dropped 817 columns that have zero variance.\n",
      "rows: 45,616, columns: 16,260\n"
     ]
    },
    {
     "data": {
      "text/plain": [
       "(45616, 16260)"
      ]
     },
     "execution_count": 11,
     "metadata": {},
     "output_type": "execute_result"
    }
   ],
   "source": [
    "var_cols = [col for col in df_features_sampled.columns if df_features_sampled[col].nunique() > 1]\n",
    "df_novar_cols_dropped = df_features_sampled[var_cols].copy()\n",
    "\n",
    "print('Dropped {:,} columns that have zero variance.'.format(len(df_features_sampled.columns)-len(var_cols)))\n",
    "print('rows: {:,}, columns: {:,}'.format(len(df_novar_cols_dropped), len(df_novar_cols_dropped.columns)))\n",
    "\n",
    "del df_features\n",
    "df_features = df_novar_cols_dropped\n",
    "df_features.shape"
   ]
  },
  {
   "cell_type": "markdown",
   "metadata": {},
   "source": [
    "### Get important features using XGBoost"
   ]
  },
  {
   "cell_type": "code",
   "execution_count": 13,
   "metadata": {},
   "outputs": [
    {
     "name": "stdout",
     "output_type": "stream",
     "text": [
      "Accuracy: 80.80%\n"
     ]
    },
    {
     "data": {
      "image/png": "[encoded data removed]",
      "text/plain": [
       "<Figure size 432x288 with 1 Axes>"
      ]
     },
     "metadata": {
      "needs_background": "light"
     },
     "output_type": "display_data"
    },
    {
     "data": {
      "image/png": "[encoded data removed]",
      "text/plain": [
       "<Figure size 432x288 with 1 Axes>"
      ]
     },
     "metadata": {
      "needs_background": "light"
     },
     "output_type": "display_data"
    },
    {
     "name": "stdout",
     "output_type": "stream",
     "text": [
      "Accuracy: 80.10%\n"
     ]
    },
    {
     "data": {
      "image/png": "[encoded data removed]",
      "text/plain": [
       "<Figure size 432x288 with 1 Axes>"
      ]
     },
     "metadata": {
      "needs_background": "light"
     },
     "output_type": "display_data"
    },
    {
     "data": {
      "image/png": "[encoded data removed]",
      "text/plain": [
       "<Figure size 432x288 with 1 Axes>"
      ]
     },
     "metadata": {
      "needs_background": "light"
     },
     "output_type": "display_data"
    },
    {
     "name": "stdout",
     "output_type": "stream",
     "text": [
      "number of most important features: 871\n",
      "number of most important features: 837\n",
      "number of important features in common: 476\n",
      "(45616, 874)\n",
      "   activity       cid     pid  [G4.1.8.2]  [G5.2.2.3]   beta    ON0  \\\n",
      "0         1    204106  Q9UP65   28.465804    0.000081  0.087  25.75   \n",
      "1         0    204106  P47712   29.372497    0.000106  0.148  25.75   \n",
      "2         1  10290302  Q9UP65   28.465804    0.000081  0.087  25.75   \n",
      "3         1  10290302  P00403   21.585903    0.000230  0.273  25.75   \n",
      "4         1  10290302  P00395   16.959064    0.000111  0.000  25.75   \n",
      "\n",
      "   [G4.3.3.9]  [G2.1.1.116]  [G5.2.2.28]  ...  MATS5e  *QK  VE3_Dt  nHM  FRP  \\\n",
      "0   50.646950      1.111111     0.033594  ...  -0.048 -1.0   3.952    4 -1.0   \n",
      "1   56.074766      0.935829     0.031750  ...  -0.048 -1.0   3.952    4 -1.0   \n",
      "2   50.646950      1.111111     0.033594  ...  -0.008 -1.0   3.957    2 -1.0   \n",
      "3   49.339207      0.000000     0.030705  ...  -0.008 -1.0   3.957    2 -1.0   \n",
      "4   51.461988      0.390625     0.036205  ...  -0.008 -1.0   3.957    2 -1.0   \n",
      "\n",
      "   3825  B06[N-X]  MATS7m  HIL  CATS2D_06_PL  \n",
      "0     0       0.0  -0.004 -1.0           0.0  \n",
      "1     0       0.0  -0.004 -1.0           0.0  \n",
      "2     0       0.0  -0.068 -1.0           0.0  \n",
      "3     0       0.0  -0.068 -1.0           0.0  \n",
      "4     0       0.0  -0.068 -1.0           0.0  \n",
      "\n",
      "[5 rows x 874 columns]\n"
     ]
    }
   ],
   "source": [
    "# Split\n",
    "Y = df_features['activity'].values\n",
    "X = df_features.drop(['activity', 'cid', 'pid', 'sample_activity_score'], axis=1)\n",
    "X.columns = list(range(0, len(X.columns)))\n",
    "\n",
    "# train\n",
    "xgb1 = train(X, Y)\n",
    "xgb2 = train(X, Y, random_state=7)\n",
    "\n",
    "# get features\n",
    "xgb1_features = get_features(xgb1)\n",
    "print('number of most important features: {:,}'.format(len(xgb1_features)))\n",
    "\n",
    "xgb2_features = get_features(xgb2)\n",
    "print('number of most important features: {:,}'.format(len(xgb2_features)))\n",
    "\n",
    "# compare features\n",
    "common_features = set(xgb1_features).intersection(set(xgb2_features))\n",
    "print('number of important features in common: {:,}'.format(len(common_features)))\n",
    "\n",
    "# save dataset\n",
    "top_feature_cols = df_features.drop(['activity', 'cid', 'pid'], axis=1).columns.values[xgb1_features]\n",
    "features = ['activity', 'cid', 'pid'] + list(top_feature_cols)\n",
    "df_to_save = df_features[features]\n",
    "print(df_to_save.shape)\n",
    "print(df_to_save.head())\n",
    "\n",
    "store = pd.HDFStore(data_loc + 'xgboost_features3_data.h5')\n",
    "store['df'] = df_to_save\n",
    "store.close()\n",
    "\n",
    "del df_features\n",
    "df_features = df_to_save"
   ]
  },
  {
   "cell_type": "markdown",
   "metadata": {},
   "source": [
    "### Load dimensionally-reduced features data"
   ]
  },
  {
   "cell_type": "code",
   "execution_count": 15,
   "metadata": {},
   "outputs": [
    {
     "name": "stdout",
     "output_type": "stream",
     "text": [
      "rows: 66,923, columns: 894\n"
     ]
    }
   ],
   "source": [
    "store = pd.HDFStore(data_loc + 'xgboost_features3_data.h5')\n",
    "df_features = pd.DataFrame(store['df' ])\n",
    "store.close()\n",
    "print('rows: {:,}, columns: {:,}'.format(len(df_features), len(df_features.columns)))"
   ]
  },
  {
   "cell_type": "markdown",
   "metadata": {},
   "source": [
    "### Grid search on the reduced feature set to find number of epochs (n_estimators)"
   ]
  },
  {
   "cell_type": "code",
   "execution_count": 14,
   "metadata": {},
   "outputs": [
    {
     "name": "stdout",
     "output_type": "stream",
     "text": [
      "set of n_estimators to test: [1000, 1200, 1400, 1600, 1800, 2000]\n",
      "Best: -0.379691 using {'n_estimators': 2000}\n",
      "-0.409893 (0.003901) with: {'n_estimators': 1000}\n",
      "-0.402312 (0.003464) with: {'n_estimators': 1200}\n",
      "-0.395684 (0.003308) with: {'n_estimators': 1400}\n",
      "-0.389750 (0.003270) with: {'n_estimators': 1600}\n",
      "-0.384457 (0.003367) with: {'n_estimators': 1800}\n",
      "-0.379691 (0.003400) with: {'n_estimators': 2000}\n"
     ]
    },
    {
     "data": {
      "image/png": "[encoded data removed]",
      "text/plain": [
       "<Figure size 432x288 with 1 Axes>"
      ]
     },
     "metadata": {
      "needs_background": "light"
     },
     "output_type": "display_data"
    }
   ],
   "source": [
    "Y = df_features['activity'].values\n",
    "X = df_features.drop(['activity', 'cid', 'pid'], axis=1)\n",
    "\n",
    "X.columns = list(range(0, len(X.columns)))\n",
    "X.head()\n",
    "\n",
    "n_est_grid_search(X, Y)"
   ]
  },
  {
   "cell_type": "markdown",
   "metadata": {},
   "source": [
    "### Randomized hyperparameter space search"
   ]
  },
  {
   "cell_type": "code",
   "execution_count": 15,
   "metadata": {},
   "outputs": [
    {
     "name": "stdout",
     "output_type": "stream",
     "text": [
      "Fitting 3 folds for each of 10 candidates, totalling 30 fits\n"
     ]
    },
    {
     "name": "stderr",
     "output_type": "stream",
     "text": [
      "[Parallel(n_jobs=4)]: Using backend LokyBackend with 4 concurrent workers.\n",
      "[Parallel(n_jobs=4)]: Done  30 out of  30 | elapsed: 98.1min finished\n"
     ]
    },
    {
     "name": "stdout",
     "output_type": "stream",
     "text": [
      "\n",
      " Time taken: 2 hours 1 minutes and 19.31 seconds.\n"
     ]
    },
    {
     "data": {
      "text/plain": [
       "{'subsample': 0.6,\n",
       " 'min_child_weight': 1,\n",
       " 'max_depth': 6,\n",
       " 'gamma': 5,\n",
       " 'colsample_bytree': 0.8}"
      ]
     },
     "execution_count": 15,
     "metadata": {},
     "output_type": "execute_result"
    }
   ],
   "source": [
    "# A parameter grid for XGBoost\n",
    "params = {\n",
    "        'min_child_weight': [1, 5, 10],\n",
    "        'gamma': [0.5, 1, 1.5, 2, 5],\n",
    "        'subsample': [0.1, 0.2, 0.4, 0.6, 0.8, 1.0],\n",
    "        'colsample_bytree': [0.6, 0.8, 1.0],\n",
    "        'max_depth': [3, 4, 5, 6, 7]\n",
    "        }\n",
    "\n",
    "\n",
    "xgb4 = XGBClassifier(learning_rate=0.02, n_estimators=1000, objective='binary:logistic',\n",
    "                    silent=True, nthread=1)\n",
    "\n",
    "\n",
    "folds = 3\n",
    "param_comb = 10\n",
    "\n",
    "skf = StratifiedKFold(n_splits=folds, shuffle = True, random_state = 1001)\n",
    "\n",
    "random_search = RandomizedSearchCV(\n",
    "    xgb4, \n",
    "    param_distributions=params, \n",
    "    n_iter=param_comb, \n",
    "    scoring='roc_auc', \n",
    "    n_jobs=4, \n",
    "    cv=skf.split(X,Y), \n",
    "    verbose=3, \n",
    "    random_state=1001)\n",
    "\n",
    "# Here we go\n",
    "start_time = timer(None) # timing starts from this point for \"start_time\" variable\n",
    "random_search.fit(X, Y)\n",
    "timer(start_time) # timing ends here for \"start_time\" variable\n",
    "\n",
    "random_search.best_params_"
   ]
  },
  {
   "cell_type": "markdown",
   "metadata": {},
   "source": [
    "### Fit best model against test set and calculated weighted F1 score"
   ]
  },
  {
   "cell_type": "code",
   "execution_count": 16,
   "metadata": {},
   "outputs": [
    {
     "name": "stdout",
     "output_type": "stream",
     "text": [
      "Accuracy: 85.84%\n"
     ]
    },
    {
     "data": {
      "image/png": "[encoded data removed]",
      "text/plain": [
       "<Figure size 432x288 with 1 Axes>"
      ]
     },
     "metadata": {
      "needs_background": "light"
     },
     "output_type": "display_data"
    },
    {
     "data": {
      "image/png": "[encoded data removed]",
      "text/plain": [
       "<Figure size 432x288 with 1 Axes>"
      ]
     },
     "metadata": {
      "needs_background": "light"
     },
     "output_type": "display_data"
    }
   ],
   "source": [
    "xgb5 = XGBClassifier(learning_rate=0.02, \n",
    "                    n_estimators=600, \n",
    "                    objective='binary:logistic',\n",
    "                    silent=True, nthread=1,\n",
    "                    subsample=0.6,\n",
    "                    min_child_weight=1,\n",
    "                    max_depth=6,\n",
    "                    gamma=5,\n",
    "                    colsample_bytree=0.8)\n",
    "\n",
    "xgb6 = train(X, Y, random_state=42, xgb=xgb5)"
   ]
  },
  {
   "cell_type": "markdown",
   "metadata": {},
   "source": [
    "#### save the model"
   ]
  },
  {
   "cell_type": "code",
   "execution_count": 17,
   "metadata": {},
   "outputs": [
    {
     "data": {
      "text/plain": [
       "['../data/FDA-COVID19_files_v1.0/xgboost_2.mdl']"
      ]
     },
     "execution_count": 17,
     "metadata": {},
     "output_type": "execute_result"
    }
   ],
   "source": [
    "joblib.dump(xgb6, data_loc + 'xgboost_2.mdl')"
   ]
  },
  {
   "cell_type": "markdown",
   "metadata": {},
   "source": [
    "#### load the model"
   ]
  },
  {
   "cell_type": "code",
   "execution_count": null,
   "metadata": {},
   "outputs": [],
   "source": [
    "xgb6 = joblib.load(data_loc + 'xgboost_2.mdl')"
   ]
  },
  {
   "cell_type": "markdown",
   "metadata": {},
   "source": [
    "#### load the test data"
   ]
  },
  {
   "cell_type": "code",
   "execution_count": 18,
   "metadata": {},
   "outputs": [
    {
     "name": "stdout",
     "output_type": "stream",
     "text": [
      "rows: 19,240, columns: 17,077\n",
      "rows: 19,240, columns: 874\n"
     ]
    }
   ],
   "source": [
    "store = pd.HDFStore(data_loc + 'validation_features.h5')\n",
    "df_test_features = pd.DataFrame(store['df' ])\n",
    "store.close()\n",
    "print('rows: {:,}, columns: {:,}'.format(len(df_test_features), len(df_test_features.columns)))\n",
    "\n",
    "# Take only the reduced set of columns.\n",
    "df_test_features = df_test_features[df_features.columns.tolist()]\n",
    "\n",
    "print('rows: {:,}, columns: {:,}'.format(len(df_test_features), len(df_test_features.columns)))\n"
   ]
  },
  {
   "cell_type": "markdown",
   "metadata": {},
   "source": [
    "#### accuracy, precision and recall"
   ]
  },
  {
   "cell_type": "code",
   "execution_count": 20,
   "metadata": {},
   "outputs": [
    {
     "name": "stdout",
     "output_type": "stream",
     "text": [
      "Accuracy = 81.57%\n",
      "Precision = 66.48%\n",
      "Recall = 67.60%\n"
     ]
    }
   ],
   "source": [
    "X_test = df_test_features.drop(['cid', 'pid', 'activity'], axis=1)\n",
    "y_test = df_test_features['activity'].values\n",
    "\n",
    "X_test.columns = list(range(0, len(X_test.columns)))\n",
    "\n",
    "# make predictions for test data\n",
    "y_pred = xgb6.predict(X_test)\n",
    "\n",
    "from sklearn.metrics import confusion_matrix\n",
    "\n",
    "cm = confusion_matrix(y_test, y_pred)\n",
    "\n",
    "print(\"Accuracy = {:0.2f}%\".format(sum(diag(cm))/sum(cm)*100))\n",
    "print(\"Precision = {:0.2f}%\".format(cm[1][1]/sum(cm[:, 1])*100))\n",
    "print(\"Recall = {:0.2f}%\".format(cm[1][1]/sum(cm[1, :])*100))"
   ]
  },
  {
   "cell_type": "markdown",
   "metadata": {},
   "source": [
    "#### Obtain the weighted F1 score"
   ]
  },
  {
   "cell_type": "code",
   "execution_count": 22,
   "metadata": {},
   "outputs": [
    {
     "name": "stdout",
     "output_type": "stream",
     "text": [
      "df_features.shape: (45616, 874).\n",
      "df_test_features.shape: (19240, 874).\n",
      "df_validation_features.shape: (19240, 874).\n",
      "F1 Score: 59.47%\n"
     ]
    }
   ],
   "source": [
    "print('df_features.shape: {}.'.format(df_features.shape))\n",
    "print('df_test_features.shape: {}.'.format(df_test_features.shape))\n",
    "\n",
    "training_features_active = df_features[df_features['activity']==1]\n",
    "training_features_inactive = df_features[df_features['activity']==0]\n",
    "\n",
    "validation_features_active = df_test_features[df_test_features['activity']==1]\n",
    "validation_features_inactive = df_test_features[df_test_features['activity']==0]\n",
    "\n",
    "active_weights, inactive_weights = get_validation_weights(\n",
    "    training_features_active.drop(['cid', 'pid', 'activity'], axis=1), \n",
    "    training_features_inactive.drop(['cid', 'pid', 'activity'], axis=1),\n",
    "    validation_features_active.drop(['cid', 'pid', 'activity'], axis=1), \n",
    "    validation_features_inactive.drop(['cid', 'pid', 'activity'], axis=1))\n",
    "\n",
    "assert(len(inactive_weights) + len(active_weights) == len(df_test_features))\n",
    "\n",
    "df_validation_features = validation_features_active.append(validation_features_inactive)\n",
    "print('df_validation_features.shape: {}.'.format(df_validation_features.shape))\n",
    "\n",
    "weights = list(active_weights) + list(inactive_weights)\n",
    "\n",
    "y_true = df_validation_features['activity']\n",
    "\n",
    "X_test = df_validation_features.drop(['cid', 'pid', 'activity'], axis=1)\n",
    "X_test.columns = list(range(0, len(X_test.columns)))\n",
    "y_pred = xgb6.predict(X_test)\n",
    "\n",
    "f1_score = f1_score(y_true, y_pred, average='binary', sample_weight=weights)\n",
    "\n",
    "print('F1 Score: {:0.2f}%'.format(f1_score*100))"
   ]
  },
  {
   "cell_type": "markdown",
   "metadata": {},
   "source": [
    "<hr>\n",
    "\n",
    "## Experiment 3\n",
    "\n",
    "XGBoost for features extraction on subset of protein features only.\n",
    "\n",
    "* obtain only the protein features from the set returned by the **greg-features.ipynb** notebobook\n",
    "* sample data using a threshold on **sample_activity_scores**\n",
    "* run basic model multiple times to determine a candidate set for features\n",
    "* make sure the most important features do not drastically change across each model trained\n",
    "* reduce data set to use the subset of candidate features\n",
    "* determine number of epochs for training XGBoost\n",
    "* grid/random search parameter space to finley tune parameters\n",
    "* evaluate the model w.r.t. weighted F1 score (see greg-train-validation-split-eval.ipynb for details)\n",
    "\n",
    "<hr>"
   ]
  },
  {
   "cell_type": "code",
   "execution_count": 4,
   "metadata": {},
   "outputs": [
    {
     "name": "stdout",
     "output_type": "stream",
     "text": [
      "protein_features/binding_sites_v1.0.csv: columns: 8,481\n",
      "protein_features/expasy.csv: columns: 7\n",
      "protein_features/profeat.csv: columns: 849\n",
      "\n",
      "9,337 protein featues\n"
     ]
    }
   ],
   "source": [
    "# load protein data column names\n",
    "pid_binding_sites = get_csv_feature_names('protein_features/binding_sites_v1.0.csv')\n",
    "pid_expasy = get_csv_feature_names('protein_features/expasy.csv')\n",
    "pid_profeat = get_csv_feature_names('protein_features/profeat.csv')\n",
    "\n",
    "pid_features = pid_binding_sites + pid_expasy + pid_profeat\n",
    "print()\n",
    "print('{:,} protein featues'.format(len(pid_features)))"
   ]
  },
  {
   "cell_type": "code",
   "execution_count": 5,
   "metadata": {},
   "outputs": [
    {
     "name": "stdout",
     "output_type": "stream",
     "text": [
      "rows: 163,926, columns: 17,077\n",
      "rows: 66,923, columns: 9,338\n",
      "Dropped 52 columns that have zero variance.\n",
      "rows: 66,923, columns: 9,286\n"
     ]
    },
    {
     "data": {
      "text/plain": [
       "(66923, 9286)"
      ]
     },
     "execution_count": 5,
     "metadata": {},
     "output_type": "execute_result"
    }
   ],
   "source": [
    "# Load training features data generated by greg-features.ipynb\n",
    "store = pd.HDFStore(data_loc + 'training_features.h5')\n",
    "df_features = pd.DataFrame(store['df' ])\n",
    "store.close()\n",
    "print('rows: {:,}, columns: {:,}'.format(len(df_features), len(df_features.columns)))\n",
    "\n",
    "# filter by activity threshold\n",
    "df_features_sampled = df_features[df_features['sample_activity_score'] > 0.1]\n",
    "df_features_sampled.shape\n",
    "\n",
    "# only retain the protein features\n",
    "df_features_sampled = df_features_sampled[['activity'] + pid_features]\n",
    "\n",
    "print('rows: {:,}, columns: {:,}'.format(len(df_features_sampled), len(df_features_sampled.columns)))\n",
    "\n",
    "# Drop zero-variance columns\n",
    "var_cols = [col for col in df_features_sampled.columns if df_features_sampled[col].nunique() > 1]\n",
    "df_novar_cols_dropped = df_features_sampled[var_cols].copy()\n",
    "\n",
    "print('Dropped {:,} columns that have zero variance.'.format(len(df_features_sampled.columns)-len(var_cols)))\n",
    "print('rows: {:,}, columns: {:,}'.format(len(df_novar_cols_dropped), len(df_novar_cols_dropped.columns)))\n",
    "\n",
    "del df_features\n",
    "df_features = df_novar_cols_dropped\n",
    "df_features.shape"
   ]
  },
  {
   "cell_type": "code",
   "execution_count": 6,
   "metadata": {},
   "outputs": [
    {
     "name": "stdout",
     "output_type": "stream",
     "text": [
      "Accuracy: 79.66%\n"
     ]
    },
    {
     "data": {
      "image/png": "[encoded data removed]",
      "text/plain": [
       "<Figure size 432x288 with 1 Axes>"
      ]
     },
     "metadata": {
      "needs_background": "light"
     },
     "output_type": "display_data"
    },
    {
     "data": {
      "image/png": "[encoded data removed]",
      "text/plain": [
       "<Figure size 432x288 with 1 Axes>"
      ]
     },
     "metadata": {
      "needs_background": "light"
     },
     "output_type": "display_data"
    },
    {
     "name": "stdout",
     "output_type": "stream",
     "text": [
      "Accuracy: 79.51%\n"
     ]
    },
    {
     "data": {
      "image/png": "[encoded data removed]",
      "text/plain": [
       "<Figure size 432x288 with 1 Axes>"
      ]
     },
     "metadata": {
      "needs_background": "light"
     },
     "output_type": "display_data"
    },
    {
     "data": {
      "image/png": "[encoded data removed]",
      "text/plain": [
       "<Figure size 432x288 with 1 Axes>"
      ]
     },
     "metadata": {
      "needs_background": "light"
     },
     "output_type": "display_data"
    },
    {
     "name": "stdout",
     "output_type": "stream",
     "text": [
      "number of most important features: 723\n",
      "number of most important features: 701\n",
      "number of important features in common: 485\n",
      "(66923, 724)\n",
      "   activity  [G4.1.8.3]  ADE  [G1.1.1.10]       *EV  [G2.1.1.285]  \\\n",
      "0         1   36.968577 -1.0    11.645102 -1.000000      0.185185   \n",
      "1         0   40.320427 -1.0     8.544726  3.449318      0.267380   \n",
      "2         1   36.968577 -1.0    11.645102 -1.000000      0.185185   \n",
      "3         1   51.101322 -1.0    14.537445 -1.000000      0.000000   \n",
      "4         1   53.801170 -1.0    12.085770 -1.000000      0.000000   \n",
      "\n",
      "   [G4.3.1.12]  [G2.1.1.333]       *KE  [G7.1.1.24]  ...  EQY  LTL  \\\n",
      "0    76.155268      0.370370  3.312772    -0.001059  ... -1.0 -1.0   \n",
      "1    74.232310      0.401070  4.287660    -0.001145  ... -1.0 -1.0   \n",
      "2    76.155268      0.370370  3.312772    -0.001059  ... -1.0 -1.0   \n",
      "3    71.806167      0.000000 -1.000000     0.005247  ... -1.0 -1.0   \n",
      "4    73.489279      0.195312  4.093607     0.008501  ... -1.0 -1.0   \n",
      "\n",
      "   [G2.1.1.80]  LGM  [G7.1.1.70]  QEG  SPT  HQE  FTL       VK*  \n",
      "0     0.185185 -1.0     0.000423 -1.0 -1.0 -1.0 -1.0  4.210830  \n",
      "1     0.133690 -1.0     0.002163 -1.0 -1.0 -1.0 -1.0  4.450626  \n",
      "2     0.185185 -1.0     0.000423 -1.0 -1.0 -1.0 -1.0  4.210830  \n",
      "3     0.442478 -1.0     0.002571 -1.0 -1.0 -1.0 -1.0 -1.000000  \n",
      "4     0.000000 -1.0     0.005610 -1.0 -1.0 -1.0 -1.0 -1.000000  \n",
      "\n",
      "[5 rows x 724 columns]\n"
     ]
    }
   ],
   "source": [
    "# Get the most important features\n",
    "Y = df_features['activity'].values\n",
    "X = df_features.drop(['activity'], axis=1)\n",
    "X.columns = list(range(0, len(X.columns)))\n",
    "\n",
    "# train\n",
    "xgb1 = train(X, Y)\n",
    "xgb2 = train(X, Y, random_state=7)\n",
    "\n",
    "# get features\n",
    "xgb1_features = get_features(xgb1)\n",
    "print('number of most important features: {:,}'.format(len(xgb1_features)))\n",
    "\n",
    "xgb2_features = get_features(xgb2)\n",
    "print('number of most important features: {:,}'.format(len(xgb2_features)))\n",
    "\n",
    "# compare features\n",
    "common_features = set(xgb1_features).intersection(set(xgb2_features))\n",
    "print('number of important features in common: {:,}'.format(len(common_features)))\n",
    "\n",
    "top_feature_cols = df_features.drop(['activity'], axis=1).columns.values[xgb1_features]\n",
    "features = ['activity'] + list(top_feature_cols)\n",
    "df_features = df_features[features]\n",
    "print(df_features.shape)\n",
    "print(df_features.head())"
   ]
  },
  {
   "cell_type": "code",
   "execution_count": null,
   "metadata": {},
   "outputs": [
    {
     "name": "stdout",
     "output_type": "stream",
     "text": [
      "set of n_estimators to test: [1000, 1200, 1400, 1600, 1800, 2000]\n"
     ]
    }
   ],
   "source": [
    "# Grid search to check appropriate value for n_estimators\n",
    "n_est_grid_search(X, Y)"
   ]
  },
  {
   "cell_type": "code",
   "execution_count": null,
   "metadata": {},
   "outputs": [],
   "source": [
    "# A parameter search grid for XGBoost\n",
    "params = {\n",
    "        'min_child_weight': [1, 5, 10],\n",
    "        'gamma': [0.5, 1, 1.5, 2, 5],\n",
    "        'subsample': [0.1, 0.2, 0.4, 0.6, 0.8, 1.0],\n",
    "        'colsample_bytree': [0.6, 0.8, 1.0],\n",
    "        'max_depth': [3, 4, 5, 6, 7]\n",
    "        }\n",
    "\n",
    "\n",
    "xgb4 = XGBClassifier(learning_rate=0.02, n_estimators=1000, objective='binary:logistic',\n",
    "                    silent=True, nthread=1)\n",
    "\n",
    "\n",
    "folds = 3\n",
    "param_comb = 10\n",
    "\n",
    "skf = StratifiedKFold(n_splits=folds, shuffle = True, random_state = 1001)\n",
    "\n",
    "random_search = RandomizedSearchCV(\n",
    "    xgb4, \n",
    "    param_distributions=params, \n",
    "    n_iter=param_comb, \n",
    "    scoring='roc_auc', \n",
    "    n_jobs=4, \n",
    "    cv=skf.split(X,Y), \n",
    "    verbose=3, \n",
    "    random_state=1001)\n",
    "\n",
    "# Here we go\n",
    "start_time = timer(None) # timing starts from this point for \"start_time\" variable\n",
    "random_search.fit(X, Y)\n",
    "timer(start_time) # timing ends here for \"start_time\" variable\n",
    "\n",
    "random_search.best_params_"
   ]
  },
  {
   "cell_type": "code",
   "execution_count": null,
   "metadata": {},
   "outputs": [],
   "source": [
    "# fit best model\n",
    "xgb5 = XGBClassifier(learning_rate=0.02, \n",
    "                    n_estimators=600, \n",
    "                    objective='binary:logistic',\n",
    "                    silent=True, nthread=1,\n",
    "                    subsample=0.6,\n",
    "                    min_child_weight=1,\n",
    "                    max_depth=6,\n",
    "                    gamma=5,\n",
    "                    colsample_bytree=0.8)\n",
    "\n",
    "xgb6 = train(X, Y, random_state=42, xgb=xgb5)"
   ]
  },
  {
   "cell_type": "code",
   "execution_count": null,
   "metadata": {},
   "outputs": [],
   "source": [
    "# load test data and gather metrics\n",
    "store = pd.HDFStore(data_loc + 'validation_features.h5')\n",
    "df_test_features = pd.DataFrame(store['df' ])\n",
    "store.close()\n",
    "print('rows: {:,}, columns: {:,}'.format(len(df_test_features), len(df_test_features.columns)))\n",
    "\n",
    "# Take only the reduced set of columns.\n",
    "df_test_features = df_test_features[df_features.columns.tolist()]\n",
    "\n",
    "print('rows: {:,}, columns: {:,}'.format(len(df_test_features), len(df_test_features.columns)))\n",
    "\n",
    "# accuracy, precision and recall\n",
    "X_test = df_test_features.drop(['cid', 'pid', 'activity', 'sample_activity_score'], axis=1)\n",
    "y_test = df_test_features['activity'].values\n",
    "\n",
    "X_test.columns = list(range(0, len(X_test.columns)))\n",
    "\n",
    "# make predictions for test data\n",
    "y_pred = xgb6.predict(X_test)\n",
    "\n",
    "from sklearn.metrics import confusion_matrix\n",
    "\n",
    "cm = confusion_matrix(y_test, y_pred)\n",
    "\n",
    "print(\"Accuracy = {:0.2f}%\".format(sum(diag(cm))/sum(cm)*100))\n",
    "print(\"Precision = {:0.2f}%\".format(cm[1][1]/sum(cm[:, 1])*100))\n",
    "print(\"Recall = {:0.2f}%\".format(cm[1][1]/sum(cm[1, :])*100))\n",
    "\n",
    "# weighted F1 score\n",
    "print('df_features.shape: {}.'.format(df_features.shape))\n",
    "print('df_test_features.shape: {}.'.format(df_test_features.shape))\n",
    "\n",
    "training_features_active = df_features[df_features['activity']==1]\n",
    "training_features_inactive = df_features[df_features['activity']==0]\n",
    "\n",
    "validation_features_active = df_test_features[df_test_features['activity']==1]\n",
    "validation_features_inactive = df_test_features[df_test_features['activity']==0]\n",
    "\n",
    "active_weights, inactive_weights = get_validation_weights(\n",
    "    training_features_active.drop(['activity'], axis=1), \n",
    "    training_features_inactive.drop(['activity'], axis=1),\n",
    "    validation_features_active.drop(['activity'], axis=1), \n",
    "    validation_features_inactive.drop(['activity'], axis=1))\n",
    "\n",
    "assert(len(inactive_weights) + len(active_weights) == len(df_test_features))\n",
    "\n",
    "df_validation_features = validation_features_active.append(validation_features_inactive)\n",
    "print('df_validation_features.shape: {}.'.format(df_validation_features.shape))\n",
    "\n",
    "weights = list(active_weights) + list(inactive_weights)\n",
    "\n",
    "y_true = df_validation_features['activity']\n",
    "\n",
    "X_test = df_validation_features.drop(['activity'], axis=1)\n",
    "X_test.columns = list(range(0, len(X_test.columns)))\n",
    "y_pred = xgb6.predict(X_test)\n",
    "\n",
    "f1_score = f1_score(y_true, y_pred, average='binary', sample_weight=weights)\n",
    "\n",
    "print('F1 Score: {:0.2f}%'.format(f1_score*100))"
   ]
  },
  {
   "cell_type": "markdown",
   "metadata": {},
   "source": [
    "<hr>\n",
    "\n",
    "## Experiment 4\n",
    "\n",
    "XGBoost using features from sample_activity_score > 0.05 from training/validation split v2.\n",
    "\n",
    "* sample data using a threshold on **sample_activity_scores**\n",
    "* reduce data set to use the subset of candidate features\n",
    "* train XGBoost with hyperparameters determined in experiment 2\n",
    "* evaluate the model w.r.t. weighted F1 score (see greg-train-validation-split-eval.ipynb for details)\n",
    "\n",
    "<hr>"
   ]
  },
  {
   "cell_type": "code",
   "execution_count": 5,
   "metadata": {},
   "outputs": [
    {
     "name": "stdout",
     "output_type": "stream",
     "text": [
      "rows: 164,217, columns: 17,079\n"
     ]
    }
   ],
   "source": [
    "# Load training features data generated by greg-features.ipynb\n",
    "store = pd.HDFStore(data_loc + 'training_features.h5')\n",
    "df_features = pd.DataFrame(store['df' ])\n",
    "store.close()\n",
    "print('rows: {:,}, columns: {:,}'.format(len(df_features), len(df_features.columns)))"
   ]
  },
  {
   "cell_type": "code",
   "execution_count": 35,
   "metadata": {},
   "outputs": [
    {
     "data": {
      "text/plain": [
       "(88353, 17079)"
      ]
     },
     "execution_count": 35,
     "metadata": {},
     "output_type": "execute_result"
    }
   ],
   "source": [
    "# sample the data according to activity threshold\n",
    "df_features = df_features[df_features['sample_activity_score'] > 0.05]\n",
    "df_features.shape"
   ]
  },
  {
   "cell_type": "code",
   "execution_count": null,
   "metadata": {},
   "outputs": [],
   "source": [
    "# Split\n",
    "Y = df_features['activity'].values\n",
    "X = df_features.drop(['index', 'activity', 'cid', 'pid', 'sample_activity_score', 'expanding_mean'], axis=1)\n",
    "X.columns = list(range(0, len(X.columns)))\n",
    "\n",
    "xgb = XGBClassifier(learning_rate=0.02, \n",
    "                    n_estimators=600, \n",
    "                    objective='binary:logistic',\n",
    "                    silent=True, nthread=1,\n",
    "                    subsample=0.6,\n",
    "                    min_child_weight=1,\n",
    "                    max_depth=6,\n",
    "                    gamma=5,\n",
    "                    colsample_bytree=0.8)\n",
    "\n",
    "# train\n",
    "xgb1 = train(X, Y, xgb=xgb)\n",
    "\n",
    "# get features\n",
    "xgb1_features = get_features(xgb1)\n",
    "print('number of most important features: {:,}'.format(len(xgb1_features)))\n",
    "\n",
    "# save dataset\n",
    "top_feature_cols = df_features.drop(['activity', 'cid', 'pid'], axis=1).columns.values[xgb1_features]\n",
    "features = ['activity', 'cid', 'pid'] + list(top_feature_cols)\n",
    "df_to_save = df_features[features]\n",
    "print(df_to_save.shape)\n",
    "print(df_to_save.head())\n",
    "\n",
    "store = pd.HDFStore(data_loc + 'xgboost_features4_data.h5')\n",
    "store['df'] = df_to_save\n",
    "store.close()\n",
    "\n",
    "del df_features\n",
    "df_features = df_to_save"
   ]
  },
  {
   "cell_type": "code",
   "execution_count": null,
   "metadata": {},
   "outputs": [],
   "source": [
    "# load the validation data\n",
    "store = pd.HDFStore(data_loc + 'validation_features.h5')\n",
    "df_test_features = pd.DataFrame(store['df' ])\n",
    "store.close()\n",
    "print('rows: {:,}, columns: {:,}'.format(len(df_test_features), len(df_test_features.columns)))\n",
    "\n",
    "# Take only the reduced set of columns.\n",
    "df_test_features = df_test_features[df_features.columns.tolist()]\n",
    "\n",
    "print('rows: {:,}, columns: {:,}'.format(len(df_test_features), len(df_test_features.columns)))"
   ]
  },
  {
   "cell_type": "code",
   "execution_count": null,
   "metadata": {},
   "outputs": [],
   "source": [
    "# train the model and gather metrics\n",
    "xgb = XGBClassifier(learning_rate=0.02, \n",
    "                    n_estimators=600, \n",
    "                    objective='binary:logistic',\n",
    "                    silent=True, nthread=1,\n",
    "                    subsample=0.6,\n",
    "                    min_child_weight=1,\n",
    "                    max_depth=6,\n",
    "                    gamma=5,\n",
    "                    colsample_bytree=0.8)\n",
    "\n",
    "model = train(X, Y, random_state=42, xgb=xgb)\n",
    "\n",
    "X_test = df_test_features.drop(['cid', 'pid', 'activity'], axis=1)\n",
    "y_test = df_test_features['activity'].values\n",
    "\n",
    "X_test.columns = list(range(0, len(X_test.columns)))\n",
    "\n",
    "# make predictions for test data\n",
    "y_pred = model.predict(X_test)\n",
    "\n",
    "from sklearn.metrics import confusion_matrix\n",
    "\n",
    "cm = confusion_matrix(y_test, y_pred)\n",
    "\n",
    "print(\"Accuracy = {:0.2f}%\".format(sum(diag(cm))/sum(cm)*100))\n",
    "print(\"Precision = {:0.2f}%\".format(cm[1][1]/sum(cm[:, 1])*100))\n",
    "print(\"Recall = {:0.2f}%\".format(cm[1][1]/sum(cm[1, :])*100))"
   ]
  },
  {
   "cell_type": "code",
   "execution_count": null,
   "metadata": {},
   "outputs": [],
   "source": [
    "# get weighted f1 score\n",
    "print('df_features.shape: {}.'.format(df_features.shape))\n",
    "print('df_test_features.shape: {}.'.format(df_test_features.shape))\n",
    "\n",
    "training_features_active = df_features[df_features['activity']==1]\n",
    "training_features_inactive = df_features[df_features['activity']==0]\n",
    "\n",
    "validation_features_active = df_test_features[df_test_features['activity']==1]\n",
    "validation_features_inactive = df_test_features[df_test_features['activity']==0]\n",
    "\n",
    "active_weights, inactive_weights = get_validation_weights(\n",
    "    training_features_active.drop(['cid', 'pid', 'activity'], axis=1), \n",
    "    training_features_inactive.drop(['cid', 'pid', 'activity'], axis=1),\n",
    "    validation_features_active.drop(['cid', 'pid', 'activity'], axis=1), \n",
    "    validation_features_inactive.drop(['cid', 'pid', 'activity'], axis=1))\n",
    "\n",
    "assert(len(inactive_weights) + len(active_weights) == len(df_test_features))\n",
    "\n",
    "df_validation_features = validation_features_active.append(validation_features_inactive)\n",
    "print('df_validation_features.shape: {}.'.format(df_validation_features.shape))\n",
    "\n",
    "weights = list(active_weights) + list(inactive_weights)\n",
    "\n",
    "y_true = df_validation_features['activity']\n",
    "\n",
    "X_test = df_validation_features.drop(['cid', 'pid', 'activity'], axis=1)\n",
    "X_test.columns = list(range(0, len(X_test.columns)))\n",
    "y_pred = xgb6.predict(X_test)\n",
    "\n",
    "f1_score = f1_score(y_true, y_pred, average='binary', sample_weight=weights)\n",
    "\n",
    "print('F1 Score: {:0.2f}%'.format(f1_score*100))"
   ]
  },
  {
   "cell_type": "code",
   "execution_count": null,
   "metadata": {},
   "outputs": [],
   "source": []
  }
 ],
 "metadata": {
  "kernelspec": {
   "display_name": "Python 3",
   "language": "python",
   "name": "python3"
  },
  "language_info": {
   "codemirror_mode": {
    "name": "ipython",
    "version": 3
   },
   "file_extension": ".py",
   "mimetype": "text/x-python",
   "name": "python",
   "nbconvert_exporter": "python",
   "pygments_lexer": "ipython3",
   "version": "3.6.2"
  }
 },
 "nbformat": 4,
 "nbformat_minor": 4
}
