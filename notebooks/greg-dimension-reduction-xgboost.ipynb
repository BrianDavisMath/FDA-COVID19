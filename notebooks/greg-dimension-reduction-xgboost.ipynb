{
 "cells": [
  {
   "cell_type": "markdown",
   "metadata": {},
   "source": [
    "# Exploration of Dimension Reduction\n",
    "<span style=\"font-weight:bold; font-size:17pt; color:#666666;\">XGBoost for feature selection</span>\n",
    "<hr>\n",
    "\n",
    "This notebook is for EDA, feature extraction, engineering and the subsequent evaluation of XGBoost as a dimension reduction technique.\n",
    "\n",
    "It assumes the data are in a sub-directory of the **/data** folder. I've already added entries to the _.gitignore_ file so that they won't be committed to the repository. Note that this file should be updated for new versions of the data.\n",
    "\n",
    "See the [data readme in the Gitbug repository](https://github.com/BrianDavisMath/FDA-COVID19/tree/master/data) for more details.\n",
    "\n",
    "reference material:\n",
    "\n",
    "* [An End-to-End Guide to Understand the Math behind XGBoost](https://www.analyticsvidhya.com/blog/2018/09/an-end-to-end-guide-to-understand-the-math-behind-xgboost/)\n",
    "* [XGBoost Algorithm: Long May She Reign!](https://towardsdatascience.com/https-medium-com-vishalmorde-xgboost-algorithm-long-she-may-rein-edd9f99be63d)\n",
    "* [Notes on Parameter Tuning](https://xgboost.readthedocs.io/en/latest/tutorials/param_tuning.html)\n",
    "* [Complete Guide to Parameter Tuning in XGBoost with codes in Python](https://www.analyticsvidhya.com/blog/2016/03/complete-guide-parameter-tuning-xgboost-with-codes-python/)\n",
    "* [XGBoost Parameters](https://xgboost.readthedocs.io/en/latest/parameter.html)\n",
    "* [How to Tune the Number and Size of Decision Trees with XGBoost in Python](https://machinelearningmastery.com/tune-number-size-decision-trees-xgboost-python/)\n",
    "*[Python's Xgoost: ValueError('feature_names may not contain \\[, \\] or \\<')](https://stackoverflow.com/questions/48645846/pythons-xgoost-valueerrorfeature-names-may-not-contain-or/50633571)\n",
    "* [Fine-tuning XGBoost in Python like a boss](https://towardsdatascience.com/fine-tuning-xgboost-in-python-like-a-boss-b4543ed8b1e)\n",
    "\n",
    "<hr>\n",
    "\n",
    "## Building XGBoost on Mac\n",
    "\n",
    "To optimize XGBoost for mac and to run on multiple threads and all cores, build and install as follows:\n",
    "\n",
    "* brew install gcc@5\n",
    "* brew install cmake\n",
    "* export CC=/usr/local/bin/gcc-5; export CXX=/usr/local/bin/g++-5; pip install xgboost\n",
    "\n",
    "See [Better XGBoost installation on Mac OSX?](https://github.com/dmlc/xgboost/issues/4477) for reference.\n",
    "\n",
    "<hr>\n",
    "\n",
    "## Experiments\n",
    "\n",
    "There are several experiments coded and reported below. Use the following links for easy access.\n",
    "\n",
    "* [Experiment 1](#exp_1) — centroid-sampled data set\n",
    "* [Experiment 2](#exp_2) — interactions split V1\n",
    "* [Experiment 3(a)](#exp_3a) — activity-score-sampled **protein** features only on interactions split V2\n",
    "* [Experiment 3(b)](#exp_3b) — activity-score-sampled **drug** features only on interactions split V2\n",
    "* [Experiment 4](#exp_4) — activity-score-sampled data on interactions split V2\n",
    "* [Experiment 5](#exp_5) — derive reduced feature set from cid/pid combination then compare models on cid-, pid-only and combined sets using training sample_weight from activity score\n",
    "\n",
    "<hr>"
   ]
  },
  {
   "cell_type": "code",
   "execution_count": 1,
   "metadata": {},
   "outputs": [
    {
     "name": "stdout",
     "output_type": "stream",
     "text": [
      "Populating the interactive namespace from numpy and matplotlib\n"
     ]
    },
    {
     "data": {
      "application/javascript": [
       "IPython.notebook.set_autosave_interval(25000)"
      ]
     },
     "metadata": {},
     "output_type": "display_data"
    },
    {
     "name": "stdout",
     "output_type": "stream",
     "text": [
      "Autosaving every 25 seconds\n"
     ]
    },
    {
     "name": "stderr",
     "output_type": "stream",
     "text": [
      "/Library/Frameworks/Python.framework/Versions/3.6/lib/python3.6/site-packages/sklearn/externals/joblib/__init__.py:15: DeprecationWarning: sklearn.externals.joblib is deprecated in 0.21 and will be removed in 0.23. Please import this functionality directly from joblib, which can be installed with: pip install joblib. If this warning is raised when loading pickled models, you may need to re-serialize those models with scikit-learn 0.21+.\n",
      "  warnings.warn(msg, category=DeprecationWarning)\n"
     ]
    }
   ],
   "source": [
    "%pylab inline\n",
    "%autosave 25\n",
    "\n",
    "import h5py\n",
    "import random\n",
    "import pickle\n",
    "import pandas as pd\n",
    "\n",
    "from sklearn.externals import joblib\n",
    "from sklearn.model_selection import train_test_split\n",
    "from sklearn.metrics import accuracy_score\n",
    "\n",
    "import warnings\n",
    "warnings.filterwarnings('ignore')\n",
    "from sklearn.model_selection import RandomizedSearchCV, GridSearchCV\n",
    "from sklearn.metrics import roc_auc_score\n",
    "from sklearn.model_selection import StratifiedKFold\n",
    "from xgboost import XGBClassifier\n",
    "\n",
    "from sklearn.metrics import f1_score\n",
    "from sklearn.model_selection import GridSearchCV\n",
    "from sklearn.neighbors import NearestNeighbors\n",
    "\n",
    "from datetime import datetime"
   ]
  },
  {
   "cell_type": "markdown",
   "metadata": {},
   "source": [
    "## Data location\n",
    "\n",
    "Change this when you get a new data set."
   ]
  },
  {
   "cell_type": "code",
   "execution_count": 2,
   "metadata": {},
   "outputs": [],
   "source": [
    "data_loc = '../data/FDA-COVID19_files_v1.0/'"
   ]
  },
  {
   "cell_type": "markdown",
   "metadata": {},
   "source": [
    "### Common methods used across experiments"
   ]
  },
  {
   "cell_type": "code",
   "execution_count": 3,
   "metadata": {},
   "outputs": [],
   "source": [
    "# train an XGBoost model and use an internal split for evaluation.\n",
    "def train(X, Y, random_state=42, n_estimators=600, xgb=None, sample_weight=None):\n",
    "    if xgb is None:\n",
    "        print('USING DEFAULT XBGClassifier')\n",
    "        xgb = XGBClassifier(\n",
    "            learning_rate=0.02,\n",
    "            n_estimators=n_estimators, \n",
    "            objective='binary:logistic',\n",
    "            silent=False,\n",
    "            verbosity=3)\n",
    "    \n",
    "    if sample_weight is None:\n",
    "        X_train, X_test, y_train, y_test = train_test_split(X, Y, test_size=0.2, random_state=random_state)\n",
    "\n",
    "        # fit model to training data\n",
    "        eval_set = [(X_train, y_train), (X_test, y_test)]\n",
    "\n",
    "        xgb.fit(X_train, y_train, \n",
    "                eval_metric=[\"error\", \"logloss\"], \n",
    "                eval_set=eval_set, \n",
    "                verbose=False, \n",
    "                early_stopping_rounds=50)\n",
    "\n",
    "        # make predictions for test data\n",
    "        y_pred = xgb.predict(X_test)\n",
    "        predictions = [round(value) for value in y_pred]\n",
    "\n",
    "        # evaluate predictions\n",
    "        accuracy = accuracy_score(y_test, predictions)\n",
    "        print(\"Accuracy: %.2f%%\" % (accuracy * 100.0))\n",
    "\n",
    "        # retrieve performance metrics\n",
    "        results = xgb.evals_result()\n",
    "        epochs = len(results['validation_0']['error'])\n",
    "        x_axis = range(0, epochs)\n",
    "        # plot log loss\n",
    "        fig, ax = pyplot.subplots()\n",
    "        ax.plot(x_axis, results['validation_0']['logloss'], label='Train')\n",
    "        ax.plot(x_axis, results['validation_1']['logloss'], label='Test')\n",
    "        ax.legend()\n",
    "        pyplot.ylabel('Log Loss')\n",
    "        pyplot.title('XGBoost Log Loss')\n",
    "        pyplot.show()\n",
    "        # plot classification error\n",
    "        fig, ax = pyplot.subplots()\n",
    "        ax.plot(x_axis, results['validation_0']['error'], label='Train')\n",
    "        ax.plot(x_axis, results['validation_1']['error'], label='Test')\n",
    "        ax.legend()\n",
    "        pyplot.ylabel('Classification Error')\n",
    "        pyplot.title('XGBoost Classification Error')\n",
    "        pyplot.show()\n",
    "        return xgb\n",
    "    else:\n",
    "        # supplying sample weights but haven't separated out eval sample weights so just drop the eval stuff\n",
    "        xgb.fit(X, Y, \n",
    "            verbose=False, \n",
    "            sample_weight=sample_weight)\n",
    "        return xgb\n",
    "\n",
    "\n",
    "# Get feature importance as information gain (the improvement in accuracy brought by a feature) from an XGBoost model.\n",
    "def get_features(model):\n",
    "    gain_importance = model.get_booster().get_score(importance_type=\"gain\")\n",
    "    return [int(key) for key in gain_importance.keys()]\n",
    "\n",
    "\n",
    "# Perform a grid search over an XGBoost model to determine a decent value for n_estimators\n",
    "def n_est_grid_search(X, Y):\n",
    "    xgb = XGBClassifier(learning_rate=0.02, objective='binary:logistic')\n",
    "\n",
    "    n_estimators = range(1000, 2200, 200) # try different numbers of epochs\n",
    "\n",
    "    print('set of n_estimators to test: {}'.format([x for x in n_estimators]))\n",
    "\n",
    "    param_grid = dict(n_estimators=n_estimators)\n",
    "    kfold = StratifiedKFold(n_splits=2, shuffle=True, random_state=7)\n",
    "    grid_search = GridSearchCV(xgb, param_grid, scoring=\"neg_log_loss\", n_jobs=-1, cv=kfold)\n",
    "    grid_result = grid_search.fit(X, Y)\n",
    "\n",
    "    # summarize results\n",
    "    print(\"Best: %f using %s\" % (grid_result.best_score_, grid_result.best_params_))\n",
    "    means = grid_result.cv_results_['mean_test_score']\n",
    "    stds = grid_result.cv_results_['std_test_score']\n",
    "    params = grid_result.cv_results_['params']\n",
    "\n",
    "    for mean, stdev, param in zip(means, stds, params):\n",
    "        print(\"%f (%f) with: %r\" % (mean, stdev, param))\n",
    "    # plot\n",
    "    pyplot.errorbar(n_estimators, means, yerr=stds)\n",
    "    pyplot.title(\"XGBoost n_estimators vs Log Loss\")\n",
    "    pyplot.xlabel('n_estimators')\n",
    "    pyplot.ylabel('Log Loss')\n",
    "    \n",
    "    \n",
    "# routine for timing random parameter search\n",
    "def timer(start_time=None):\n",
    "    if not start_time:\n",
    "        start_time = datetime.now()\n",
    "        return start_time\n",
    "    elif start_time:\n",
    "        thour, temp_sec = divmod((datetime.now() - start_time).total_seconds(), 3600)\n",
    "        tmin, tsec = divmod(temp_sec, 60)\n",
    "        print('\\n Time taken: %i hours %i minutes and %s seconds.' % (thour, tmin, round(tsec, 2)))\n",
    "        \n",
    "        \n",
    "# calculate the sample weights used for thte F1 Score\n",
    "def get_validation_weights(training_features_active, training_features_inactive,\n",
    "                           validation_features_active, validation_features_inactive):\n",
    "    active_nbrs = NearestNeighbors(n_neighbors=1).fit(training_features_active)\n",
    "    inactive_nbrs = NearestNeighbors(n_neighbors=1).fit(training_features_inactive)\n",
    "    act_act_distances, _ = active_nbrs.kneighbors(validation_features_active)\n",
    "    inact_act_distances, _ = active_nbrs.kneighbors(validation_features_inactive)\n",
    "    act_inact_distances, _ = inactive_nbrs.kneighbors(validation_features_active)\n",
    "    inact_inact_distances, _ = inactive_nbrs.kneighbors(validation_features_inactive)\n",
    "    active_scores = act_act_distances / act_inact_distances\n",
    "    active_weights = (1 + np.argsort(np.argsort(active_scores.flatten()))) / len(active_scores)\n",
    "    inactive_scores = inact_inact_distances / inact_act_distances\n",
    "    inactive_weights = (1 + np.argsort(np.argsort(inactive_scores.flatten()))) / len(inactive_scores)\n",
    "    return active_weights, inactive_weights\n",
    "\n",
    "\n",
    "# get only the feature names from a csv file\n",
    "def get_csv_feature_names(file):\n",
    "    columns = pd.read_csv(data_loc + file, index_col=0, nrows=1).columns.tolist()\n",
    "    print('{}: columns: {:,}'.format(file, len(columns)))\n",
    "    return columns\n",
    "\n",
    "def get_h5_feature_names(file):\n",
    "    store = pd.HDFStore(data_loc + file)\n",
    "    meta = store.select('df', start=1, stop=1)\n",
    "    store.close()\n",
    "    print('{}: columns: {:,}'.format(file, len(meta.columns)))\n",
    "    return list(meta.columns)\n",
    "\n",
    "def drop_non_features(df):\n",
    "    if 'index' in df:\n",
    "        df.drop('index', axis=1, inplace=True)\n",
    "    if 'activity' in df:\n",
    "        df.drop('activity', axis=1, inplace=True)\n",
    "    if 'cid' in df:\n",
    "        df.drop('cid', axis=1, inplace=True)\n",
    "    if 'pid' in df:\n",
    "        df.drop('pid', axis=1, inplace=True)\n",
    "    if 'expanding_mean' in df:\n",
    "        df.drop('expanding_mean', axis=1, inplace=True)\n",
    "    if 'sample_activity_score' in df:\n",
    "        df.drop('sample_activity_score', axis=1, inplace=True)\n",
    "\n",
    "\n",
    "# load test data and gather metrics\n",
    "def gather_metrics(df_features, model):\n",
    "    store = pd.HDFStore(data_loc + 'validation_features.h5')\n",
    "    df_test_features = pd.DataFrame(store['df' ])\n",
    "    store.close()\n",
    "    print('rows: {:,}, columns: {:,}'.format(len(df_test_features), len(df_test_features.columns)))\n",
    "    print(df_test_features.head())\n",
    "\n",
    "    # Take only the reduced set of columns.\n",
    "    df_test_features = df_test_features[df_features.columns.tolist()]\n",
    "\n",
    "    print('rows: {:,}, columns: {:,}'.format(len(df_test_features), len(df_test_features.columns)))\n",
    "\n",
    "    # accuracy, precision and recall\n",
    "    y_test = df_test_features['activity'].values\n",
    "    df = df_test_features.copy()\n",
    "    drop_non_features(df)\n",
    "    X_test = df\n",
    "\n",
    "    X_test.columns = list(range(0, len(X_test.columns)))\n",
    "\n",
    "    # make predictions for test data\n",
    "    y_pred = model.predict(X_test)\n",
    "\n",
    "    from sklearn.metrics import confusion_matrix\n",
    "\n",
    "    cm = confusion_matrix(y_test, y_pred)\n",
    "\n",
    "    print(\"Accuracy = {:0.2f}%\".format(sum(diag(cm))/sum(cm)*100))\n",
    "    print(\"Precision = {:0.2f}%\".format(cm[1][1]/sum(cm[:, 1])*100))\n",
    "    print(\"Recall = {:0.2f}%\".format(cm[1][1]/sum(cm[1, :])*100))\n",
    "\n",
    "    # weighted F1 score\n",
    "    training_features_active = df_features[df_features['activity']==1]\n",
    "    training_features_inactive = df_features[df_features['activity']==0]\n",
    "    \n",
    "    drop_non_features(training_features_active)\n",
    "    drop_non_features(training_features_inactive)\n",
    "\n",
    "    validation_features_active = df_test_features[df_test_features['activity']==1]\n",
    "    validation_features_inactive = df_test_features[df_test_features['activity']==0]\n",
    "    \n",
    "    drop_non_features(validation_features_active)\n",
    "    drop_non_features(validation_features_inactive)\n",
    "\n",
    "    active_weights, inactive_weights = get_validation_weights(\n",
    "        training_features_active, \n",
    "        training_features_inactive,\n",
    "        validation_features_active, \n",
    "        validation_features_inactive)\n",
    "\n",
    "    assert(len(inactive_weights) + len(active_weights) == len(df_test_features))\n",
    "\n",
    "    df_validation_features = validation_features_active.append(validation_features_inactive)\n",
    "\n",
    "    weights = list(active_weights) + list(inactive_weights)\n",
    "\n",
    "    f1score = f1_score(y_test, y_pred, average='binary', sample_weight=weights)\n",
    "\n",
    "    print('F1 Score: {:0.2f}%'.format(f1score*100))\n",
    "    \n",
    "    \n",
    "# load drug data column names\n",
    "def get_drug_column_names():\n",
    "    cid_dragon_features = get_csv_feature_names('drug_features/dragon_features.csv')\n",
    "\n",
    "    # We renamed the dragon features columns in the greg-features notebook.\n",
    "    cid_dragon_features = ['cid_'+col for col in cid_dragon_features]\n",
    "\n",
    "    # We dropped columns that are < 2% filled with values in the greg-features notebook.\n",
    "    empty_cols = ['cid_X0v', 'cid_X5A', 'cid_Psi_i_s', 'cid_SM6_B(s)', 'cid_Psychotic-80', 'cid_VE1sign_L', 'cid_X5sol', 'cid_Psi_e_1d', 'cid_X2Av', 'cid_ATS1s', 'cid_SpMin1_Bh(s)', 'cid_GATS3s', 'cid_SpMin8_Bh(s)', 'cid_MATS6s', 'cid_VR2_B(s)', 'cid_X1Av', 'cid_Ro5', 'cid_MLOGP', 'cid_SpMin6_Bh(s)', 'cid_ATSC3s', 'cid_VE3sign_D/Dt', 'cid_SpPos_B(s)', 'cid_GATS4s', 'cid_X1Kup', 'cid_X3sol', 'cid_EE_Dt', 'cid_X2sol', 'cid_ATS4s', 'cid_DLS_01', 'cid_SpMax4_Bh(s)', 'cid_WiA_B(s)', 'cid_Chi_B(s)', 'cid_Neoplastic-80', 'cid_ATSC4s', 'cid_DLS_07', 'cid_VR3_L', 'cid_SpMax6_Bh(s)', 'cid_Inflammat-50', 'cid_XMOD', 'cid_SpAbs_B(s)', 'cid_ATS6s', 'cid_VE3sign_D', 'cid_X5', 'cid_VR1_L', 'cid_MATS5s', 'cid_X3A', 'cid_SpAD_B(s)', 'cid_ATSC6s', 'cid_VE3sign_Dz(m)', 'cid_X0', 'cid_Psi_e_1', 'cid_X3v', 'cid_EE_D', 'cid_MLOGP2', 'cid_MATS2s', 'cid_EE_Dz(i)', 'cid_VE3sign_L', 'cid_CMC-80', 'cid_LLS_01', 'cid_X5v', 'cid_X4A', 'cid_PJI2', 'cid_Hypertens-80', 'cid_VE2sign_L', 'cid_X0A', 'cid_SpMax8_Bh(s)', 'cid_X1v', 'cid_VE2_B(s)', 'cid_X0sol', 'cid_EE_B(s)', 'cid_X5Av', 'cid_BLTA96', 'cid_Psi_i_0d', 'cid_VE3sign_Dz(p)', 'cid_GATS6s', 'cid_VR1_B(s)', 'cid_VE3_B(s)', 'cid_EE_Dz(p)', 'cid_MATS3s', 'cid_ATS5s', 'cid_X3Av', 'cid_VE3sign_Dz(i)', 'cid_SpMAD_B(s)', 'cid_VE1_B(s)', 'cid_ATS8s', 'cid_SpMax3_Bh(s)', 'cid_X1', 'cid_DLS_cons', 'cid_Hypnotic-80', 'cid_DLS_04', 'cid_SpMaxA_B(s)', 'cid_VE3sign_B(s)', 'cid_X1Mad', 'cid_SpMin4_Bh(s)', 'cid_MATS1s', 'cid_Psi_e_t', 'cid_Psi_i_0', 'cid_Infective-50', 'cid_DLS_05', 'cid_ChiA_B(s)', 'cid_X3', 'cid_SpMax_B(s)', 'cid_CMC-50', 'cid_BLI', 'cid_GATS5s', 'cid_VE3sign_Dz(e)', 'cid_VE1sign_B(s)', 'cid_VE2_L', 'cid_X4v', 'cid_SpMin5_Bh(s)', 'cid_DLS_06', 'cid_Depressant-80', 'cid_Psi_e_0', 'cid_ATS7s', 'cid_X1MulPer', 'cid_AMR', 'cid_ATS2s', 'cid_SM1_B(s)', 'cid_SM2_B(s)', 'cid_DLS_02', 'cid_ALOGP2', 'cid_Inflammat-80', 'cid_DLS_03', 'cid_ATSC5s', 'cid_GATS1s', 'cid_Psi_i_1s', 'cid_Infective-80', 'cid_X4', 'cid_EE_Dz(Z)', 'cid_RDCHI', 'cid_ATSC8s', 'cid_GATS8s', 'cid_EE_Dz(m)', 'cid_MATS8s', 'cid_Psi_e_0d', 'cid_SpMax7_Bh(s)', 'cid_VE1_L', 'cid_X2A', 'cid_VE2sign_B(s)', 'cid_cRo5', 'cid_BLTF96', 'cid_X4sol', 'cid_RDSQ', 'cid_GATS7s', 'cid_X2v', 'cid_Hypnotic-50', 'cid_VE3sign_Dz(v)', 'cid_Psi_i_A', 'cid_Psi_i_1', 'cid_HyWi_B(s)', 'cid_ATS3s', 'cid_VE3sign_X', 'cid_Wi_B(s)', 'cid_SM4_B(s)', 'cid_Psychotic-50', 'cid_J_B(s)', 'cid_X1A', 'cid_ATSC7s', 'cid_EE_Dz(e)', 'cid_SpMax1_Bh(s)', 'cid_Hypertens-50', 'cid_GATS2s', 'cid_X2', 'cid_VE3_L', 'cid_SpMax2_Bh(s)', 'cid_Psi_e_A', 'cid_Ho_B(s)', 'cid_SpMin3_Bh(s)', 'cid_AVS_B(s)', 'cid_VE3sign_Dt', 'cid_SpPosA_B(s)', 'cid_VR3_B(s)', 'cid_EE_Dz(v)', 'cid_MATS4s', 'cid_Psi_e_1s', 'cid_X1Per', 'cid_LLS_02', 'cid_X0Av', 'cid_X1sol', 'cid_Psi_i_t', 'cid_SpMax5_Bh(s)', 'cid_VE3sign_B(v)', 'cid_SM5_B(s)', 'cid_SpMin7_Bh(s)', 'cid_ALOGP', 'cid_X4Av', 'cid_SM3_B(s)', 'cid_ATSC1s', 'cid_Depressant-50', 'cid_SpMin2_Bh(s)', 'cid_BLTD48', 'cid_ATSC2s', 'cid_VE3sign_Dz(Z)', 'cid_SpDiam_B(s)', 'cid_Neoplastic-50', 'cid_Psi_i_1d', 'cid_VR2_L', 'cid_SpPosLog_B(s)', 'cid_MATS7s']\n",
    "    cid_dragon_features = list(set(cid_dragon_features).difference(set(empty_cols)))\n",
    "\n",
    "    cid_fingerprints = get_csv_feature_names('drug_features/fingerprints.csv')\n",
    "\n",
    "    cid_features = cid_dragon_features + cid_fingerprints\n",
    "    print()\n",
    "    print('{:,} drug featues'.format(len(cid_features)))\n",
    "    return cid_features\n",
    "\n",
    "\n",
    "# load protein data column names\n",
    "def get_protein_column_names():\n",
    "    pid_binding_sites = get_csv_feature_names('protein_features/binding_sites_v1.0.csv')\n",
    "    pid_expasy = get_csv_feature_names('protein_features/expasy.csv')\n",
    "    pid_profeat = get_csv_feature_names('protein_features/profeat.csv')\n",
    "\n",
    "    pid_features = pid_binding_sites + pid_expasy + pid_profeat\n",
    "    print()\n",
    "    print('{:,} protein featues'.format(len(pid_features)))\n",
    "    return pid_features"
   ]
  },
  {
   "cell_type": "markdown",
   "metadata": {},
   "source": [
    "<a id='exp_1'></a>\n",
    "\n",
    "<hr>\n",
    "\n",
    "## Experiment 1\n",
    "\n",
    "XGBoost for features extraction.\n",
    "\n",
    "* obtain features using the **greg-features.ipynb** notebobook\n",
    "* sample data using **_centroid_sampling.ipynb_** noteboob\n",
    "* remove highly correlated columns using **dim-red-via-correlation.ipynb**\n",
    "* run basic model multiple times to determine a candidate set for features\n",
    "* make sure the most important features do not drastically change across each model trained\n",
    "* reduce data set to use the subset of candidate features\n",
    "* determine number of epochs for training XGBoost\n",
    "* grid/random search parameter space to finley tune parameters\n",
    "* evaluate the model w.r.t. weighted F1 score (see greg-train-validation-split-eval.ipynb for details)\n",
    "\n",
    "<hr>\n",
    "\n",
    "<span style=\"background:#FF8100;padding:10px;\">[Experiment 1](#exp_1)</span>\n",
    "<span style=\"background:#FF8100;padding:10px;\">[Experiment 2](#exp_2)</span>\n",
    "<span style=\"background:#FF8100;padding:10px;\">[Experiment 3(a)](#exp_3a)</span>\n",
    "<span style=\"background:#FF8100;padding:10px;\">[Experiment 3(b)](#exp_3b)</span>\n",
    "<span style=\"background:#FF8100;padding:10px;\">[Experiment 4](#exp_4)</span>\n",
    "<span style=\"background:#FF8100;padding:10px;\">[Experiment 5](#exp_5)</span>\n",
    "\n",
    "<hr>"
   ]
  },
  {
   "cell_type": "markdown",
   "metadata": {},
   "source": [
    "## Load the data from sampled_data.h5"
   ]
  },
  {
   "cell_type": "code",
   "execution_count": 3,
   "metadata": {},
   "outputs": [
    {
     "name": "stdout",
     "output_type": "stream",
     "text": [
      "rows: 19,632, columns: 13,851\n"
     ]
    }
   ],
   "source": [
    "store = pd.HDFStore(data_loc + 'training_sampled_data.h5')\n",
    "df_features = pd.DataFrame(store['df' ])\n",
    "store.close()\n",
    "print('rows: {:,}, columns: {:,}'.format(len(df_features), len(df_features.columns)))"
   ]
  },
  {
   "cell_type": "markdown",
   "metadata": {},
   "source": [
    "# XGBoost"
   ]
  },
  {
   "cell_type": "code",
   "execution_count": 5,
   "metadata": {},
   "outputs": [],
   "source": [
    "Y = df_features['activity'].values\n",
    "X = df_features.drop(['activity', 'cid', 'pid'], axis=1)"
   ]
  },
  {
   "cell_type": "markdown",
   "metadata": {},
   "source": [
    "### Fix column names\n",
    "\n",
    "#### XGBoost does not like <>, [] and , in column names\n",
    "\n",
    "..change the column names to their ordinal numbers."
   ]
  },
  {
   "cell_type": "code",
   "execution_count": 6,
   "metadata": {},
   "outputs": [
    {
     "data": {
      "text/html": [
       "<div>\n",
       "<style scoped>\n",
       "    .dataframe tbody tr th:only-of-type {\n",
       "        vertical-align: middle;\n",
       "    }\n",
       "\n",
       "    .dataframe tbody tr th {\n",
       "        vertical-align: top;\n",
       "    }\n",
       "\n",
       "    .dataframe thead th {\n",
       "        text-align: right;\n",
       "    }\n",
       "</style>\n",
       "<table border=\"1\" class=\"dataframe\">\n",
       "  <thead>\n",
       "    <tr style=\"text-align: right;\">\n",
       "      <th></th>\n",
       "      <th>0</th>\n",
       "      <th>1</th>\n",
       "      <th>2</th>\n",
       "      <th>3</th>\n",
       "      <th>4</th>\n",
       "      <th>5</th>\n",
       "      <th>6</th>\n",
       "      <th>7</th>\n",
       "      <th>8</th>\n",
       "      <th>9</th>\n",
       "      <th>...</th>\n",
       "      <th>13838</th>\n",
       "      <th>13839</th>\n",
       "      <th>13840</th>\n",
       "      <th>13841</th>\n",
       "      <th>13842</th>\n",
       "      <th>13843</th>\n",
       "      <th>13844</th>\n",
       "      <th>13845</th>\n",
       "      <th>13846</th>\n",
       "      <th>13847</th>\n",
       "    </tr>\n",
       "  </thead>\n",
       "  <tbody>\n",
       "    <tr>\n",
       "      <th>0</th>\n",
       "      <td>-1.0</td>\n",
       "      <td>-1.0</td>\n",
       "      <td>-1.0</td>\n",
       "      <td>-1.0</td>\n",
       "      <td>-1.0</td>\n",
       "      <td>-1.0</td>\n",
       "      <td>-1.0</td>\n",
       "      <td>-1.0</td>\n",
       "      <td>-1.00000</td>\n",
       "      <td>-1.0</td>\n",
       "      <td>...</td>\n",
       "      <td>0</td>\n",
       "      <td>0</td>\n",
       "      <td>0</td>\n",
       "      <td>0</td>\n",
       "      <td>0</td>\n",
       "      <td>0</td>\n",
       "      <td>0</td>\n",
       "      <td>0</td>\n",
       "      <td>0</td>\n",
       "      <td>0</td>\n",
       "    </tr>\n",
       "    <tr>\n",
       "      <th>1</th>\n",
       "      <td>-1.0</td>\n",
       "      <td>-1.0</td>\n",
       "      <td>-1.0</td>\n",
       "      <td>-1.0</td>\n",
       "      <td>-1.0</td>\n",
       "      <td>-1.0</td>\n",
       "      <td>-1.0</td>\n",
       "      <td>-1.0</td>\n",
       "      <td>-1.00000</td>\n",
       "      <td>-1.0</td>\n",
       "      <td>...</td>\n",
       "      <td>0</td>\n",
       "      <td>0</td>\n",
       "      <td>0</td>\n",
       "      <td>0</td>\n",
       "      <td>0</td>\n",
       "      <td>0</td>\n",
       "      <td>0</td>\n",
       "      <td>0</td>\n",
       "      <td>0</td>\n",
       "      <td>0</td>\n",
       "    </tr>\n",
       "    <tr>\n",
       "      <th>3</th>\n",
       "      <td>-1.0</td>\n",
       "      <td>-1.0</td>\n",
       "      <td>-1.0</td>\n",
       "      <td>-1.0</td>\n",
       "      <td>-1.0</td>\n",
       "      <td>-1.0</td>\n",
       "      <td>-1.0</td>\n",
       "      <td>-1.0</td>\n",
       "      <td>-1.00000</td>\n",
       "      <td>-1.0</td>\n",
       "      <td>...</td>\n",
       "      <td>0</td>\n",
       "      <td>0</td>\n",
       "      <td>0</td>\n",
       "      <td>0</td>\n",
       "      <td>0</td>\n",
       "      <td>0</td>\n",
       "      <td>0</td>\n",
       "      <td>0</td>\n",
       "      <td>0</td>\n",
       "      <td>0</td>\n",
       "    </tr>\n",
       "    <tr>\n",
       "      <th>4</th>\n",
       "      <td>-1.0</td>\n",
       "      <td>-1.0</td>\n",
       "      <td>-1.0</td>\n",
       "      <td>-1.0</td>\n",
       "      <td>-1.0</td>\n",
       "      <td>-1.0</td>\n",
       "      <td>-1.0</td>\n",
       "      <td>-1.0</td>\n",
       "      <td>-1.00000</td>\n",
       "      <td>-1.0</td>\n",
       "      <td>...</td>\n",
       "      <td>0</td>\n",
       "      <td>0</td>\n",
       "      <td>0</td>\n",
       "      <td>0</td>\n",
       "      <td>0</td>\n",
       "      <td>0</td>\n",
       "      <td>0</td>\n",
       "      <td>0</td>\n",
       "      <td>0</td>\n",
       "      <td>0</td>\n",
       "    </tr>\n",
       "    <tr>\n",
       "      <th>7</th>\n",
       "      <td>-1.0</td>\n",
       "      <td>-1.0</td>\n",
       "      <td>-1.0</td>\n",
       "      <td>-1.0</td>\n",
       "      <td>-1.0</td>\n",
       "      <td>-1.0</td>\n",
       "      <td>-1.0</td>\n",
       "      <td>-1.0</td>\n",
       "      <td>3.95519</td>\n",
       "      <td>-1.0</td>\n",
       "      <td>...</td>\n",
       "      <td>0</td>\n",
       "      <td>0</td>\n",
       "      <td>0</td>\n",
       "      <td>0</td>\n",
       "      <td>0</td>\n",
       "      <td>0</td>\n",
       "      <td>0</td>\n",
       "      <td>0</td>\n",
       "      <td>0</td>\n",
       "      <td>0</td>\n",
       "    </tr>\n",
       "  </tbody>\n",
       "</table>\n",
       "<p>5 rows × 13848 columns</p>\n",
       "</div>"
      ],
      "text/plain": [
       "   0      1      2      3      4      5      6      7        8      9      \\\n",
       "0   -1.0   -1.0   -1.0   -1.0   -1.0   -1.0   -1.0   -1.0 -1.00000   -1.0   \n",
       "1   -1.0   -1.0   -1.0   -1.0   -1.0   -1.0   -1.0   -1.0 -1.00000   -1.0   \n",
       "3   -1.0   -1.0   -1.0   -1.0   -1.0   -1.0   -1.0   -1.0 -1.00000   -1.0   \n",
       "4   -1.0   -1.0   -1.0   -1.0   -1.0   -1.0   -1.0   -1.0 -1.00000   -1.0   \n",
       "7   -1.0   -1.0   -1.0   -1.0   -1.0   -1.0   -1.0   -1.0  3.95519   -1.0   \n",
       "\n",
       "   ...  13838  13839  13840  13841  13842  13843  13844  13845  13846  13847  \n",
       "0  ...      0      0      0      0      0      0      0      0      0      0  \n",
       "1  ...      0      0      0      0      0      0      0      0      0      0  \n",
       "3  ...      0      0      0      0      0      0      0      0      0      0  \n",
       "4  ...      0      0      0      0      0      0      0      0      0      0  \n",
       "7  ...      0      0      0      0      0      0      0      0      0      0  \n",
       "\n",
       "[5 rows x 13848 columns]"
      ]
     },
     "execution_count": 6,
     "metadata": {},
     "output_type": "execute_result"
    }
   ],
   "source": [
    "X.columns = list(range(0, len(X.columns)))\n",
    "X.head()"
   ]
  },
  {
   "cell_type": "markdown",
   "metadata": {},
   "source": [
    "## XGBoost parameter tuning\n",
    "\n",
    "Play around with fitting a model and see if we can narrow down the parameter search space for subsequent fine tuning.\n",
    "\n",
    "reference material:\n",
    "\n",
    "* [Avoid Overfitting By Early Stopping With XGBoost In Python](https://machinelearningmastery.com/avoid-overfitting-by-early-stopping-with-xgboost-in-python/)\n",
    "* [How to Tune the Number and Size of Decision Trees with XGBoost in Python](https://machinelearningmastery.com/tune-number-size-decision-trees-xgboost-python/)\n",
    "* [A Gentle Introduction to Early Stopping to Avoid Overtraining Neural Networks](https://machinelearningmastery.com/early-stopping-to-avoid-overtraining-neural-network-models/)\n",
    "* [Stackoverflow: Training Error is Lower than Testing error in a Random Forest Model](https://stackoverflow.com/questions/53420692/training-error-is-lower-than-testing-error-in-a-random-forest-model)"
   ]
  },
  {
   "cell_type": "markdown",
   "metadata": {},
   "source": [
    "### run twice to compare the most important features\n",
    "\n",
    "We do not want to see different features every time."
   ]
  },
  {
   "cell_type": "code",
   "execution_count": 8,
   "metadata": {},
   "outputs": [
    {
     "name": "stdout",
     "output_type": "stream",
     "text": [
      "Accuracy: 82.13%\n"
     ]
    },
    {
     "data": {
      "image/png": "[encoded data removed]",
      "text/plain": [
       "<Figure size 432x288 with 1 Axes>"
      ]
     },
     "metadata": {
      "needs_background": "light"
     },
     "output_type": "display_data"
    },
    {
     "data": {
      "image/png": "[encoded data removed]",
      "text/plain": [
       "<Figure size 432x288 with 1 Axes>"
      ]
     },
     "metadata": {
      "needs_background": "light"
     },
     "output_type": "display_data"
    },
    {
     "name": "stdout",
     "output_type": "stream",
     "text": [
      "Accuracy: 81.48%\n"
     ]
    },
    {
     "data": {
      "image/png": "[encoded data removed]",
      "text/plain": [
       "<Figure size 432x288 with 1 Axes>"
      ]
     },
     "metadata": {
      "needs_background": "light"
     },
     "output_type": "display_data"
    },
    {
     "data": {
      "image/png": "[encoded data removed]",
      "text/plain": [
       "<Figure size 432x288 with 1 Axes>"
      ]
     },
     "metadata": {
      "needs_background": "light"
     },
     "output_type": "display_data"
    }
   ],
   "source": [
    "xgb = train(X, Y)\n",
    "xgb2 = train(X, Y, random_state=7)"
   ]
  },
  {
   "cell_type": "markdown",
   "metadata": {},
   "source": [
    "### Find the most important features\n",
    "\n",
    "reference material:\n",
    "\n",
    "* [The Multiple faces of ‘Feature importance’ in XGBoost](https://towardsdatascience.com/be-careful-when-interpreting-your-features-importance-in-xgboost-6e16132588e7)"
   ]
  },
  {
   "cell_type": "code",
   "execution_count": 61,
   "metadata": {},
   "outputs": [
    {
     "name": "stdout",
     "output_type": "stream",
     "text": [
      "number of most important features: 740\n"
     ]
    }
   ],
   "source": [
    "xgb_features = get_features(xgb)\n",
    "print('number of most important features: {:,}'.format(len(xgb_features)))\n",
    "\n",
    "xgb2_features = get_features(xgb2)\n",
    "print('number of most important features: {:,}'.format(len(xgb2_features)))"
   ]
  },
  {
   "cell_type": "markdown",
   "metadata": {},
   "source": [
    "### How many important features in common?"
   ]
  },
  {
   "cell_type": "code",
   "execution_count": 14,
   "metadata": {},
   "outputs": [
    {
     "name": "stdout",
     "output_type": "stream",
     "text": [
      "number of important features in common: 450\n"
     ]
    }
   ],
   "source": [
    "common_features = set(xgb_features).intersection(set(xgb2_features))\n",
    "print('number of important features in common: {:,}'.format(len(common_features)))"
   ]
  },
  {
   "cell_type": "markdown",
   "metadata": {},
   "source": [
    "### Save new features to file"
   ]
  },
  {
   "cell_type": "code",
   "execution_count": 63,
   "metadata": {},
   "outputs": [
    {
     "name": "stdout",
     "output_type": "stream",
     "text": [
      "(19632, 743)\n"
     ]
    },
    {
     "data": {
      "text/html": [
       "<div>\n",
       "<style scoped>\n",
       "    .dataframe tbody tr th:only-of-type {\n",
       "        vertical-align: middle;\n",
       "    }\n",
       "\n",
       "    .dataframe tbody tr th {\n",
       "        vertical-align: top;\n",
       "    }\n",
       "\n",
       "    .dataframe thead th {\n",
       "        text-align: right;\n",
       "    }\n",
       "</style>\n",
       "<table border=\"1\" class=\"dataframe\">\n",
       "  <thead>\n",
       "    <tr style=\"text-align: right;\">\n",
       "      <th></th>\n",
       "      <th>activity</th>\n",
       "      <th>cid</th>\n",
       "      <th>pid</th>\n",
       "      <th>IDM_y</th>\n",
       "      <th>YN*</th>\n",
       "      <th>EEE</th>\n",
       "      <th>NRS_y</th>\n",
       "      <th>IDA</th>\n",
       "      <th>C-027</th>\n",
       "      <th>[G2.1.1.176]</th>\n",
       "      <th>...</th>\n",
       "      <th>Mi</th>\n",
       "      <th>*NL</th>\n",
       "      <th>LOC</th>\n",
       "      <th>ASC</th>\n",
       "      <th>IS*</th>\n",
       "      <th>[G2.1.1.218]</th>\n",
       "      <th>[G5.2.2.38]</th>\n",
       "      <th>ARR_y</th>\n",
       "      <th>RLL</th>\n",
       "      <th>KG*</th>\n",
       "    </tr>\n",
       "  </thead>\n",
       "  <tbody>\n",
       "    <tr>\n",
       "      <th>0</th>\n",
       "      <td>1</td>\n",
       "      <td>204106</td>\n",
       "      <td>Q9UP65</td>\n",
       "      <td>10.043</td>\n",
       "      <td>-1.0</td>\n",
       "      <td>-1.000000</td>\n",
       "      <td>5</td>\n",
       "      <td>-1.0</td>\n",
       "      <td>0.0</td>\n",
       "      <td>0.370370</td>\n",
       "      <td>...</td>\n",
       "      <td>1.107</td>\n",
       "      <td>-1.000000</td>\n",
       "      <td>0.623</td>\n",
       "      <td>-1.0</td>\n",
       "      <td>-1.0</td>\n",
       "      <td>0.185185</td>\n",
       "      <td>0.033679</td>\n",
       "      <td>0.618</td>\n",
       "      <td>-1.0</td>\n",
       "      <td>5.264419</td>\n",
       "    </tr>\n",
       "    <tr>\n",
       "      <th>1</th>\n",
       "      <td>0</td>\n",
       "      <td>204106</td>\n",
       "      <td>P47712</td>\n",
       "      <td>10.043</td>\n",
       "      <td>-1.0</td>\n",
       "      <td>3.704249</td>\n",
       "      <td>5</td>\n",
       "      <td>-1.0</td>\n",
       "      <td>0.0</td>\n",
       "      <td>0.267380</td>\n",
       "      <td>...</td>\n",
       "      <td>1.107</td>\n",
       "      <td>-1.000000</td>\n",
       "      <td>0.623</td>\n",
       "      <td>-1.0</td>\n",
       "      <td>-1.0</td>\n",
       "      <td>0.401070</td>\n",
       "      <td>0.033101</td>\n",
       "      <td>0.618</td>\n",
       "      <td>-1.0</td>\n",
       "      <td>3.736527</td>\n",
       "    </tr>\n",
       "    <tr>\n",
       "      <th>3</th>\n",
       "      <td>1</td>\n",
       "      <td>10290302</td>\n",
       "      <td>P00403</td>\n",
       "      <td>10.047</td>\n",
       "      <td>-1.0</td>\n",
       "      <td>-1.000000</td>\n",
       "      <td>5</td>\n",
       "      <td>-1.0</td>\n",
       "      <td>0.0</td>\n",
       "      <td>0.442478</td>\n",
       "      <td>...</td>\n",
       "      <td>1.110</td>\n",
       "      <td>-1.000000</td>\n",
       "      <td>0.623</td>\n",
       "      <td>-1.0</td>\n",
       "      <td>-1.0</td>\n",
       "      <td>0.000000</td>\n",
       "      <td>0.033883</td>\n",
       "      <td>0.618</td>\n",
       "      <td>-1.0</td>\n",
       "      <td>-1.000000</td>\n",
       "    </tr>\n",
       "    <tr>\n",
       "      <th>4</th>\n",
       "      <td>1</td>\n",
       "      <td>10290302</td>\n",
       "      <td>P00395</td>\n",
       "      <td>10.047</td>\n",
       "      <td>-1.0</td>\n",
       "      <td>-1.000000</td>\n",
       "      <td>5</td>\n",
       "      <td>-1.0</td>\n",
       "      <td>0.0</td>\n",
       "      <td>0.195312</td>\n",
       "      <td>...</td>\n",
       "      <td>1.110</td>\n",
       "      <td>3.208557</td>\n",
       "      <td>0.623</td>\n",
       "      <td>-1.0</td>\n",
       "      <td>-1.0</td>\n",
       "      <td>0.781250</td>\n",
       "      <td>0.035034</td>\n",
       "      <td>0.618</td>\n",
       "      <td>-1.0</td>\n",
       "      <td>-1.000000</td>\n",
       "    </tr>\n",
       "    <tr>\n",
       "      <th>7</th>\n",
       "      <td>0</td>\n",
       "      <td>46938678</td>\n",
       "      <td>O15528</td>\n",
       "      <td>8.411</td>\n",
       "      <td>-1.0</td>\n",
       "      <td>-1.000000</td>\n",
       "      <td>2</td>\n",
       "      <td>-1.0</td>\n",
       "      <td>0.0</td>\n",
       "      <td>0.000000</td>\n",
       "      <td>...</td>\n",
       "      <td>1.131</td>\n",
       "      <td>-1.000000</td>\n",
       "      <td>1.500</td>\n",
       "      <td>-1.0</td>\n",
       "      <td>-1.0</td>\n",
       "      <td>0.000000</td>\n",
       "      <td>0.034528</td>\n",
       "      <td>0.000</td>\n",
       "      <td>-1.0</td>\n",
       "      <td>-1.000000</td>\n",
       "    </tr>\n",
       "  </tbody>\n",
       "</table>\n",
       "<p>5 rows × 743 columns</p>\n",
       "</div>"
      ],
      "text/plain": [
       "   activity       cid     pid   IDM_y  YN*       EEE  NRS_y  IDA  C-027  \\\n",
       "0         1    204106  Q9UP65  10.043 -1.0 -1.000000      5 -1.0    0.0   \n",
       "1         0    204106  P47712  10.043 -1.0  3.704249      5 -1.0    0.0   \n",
       "3         1  10290302  P00403  10.047 -1.0 -1.000000      5 -1.0    0.0   \n",
       "4         1  10290302  P00395  10.047 -1.0 -1.000000      5 -1.0    0.0   \n",
       "7         0  46938678  O15528   8.411 -1.0 -1.000000      2 -1.0    0.0   \n",
       "\n",
       "   [G2.1.1.176]  ...     Mi       *NL    LOC  ASC  IS*  [G2.1.1.218]  \\\n",
       "0      0.370370  ...  1.107 -1.000000  0.623 -1.0 -1.0      0.185185   \n",
       "1      0.267380  ...  1.107 -1.000000  0.623 -1.0 -1.0      0.401070   \n",
       "3      0.442478  ...  1.110 -1.000000  0.623 -1.0 -1.0      0.000000   \n",
       "4      0.195312  ...  1.110  3.208557  0.623 -1.0 -1.0      0.781250   \n",
       "7      0.000000  ...  1.131 -1.000000  1.500 -1.0 -1.0      0.000000   \n",
       "\n",
       "   [G5.2.2.38]  ARR_y  RLL       KG*  \n",
       "0     0.033679  0.618 -1.0  5.264419  \n",
       "1     0.033101  0.618 -1.0  3.736527  \n",
       "3     0.033883  0.618 -1.0 -1.000000  \n",
       "4     0.035034  0.618 -1.0 -1.000000  \n",
       "7     0.034528  0.000 -1.0 -1.000000  \n",
       "\n",
       "[5 rows x 743 columns]"
      ]
     },
     "execution_count": 63,
     "metadata": {},
     "output_type": "execute_result"
    }
   ],
   "source": [
    "top_feature_cols = df_features.drop(['activity', 'cid', 'pid'], axis=1).columns.values[xgb_features]\n",
    "\n",
    "features = ['activity', 'cid', 'pid'] + list(top_feature_cols)\n",
    "df_to_save = df_features[features]\n",
    "print(df_to_save.shape)\n",
    "df_to_save.head()"
   ]
  },
  {
   "cell_type": "code",
   "execution_count": 17,
   "metadata": {},
   "outputs": [],
   "source": [
    "# save to a new file\n",
    "store = pd.HDFStore(data_loc + 'xgboost_features_data.h5')\n",
    "store['df'] = df_to_save\n",
    "store.close()"
   ]
  },
  {
   "cell_type": "markdown",
   "metadata": {},
   "source": [
    "### Grid search on the reduced feature set to find number of epochs (n_estimators)"
   ]
  },
  {
   "cell_type": "code",
   "execution_count": 18,
   "metadata": {},
   "outputs": [
    {
     "data": {
      "text/html": [
       "<div>\n",
       "<style scoped>\n",
       "    .dataframe tbody tr th:only-of-type {\n",
       "        vertical-align: middle;\n",
       "    }\n",
       "\n",
       "    .dataframe tbody tr th {\n",
       "        vertical-align: top;\n",
       "    }\n",
       "\n",
       "    .dataframe thead th {\n",
       "        text-align: right;\n",
       "    }\n",
       "</style>\n",
       "<table border=\"1\" class=\"dataframe\">\n",
       "  <thead>\n",
       "    <tr style=\"text-align: right;\">\n",
       "      <th></th>\n",
       "      <th>0</th>\n",
       "      <th>1</th>\n",
       "      <th>2</th>\n",
       "      <th>3</th>\n",
       "      <th>4</th>\n",
       "      <th>5</th>\n",
       "      <th>6</th>\n",
       "      <th>7</th>\n",
       "      <th>8</th>\n",
       "      <th>9</th>\n",
       "      <th>...</th>\n",
       "      <th>711</th>\n",
       "      <th>712</th>\n",
       "      <th>713</th>\n",
       "      <th>714</th>\n",
       "      <th>715</th>\n",
       "      <th>716</th>\n",
       "      <th>717</th>\n",
       "      <th>718</th>\n",
       "      <th>719</th>\n",
       "      <th>720</th>\n",
       "    </tr>\n",
       "  </thead>\n",
       "  <tbody>\n",
       "    <tr>\n",
       "      <th>0</th>\n",
       "      <td>-1.0</td>\n",
       "      <td>8.863</td>\n",
       "      <td>10.043</td>\n",
       "      <td>95980.0</td>\n",
       "      <td>-1.0</td>\n",
       "      <td>-1.0</td>\n",
       "      <td>4.641</td>\n",
       "      <td>-1.000000</td>\n",
       "      <td>-1.0</td>\n",
       "      <td>-1.0</td>\n",
       "      <td>...</td>\n",
       "      <td>0.0</td>\n",
       "      <td>0</td>\n",
       "      <td>-0.025</td>\n",
       "      <td>1.011</td>\n",
       "      <td>1.107</td>\n",
       "      <td>0</td>\n",
       "      <td>0</td>\n",
       "      <td>0</td>\n",
       "      <td>0</td>\n",
       "      <td>0</td>\n",
       "    </tr>\n",
       "    <tr>\n",
       "      <th>1</th>\n",
       "      <td>-1.0</td>\n",
       "      <td>8.863</td>\n",
       "      <td>10.043</td>\n",
       "      <td>95980.0</td>\n",
       "      <td>-1.0</td>\n",
       "      <td>-1.0</td>\n",
       "      <td>4.641</td>\n",
       "      <td>3.357792</td>\n",
       "      <td>-1.0</td>\n",
       "      <td>-1.0</td>\n",
       "      <td>...</td>\n",
       "      <td>0.0</td>\n",
       "      <td>0</td>\n",
       "      <td>-0.025</td>\n",
       "      <td>1.011</td>\n",
       "      <td>1.107</td>\n",
       "      <td>0</td>\n",
       "      <td>0</td>\n",
       "      <td>0</td>\n",
       "      <td>0</td>\n",
       "      <td>0</td>\n",
       "    </tr>\n",
       "    <tr>\n",
       "      <th>3</th>\n",
       "      <td>-1.0</td>\n",
       "      <td>8.863</td>\n",
       "      <td>10.047</td>\n",
       "      <td>95980.0</td>\n",
       "      <td>-1.0</td>\n",
       "      <td>-1.0</td>\n",
       "      <td>4.641</td>\n",
       "      <td>-1.000000</td>\n",
       "      <td>-1.0</td>\n",
       "      <td>-1.0</td>\n",
       "      <td>...</td>\n",
       "      <td>0.0</td>\n",
       "      <td>0</td>\n",
       "      <td>-0.051</td>\n",
       "      <td>0.995</td>\n",
       "      <td>1.110</td>\n",
       "      <td>1</td>\n",
       "      <td>0</td>\n",
       "      <td>0</td>\n",
       "      <td>0</td>\n",
       "      <td>0</td>\n",
       "    </tr>\n",
       "    <tr>\n",
       "      <th>4</th>\n",
       "      <td>-1.0</td>\n",
       "      <td>8.863</td>\n",
       "      <td>10.047</td>\n",
       "      <td>95980.0</td>\n",
       "      <td>-1.0</td>\n",
       "      <td>-1.0</td>\n",
       "      <td>4.641</td>\n",
       "      <td>-1.000000</td>\n",
       "      <td>-1.0</td>\n",
       "      <td>-1.0</td>\n",
       "      <td>...</td>\n",
       "      <td>0.0</td>\n",
       "      <td>0</td>\n",
       "      <td>-0.051</td>\n",
       "      <td>0.995</td>\n",
       "      <td>1.110</td>\n",
       "      <td>1</td>\n",
       "      <td>0</td>\n",
       "      <td>0</td>\n",
       "      <td>0</td>\n",
       "      <td>0</td>\n",
       "    </tr>\n",
       "    <tr>\n",
       "      <th>7</th>\n",
       "      <td>-1.0</td>\n",
       "      <td>7.452</td>\n",
       "      <td>8.411</td>\n",
       "      <td>17198.0</td>\n",
       "      <td>-1.0</td>\n",
       "      <td>-1.0</td>\n",
       "      <td>4.080</td>\n",
       "      <td>-1.000000</td>\n",
       "      <td>-1.0</td>\n",
       "      <td>-1.0</td>\n",
       "      <td>...</td>\n",
       "      <td>0.0</td>\n",
       "      <td>0</td>\n",
       "      <td>-0.118</td>\n",
       "      <td>0.974</td>\n",
       "      <td>1.131</td>\n",
       "      <td>0</td>\n",
       "      <td>0</td>\n",
       "      <td>0</td>\n",
       "      <td>0</td>\n",
       "      <td>0</td>\n",
       "    </tr>\n",
       "  </tbody>\n",
       "</table>\n",
       "<p>5 rows × 721 columns</p>\n",
       "</div>"
      ],
      "text/plain": [
       "   0      1       2        3    4    5      6         7    8    9    ...  711  \\\n",
       "0 -1.0  8.863  10.043  95980.0 -1.0 -1.0  4.641 -1.000000 -1.0 -1.0  ...  0.0   \n",
       "1 -1.0  8.863  10.043  95980.0 -1.0 -1.0  4.641  3.357792 -1.0 -1.0  ...  0.0   \n",
       "3 -1.0  8.863  10.047  95980.0 -1.0 -1.0  4.641 -1.000000 -1.0 -1.0  ...  0.0   \n",
       "4 -1.0  8.863  10.047  95980.0 -1.0 -1.0  4.641 -1.000000 -1.0 -1.0  ...  0.0   \n",
       "7 -1.0  7.452   8.411  17198.0 -1.0 -1.0  4.080 -1.000000 -1.0 -1.0  ...  0.0   \n",
       "\n",
       "   712    713    714    715  716  717  718  719  720  \n",
       "0    0 -0.025  1.011  1.107    0    0    0    0    0  \n",
       "1    0 -0.025  1.011  1.107    0    0    0    0    0  \n",
       "3    0 -0.051  0.995  1.110    1    0    0    0    0  \n",
       "4    0 -0.051  0.995  1.110    1    0    0    0    0  \n",
       "7    0 -0.118  0.974  1.131    0    0    0    0    0  \n",
       "\n",
       "[5 rows x 721 columns]"
      ]
     },
     "execution_count": 18,
     "metadata": {},
     "output_type": "execute_result"
    }
   ],
   "source": [
    "Y = df_to_save['activity'].values\n",
    "X = df_to_save.drop(['activity', 'cid', 'pid'], axis=1)\n",
    "\n",
    "X.columns = list(range(0, len(X.columns)))\n",
    "X.head()"
   ]
  },
  {
   "cell_type": "code",
   "execution_count": null,
   "metadata": {},
   "outputs": [],
   "source": [
    "n_est_grid_search(X, Y)"
   ]
  },
  {
   "cell_type": "markdown",
   "metadata": {},
   "source": [
    "### Test training with new set of estimators to see if it overfits more"
   ]
  },
  {
   "cell_type": "code",
   "execution_count": 23,
   "metadata": {},
   "outputs": [
    {
     "name": "stdout",
     "output_type": "stream",
     "text": [
      "Accuracy: 84.84%\n"
     ]
    },
    {
     "data": {
      "image/png": "[encoded data removed]",
      "text/plain": [
       "<Figure size 432x288 with 1 Axes>"
      ]
     },
     "metadata": {
      "needs_background": "light"
     },
     "output_type": "display_data"
    },
    {
     "data": {
      "image/png": "[encoded data removed]",
      "text/plain": [
       "<Figure size 432x288 with 1 Axes>"
      ]
     },
     "metadata": {
      "needs_background": "light"
     },
     "output_type": "display_data"
    }
   ],
   "source": [
    "xgb3 = train(X, Y, random_state=42, n_estimators=2000)"
   ]
  },
  {
   "cell_type": "markdown",
   "metadata": {},
   "source": [
    "## Randomized hyperparameter space search\n",
    "\n",
    "Now we have an idea about the number of epochs to use lets carry out a parameter search to refine the other parameters.\n",
    "\n",
    "reference material:\n",
    "\n",
    "* [Kaggle: Hyperparameter Grid Search with XGBoost](https://www.kaggle.com/tilii7/hyperparameter-grid-search-with-xgboost)\n",
    "* [Hi I’m Gamma. What can I do for you?](https://medium.com/data-design/xgboost-hi-im-gamma-what-can-i-do-for-you-and-the-tuning-of-regularization-a42ea17e6ab6)"
   ]
  },
  {
   "cell_type": "code",
   "execution_count": 27,
   "metadata": {},
   "outputs": [
    {
     "name": "stdout",
     "output_type": "stream",
     "text": [
      "Fitting 3 folds for each of 10 candidates, totalling 30 fits\n"
     ]
    },
    {
     "name": "stderr",
     "output_type": "stream",
     "text": [
      "[Parallel(n_jobs=4)]: Using backend LokyBackend with 4 concurrent workers.\n",
      "[Parallel(n_jobs=4)]: Done  30 out of  30 | elapsed:  3.9min finished\n"
     ]
    },
    {
     "name": "stdout",
     "output_type": "stream",
     "text": [
      "\n",
      " Time taken: 0 hours 4 minutes and 47.7 seconds.\n"
     ]
    },
    {
     "data": {
      "text/plain": [
       "{'subsample': 0.6,\n",
       " 'min_child_weight': 1,\n",
       " 'max_depth': 6,\n",
       " 'gamma': 5,\n",
       " 'colsample_bytree': 0.8}"
      ]
     },
     "execution_count": 27,
     "metadata": {},
     "output_type": "execute_result"
    }
   ],
   "source": [
    "# A parameter grid for XGBoost\n",
    "params = {\n",
    "        'min_child_weight': [1, 5, 10],\n",
    "        'gamma': [0.5, 1, 1.5, 2, 5],\n",
    "        'subsample': [0.1, 0.2, 0.4, 0.6, 0.8, 1.0],\n",
    "        'colsample_bytree': [0.6, 0.8, 1.0],\n",
    "        'max_depth': [3, 4, 5, 6, 7]\n",
    "        }\n",
    "\n",
    "\n",
    "xgb4 = XGBClassifier(learning_rate=0.02, n_estimators=1000, objective='binary:logistic')\n",
    "\n",
    "\n",
    "folds = 3\n",
    "param_comb = 10\n",
    "\n",
    "skf = StratifiedKFold(n_splits=folds, shuffle = True, random_state = 1001)\n",
    "\n",
    "random_search = RandomizedSearchCV(\n",
    "    xgb4, \n",
    "    param_distributions=params, \n",
    "    n_iter=param_comb, \n",
    "    scoring='roc_auc', \n",
    "    n_jobs=4, \n",
    "    cv=skf.split(X,Y), \n",
    "    verbose=3, \n",
    "    random_state=1001)\n",
    "\n",
    "# Here we go\n",
    "start_time = timer(None) # timing starts from this point for \"start_time\" variable\n",
    "random_search.fit(X, Y)\n",
    "timer(start_time) # timing ends here for \"start_time\" variable\n",
    "\n",
    "random_search.best_params_"
   ]
  },
  {
   "cell_type": "markdown",
   "metadata": {},
   "source": [
    "### Fit best model against test set and calculated weighted F1 score"
   ]
  },
  {
   "cell_type": "markdown",
   "metadata": {},
   "source": [
    "#### (1) train"
   ]
  },
  {
   "cell_type": "code",
   "execution_count": 7,
   "metadata": {},
   "outputs": [
    {
     "name": "stdout",
     "output_type": "stream",
     "text": [
      "rows: 19,632, columns: 724\n"
     ]
    },
    {
     "data": {
      "text/html": [
       "<div>\n",
       "<style scoped>\n",
       "    .dataframe tbody tr th:only-of-type {\n",
       "        vertical-align: middle;\n",
       "    }\n",
       "\n",
       "    .dataframe tbody tr th {\n",
       "        vertical-align: top;\n",
       "    }\n",
       "\n",
       "    .dataframe thead th {\n",
       "        text-align: right;\n",
       "    }\n",
       "</style>\n",
       "<table border=\"1\" class=\"dataframe\">\n",
       "  <thead>\n",
       "    <tr style=\"text-align: right;\">\n",
       "      <th></th>\n",
       "      <th>0</th>\n",
       "      <th>1</th>\n",
       "      <th>2</th>\n",
       "      <th>3</th>\n",
       "      <th>4</th>\n",
       "      <th>5</th>\n",
       "      <th>6</th>\n",
       "      <th>7</th>\n",
       "      <th>8</th>\n",
       "      <th>9</th>\n",
       "      <th>...</th>\n",
       "      <th>711</th>\n",
       "      <th>712</th>\n",
       "      <th>713</th>\n",
       "      <th>714</th>\n",
       "      <th>715</th>\n",
       "      <th>716</th>\n",
       "      <th>717</th>\n",
       "      <th>718</th>\n",
       "      <th>719</th>\n",
       "      <th>720</th>\n",
       "    </tr>\n",
       "  </thead>\n",
       "  <tbody>\n",
       "    <tr>\n",
       "      <th>0</th>\n",
       "      <td>-1.0</td>\n",
       "      <td>8.863</td>\n",
       "      <td>10.043</td>\n",
       "      <td>95980.0</td>\n",
       "      <td>-1.0</td>\n",
       "      <td>-1.0</td>\n",
       "      <td>4.641</td>\n",
       "      <td>-1.000000</td>\n",
       "      <td>-1.0</td>\n",
       "      <td>-1.0</td>\n",
       "      <td>...</td>\n",
       "      <td>0.0</td>\n",
       "      <td>0</td>\n",
       "      <td>-0.025</td>\n",
       "      <td>1.011</td>\n",
       "      <td>1.107</td>\n",
       "      <td>0</td>\n",
       "      <td>0</td>\n",
       "      <td>0</td>\n",
       "      <td>0</td>\n",
       "      <td>0</td>\n",
       "    </tr>\n",
       "    <tr>\n",
       "      <th>1</th>\n",
       "      <td>-1.0</td>\n",
       "      <td>8.863</td>\n",
       "      <td>10.043</td>\n",
       "      <td>95980.0</td>\n",
       "      <td>-1.0</td>\n",
       "      <td>-1.0</td>\n",
       "      <td>4.641</td>\n",
       "      <td>3.357792</td>\n",
       "      <td>-1.0</td>\n",
       "      <td>-1.0</td>\n",
       "      <td>...</td>\n",
       "      <td>0.0</td>\n",
       "      <td>0</td>\n",
       "      <td>-0.025</td>\n",
       "      <td>1.011</td>\n",
       "      <td>1.107</td>\n",
       "      <td>0</td>\n",
       "      <td>0</td>\n",
       "      <td>0</td>\n",
       "      <td>0</td>\n",
       "      <td>0</td>\n",
       "    </tr>\n",
       "    <tr>\n",
       "      <th>3</th>\n",
       "      <td>-1.0</td>\n",
       "      <td>8.863</td>\n",
       "      <td>10.047</td>\n",
       "      <td>95980.0</td>\n",
       "      <td>-1.0</td>\n",
       "      <td>-1.0</td>\n",
       "      <td>4.641</td>\n",
       "      <td>-1.000000</td>\n",
       "      <td>-1.0</td>\n",
       "      <td>-1.0</td>\n",
       "      <td>...</td>\n",
       "      <td>0.0</td>\n",
       "      <td>0</td>\n",
       "      <td>-0.051</td>\n",
       "      <td>0.995</td>\n",
       "      <td>1.110</td>\n",
       "      <td>1</td>\n",
       "      <td>0</td>\n",
       "      <td>0</td>\n",
       "      <td>0</td>\n",
       "      <td>0</td>\n",
       "    </tr>\n",
       "    <tr>\n",
       "      <th>4</th>\n",
       "      <td>-1.0</td>\n",
       "      <td>8.863</td>\n",
       "      <td>10.047</td>\n",
       "      <td>95980.0</td>\n",
       "      <td>-1.0</td>\n",
       "      <td>-1.0</td>\n",
       "      <td>4.641</td>\n",
       "      <td>-1.000000</td>\n",
       "      <td>-1.0</td>\n",
       "      <td>-1.0</td>\n",
       "      <td>...</td>\n",
       "      <td>0.0</td>\n",
       "      <td>0</td>\n",
       "      <td>-0.051</td>\n",
       "      <td>0.995</td>\n",
       "      <td>1.110</td>\n",
       "      <td>1</td>\n",
       "      <td>0</td>\n",
       "      <td>0</td>\n",
       "      <td>0</td>\n",
       "      <td>0</td>\n",
       "    </tr>\n",
       "    <tr>\n",
       "      <th>7</th>\n",
       "      <td>-1.0</td>\n",
       "      <td>7.452</td>\n",
       "      <td>8.411</td>\n",
       "      <td>17198.0</td>\n",
       "      <td>-1.0</td>\n",
       "      <td>-1.0</td>\n",
       "      <td>4.080</td>\n",
       "      <td>-1.000000</td>\n",
       "      <td>-1.0</td>\n",
       "      <td>-1.0</td>\n",
       "      <td>...</td>\n",
       "      <td>0.0</td>\n",
       "      <td>0</td>\n",
       "      <td>-0.118</td>\n",
       "      <td>0.974</td>\n",
       "      <td>1.131</td>\n",
       "      <td>0</td>\n",
       "      <td>0</td>\n",
       "      <td>0</td>\n",
       "      <td>0</td>\n",
       "      <td>0</td>\n",
       "    </tr>\n",
       "  </tbody>\n",
       "</table>\n",
       "<p>5 rows × 721 columns</p>\n",
       "</div>"
      ],
      "text/plain": [
       "   0      1       2        3    4    5      6         7    8    9    ...  711  \\\n",
       "0 -1.0  8.863  10.043  95980.0 -1.0 -1.0  4.641 -1.000000 -1.0 -1.0  ...  0.0   \n",
       "1 -1.0  8.863  10.043  95980.0 -1.0 -1.0  4.641  3.357792 -1.0 -1.0  ...  0.0   \n",
       "3 -1.0  8.863  10.047  95980.0 -1.0 -1.0  4.641 -1.000000 -1.0 -1.0  ...  0.0   \n",
       "4 -1.0  8.863  10.047  95980.0 -1.0 -1.0  4.641 -1.000000 -1.0 -1.0  ...  0.0   \n",
       "7 -1.0  7.452   8.411  17198.0 -1.0 -1.0  4.080 -1.000000 -1.0 -1.0  ...  0.0   \n",
       "\n",
       "   712    713    714    715  716  717  718  719  720  \n",
       "0    0 -0.025  1.011  1.107    0    0    0    0    0  \n",
       "1    0 -0.025  1.011  1.107    0    0    0    0    0  \n",
       "3    0 -0.051  0.995  1.110    1    0    0    0    0  \n",
       "4    0 -0.051  0.995  1.110    1    0    0    0    0  \n",
       "7    0 -0.118  0.974  1.131    0    0    0    0    0  \n",
       "\n",
       "[5 rows x 721 columns]"
      ]
     },
     "execution_count": 7,
     "metadata": {},
     "output_type": "execute_result"
    }
   ],
   "source": [
    "# load features\n",
    "store = pd.HDFStore(data_loc + 'xgboost_features_data.h5')\n",
    "df_subset_features = pd.DataFrame(store['df' ])\n",
    "store.close()\n",
    "print('rows: {:,}, columns: {:,}'.format(len(df_subset_features), len(df_subset_features.columns)))\n",
    "\n",
    "Y = df_subset_features['activity'].values\n",
    "X = df_subset_features.drop(['activity', 'cid', 'pid'], axis=1)\n",
    "X.columns = list(range(0, len(X.columns)))\n",
    "\n",
    "X.head()"
   ]
  },
  {
   "cell_type": "code",
   "execution_count": 11,
   "metadata": {},
   "outputs": [
    {
     "name": "stdout",
     "output_type": "stream",
     "text": [
      "Accuracy: 83.95%\n"
     ]
    },
    {
     "data": {
      "image/png": "[encoded data removed]",
      "text/plain": [
       "<Figure size 432x288 with 1 Axes>"
      ]
     },
     "metadata": {
      "needs_background": "light"
     },
     "output_type": "display_data"
    },
    {
     "data": {
      "image/png": "[encoded data removed]",
      "text/plain": [
       "<Figure size 432x288 with 1 Axes>"
      ]
     },
     "metadata": {
      "needs_background": "light"
     },
     "output_type": "display_data"
    }
   ],
   "source": [
    "xgb5 = XGBClassifier(learning_rate=0.02, \n",
    "                    n_estimators=200, \n",
    "                    objective='binary:logistic',\n",
    "                    subsample=0.6,\n",
    "                    min_child_weight=1,\n",
    "                    max_depth=6,\n",
    "                    gamma=5,\n",
    "                    colsample_bytree=0.8)\n",
    "\n",
    "xgb6 = train(X, Y, random_state=42, xgb=xgb5)"
   ]
  },
  {
   "cell_type": "markdown",
   "metadata": {},
   "source": [
    "#### save the model"
   ]
  },
  {
   "cell_type": "code",
   "execution_count": 12,
   "metadata": {},
   "outputs": [
    {
     "data": {
      "text/plain": [
       "['../data/FDA-COVID19_files_v1.0/xgboost_1.mdl']"
      ]
     },
     "execution_count": 12,
     "metadata": {},
     "output_type": "execute_result"
    }
   ],
   "source": [
    "joblib.dump(xgb6, data_loc + 'xgboost_1.mdl')"
   ]
  },
  {
   "cell_type": "markdown",
   "metadata": {},
   "source": [
    "#### load the model from file"
   ]
  },
  {
   "cell_type": "code",
   "execution_count": 5,
   "metadata": {},
   "outputs": [],
   "source": [
    "xgb6 = joblib.load(data_loc + 'xgboost_1.mdl')"
   ]
  },
  {
   "cell_type": "markdown",
   "metadata": {},
   "source": [
    "#### (2) Load test data"
   ]
  },
  {
   "cell_type": "code",
   "execution_count": 8,
   "metadata": {},
   "outputs": [
    {
     "name": "stdout",
     "output_type": "stream",
     "text": [
      "rows: 19,240, columns: 17,077\n",
      "rows: 19,240, columns: 724\n"
     ]
    }
   ],
   "source": [
    "store = pd.HDFStore(data_loc + 'validation_features.h5')\n",
    "df_test_features = pd.DataFrame(store['df' ])\n",
    "store.close()\n",
    "print('rows: {:,}, columns: {:,}'.format(len(df_test_features), len(df_test_features.columns)))\n",
    "\n",
    "# Take only the reduced set of columns.\n",
    "df_test_features = df_test_features[df_subset_features.columns.tolist()]\n",
    "\n",
    "print('rows: {:,}, columns: {:,}'.format(len(df_test_features), len(df_test_features.columns)))"
   ]
  },
  {
   "cell_type": "markdown",
   "metadata": {},
   "source": [
    "#### Check accuracy, precision and recall"
   ]
  },
  {
   "cell_type": "code",
   "execution_count": 9,
   "metadata": {},
   "outputs": [
    {
     "name": "stdout",
     "output_type": "stream",
     "text": [
      "Accuracy: 59.29%\n"
     ]
    }
   ],
   "source": [
    "X_test = df_test_features.drop(['cid', 'pid', 'activity'], axis=1)\n",
    "y_test = df_test_features['activity'].values\n",
    "\n",
    "X_test.columns = list(range(0, len(X_test.columns)))\n",
    "\n",
    "# make predictions for test data\n",
    "y_pred = xgb6.predict(X_test)\n",
    "predictions = [round(value) for value in y_pred]\n",
    "\n",
    "# evaluate predictions\n",
    "accuracy = accuracy_score(y_test, predictions)\n",
    "print(\"Accuracy: %.2f%%\" % (accuracy * 100.0))"
   ]
  },
  {
   "cell_type": "code",
   "execution_count": 10,
   "metadata": {},
   "outputs": [
    {
     "name": "stdout",
     "output_type": "stream",
     "text": [
      "Accuracy = 59.29%\n",
      "Precision = 38.33%\n",
      "Recall = 76.94%\n"
     ]
    }
   ],
   "source": [
    "from sklearn.metrics import confusion_matrix\n",
    "\n",
    "cm = confusion_matrix(y_test, y_pred)\n",
    "\n",
    "print(\"Accuracy = {:0.2f}%\".format(sum(diag(cm))/sum(cm)*100))\n",
    "print(\"Precision = {:0.2f}%\".format(cm[1][1]/sum(cm[:, 1])*100))\n",
    "print(\"Recall = {:0.2f}%\".format(cm[1][1]/sum(cm[1, :])*100))"
   ]
  },
  {
   "cell_type": "markdown",
   "metadata": {},
   "source": [
    "### Obtain the weighted F1 score"
   ]
  },
  {
   "cell_type": "code",
   "execution_count": 35,
   "metadata": {},
   "outputs": [
    {
     "name": "stdout",
     "output_type": "stream",
     "text": [
      "(19632, 724)\n",
      "(19240, 724)\n"
     ]
    }
   ],
   "source": [
    "print(df_subset_features.shape)\n",
    "print(df_test_features.shape)\n",
    "\n",
    "training_features_active = df_subset_features[df_subset_features['activity']==1]\n",
    "training_features_inactive = df_subset_features[df_subset_features['activity']==0]\n",
    "\n",
    "validation_features_active = df_test_features[df_test_features['activity']==1]\n",
    "validation_features_inactive = df_test_features[df_test_features['activity']==0]›\n",
    "\n",
    "active_weights, inactive_weights = get_validation_weights(\n",
    "    training_features_active.drop(['cid', 'pid', 'activity'], axis=1), \n",
    "    training_features_inactive.drop(['cid', 'pid', 'activity'], axis=1),\n",
    "    validation_features_active.drop(['cid', 'pid', 'activity'], axis=1), \n",
    "    validation_features_inactive.drop(['cid', 'pid', 'activity'], axis=1))"
   ]
  },
  {
   "cell_type": "code",
   "execution_count": 36,
   "metadata": {},
   "outputs": [],
   "source": [
    "assert(len(inactive_weights) + len(active_weights) == len(df_test_features))"
   ]
  },
  {
   "cell_type": "code",
   "execution_count": 37,
   "metadata": {},
   "outputs": [
    {
     "data": {
      "text/plain": [
       "(19240, 724)"
      ]
     },
     "execution_count": 37,
     "metadata": {},
     "output_type": "execute_result"
    }
   ],
   "source": [
    "df_validation_features = validation_features_active.append(validation_features_inactive)\n",
    "df_validation_features.shape"
   ]
  },
  {
   "cell_type": "code",
   "execution_count": 41,
   "metadata": {},
   "outputs": [
    {
     "data": {
      "text/plain": [
       "0.4909518732805291"
      ]
     },
     "execution_count": 41,
     "metadata": {},
     "output_type": "execute_result"
    }
   ],
   "source": [
    "weights = list(active_weights) + list(inactive_weights)\n",
    "\n",
    "y_true = df_validation_features['activity']\n",
    "\n",
    "X_test = df_validation_features.drop(['cid', 'pid', 'activity'], axis=1)\n",
    "X_test.columns = list(range(0, len(X_test.columns)))\n",
    "y_pred = xgb6.predict(X_test)\n",
    "\n",
    "f1_score(y_true, y_pred, average='binary', sample_weight=weights)"
   ]
  },
  {
   "cell_type": "markdown",
   "metadata": {},
   "source": [
    "<a id='exp_2'></a>\n",
    "<hr>\n",
    "\n",
    "## Experiment 2\n",
    "\n",
    "XGBoost for features extraction on sample_activity_scores subset.\n",
    "\n",
    "* obtain features using the **greg-features.ipynb** notebobook\n",
    "* sample data using a threshold on **sample_activity_scores**\n",
    "* run basic model multiple times to determine a candidate set for features\n",
    "* make sure the most important features do not drastically change across each model trained\n",
    "* reduce data set to use the subset of candidate features\n",
    "* determine number of epochs for training XGBoost\n",
    "* grid/random search parameter space to finley tune parameters\n",
    "* evaluate the model w.r.t. weighted F1 score (see greg-train-validation-split-eval.ipynb for details)\n",
    "\n",
    "<hr>\n",
    "\n",
    "<span style=\"background:#FF8100;padding:10px;\">[Experiment 1](#exp_1)</span>\n",
    "<span style=\"background:#FF8100;padding:10px;\">[Experiment 2](#exp_2)</span>\n",
    "<span style=\"background:#FF8100;padding:10px;\">[Experiment 3(a)](#exp_3a)</span>\n",
    "<span style=\"background:#FF8100;padding:10px;\">[Experiment 3(b)](#exp_3b)</span>\n",
    "<span style=\"background:#FF8100;padding:10px;\">[Experiment 4](#exp_4)</span>\n",
    "<span style=\"background:#FF8100;padding:10px;\">[Experiment 5](#exp_5)</span>\n",
    "\n",
    "<hr>"
   ]
  },
  {
   "cell_type": "markdown",
   "metadata": {},
   "source": [
    "#### Sample using sample_activity_scores\n",
    "\n",
    "Scores of zero are interactions where both the pid and cid show no variance in activity across entire data set; scores close to 1.0 have balanced activity for both pid and cid. The idea is that interactions with score close to zero might not improve model very much, and so may want to be omitted."
   ]
  },
  {
   "cell_type": "code",
   "execution_count": 8,
   "metadata": {},
   "outputs": [
    {
     "name": "stdout",
     "output_type": "stream",
     "text": [
      "rows: 163,926, columns: 17,077\n"
     ]
    }
   ],
   "source": [
    "# Load training features data generated by greg-features.ipynb\n",
    "store = pd.HDFStore(data_loc + 'training_features.h5')\n",
    "df_features = pd.DataFrame(store['df' ])\n",
    "store.close()\n",
    "print('rows: {:,}, columns: {:,}'.format(len(df_features), len(df_features.columns)))"
   ]
  },
  {
   "cell_type": "code",
   "execution_count": 10,
   "metadata": {},
   "outputs": [
    {
     "data": {
      "text/plain": [
       "(45616, 17077)"
      ]
     },
     "execution_count": 10,
     "metadata": {},
     "output_type": "execute_result"
    }
   ],
   "source": [
    "df_features_sampled = df_features[df_features['sample_activity_score'] > 0.2]\n",
    "df_features_sampled.shape"
   ]
  },
  {
   "cell_type": "markdown",
   "metadata": {},
   "source": [
    "#### Drop zero-variance columns\n",
    "\n",
    "Zero-variance columns provide no value to the model."
   ]
  },
  {
   "cell_type": "code",
   "execution_count": 11,
   "metadata": {},
   "outputs": [
    {
     "name": "stdout",
     "output_type": "stream",
     "text": [
      "Dropped 817 columns that have zero variance.\n",
      "rows: 45,616, columns: 16,260\n"
     ]
    },
    {
     "data": {
      "text/plain": [
       "(45616, 16260)"
      ]
     },
     "execution_count": 11,
     "metadata": {},
     "output_type": "execute_result"
    }
   ],
   "source": [
    "var_cols = [col for col in df_features_sampled.columns if df_features_sampled[col].nunique() > 1]\n",
    "df_novar_cols_dropped = df_features_sampled[var_cols].copy()\n",
    "\n",
    "print('Dropped {:,} columns that have zero variance.'.format(len(df_features_sampled.columns)-len(var_cols)))\n",
    "print('rows: {:,}, columns: {:,}'.format(len(df_novar_cols_dropped), len(df_novar_cols_dropped.columns)))\n",
    "\n",
    "del df_features\n",
    "df_features = df_novar_cols_dropped\n",
    "df_features.shape"
   ]
  },
  {
   "cell_type": "markdown",
   "metadata": {},
   "source": [
    "### Get important features using XGBoost"
   ]
  },
  {
   "cell_type": "code",
   "execution_count": 13,
   "metadata": {},
   "outputs": [
    {
     "name": "stdout",
     "output_type": "stream",
     "text": [
      "Accuracy: 80.80%\n"
     ]
    },
    {
     "data": {
      "image/png": "[encoded data removed]",
      "text/plain": [
       "<Figure size 432x288 with 1 Axes>"
      ]
     },
     "metadata": {
      "needs_background": "light"
     },
     "output_type": "display_data"
    },
    {
     "data": {
      "image/png": "[encoded data removed]",
      "text/plain": [
       "<Figure size 432x288 with 1 Axes>"
      ]
     },
     "metadata": {
      "needs_background": "light"
     },
     "output_type": "display_data"
    },
    {
     "name": "stdout",
     "output_type": "stream",
     "text": [
      "Accuracy: 80.10%\n"
     ]
    },
    {
     "data": {
      "image/png": "[encoded data removed]",
      "text/plain": [
       "<Figure size 432x288 with 1 Axes>"
      ]
     },
     "metadata": {
      "needs_background": "light"
     },
     "output_type": "display_data"
    },
    {
     "data": {
      "image/png": "[encoded data removed]",
      "text/plain": [
       "<Figure size 432x288 with 1 Axes>"
      ]
     },
     "metadata": {
      "needs_background": "light"
     },
     "output_type": "display_data"
    },
    {
     "name": "stdout",
     "output_type": "stream",
     "text": [
      "number of most important features: 871\n",
      "number of most important features: 837\n",
      "number of important features in common: 476\n",
      "(45616, 874)\n",
      "   activity       cid     pid  [G4.1.8.2]  [G5.2.2.3]   beta    ON0  \\\n",
      "0         1    204106  Q9UP65   28.465804    0.000081  0.087  25.75   \n",
      "1         0    204106  P47712   29.372497    0.000106  0.148  25.75   \n",
      "2         1  10290302  Q9UP65   28.465804    0.000081  0.087  25.75   \n",
      "3         1  10290302  P00403   21.585903    0.000230  0.273  25.75   \n",
      "4         1  10290302  P00395   16.959064    0.000111  0.000  25.75   \n",
      "\n",
      "   [G4.3.3.9]  [G2.1.1.116]  [G5.2.2.28]  ...  MATS5e  *QK  VE3_Dt  nHM  FRP  \\\n",
      "0   50.646950      1.111111     0.033594  ...  -0.048 -1.0   3.952    4 -1.0   \n",
      "1   56.074766      0.935829     0.031750  ...  -0.048 -1.0   3.952    4 -1.0   \n",
      "2   50.646950      1.111111     0.033594  ...  -0.008 -1.0   3.957    2 -1.0   \n",
      "3   49.339207      0.000000     0.030705  ...  -0.008 -1.0   3.957    2 -1.0   \n",
      "4   51.461988      0.390625     0.036205  ...  -0.008 -1.0   3.957    2 -1.0   \n",
      "\n",
      "   3825  B06[N-X]  MATS7m  HIL  CATS2D_06_PL  \n",
      "0     0       0.0  -0.004 -1.0           0.0  \n",
      "1     0       0.0  -0.004 -1.0           0.0  \n",
      "2     0       0.0  -0.068 -1.0           0.0  \n",
      "3     0       0.0  -0.068 -1.0           0.0  \n",
      "4     0       0.0  -0.068 -1.0           0.0  \n",
      "\n",
      "[5 rows x 874 columns]\n"
     ]
    }
   ],
   "source": [
    "# Split\n",
    "Y = df_features['activity'].values\n",
    "X = df_features.drop(['activity', 'cid', 'pid', 'sample_activity_score'], axis=1)\n",
    "X.columns = list(range(0, len(X.columns)))\n",
    "\n",
    "# train\n",
    "xgb1 = train(X, Y)\n",
    "xgb2 = train(X, Y, random_state=7)\n",
    "\n",
    "# get features\n",
    "xgb1_features = get_features(xgb1)\n",
    "print('number of most important features: {:,}'.format(len(xgb1_features)))\n",
    "\n",
    "xgb2_features = get_features(xgb2)\n",
    "print('number of most important features: {:,}'.format(len(xgb2_features)))\n",
    "\n",
    "# compare features\n",
    "common_features = set(xgb1_features).intersection(set(xgb2_features))\n",
    "print('number of important features in common: {:,}'.format(len(common_features)))\n",
    "\n",
    "# save dataset\n",
    "top_feature_cols = df_features.drop(['activity', 'cid', 'pid'], axis=1).columns.values[xgb1_features]\n",
    "features = ['activity', 'cid', 'pid'] + list(top_feature_cols)\n",
    "df_to_save = df_features[features]\n",
    "print(df_to_save.shape)\n",
    "print(df_to_save.head())\n",
    "\n",
    "store = pd.HDFStore(data_loc + 'xgboost_features3_data.h5')\n",
    "store['df'] = df_to_save\n",
    "store.close()\n",
    "\n",
    "del df_features\n",
    "df_features = df_to_save"
   ]
  },
  {
   "cell_type": "markdown",
   "metadata": {},
   "source": [
    "### Load dimensionally-reduced features data"
   ]
  },
  {
   "cell_type": "code",
   "execution_count": 15,
   "metadata": {},
   "outputs": [
    {
     "name": "stdout",
     "output_type": "stream",
     "text": [
      "rows: 66,923, columns: 894\n"
     ]
    }
   ],
   "source": [
    "store = pd.HDFStore(data_loc + 'xgboost_features3_data.h5')\n",
    "df_features = pd.DataFrame(store['df' ])\n",
    "store.close()\n",
    "print('rows: {:,}, columns: {:,}'.format(len(df_features), len(df_features.columns)))"
   ]
  },
  {
   "cell_type": "markdown",
   "metadata": {},
   "source": [
    "### Grid search on the reduced feature set to find number of epochs (n_estimators)"
   ]
  },
  {
   "cell_type": "code",
   "execution_count": 14,
   "metadata": {},
   "outputs": [
    {
     "name": "stdout",
     "output_type": "stream",
     "text": [
      "set of n_estimators to test: [1000, 1200, 1400, 1600, 1800, 2000]\n",
      "Best: -0.379691 using {'n_estimators': 2000}\n",
      "-0.409893 (0.003901) with: {'n_estimators': 1000}\n",
      "-0.402312 (0.003464) with: {'n_estimators': 1200}\n",
      "-0.395684 (0.003308) with: {'n_estimators': 1400}\n",
      "-0.389750 (0.003270) with: {'n_estimators': 1600}\n",
      "-0.384457 (0.003367) with: {'n_estimators': 1800}\n",
      "-0.379691 (0.003400) with: {'n_estimators': 2000}\n"
     ]
    },
    {
     "data": {
      "image/png": "[encoded data removed]",
      "text/plain": [
       "<Figure size 432x288 with 1 Axes>"
      ]
     },
     "metadata": {
      "needs_background": "light"
     },
     "output_type": "display_data"
    }
   ],
   "source": [
    "Y = df_features['activity'].values\n",
    "X = df_features.drop(['activity', 'cid', 'pid'], axis=1)\n",
    "\n",
    "X.columns = list(range(0, len(X.columns)))\n",
    "X.head()\n",
    "\n",
    "n_est_grid_search(X, Y)"
   ]
  },
  {
   "cell_type": "markdown",
   "metadata": {},
   "source": [
    "### Randomized hyperparameter space search"
   ]
  },
  {
   "cell_type": "code",
   "execution_count": 15,
   "metadata": {},
   "outputs": [
    {
     "name": "stdout",
     "output_type": "stream",
     "text": [
      "Fitting 3 folds for each of 10 candidates, totalling 30 fits\n"
     ]
    },
    {
     "name": "stderr",
     "output_type": "stream",
     "text": [
      "[Parallel(n_jobs=4)]: Using backend LokyBackend with 4 concurrent workers.\n",
      "[Parallel(n_jobs=4)]: Done  30 out of  30 | elapsed: 98.1min finished\n"
     ]
    },
    {
     "name": "stdout",
     "output_type": "stream",
     "text": [
      "\n",
      " Time taken: 2 hours 1 minutes and 19.31 seconds.\n"
     ]
    },
    {
     "data": {
      "text/plain": [
       "{'subsample': 0.6,\n",
       " 'min_child_weight': 1,\n",
       " 'max_depth': 6,\n",
       " 'gamma': 5,\n",
       " 'colsample_bytree': 0.8}"
      ]
     },
     "execution_count": 15,
     "metadata": {},
     "output_type": "execute_result"
    }
   ],
   "source": [
    "# A parameter grid for XGBoost\n",
    "params = {\n",
    "        'min_child_weight': [1, 5, 10],\n",
    "        'gamma': [0.5, 1, 1.5, 2, 5],\n",
    "        'subsample': [0.1, 0.2, 0.4, 0.6, 0.8, 1.0],\n",
    "        'colsample_bytree': [0.6, 0.8, 1.0],\n",
    "        'max_depth': [3, 4, 5, 6, 7]\n",
    "        }\n",
    "\n",
    "\n",
    "xgb4 = XGBClassifier(learning_rate=0.02, n_estimators=1000, objective='binary:logistic')\n",
    "\n",
    "\n",
    "folds = 3\n",
    "param_comb = 10\n",
    "\n",
    "skf = StratifiedKFold(n_splits=folds, shuffle = True, random_state = 1001)\n",
    "\n",
    "random_search = RandomizedSearchCV(\n",
    "    xgb4, \n",
    "    param_distributions=params, \n",
    "    n_iter=param_comb, \n",
    "    scoring='roc_auc', \n",
    "    n_jobs=4, \n",
    "    cv=skf.split(X,Y), \n",
    "    verbose=3, \n",
    "    random_state=1001)\n",
    "\n",
    "# Here we go\n",
    "start_time = timer(None) # timing starts from this point for \"start_time\" variable\n",
    "random_search.fit(X, Y)\n",
    "timer(start_time) # timing ends here for \"start_time\" variable\n",
    "\n",
    "random_search.best_params_"
   ]
  },
  {
   "cell_type": "markdown",
   "metadata": {},
   "source": [
    "### Fit best model against test set and calculated weighted F1 score"
   ]
  },
  {
   "cell_type": "code",
   "execution_count": 16,
   "metadata": {},
   "outputs": [
    {
     "name": "stdout",
     "output_type": "stream",
     "text": [
      "Accuracy: 85.84%\n"
     ]
    },
    {
     "data": {
      "image/png": "[encoded data removed]",
      "text/plain": [
       "<Figure size 432x288 with 1 Axes>"
      ]
     },
     "metadata": {
      "needs_background": "light"
     },
     "output_type": "display_data"
    },
    {
     "data": {
      "image/png": "[encoded data removed]",
      "text/plain": [
       "<Figure size 432x288 with 1 Axes>"
      ]
     },
     "metadata": {
      "needs_background": "light"
     },
     "output_type": "display_data"
    }
   ],
   "source": [
    "xgb5 = XGBClassifier(learning_rate=0.02, \n",
    "                    n_estimators=600, \n",
    "                    objective='binary:logistic',\n",
    "                    subsample=0.6,\n",
    "                    min_child_weight=1,\n",
    "                    max_depth=6,\n",
    "                    gamma=5,\n",
    "                    colsample_bytree=0.8)\n",
    "\n",
    "xgb6 = train(X, Y, random_state=42, xgb=xgb5)"
   ]
  },
  {
   "cell_type": "markdown",
   "metadata": {},
   "source": [
    "#### save the model"
   ]
  },
  {
   "cell_type": "code",
   "execution_count": 17,
   "metadata": {},
   "outputs": [
    {
     "data": {
      "text/plain": [
       "['../data/FDA-COVID19_files_v1.0/xgboost_2.mdl']"
      ]
     },
     "execution_count": 17,
     "metadata": {},
     "output_type": "execute_result"
    }
   ],
   "source": [
    "joblib.dump(xgb6, data_loc + 'xgboost_2.mdl')"
   ]
  },
  {
   "cell_type": "markdown",
   "metadata": {},
   "source": [
    "#### load the model"
   ]
  },
  {
   "cell_type": "code",
   "execution_count": null,
   "metadata": {},
   "outputs": [],
   "source": [
    "xgb6 = joblib.load(data_loc + 'xgboost_2.mdl')"
   ]
  },
  {
   "cell_type": "markdown",
   "metadata": {},
   "source": [
    "#### load the test data"
   ]
  },
  {
   "cell_type": "code",
   "execution_count": 18,
   "metadata": {},
   "outputs": [
    {
     "name": "stdout",
     "output_type": "stream",
     "text": [
      "rows: 19,240, columns: 17,077\n",
      "rows: 19,240, columns: 874\n"
     ]
    }
   ],
   "source": [
    "store = pd.HDFStore(data_loc + 'validation_features.h5')\n",
    "df_test_features = pd.DataFrame(store['df' ])\n",
    "store.close()\n",
    "print('rows: {:,}, columns: {:,}'.format(len(df_test_features), len(df_test_features.columns)))\n",
    "\n",
    "# Take only the reduced set of columns.\n",
    "df_test_features = df_test_features[df_features.columns.tolist()]\n",
    "\n",
    "print('rows: {:,}, columns: {:,}'.format(len(df_test_features), len(df_test_features.columns)))\n"
   ]
  },
  {
   "cell_type": "markdown",
   "metadata": {},
   "source": [
    "#### accuracy, precision and recall"
   ]
  },
  {
   "cell_type": "code",
   "execution_count": 20,
   "metadata": {},
   "outputs": [
    {
     "name": "stdout",
     "output_type": "stream",
     "text": [
      "Accuracy = 81.57%\n",
      "Precision = 66.48%\n",
      "Recall = 67.60%\n"
     ]
    }
   ],
   "source": [
    "X_test = df_test_features.drop(['cid', 'pid', 'activity'], axis=1)\n",
    "y_test = df_test_features['activity'].values\n",
    "\n",
    "X_test.columns = list(range(0, len(X_test.columns)))\n",
    "\n",
    "# make predictions for test data\n",
    "y_pred = xgb6.predict(X_test)\n",
    "\n",
    "from sklearn.metrics import confusion_matrix\n",
    "\n",
    "cm = confusion_matrix(y_test, y_pred)\n",
    "\n",
    "print(\"Accuracy = {:0.2f}%\".format(sum(diag(cm))/sum(cm)*100))\n",
    "print(\"Precision = {:0.2f}%\".format(cm[1][1]/sum(cm[:, 1])*100))\n",
    "print(\"Recall = {:0.2f}%\".format(cm[1][1]/sum(cm[1, :])*100))"
   ]
  },
  {
   "cell_type": "markdown",
   "metadata": {},
   "source": [
    "#### Obtain the weighted F1 score"
   ]
  },
  {
   "cell_type": "code",
   "execution_count": 22,
   "metadata": {},
   "outputs": [
    {
     "name": "stdout",
     "output_type": "stream",
     "text": [
      "df_features.shape: (45616, 874).\n",
      "df_test_features.shape: (19240, 874).\n",
      "df_validation_features.shape: (19240, 874).\n",
      "F1 Score: 59.47%\n"
     ]
    }
   ],
   "source": [
    "print('df_features.shape: {}.'.format(df_features.shape))\n",
    "print('df_test_features.shape: {}.'.format(df_test_features.shape))\n",
    "\n",
    "training_features_active = df_features[df_features['activity']==1]\n",
    "training_features_inactive = df_features[df_features['activity']==0]\n",
    "\n",
    "validation_features_active = df_test_features[df_test_features['activity']==1]\n",
    "validation_features_inactive = df_test_features[df_test_features['activity']==0]\n",
    "\n",
    "active_weights, inactive_weights = get_validation_weights(\n",
    "    training_features_active.drop(['cid', 'pid', 'activity'], axis=1), \n",
    "    training_features_inactive.drop(['cid', 'pid', 'activity'], axis=1),\n",
    "    validation_features_active.drop(['cid', 'pid', 'activity'], axis=1), \n",
    "    validation_features_inactive.drop(['cid', 'pid', 'activity'], axis=1))\n",
    "\n",
    "assert(len(inactive_weights) + len(active_weights) == len(df_test_features))\n",
    "\n",
    "df_validation_features = validation_features_active.append(validation_features_inactive)\n",
    "print('df_validation_features.shape: {}.'.format(df_validation_features.shape))\n",
    "\n",
    "weights = list(active_weights) + list(inactive_weights)\n",
    "\n",
    "y_true = df_validation_features['activity']\n",
    "\n",
    "X_test = df_validation_features.drop(['cid', 'pid', 'activity'], axis=1)\n",
    "X_test.columns = list(range(0, len(X_test.columns)))\n",
    "y_pred = xgb6.predict(X_test)\n",
    "\n",
    "f1_score = f1_score(y_true, y_pred, average='binary', sample_weight=weights)\n",
    "\n",
    "print('F1 Score: {:0.2f}%'.format(f1_score*100))"
   ]
  },
  {
   "cell_type": "markdown",
   "metadata": {},
   "source": [
    "<a id='exp_3a'></a>\n",
    "<hr>\n",
    "\n",
    "## Experiment 3 (a)\n",
    "\n",
    "XGBoost for features extraction on subset of **protein** features only.\n",
    "\n",
    "* obtain only the protein features from the set returned by the **greg-features.ipynb** notebobook\n",
    "* sample data using a threshold on **sample_activity_scores**\n",
    "* run basic model multiple times to determine a candidate set for features\n",
    "* make sure the most important features do not drastically change across each model trained\n",
    "* reduce data set to use the subset of candidate features\n",
    "* determine number of epochs for training XGBoost\n",
    "* grid/random search parameter space to finley tune parameters\n",
    "* evaluate the model w.r.t. weighted F1 score (see greg-train-validation-split-eval.ipynb for details)\n",
    "\n",
    "<hr>\n",
    "\n",
    "<span style=\"background:#FF8100;padding:10px;\">[Experiment 1](#exp_1)</span>\n",
    "<span style=\"background:#FF8100;padding:10px;\">[Experiment 2](#exp_2)</span>\n",
    "<span style=\"background:#FF8100;padding:10px;\">[Experiment 3(a)](#exp_3a)</span>\n",
    "<span style=\"background:#FF8100;padding:10px;\">[Experiment 3(b)](#exp_3b)</span>\n",
    "<span style=\"background:#FF8100;padding:10px;\">[Experiment 4](#exp_4)</span>\n",
    "<span style=\"background:#FF8100;padding:10px;\">[Experiment 5](#exp_5)</span>\n",
    "\n",
    "\n",
    "<hr>"
   ]
  },
  {
   "cell_type": "code",
   "execution_count": 5,
   "metadata": {},
   "outputs": [
    {
     "name": "stdout",
     "output_type": "stream",
     "text": [
      "protein_features/binding_sites_v1.0.csv: columns: 8,481\n",
      "protein_features/expasy.csv: columns: 7\n",
      "protein_features/profeat.csv: columns: 849\n",
      "\n",
      "9,337 protein featues\n"
     ]
    }
   ],
   "source": [
    "# load protein data column names\n",
    "pid_features = get_protein_column_names()\n"
   ]
  },
  {
   "cell_type": "code",
   "execution_count": 6,
   "metadata": {},
   "outputs": [
    {
     "name": "stdout",
     "output_type": "stream",
     "text": [
      "rows: 164,217, columns: 17,079\n",
      "rows: 70,894, columns: 9,338\n",
      "Dropped 47 columns that have zero variance.\n",
      "rows: 70,894, columns: 9,291\n"
     ]
    },
    {
     "data": {
      "text/plain": [
       "(70894, 9291)"
      ]
     },
     "execution_count": 6,
     "metadata": {},
     "output_type": "execute_result"
    }
   ],
   "source": [
    "# Load training features data generated by greg-features.ipynb\n",
    "store = pd.HDFStore(data_loc + 'training_features.h5')\n",
    "df_features = pd.DataFrame(store['df' ])\n",
    "store.close()\n",
    "print('rows: {:,}, columns: {:,}'.format(len(df_features), len(df_features.columns)))\n",
    "\n",
    "# filter by activity threshold\n",
    "df_features_sampled = df_features[df_features['sample_activity_score'] > 0.1]\n",
    "df_features_sampled.shape\n",
    "\n",
    "# only retain the protein features\n",
    "df_features_sampled = df_features_sampled[['activity'] + pid_features]\n",
    "\n",
    "print('rows: {:,}, columns: {:,}'.format(len(df_features_sampled), len(df_features_sampled.columns)))\n",
    "\n",
    "# Drop zero-variance columns\n",
    "var_cols = [col for col in df_features_sampled.columns if df_features_sampled[col].nunique() > 1]\n",
    "df_novar_cols_dropped = df_features_sampled[var_cols].copy()\n",
    "\n",
    "print('Dropped {:,} columns that have zero variance.'.format(len(df_features_sampled.columns)-len(var_cols)))\n",
    "print('rows: {:,}, columns: {:,}'.format(len(df_novar_cols_dropped), len(df_novar_cols_dropped.columns)))\n",
    "\n",
    "del df_features\n",
    "df_features = df_novar_cols_dropped\n",
    "df_features.shape"
   ]
  },
  {
   "cell_type": "code",
   "execution_count": 7,
   "metadata": {},
   "outputs": [
    {
     "name": "stdout",
     "output_type": "stream",
     "text": [
      "Accuracy: 81.42%\n"
     ]
    },
    {
     "data": {
      "image/png": "[encoded data removed]",
      "text/plain": [
       "<Figure size 432x288 with 1 Axes>"
      ]
     },
     "metadata": {
      "needs_background": "light"
     },
     "output_type": "display_data"
    },
    {
     "data": {
      "image/png": "[encoded data removed]",
      "text/plain": [
       "<Figure size 432x288 with 1 Axes>"
      ]
     },
     "metadata": {
      "needs_background": "light"
     },
     "output_type": "display_data"
    },
    {
     "name": "stdout",
     "output_type": "stream",
     "text": [
      "number of most important features: 2,189\n",
      "(70894, 2190)\n",
      "   activity  [G4.1.8.3]       DES  [G7.1.1.11]  [G7.1.1.17]  [G2.1.1.145]  \\\n",
      "0         1   36.968577 -1.000000     0.115156     0.058492      0.555556   \n",
      "1         0   40.320427  2.219812     0.081725     0.051078      0.401070   \n",
      "2         1   36.968577 -1.000000     0.115156     0.058492      0.555556   \n",
      "3         1   51.101322 -1.000000     0.131627     0.083763      1.327434   \n",
      "4         1   53.801170 -1.000000     0.088944     0.048776      0.781250   \n",
      "\n",
      "   [G4.3.4.7]       TD*  [G2.1.1.160]  [G4.2.8.2]  ...  SMK  DQD  KHT  TSR  \\\n",
      "0   45.471349  3.898618      0.000000   25.925926  ... -1.0 -1.0 -1.0 -1.0   \n",
      "1   50.200267 -1.000000      0.133690   26.203209  ... -1.0 -1.0 -1.0 -1.0   \n",
      "2   45.471349  3.898618      0.000000   25.925926  ... -1.0 -1.0 -1.0 -1.0   \n",
      "3   47.136564 -1.000000      0.000000   22.566372  ... -1.0 -1.0 -1.0 -1.0   \n",
      "4   49.122807 -1.000000      0.195312   29.687500  ... -1.0 -1.0 -1.0 -1.0   \n",
      "\n",
      "   MVA  ELE  ERF       NVL  TKE  GNS  \n",
      "0 -1.0 -1.0 -1.0 -1.000000 -1.0 -1.0  \n",
      "1 -1.0 -1.0 -1.0  1.106692 -1.0 -1.0  \n",
      "2 -1.0 -1.0 -1.0 -1.000000 -1.0 -1.0  \n",
      "3 -1.0 -1.0 -1.0 -1.000000 -1.0 -1.0  \n",
      "4 -1.0 -1.0 -1.0 -1.000000 -1.0 -1.0  \n",
      "\n",
      "[5 rows x 2190 columns]\n"
     ]
    }
   ],
   "source": [
    "# Get the most important features\n",
    "Y = df_features['activity'].values\n",
    "X = df_features.drop(['activity'], axis=1)\n",
    "X.columns = list(range(0, len(X.columns)))\n",
    "\n",
    "# train\n",
    "xgb = XGBClassifier(learning_rate=0.02, \n",
    "                    n_estimators=600, \n",
    "                    objective='binary:logistic',\n",
    "                    subsample=0.6,\n",
    "                    min_child_weight=1,\n",
    "                    max_depth=6,\n",
    "                    gamma=5,\n",
    "                    colsample_bytree=0.8,\n",
    "                    silent=False,\n",
    "                    verbosity=1)\n",
    "\n",
    "xgb1 = train(X, Y, xgb=xgb)\n",
    "\n",
    "# get features\n",
    "xgb1_features = get_features(xgb1)\n",
    "print('number of most important features: {:,}'.format(len(xgb1_features)))\n",
    "\n",
    "top_feature_cols = df_features.drop(['activity'], axis=1).columns.values[xgb1_features]\n",
    "features = ['activity'] + list(top_feature_cols)\n",
    "df_features = df_features[features]\n",
    "print(df_features.shape)\n",
    "print(df_features.head())"
   ]
  },
  {
   "cell_type": "code",
   "execution_count": 9,
   "metadata": {},
   "outputs": [],
   "source": [
    "# Grid search to check appropriate value for n_estimators\n",
    "Y = df_features['activity'].values\n",
    "X = df_features.drop(['activity'], axis=1)\n",
    "X.columns = list(range(0, len(X.columns)))"
   ]
  },
  {
   "cell_type": "code",
   "execution_count": null,
   "metadata": {},
   "outputs": [
    {
     "name": "stdout",
     "output_type": "stream",
     "text": [
      "set of n_estimators to test: [1000, 1200, 1400, 1600, 1800, 2000]\n"
     ]
    }
   ],
   "source": [
    "n_est_grid_search(X, Y)"
   ]
  },
  {
   "cell_type": "code",
   "execution_count": null,
   "metadata": {},
   "outputs": [],
   "source": [
    "# A parameter search grid for XGBoost\n",
    "params = {\n",
    "        'min_child_weight': [1, 5, 10],\n",
    "        'gamma': [0.5, 1, 1.5, 2, 5],\n",
    "        'subsample': [0.1, 0.2, 0.4, 0.6, 0.8, 1.0],\n",
    "        'colsample_bytree': [0.6, 0.8, 1.0],\n",
    "        'max_depth': [3, 4, 5, 6, 7]\n",
    "        }\n",
    "\n",
    "\n",
    "xgb4 = XGBClassifier(learning_rate=0.02, n_estimators=1000, objective='binary:logistic')\n",
    "\n",
    "\n",
    "folds = 3\n",
    "param_comb = 10\n",
    "\n",
    "skf = StratifiedKFold(n_splits=folds, shuffle = True, random_state = 1001)\n",
    "\n",
    "random_search = RandomizedSearchCV(\n",
    "    xgb4, \n",
    "    param_distributions=params, \n",
    "    n_iter=param_comb, \n",
    "    scoring='roc_auc', \n",
    "    n_jobs=4, \n",
    "    cv=skf.split(X,Y), \n",
    "    verbose=3, \n",
    "    random_state=1001)\n",
    "\n",
    "# Here we go\n",
    "start_time = timer(None) # timing starts from this point for \"start_time\" variable\n",
    "random_search.fit(X, Y)\n",
    "timer(start_time) # timing ends here for \"start_time\" variable\n",
    "\n",
    "random_search.best_params_"
   ]
  },
  {
   "cell_type": "code",
   "execution_count": 11,
   "metadata": {},
   "outputs": [
    {
     "name": "stdout",
     "output_type": "stream",
     "text": [
      "Accuracy: 81.59%\n"
     ]
    },
    {
     "data": {
      "image/png": "[encoded data removed]",
      "text/plain": [
       "<Figure size 432x288 with 1 Axes>"
      ]
     },
     "metadata": {
      "needs_background": "light"
     },
     "output_type": "display_data"
    },
    {
     "data": {
      "image/png": "[encoded data removed]",
      "text/plain": [
       "<Figure size 432x288 with 1 Axes>"
      ]
     },
     "metadata": {
      "needs_background": "light"
     },
     "output_type": "display_data"
    }
   ],
   "source": [
    "# fit best model\n",
    "xgb5 = XGBClassifier(learning_rate=0.02, \n",
    "                    n_estimators=600, \n",
    "                    objective='binary:logistic',\n",
    "                    subsample=0.6,\n",
    "                    min_child_weight=1,\n",
    "                    max_depth=6,\n",
    "                    gamma=5,\n",
    "                    colsample_bytree=0.8)\n",
    "\n",
    "xgb6 = train(X, Y, random_state=42, xgb=xgb5)"
   ]
  },
  {
   "cell_type": "code",
   "execution_count": 15,
   "metadata": {},
   "outputs": [
    {
     "name": "stdout",
     "output_type": "stream",
     "text": [
      "rows: 18,949, columns: 17,079\n",
      "rows: 18,949, columns: 2,190\n",
      "Accuracy = 74.76%\n",
      "Precision = 47.23%\n",
      "Recall = 47.50%\n",
      "df_features.shape: (70894, 2190).\n",
      "df_test_features.shape: (18949, 2190).\n",
      "df_validation_features.shape: (18949, 2190).\n",
      "F1 Score: 51.18%\n"
     ]
    }
   ],
   "source": [
    "# load test data and gather metrics\n",
    "gather_metrics(df_features, xgb6)"
   ]
  },
  {
   "cell_type": "markdown",
   "metadata": {},
   "source": [
    "<a id='exp_3b'></a>\n",
    "<hr>\n",
    "\n",
    "## Experiment 3 (b)\n",
    "\n",
    "XGBoost for features extraction on subset of **drug** features only.\n",
    "\n",
    "* obtain only the protein features from the set returned by the **greg-features.ipynb** notebobook\n",
    "* sample data using a threshold on **sample_activity_scores**\n",
    "* run basic model multiple times to determine a candidate set for features\n",
    "* make sure the most important features do not drastically change across each model trained\n",
    "* reduce data set to use the subset of candidate features\n",
    "* determine number of epochs for training XGBoost\n",
    "* grid/random search parameter space to finley tune parameters\n",
    "* evaluate the model w.r.t. weighted F1 score (see greg-train-validation-split-eval.ipynb for details)\n",
    "\n",
    "<hr>\n",
    "\n",
    "<span style=\"background:#FF8100;padding:10px;\">[Experiment 1](#exp_1)</span>\n",
    "<span style=\"background:#FF8100;padding:10px;\">[Experiment 2](#exp_2)</span>\n",
    "<span style=\"background:#FF8100;padding:10px;\">[Experiment 3(a)](#exp_3a)</span>\n",
    "<span style=\"background:#FF8100;padding:10px;\">[Experiment 3(b)](#exp_3b)</span>\n",
    "<span style=\"background:#FF8100;padding:10px;\">[Experiment 4](#exp_4)</span>\n",
    "<span style=\"background:#FF8100;padding:10px;\">[Experiment 5](#exp_5)</span>\n",
    "\n",
    "\n",
    "<hr>"
   ]
  },
  {
   "cell_type": "code",
   "execution_count": 17,
   "metadata": {},
   "outputs": [
    {
     "name": "stdout",
     "output_type": "stream",
     "text": [
      "drug_features/dragon_features.csv: columns: 3,839\n",
      "drug_features/fingerprints.csv: columns: 4,096\n",
      "\n",
      "7,736 protein featues\n"
     ]
    }
   ],
   "source": [
    "# load drug data column names\n",
    "cid_features = get_drug_column_names()\n"
   ]
  },
  {
   "cell_type": "code",
   "execution_count": 18,
   "metadata": {},
   "outputs": [
    {
     "name": "stdout",
     "output_type": "stream",
     "text": [
      "rows: 164,217, columns: 17,079\n",
      "rows: 70,894, columns: 7,737\n",
      "Dropped 605 columns that have zero variance.\n",
      "rows: 70,894, columns: 7,132\n"
     ]
    },
    {
     "data": {
      "text/plain": [
       "(70894, 7132)"
      ]
     },
     "execution_count": 18,
     "metadata": {},
     "output_type": "execute_result"
    }
   ],
   "source": [
    "# Load training features data generated by greg-features.ipynb\n",
    "store = pd.HDFStore(data_loc + 'training_features.h5')\n",
    "df_features = pd.DataFrame(store['df' ])\n",
    "store.close()\n",
    "print('rows: {:,}, columns: {:,}'.format(len(df_features), len(df_features.columns)))\n",
    "\n",
    "# filter by activity threshold\n",
    "df_features_sampled = df_features[df_features['sample_activity_score'] > 0.1]\n",
    "df_features_sampled.shape\n",
    "\n",
    "# only retain the drug features\n",
    "df_features_sampled = df_features_sampled[['activity'] + cid_features]\n",
    "\n",
    "print('rows: {:,}, columns: {:,}'.format(len(df_features_sampled), len(df_features_sampled.columns)))\n",
    "\n",
    "# Drop zero-variance columns\n",
    "var_cols = [col for col in df_features_sampled.columns if df_features_sampled[col].nunique() > 1]\n",
    "df_novar_cols_dropped = df_features_sampled[var_cols].copy()\n",
    "\n",
    "print('Dropped {:,} columns that have zero variance.'.format(len(df_features_sampled.columns)-len(var_cols)))\n",
    "print('rows: {:,}, columns: {:,}'.format(len(df_novar_cols_dropped), len(df_novar_cols_dropped.columns)))\n",
    "\n",
    "del df_features\n",
    "df_features = df_novar_cols_dropped\n",
    "df_features.shape"
   ]
  },
  {
   "cell_type": "code",
   "execution_count": 19,
   "metadata": {},
   "outputs": [
    {
     "name": "stdout",
     "output_type": "stream",
     "text": [
      "Accuracy: 77.80%\n"
     ]
    },
    {
     "data": {
      "image/png": "[encoded data removed]",
      "text/plain": [
       "<Figure size 432x288 with 1 Axes>"
      ]
     },
     "metadata": {
      "needs_background": "light"
     },
     "output_type": "display_data"
    },
    {
     "data": {
      "image/png": "[encoded data removed]",
      "text/plain": [
       "<Figure size 432x288 with 1 Axes>"
      ]
     },
     "metadata": {
      "needs_background": "light"
     },
     "output_type": "display_data"
    },
    {
     "name": "stdout",
     "output_type": "stream",
     "text": [
      "number of most important features: 2,982\n",
      "(70894, 2983)\n",
      "   activity  cid_TIC0  cid_GATS4m  cid_MATS4m  cid_Eta_epsi  cid_P_VSA_p_3  \\\n",
      "0         1   138.168       0.935      -0.107        51.857        365.502   \n",
      "1         0   138.168       0.935      -0.107        51.857        365.502   \n",
      "2         1   136.072       0.972      -0.062        52.119        302.644   \n",
      "3         1   136.072       0.972      -0.062        52.119        302.644   \n",
      "4         1   136.072       0.972      -0.062        52.119        302.644   \n",
      "\n",
      "   cid_Eig04_EA(dm)  cid_SM15_EA(dm)  cid_SaasC  cid_GATS2m  ...  3441  1528  \\\n",
      "0              0.86            2.237      6.499       0.773  ...     0     0   \n",
      "1              0.86            2.237      6.499       0.773  ...     0     0   \n",
      "2              0.00            2.237      9.129       0.868  ...     0     0   \n",
      "3              0.00            2.237      9.129       0.868  ...     0     0   \n",
      "4              0.00            2.237      9.129       0.868  ...     0     0   \n",
      "\n",
      "   424  cid_nArCO  1504  1937  cid_Eta_betaS  1815  1261  351  \n",
      "0    0        0.0     0     1          30.75     0     0    0  \n",
      "1    0        0.0     0     1          30.75     0     0    0  \n",
      "2    0        0.0     0     0          29.75     0     1    0  \n",
      "3    0        0.0     0     0          29.75     0     1    0  \n",
      "4    0        0.0     0     0          29.75     0     1    0  \n",
      "\n",
      "[5 rows x 2983 columns]\n"
     ]
    }
   ],
   "source": [
    "# Get the most important features\n",
    "Y = df_features['activity'].values\n",
    "X = df_features.drop(['activity'], axis=1)\n",
    "X.columns = list(range(0, len(X.columns)))\n",
    "\n",
    "# train\n",
    "xgb = XGBClassifier(learning_rate=0.02, \n",
    "                    n_estimators=600, \n",
    "                    objective='binary:logistic',\n",
    "                    subsample=0.6,\n",
    "                    min_child_weight=1,\n",
    "                    max_depth=6,\n",
    "                    gamma=5,\n",
    "                    colsample_bytree=0.8,\n",
    "                    silent=False,\n",
    "                    verbosity=1)\n",
    "\n",
    "xgb1 = train(X, Y, xgb=xgb)\n",
    "\n",
    "# get features\n",
    "xgb1_features = get_features(xgb1)\n",
    "print('number of most important features: {:,}'.format(len(xgb1_features)))\n",
    "\n",
    "top_feature_cols = df_features.drop(['activity'], axis=1).columns.values[xgb1_features]\n",
    "features = ['activity'] + list(top_feature_cols)\n",
    "df_features = df_features[features]\n",
    "print(df_features.shape)\n",
    "print(df_features.head())"
   ]
  },
  {
   "cell_type": "code",
   "execution_count": 20,
   "metadata": {},
   "outputs": [
    {
     "name": "stdout",
     "output_type": "stream",
     "text": [
      "Accuracy: 77.86%\n"
     ]
    },
    {
     "data": {
      "image/png": "[encoded data removed]",
      "text/plain": [
       "<Figure size 432x288 with 1 Axes>"
      ]
     },
     "metadata": {
      "needs_background": "light"
     },
     "output_type": "display_data"
    },
    {
     "data": {
      "image/png": "[encoded data removed]",
      "text/plain": [
       "<Figure size 432x288 with 1 Axes>"
      ]
     },
     "metadata": {
      "needs_background": "light"
     },
     "output_type": "display_data"
    }
   ],
   "source": [
    "Y = df_features['activity'].values\n",
    "X = df_features.drop(['activity'], axis=1)\n",
    "X.columns = list(range(0, len(X.columns)))\n",
    "\n",
    "# fit best model\n",
    "xgb5 = XGBClassifier(learning_rate=0.02, \n",
    "                    n_estimators=600, \n",
    "                    objective='binary:logistic',\n",
    "                    subsample=0.6,\n",
    "                    min_child_weight=1,\n",
    "                    max_depth=6,\n",
    "                    gamma=5,\n",
    "                    colsample_bytree=0.8)\n",
    "\n",
    "xgb6 = train(X, Y, random_state=42, xgb=xgb5)"
   ]
  },
  {
   "cell_type": "code",
   "execution_count": 25,
   "metadata": {},
   "outputs": [
    {
     "name": "stdout",
     "output_type": "stream",
     "text": [
      "rows: 18,949, columns: 17,079\n",
      "rows: 18,949, columns: 2,983\n",
      "Accuracy = 80.86%\n",
      "Precision = 77.00%\n",
      "Recall = 28.45%\n",
      "F1 Score: 34.71%\n"
     ]
    }
   ],
   "source": [
    "# load test data and gather metrics\n",
    "gather_metrics(df_features, xgb6)"
   ]
  },
  {
   "cell_type": "markdown",
   "metadata": {},
   "source": [
    "<a id='exp_4'></a>\n",
    "<hr>\n",
    "\n",
    "## Experiment 4\n",
    "\n",
    "XGBoost using features from sample_activity_score > 0.05 from training/validation split v2.\n",
    "\n",
    "* sample data using a threshold on **sample_activity_scores**\n",
    "* reduce data set to use the subset of candidate features\n",
    "* train XGBoost with hyperparameters determined in experiment 2\n",
    "* evaluate the model w.r.t. weighted F1 score (see greg-train-validation-split-eval.ipynb for details)\n",
    "\n",
    "<hr>\n",
    "\n",
    "<span style=\"background:#FF8100;padding:10px;\">[Experiment 1](#exp_1)</span>\n",
    "<span style=\"background:#FF8100;padding:10px;\">[Experiment 2](#exp_2)</span>\n",
    "<span style=\"background:#FF8100;padding:10px;\">[Experiment 3(a)](#exp_3a)</span>\n",
    "<span style=\"background:#FF8100;padding:10px;\">[Experiment 3(b)](#exp_3b)</span>\n",
    "<span style=\"background:#FF8100;padding:10px;\">[Experiment 4](#exp_4)</span>\n",
    "<span style=\"background:#FF8100;padding:10px;\">[Experiment 5](#exp_5)</span>\n",
    "\n",
    "\n",
    "<hr>"
   ]
  },
  {
   "cell_type": "code",
   "execution_count": 4,
   "metadata": {},
   "outputs": [
    {
     "name": "stdout",
     "output_type": "stream",
     "text": [
      "rows: 164,217, columns: 17,079\n"
     ]
    }
   ],
   "source": [
    "# Load training features data generated by greg-features.ipynb\n",
    "store = pd.HDFStore(data_loc + 'training_features.h5')\n",
    "df_features = pd.DataFrame(store['df' ])\n",
    "store.close()\n",
    "print('rows: {:,}, columns: {:,}'.format(len(df_features), len(df_features.columns)))"
   ]
  },
  {
   "cell_type": "code",
   "execution_count": 5,
   "metadata": {},
   "outputs": [
    {
     "name": "stdout",
     "output_type": "stream",
     "text": [
      "(88353, 17079)\n",
      "(88353, 16504)\n"
     ]
    }
   ],
   "source": [
    "# sample the data according to activity threshold\n",
    "df_features = df_features[df_features['sample_activity_score'] > 0.05]\n",
    "print(df_features.shape)\n",
    "\n",
    "# Drop zero-variance columns\n",
    "var_cols = [col for col in df_features.columns if df_features[col].nunique() > 1]\n",
    "df_features = df_features[var_cols]\n",
    "\n",
    "print(df_features.shape)"
   ]
  },
  {
   "cell_type": "code",
   "execution_count": 6,
   "metadata": {},
   "outputs": [
    {
     "name": "stdout",
     "output_type": "stream",
     "text": [
      "Accuracy: 88.47%\n"
     ]
    },
    {
     "data": {
      "image/png": "[encoded data removed]",
      "text/plain": [
       "<Figure size 432x288 with 1 Axes>"
      ]
     },
     "metadata": {
      "needs_background": "light"
     },
     "output_type": "display_data"
    },
    {
     "data": {
      "image/png": "[encoded data removed]",
      "text/plain": [
       "<Figure size 432x288 with 1 Axes>"
      ]
     },
     "metadata": {
      "needs_background": "light"
     },
     "output_type": "display_data"
    },
    {
     "name": "stdout",
     "output_type": "stream",
     "text": [
      "number of most important features: 4,155\n",
      "(88353, 4158)\n",
      "   activity       cid     pid  [G4.1.7.3]  cid_ATSC4m  [G2.1.1.265]  \\\n",
      "0         1    204106  Q9UP65   25.323475      52.670           0.0   \n",
      "1         0    204106  P47712   28.971963      52.670           0.0   \n",
      "2         1  10290302  Q9UP65   25.323475      60.464           0.0   \n",
      "3         1  10290302  P00403   31.277533      60.464           0.0   \n",
      "4         1  10290302  P00395   32.553606      60.464           0.0   \n",
      "\n",
      "   [G2.1.1.225]  cid_CID  cid_VR2_X  cid_CATS2D_07_DN  ...  cid_ATS8e  1693  \\\n",
      "0      0.185185    4.641      1.089               0.0  ...      5.722     0   \n",
      "1      0.401070    4.641      1.089               0.0  ...      5.722     0   \n",
      "2      0.185185    4.641      1.089               0.0  ...      5.822     0   \n",
      "3      0.000000    4.641      1.089               0.0  ...      5.822     0   \n",
      "4      0.195312    4.641      1.089               0.0  ...      5.822     0   \n",
      "\n",
      "   2389  2642       *IN  2212  GRI  432  2825  VED  \n",
      "0     0     0 -1.000000     0 -1.0    0     0 -1.0  \n",
      "1     0     0  1.198541     0 -1.0    0     0 -1.0  \n",
      "2     0     0 -1.000000     0 -1.0    0     0 -1.0  \n",
      "3     0     0 -1.000000     0 -1.0    0     0 -1.0  \n",
      "4     0     0 -1.000000     0 -1.0    0     0 -1.0  \n",
      "\n",
      "[5 rows x 4158 columns]\n"
     ]
    }
   ],
   "source": [
    "# Split\n",
    "Y = df_features['activity'].values\n",
    "X = df_features.drop(['index', 'activity', 'cid', 'pid', 'sample_activity_score', 'expanding_mean'], axis=1)\n",
    "X.columns = list(range(0, len(X.columns)))\n",
    "\n",
    "xgb = XGBClassifier(learning_rate=0.02, \n",
    "                    n_estimators=600, \n",
    "                    objective='binary:logistic',\n",
    "                    subsample=0.6,\n",
    "                    min_child_weight=1,\n",
    "                    max_depth=6,\n",
    "                    gamma=5,\n",
    "                    colsample_bytree=0.8)\n",
    "\n",
    "# train\n",
    "xgb1 = train(X, Y, xgb=xgb)\n",
    "\n",
    "# get features\n",
    "xgb1_features = get_features(xgb1)\n",
    "print('number of most important features: {:,}'.format(len(xgb1_features)))\n",
    "\n",
    "# save dataset\n",
    "top_feature_cols = df_features.drop(['activity', 'cid', 'pid'], axis=1).columns.values[xgb1_features]\n",
    "features = ['activity', 'cid', 'pid'] + list(top_feature_cols)\n",
    "df_to_save = df_features[features]\n",
    "print(df_to_save.shape)\n",
    "print(df_to_save.head())\n",
    "\n",
    "store = pd.HDFStore(data_loc + 'xgboost_features4_data.h5')\n",
    "store['df'] = df_to_save\n",
    "store.close()\n",
    "\n",
    "del df_features\n",
    "df_features = df_to_save"
   ]
  },
  {
   "cell_type": "code",
   "execution_count": 59,
   "metadata": {},
   "outputs": [
    {
     "name": "stdout",
     "output_type": "stream",
     "text": [
      "(88353, 4158)\n",
      "Accuracy: 89.67%\n"
     ]
    },
    {
     "data": {
      "image/png": "[encoded data removed]",
      "text/plain": [
       "<Figure size 432x288 with 1 Axes>"
      ]
     },
     "metadata": {
      "needs_background": "light"
     },
     "output_type": "display_data"
    },
    {
     "data": {
      "image/png": "[encoded data removed]",
      "text/plain": [
       "<Figure size 432x288 with 1 Axes>"
      ]
     },
     "metadata": {
      "needs_background": "light"
     },
     "output_type": "display_data"
    }
   ],
   "source": [
    "print(df_features.shape)\n",
    "Y = df_features['activity'].values\n",
    "df = df_features.copy()\n",
    "drop_non_features(df)\n",
    "X = df\n",
    "X.columns = list(range(0, len(X.columns)))\n",
    "\n",
    "# fit best model\n",
    "xgb5 = XGBClassifier(learning_rate=0.02, \n",
    "                    n_estimators=600, \n",
    "                    objective='binary:logistic',\n",
    "                    subsample=0.6,\n",
    "                    min_child_weight=1,\n",
    "                    max_depth=6,\n",
    "                    gamma=5,\n",
    "                    colsample_bytree=0.8)\n",
    "\n",
    "xgb6 = train(X, Y, random_state=42, xgb=xgb5)"
   ]
  },
  {
   "cell_type": "code",
   "execution_count": 75,
   "metadata": {},
   "outputs": [
    {
     "name": "stdout",
     "output_type": "stream",
     "text": [
      "rows: 18,949, columns: 17,079\n",
      "   index       cid     pid  activity  sample_activity_score  expanding_mean  \\\n",
      "0  83257  71283192  P16234         0               0.081395        0.264049   \n",
      "1  83256  11723086  P16234         0               0.081395        0.263989   \n",
      "2  83197  11517980  P16234         0               0.081395        0.264070   \n",
      "3  83201  54760053  P16234         0               0.081395        0.264133   \n",
      "4  83254  68783839  P16234         0               0.081395        0.263984   \n",
      "\n",
      "   AEK  VEL  EKF       LGM  ...  4086  4087  4088  4089  4090  4091  4092  \\\n",
      "0 -1.0 -1.0 -1.0  4.173258  ...     0     0     0     0     0     0     0   \n",
      "1 -1.0 -1.0 -1.0  4.173258  ...     0     0     0     0     0     0     0   \n",
      "2 -1.0 -1.0 -1.0  4.173258  ...     0     0     0     1     0     0     0   \n",
      "3 -1.0 -1.0 -1.0  4.173258  ...     0     0     0     0     0     0     0   \n",
      "4 -1.0 -1.0 -1.0  4.173258  ...     0     0     0     0     0     0     0   \n",
      "\n",
      "   4093  4094  4095  \n",
      "0     0     0     0  \n",
      "1     0     0     0  \n",
      "2     0     0     1  \n",
      "3     0     0     0  \n",
      "4     0     0     0  \n",
      "\n",
      "[5 rows x 17079 columns]\n",
      "rows: 18,949, columns: 4,158\n",
      "Accuracy = 89.84%\n",
      "Precision = 87.76%\n",
      "Recall = 66.81%\n",
      "F1 Score: 76.48%\n"
     ]
    }
   ],
   "source": [
    "# load test data and gather metrics\n",
    "gather_metrics(df_features, xgb6)"
   ]
  },
  {
   "cell_type": "markdown",
   "metadata": {},
   "source": [
    " <a id='exp_5'></a>\n",
    "<hr>\n",
    "\n",
    "## Experiment 5\n",
    "\n",
    "Show that it's the combination of the cid and pid features that is giving the results. This requires us to do combined dimension reduction, then train a model on just the subset of those reduced features which are cid/pid.\n",
    "\n",
    "Workflow:\n",
    "\n",
    "1. use sample activity score as training sample weight for feature selection, then freeze the feature columns moving forward. Break into CID/PID subsets.\n",
    "1. use sample activity score as training sample weight for training PID/CID/COMBINED models\n",
    "1. Parameter tuning for PID-only / CID-only models to maximize weighted F1.\n",
    "1. Parameter tuning for COMBINED model to maximize NEW-WEIGHTED F1\n",
    "\n",
    "<hr>\n",
    "\n",
    "<span style=\"background:#FF8100;padding:10px;\">[Experiment 1](#exp_1)</span>\n",
    "<span style=\"background:#FF8100;padding:10px;\">[Experiment 2](#exp_2)</span>\n",
    "<span style=\"background:#FF8100;padding:10px;\">[Experiment 3(a)](#exp_3a)</span>\n",
    "<span style=\"background:#FF8100;padding:10px;\">[Experiment 3(b)](#exp_3b)</span>\n",
    "<span style=\"background:#FF8100;padding:10px;\">[Experiment 4](#exp_4)</span>\n",
    "<span style=\"background:#FF8100;padding:10px;\">[Experiment 5](#exp_5)</span>\n",
    "\n",
    "\n",
    "<hr>\n",
    "    \n"
   ]
  },
  {
   "cell_type": "markdown",
   "metadata": {},
   "source": [
    "#### 1. use sample activity score as training sample weight for feature selection, then freeze the feature columns moving forward. Break into CID/PID subsets."
   ]
  },
  {
   "cell_type": "code",
   "execution_count": null,
   "metadata": {},
   "outputs": [
    {
     "name": "stdout",
     "output_type": "stream",
     "text": [
      "df_features - rows: 164,217, columns: 17,079\n",
      "threshold filtered df - rows: 88,353, columns: 17,079\n",
      "df_features with zero-variance cols dropped - rows: 88,353, columns: 16,504\n",
      "X with non-features dropped - rows: 88,353, columns: 16,498\n"
     ]
    }
   ],
   "source": [
    "# Load training features data generated by greg-features.ipynb\n",
    "store = pd.HDFStore(data_loc + 'training_features.h5')\n",
    "df_features = pd.DataFrame(store['df' ])\n",
    "store.close()\n",
    "print('df_features - rows: {:,}, columns: {:,}'.format(len(df_features), len(df_features.columns)))\n",
    "\n",
    "# Filter by activity threshold\n",
    "df = df_features[df_features['sample_activity_score'] > 0.05]\n",
    "del df_features\n",
    "print('threshold filtered df - rows: {:,}, columns: {:,}'.format(len(df), len(df.columns)))\n",
    "\n",
    "# Drop zero-variance columns\n",
    "var_cols = [col for col in df.columns if df[col].nunique() > 1]\n",
    "df_features = df[var_cols]\n",
    "del df\n",
    "print('df_features with zero-variance cols dropped - rows: {:,}, columns: {:,}'.format(len(df_features), len(df_features.columns)))\n",
    "\n",
    "# Split\n",
    "Y = df_features['activity'].values\n",
    "X = df_features.copy()\n",
    "drop_non_features(X)\n",
    "print('X with non-features dropped - rows: {:,}, columns: {:,}'.format(len(X), len(X.columns)))\n",
    "X.columns = list(range(0, len(X.columns)))\n",
    "\n",
    "xgb = XGBClassifier(learning_rate=0.02, \n",
    "                    n_estimators=600, \n",
    "                    objective='binary:logistic',\n",
    "                    subsample=0.6,\n",
    "                    min_child_weight=1,\n",
    "                    max_depth=6,\n",
    "                    gamma=5,\n",
    "                    colsample_bytree=0.8)\n",
    "\n",
    "# Train\n",
    "sample_weight = df_features['sample_activity_score']\n",
    "xgb1 = train(X, Y, xgb=xgb, sample_weight=sample_weight)\n",
    "del X\n",
    "del Y\n",
    "\n",
    "# Get features\n",
    "feature_indices = get_features(xgb1)\n",
    "print('number of most important features: {:,}'.format(len(feature_indices)))\n",
    "\n",
    "# Reduce df_features to new subset of features\n",
    "df = df_features.copy()\n",
    "drop_non_features(df)\n",
    "top_feature_cols = df.columns.values[feature_indices] # turn numbers back into column names\n",
    "features = ['activity', 'sample_activity_score'] + list(top_feature_cols)\n",
    "del df\n",
    "df = df_features[features]\n",
    "del df_features\n",
    "df_features = df\n",
    "print('dimension-reduced df_features - rows: {:,}, columns: {:,}'.format(len(df_features), len(df_features.columns)))\n",
    "df_features.head()"
   ]
  },
  {
   "cell_type": "code",
   "execution_count": null,
   "metadata": {},
   "outputs": [],
   "source": [
    "# cid set with subset of features derived from previous cid/pid combined dimension reduction\n",
    "cid_features = list(set(get_drug_column_names()).intersection(set(top_feature_cols)))\n",
    "df_drugs = df_features[['activity', 'sample_activity_score']+cid_features]\n",
    "print('df_drugs - rows: {:,}, columns: {:,}'.format(len(df_drugs), len(df_drugs.columns)))\n",
    "print('\\ncid features:\\n')\n",
    "print(df_drugs.head())\n",
    "\n",
    "# pid set with subset of features derived from previous cid/pid combined dimension reduction\n",
    "pid_features = list(set(get_protein_column_names()).intersection(set(top_feature_cols)))\n",
    "df_proteins = df_features[['activity', 'sample_activity_score']+pid_features]\n",
    "print('df_proteins - rows: {:,}, columns: {:,}'.format(len(df_proteins), len(df_proteins.columns)))\n",
    "print('\\ncid features:\\n')\n",
    "print(df_proteins.head())"
   ]
  },
  {
   "cell_type": "markdown",
   "metadata": {},
   "source": [
    "#### 2. use sample activity score as training sample weight for training PID/CID/COMBINED models"
   ]
  },
  {
   "cell_type": "code",
   "execution_count": null,
   "metadata": {},
   "outputs": [],
   "source": [
    "# Model for combined cid/pid features using activity scores as sample weights.\n",
    "def train_and_eval_with_weights(df_in):\n",
    "    Y = df_in['activity'].values\n",
    "    df = df_in.copy()\n",
    "    drop_non_features(df)\n",
    "    X = df\n",
    "    X.columns = list(range(0, len(X.columns)))\n",
    "\n",
    "    # fit best model\n",
    "    xgb = XGBClassifier(learning_rate=0.02, \n",
    "                        n_estimators=600, \n",
    "                        objective='binary:logistic',\n",
    "                        subsample=0.6,\n",
    "                        min_child_weight=1,\n",
    "                        max_depth=6,\n",
    "                        gamma=5,\n",
    "                        colsample_bytree=0.8)\n",
    "\n",
    "    sample_weight = df_in['sample_activity_score']\n",
    "    model = train(X, Y, random_state=42, xgb=xgb, sample_weight=sample_weight)\n",
    "    del df\n",
    "\n",
    "    # load test data and gather metrics\n",
    "    gather_metrics(df_in, model)"
   ]
  },
  {
   "cell_type": "code",
   "execution_count": null,
   "metadata": {},
   "outputs": [],
   "source": [
    "print('cid/pid combined with activity score weighting, results:\\n')\n",
    "train_and_eval_with_weights(df_features)\n",
    "\n",
    "print('\\ncid with activity score weighting, results:\\n')\n",
    "train_and_eval_with_weights(df_drugs)\n",
    "\n",
    "print('n\\pid combined with activity score weighting, results:\\n')\n",
    "train_and_eval_with_weights(df_proteins)"
   ]
  }
 ],
 "metadata": {
  "kernelspec": {
   "display_name": "Python 3",
   "language": "python",
   "name": "python3"
  },
  "language_info": {
   "codemirror_mode": {
    "name": "ipython",
    "version": 3
   },
   "file_extension": ".py",
   "mimetype": "text/x-python",
   "name": "python",
   "nbconvert_exporter": "python",
   "pygments_lexer": "ipython3",
   "version": "3.6.2"
  }
 },
 "nbformat": 4,
 "nbformat_minor": 4
}
