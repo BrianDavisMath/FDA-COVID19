{
 "cells": [
  {
   "cell_type": "markdown",
   "metadata": {},
   "source": [
    "# Exploration of Dimension Reduction\n",
    "<span style=\"font-weight:bold; font-size:17pt; color:#666666;\">XGBoost for feature selection</span>\n",
    "<hr>\n",
    "\n",
    "This notebook is for EDA, feature extraction, engineering and the subsequent evaluation of dimension reduction techniques.\n",
    "\n",
    "It assumes the data (**features.csv**, the full feature set) is in a sub-directory of the **/data** folder. I've already added entries to the _.gitignore_ file so that they won't be committed to the repository. Note that this file should be updated for new versions of the data.\n",
    "\n",
    "See the [data readme in the Gitbug repository](https://github.com/BrianDavisMath/FDA-COVID19/tree/master/data) for more details.\n",
    "\n",
    "<hr>"
   ]
  },
  {
   "cell_type": "code",
   "execution_count": 1,
   "metadata": {},
   "outputs": [
    {
     "name": "stdout",
     "output_type": "stream",
     "text": [
      "Populating the interactive namespace from numpy and matplotlib\n"
     ]
    },
    {
     "data": {
      "application/javascript": [
       "IPython.notebook.set_autosave_interval(25000)"
      ]
     },
     "metadata": {},
     "output_type": "display_data"
    },
    {
     "name": "stdout",
     "output_type": "stream",
     "text": [
      "Autosaving every 25 seconds\n"
     ]
    }
   ],
   "source": [
    "%pylab inline\n",
    "%autosave 25\n",
    "\n",
    "import pandas as pd"
   ]
  },
  {
   "cell_type": "markdown",
   "metadata": {},
   "source": [
    "## Data location\n",
    "\n",
    "Change this when you get a new data set."
   ]
  },
  {
   "cell_type": "code",
   "execution_count": 2,
   "metadata": {},
   "outputs": [],
   "source": [
    "data_loc = '../data/FDA-COVID19_files_v0.5/'"
   ]
  },
  {
   "cell_type": "markdown",
   "metadata": {},
   "source": [
    "## Load the data from features.csv\n",
    "<hr>"
   ]
  },
  {
   "cell_type": "code",
   "execution_count": null,
   "metadata": {},
   "outputs": [],
   "source": [
    "df_features = pd.read_csv(data_loc+'features.csv')\n",
    "print('rows: {:,}, columns: {:,}'.format(len(df_features), len(df_features.columns)))"
   ]
  },
  {
   "cell_type": "markdown",
   "metadata": {},
   "source": [
    "## Experiment 1\n",
    "\n",
    "XGBoost for features extraction.\n",
    "\n",
    "* decompose features into dataframes with and without pid, cid and activity data etc.\n",
    "* take a uniform random sample of 10,000 points \n",
    "* split into train and test sets <br>\n",
    "* scale the training set <br>\n",
    "* scale the test set with the same scaler <br>\n",
    "* train the model\n",
    "* tweak the parameters\n",
    "* retrain, rinse and repeat"
   ]
  },
  {
   "cell_type": "code",
   "execution_count": 5,
   "metadata": {},
   "outputs": [
    {
     "name": "stdout",
     "output_type": "stream",
     "text": [
      "Number of rows: 158,806\n",
      "Number of columns: 4,518\n"
     ]
    }
   ],
   "source": [
    "from sklearn.preprocessing import MinMaxScaler\n",
    "\n",
    "# store for later\n",
    "df_y = df_features['activity']\n",
    "df_ids = df_features[['pid', 'cid']]\n",
    "\n",
    "# Select only numeric columns and drop pid, cid and activity.\n",
    "numerics = ['int16', 'int32', 'int64', 'float16', 'float32', 'float64'] # pid dropped because it's a string\n",
    "number_cols = df_features.select_dtypes(include=numerics)\n",
    "number_cols = [col for col in number_cols]\n",
    "number_cols.remove('activity')\n",
    "number_cols.remove('cid')\n",
    "\n",
    "print('Number of rows: {:,}'.format(len(df_features)))\n",
    "print('Number of columns: {:,}'.format(len(number_cols)))\n",
    "\n",
    "df_data = df_features[number_cols]"
   ]
  },
  {
   "cell_type": "code",
   "execution_count": null,
   "metadata": {},
   "outputs": [],
   "source": [
    "df_sample = df_data.sample(n=10000, axis=0)\n",
    "print('Number of sample rows: {:,}'.format(len(df_sample)))\n",
    "print('Number of samepl columns: {:,}'.format(len(df_sample)))"
   ]
  },
  {
   "cell_type": "code",
   "execution_count": null,
   "metadata": {},
   "outputs": [],
   "source": []
  }
 ],
 "metadata": {
  "kernelspec": {
   "display_name": "Python 3",
   "language": "python",
   "name": "python3"
  },
  "language_info": {
   "codemirror_mode": {
    "name": "ipython",
    "version": 3
   },
   "file_extension": ".py",
   "mimetype": "text/x-python",
   "name": "python",
   "nbconvert_exporter": "python",
   "pygments_lexer": "ipython3",
   "version": "3.7.4"
  }
 },
 "nbformat": 4,
 "nbformat_minor": 4
}
