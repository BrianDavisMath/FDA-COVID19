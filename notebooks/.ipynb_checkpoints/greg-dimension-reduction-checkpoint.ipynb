{
 "cells": [
  {
   "cell_type": "markdown",
   "metadata": {},
   "source": [
    "# Exploration of Dimension Reduction\n",
    "<hr>\n",
    "\n",
    "This notebook is for EDA, feature extraction, engineering and the subsequent evaluation of dimension reduction techniques.\n",
    "\n",
    "It assumes the data is a sub-directory of the **/data** folder. I've already added entries to the _.gitignore_ file so that they won't be committed to the repository. Note that this file should be updated for new versions of the data.\n",
    "\n",
    "See the [data readme in the Gitbug repository](https://github.com/BrianDavisMath/FDA-COVID19/tree/master/data) for more details.\n",
    "\n",
    "<hr>"
   ]
  },
  {
   "cell_type": "code",
   "execution_count": 1,
   "metadata": {},
   "outputs": [
    {
     "name": "stdout",
     "output_type": "stream",
     "text": [
      "Populating the interactive namespace from numpy and matplotlib\n"
     ]
    },
    {
     "data": {
      "application/javascript": [
       "IPython.notebook.set_autosave_interval(25000)"
      ]
     },
     "metadata": {},
     "output_type": "display_data"
    },
    {
     "name": "stdout",
     "output_type": "stream",
     "text": [
      "Autosaving every 25 seconds\n"
     ]
    }
   ],
   "source": [
    "%pylab inline\n",
    "%autosave 25\n",
    "\n",
    "import pandas as pd"
   ]
  },
  {
   "cell_type": "markdown",
   "metadata": {},
   "source": [
    "## Data location\n",
    "\n",
    "Change this when you get a new data set."
   ]
  },
  {
   "cell_type": "code",
   "execution_count": 4,
   "metadata": {},
   "outputs": [],
   "source": [
    "data_loc = '../data/FDA-COVID19_files_v0.5/'"
   ]
  },
  {
   "cell_type": "markdown",
   "metadata": {},
   "source": [
    "## Load the data\n",
    "<hr>"
   ]
  },
  {
   "cell_type": "code",
   "execution_count": 31,
   "metadata": {},
   "outputs": [],
   "source": [
    "def load_data(path, data_type=None):\n",
    "    if data_type:\n",
    "        df = pd.read_csv(path, index_col=0, dtype=data_type)\n",
    "    else:\n",
    "        df = pd.read_csv(path, index_col=0)\n",
    "    print('Number of rows: {:,}\\n'.format(len(df)))\n",
    "    print('Number of columns: {:,}\\n\\n'.format(len(df.columns)))\n",
    "    print(df.head())\n",
    "    return df"
   ]
  },
  {
   "cell_type": "markdown",
   "metadata": {},
   "source": [
    "<span style=\"font-weight:bold; font-size:17pt; color:darkblue;\">interactions.csv</span>"
   ]
  },
  {
   "cell_type": "code",
   "execution_count": 32,
   "metadata": {},
   "outputs": [
    {
     "name": "stdout",
     "output_type": "stream",
     "text": [
      "Number of rows: 189,312\n",
      "\n",
      "Number of columns: 3\n",
      "\n",
      "\n",
      "   canonical_cid       pid  activity\n",
      "0          38258  CAA96025         0\n",
      "1       23644994    P11511         0\n",
      "2       76314488    P31391         0\n",
      "3       46225960    Q96DB2         0\n",
      "4        3005573    P04798         1\n"
     ]
    }
   ],
   "source": [
    "df_interactions = load_data(data_loc+'interactions.csv')"
   ]
  },
  {
   "cell_type": "markdown",
   "metadata": {},
   "source": [
    "<span style=\"font-weight:bold; font-size:17pt; color:darkblue;\">fda_drug_cids.csv</span>"
   ]
  },
  {
   "cell_type": "code",
   "execution_count": 33,
   "metadata": {},
   "outputs": [
    {
     "name": "stdout",
     "output_type": "stream",
     "text": [
      "Number of rows: 3,269\n",
      "\n",
      "Number of columns: 1\n",
      "\n",
      "\n",
      "     cid\n",
      "0  16078\n",
      "1   4020\n",
      "2   4021\n",
      "3  60750\n",
      "4   5988\n"
     ]
    }
   ],
   "source": [
    "df_fda_drug_cids = load_data(data_loc+'fda_drug_cids.csv')"
   ]
  },
  {
   "cell_type": "markdown",
   "metadata": {},
   "source": [
    "<span style=\"font-weight:bold; font-size:17pt; color:darkgreen;\">drug_features/</span><span style=\"font-weight:bold; font-size:17pt; color:darkblue;\">dragon_features.csv</span>"
   ]
  },
  {
   "cell_type": "code",
   "execution_count": 44,
   "metadata": {},
   "outputs": [
    {
     "name": "stdout",
     "output_type": "stream",
     "text": [
      "Number of rows: 91,424\n",
      "\n",
      "Number of columns: 3,839\n",
      "\n",
      "\n",
      "              MW                AMW                  Sv                  Se  \\\n",
      "cid                                                                           \n",
      "72792562  474.67  6.781000000000001  41.038999999999994              70.101   \n",
      "44394609  546.48              8.674              43.185  63.538000000000004   \n",
      "378422    410.52              7.331               34.74   56.43600000000001   \n",
      "57888919  451.06              6.834              38.685              65.858   \n",
      "54581291  456.58              8.615              36.234               53.52   \n",
      "\n",
      "                          Sp                 Si     Mv                  Me  \\\n",
      "cid                                                                          \n",
      "72792562   43.54600000000001  80.52199999999999  0.586               1.001   \n",
      "44394609  45.233000000000004             69.993  0.685  1.0090000000000001   \n",
      "378422                36.216             63.398   0.62               1.008   \n",
      "57888919              41.631             74.837  0.586               0.998   \n",
      "54581291              37.716             59.607  0.684                1.01   \n",
      "\n",
      "                          Mp                  Mi     ...      Psychotic-80  \\\n",
      "cid                                                  ...                     \n",
      "72792562               0.622                1.15     ...                 0   \n",
      "44394609               0.718               1.111     ...                 0   \n",
      "378422                 0.647  1.1320000000000001     ...                 0   \n",
      "57888919               0.631  1.1340000000000001     ...                 0   \n",
      "54581291  0.7120000000000001               1.125     ...                 1   \n",
      "\n",
      "         Psychotic-50 Hypertens-80 Hypertens-50 Hypnotic-80 Hypnotic-50  \\\n",
      "cid                                                                       \n",
      "72792562            0            0            0           0           0   \n",
      "44394609            0            0            0           0           0   \n",
      "378422              0            1            0           0           0   \n",
      "57888919            0            1            0           0           0   \n",
      "54581291            0            0            0           0           0   \n",
      "\n",
      "         Neoplastic-80 Neoplastic-50 Infective-80 Infective-50  \n",
      "cid                                                             \n",
      "72792562             0             0            0            0  \n",
      "44394609             0             0            0            0  \n",
      "378422               1             0            1            0  \n",
      "57888919             0             0            0            0  \n",
      "54581291             0             0            0            0  \n",
      "\n",
      "[5 rows x 3839 columns]\n"
     ]
    }
   ],
   "source": [
    "df_dragon_features = load_data(data_loc+'drug_features/dragon_features.csv', data_type=object)"
   ]
  },
  {
   "cell_type": "markdown",
   "metadata": {},
   "source": [
    "<span style=\"font-weight:bold; font-size:17pt; color:darkgreen;\">drug_features/</span><span style=\"font-weight:bold; font-size:17pt; color:darkblue;\">fingerprints.csv</span>"
   ]
  },
  {
   "cell_type": "code",
   "execution_count": 43,
   "metadata": {},
   "outputs": [
    {
     "name": "stdout",
     "output_type": "stream",
     "text": [
      "Number of rows: 91,756\n",
      "\n",
      "Number of columns: 4,096\n",
      "\n",
      "\n",
      "          0  1  2  3  4  5  6  7  8  9  ...   4086  4087  4088  4089  4090  \\\n",
      "cid                                     ...                                  \n",
      "38258     0  0  0  0  0  0  0  0  0  0  ...      0     0     0     0     0   \n",
      "23644997  0  0  0  0  0  0  0  1  0  0  ...      0     0     0     0     0   \n",
      "76314488  0  1  0  0  0  0  0  0  0  0  ...      0     0     0     0     0   \n",
      "46225960  0  0  0  0  0  0  0  0  0  0  ...      0     0     0     0     0   \n",
      "3005573   0  0  0  0  0  0  0  0  0  0  ...      0     0     0     0     0   \n",
      "\n",
      "          4091  4092  4093  4094  4095  \n",
      "cid                                     \n",
      "38258        0     0     0     0     0  \n",
      "23644997     0     0     0     0     0  \n",
      "76314488     0     0     0     0     1  \n",
      "46225960     0     0     0     0     0  \n",
      "3005573      0     0     0     0     0  \n",
      "\n",
      "[5 rows x 4096 columns]\n"
     ]
    }
   ],
   "source": [
    "df_fingerprints = load_data(data_loc+'drug_features/fingerprints.csv')"
   ]
  },
  {
   "cell_type": "markdown",
   "metadata": {},
   "source": [
    "<span style=\"font-weight:bold; font-size:17pt; color:darkgreen;\">protein_features/</span><span style=\"font-weight:bold; font-size:17pt; color:darkblue;\">binding_sites_v0.5.csv</span>"
   ]
  },
  {
   "cell_type": "code",
   "execution_count": 37,
   "metadata": {},
   "outputs": [
    {
     "name": "stdout",
     "output_type": "stream",
     "text": [
      "Number of rows: 2,743\n",
      "\n",
      "Number of columns: 22\n",
      "\n",
      "\n",
      "               GLY       ARG       GLN       GLU       ILE       ALA  \\\n",
      "pid                                                                    \n",
      "ACM69038  5.561992  5.192893  5.750618  5.491832  4.448955  6.587973   \n",
      "P42898    4.460553  5.578368  4.860317  5.276580  3.033603  7.342901   \n",
      "P56696    4.877018  4.978129  4.814894  5.974694  4.478648  6.033997   \n",
      "P0AD68    5.096210  3.579407  4.678623  4.083968  3.018757  6.718320   \n",
      "P02774    3.885175  5.490260  4.814894  5.771078 -1.000000  6.142619   \n",
      "\n",
      "               THR       PRO       ASP       SER     ...            VAL  \\\n",
      "pid                                                  ...                  \n",
      "ACM69038  4.868316  5.011431  4.481827  5.000618     ...       3.171188   \n",
      "P42898    0.268170  4.811418  4.339997  5.089027     ...       3.379818   \n",
      "P56696    4.527946  6.211507  5.537042  5.459238     ...       4.469914   \n",
      "P0AD68    3.078797  3.772463  4.300284  5.089027     ...       3.781432   \n",
      "P02774    5.198371  7.017114  3.897487  5.453713     ...       1.022291   \n",
      "\n",
      "               CYS       LEU       TYR       HIS       MET       PHE      TRP  \\\n",
      "pid                                                                             \n",
      "ACM69038  1.453735  1.972794  1.044852 -1.000000 -1.000000 -1.000000 -1.00000   \n",
      "P42898   -1.000000  4.694238 -1.000000  3.514673 -1.000000 -1.000000 -1.00000   \n",
      "P56696    3.662995  3.935471  4.325083  4.249834  3.858157  1.990066 -1.00000   \n",
      "P0AD68   -1.000000  3.591496  5.249375  3.761405 -1.000000 -1.000000  3.55093   \n",
      "P02774   -1.000000  3.642081  2.923576  3.942677  0.907997  4.267973 -1.00000   \n",
      "\n",
      "          GLX  Unnamed: 22  \n",
      "pid                         \n",
      "ACM69038 -1.0         -1.0  \n",
      "P42898   -1.0         -1.0  \n",
      "P56696   -1.0         -1.0  \n",
      "P0AD68   -1.0         -1.0  \n",
      "P02774   -1.0         -1.0  \n",
      "\n",
      "[5 rows x 22 columns]\n"
     ]
    }
   ],
   "source": [
    "df_binding_sites = load_data(data_loc+'protein_features/binding_sites_v0.5.csv')"
   ]
  },
  {
   "cell_type": "markdown",
   "metadata": {},
   "source": [
    "<span style=\"font-weight:bold; font-size:17pt; color:darkgreen;\">protein_features/</span><span style=\"font-weight:bold; font-size:17pt; color:darkblue;\">expasy.csv</span>"
   ]
  },
  {
   "cell_type": "code",
   "execution_count": 38,
   "metadata": {},
   "outputs": [
    {
     "name": "stdout",
     "output_type": "stream",
     "text": [
      "Number of rows: 4,201\n",
      "\n",
      "Number of columns: 7\n",
      "\n",
      "\n",
      "        helical   beta   coil  veryBuried  veryExposed  someBuried  \\\n",
      "pid                                                                  \n",
      "10GS_A    0.536  0.096  0.368       0.292        0.254       0.234   \n",
      "1A2C_H    0.089  0.378  0.533       0.313        0.301       0.212   \n",
      "1A30_A    0.091  0.475  0.434       0.192        0.354       0.273   \n",
      "1A42_A    0.143  0.313  0.544       0.286        0.263       0.224   \n",
      "1A4G_A    0.000  0.428  0.572       0.387        0.192       0.277   \n",
      "\n",
      "        someExposed  \n",
      "pid                  \n",
      "10GS_A        0.220  \n",
      "1A2C_H        0.174  \n",
      "1A30_A        0.182  \n",
      "1A42_A        0.228  \n",
      "1A4G_A        0.144  \n"
     ]
    }
   ],
   "source": [
    "df_expasy = load_data(data_loc+'protein_features/expasy.csv')"
   ]
  },
  {
   "cell_type": "markdown",
   "metadata": {},
   "source": [
    "<span style=\"font-weight:bold; font-size:17pt; color:darkgreen;\">protein_features/</span><span style=\"font-weight:bold; font-size:17pt; color:darkblue;\">profeat.csv</span>"
   ]
  },
  {
   "cell_type": "code",
   "execution_count": 39,
   "metadata": {},
   "outputs": [
    {
     "name": "stdout",
     "output_type": "stream",
     "text": [
      "Number of rows: 4,167\n",
      "\n",
      "Number of columns: 849\n",
      "\n",
      "\n",
      "        [G1.1.1.1]  [G1.1.1.2]  [G1.1.1.3]  [G1.1.1.4]  [G1.1.1.5]  \\\n",
      "10GS_A    7.177033    1.913876    6.220096    4.784689    3.349282   \n",
      "1A2C_H    4.633205    2.702703    6.177606    5.791506    3.474903   \n",
      "1A30_A    3.030303    2.020202    4.040404    4.040404    2.020202   \n",
      "1A42_A    5.019305    0.386100    7.335907    5.019305    4.633205   \n",
      "1A4G_A    6.666667    4.358974    5.641026    6.410256    3.076923   \n",
      "\n",
      "        [G1.1.1.6]  [G1.1.1.7]  [G1.1.1.8]  [G1.1.1.9]  [G1.1.1.10]  \\\n",
      "10GS_A    8.612440    0.956938    3.349282    5.741627    15.311005   \n",
      "1A2C_H    8.494208    1.930502    6.177606    7.335907     7.722008   \n",
      "1A30_A   13.131313    1.010101   15.151515    7.070707    10.101010   \n",
      "1A42_A    8.494208    4.633205    3.474903    9.266409    10.038610   \n",
      "1A4G_A   10.256410    3.076923    6.923077    6.153846     5.384615   \n",
      "\n",
      "           ...       [G7.1.1.71]  [G7.1.1.72]  [G7.1.1.73]  [G7.1.1.74]  \\\n",
      "10GS_A     ...         -0.001570     0.002455     0.001529     0.007086   \n",
      "1A2C_H     ...         -0.003062    -0.005141     0.003201     0.003635   \n",
      "1A30_A     ...          0.004570     0.004954     0.009780     0.010499   \n",
      "1A42_A     ...          0.003225    -0.000328     0.000452     0.001144   \n",
      "1A4G_A     ...         -0.000034     0.001908    -0.002145    -0.001665   \n",
      "\n",
      "        [G7.1.1.75]  [G7.1.1.76]  [G7.1.1.77]  [G7.1.1.78]  [G7.1.1.79]  \\\n",
      "10GS_A     0.001563     0.001808    -0.003158    -0.003736     0.005282   \n",
      "1A2C_H    -0.004960    -0.005522     0.005161     0.001182     0.007673   \n",
      "1A30_A    -0.006204    -0.000562    -0.005154     0.002587     0.004035   \n",
      "1A42_A     0.000961    -0.001486    -0.004869    -0.004600     0.000062   \n",
      "1A4G_A     0.000629    -0.000161     0.004026    -0.000031     0.003000   \n",
      "\n",
      "        [G7.1.1.80]  \n",
      "10GS_A     0.004062  \n",
      "1A2C_H     0.003012  \n",
      "1A30_A     0.002689  \n",
      "1A42_A    -0.002881  \n",
      "1A4G_A     0.000084  \n",
      "\n",
      "[5 rows x 849 columns]\n"
     ]
    }
   ],
   "source": [
    "df_profeat = load_data(data_loc+'protein_features/profeat.csv')"
   ]
  },
  {
   "cell_type": "markdown",
   "metadata": {},
   "source": [
    "<span style=\"font-weight:bold; font-size:17pt; color:darkgreen;\">coronavirus_features/</span><span style=\"font-weight:bold; font-size:17pt; color:darkblue;\">coronavirus_expasy.csv</span>"
   ]
  },
  {
   "cell_type": "code",
   "execution_count": 40,
   "metadata": {},
   "outputs": [
    {
     "name": "stdout",
     "output_type": "stream",
     "text": [
      "Number of rows: 9\n",
      "\n",
      "Number of columns: 88\n",
      "\n",
      "\n",
      "          length     weight    pI  A Total  A Percent  R Total  R Percent  \\\n",
      "pid                                                                         \n",
      "QHD43415    7096  794057.79  6.32      487        6.9      244        3.4   \n",
      "QHD43416    1273  141178.47  6.24       79        6.2       42        3.3   \n",
      "QHD43417     275   31122.94  5.55       13        4.7        6        2.2   \n",
      "QHD43418      75    8365.04  8.57        4        5.3        3        4.0   \n",
      "QHD43419     222   25146.62  9.51       19        8.6       14        6.3   \n",
      "\n",
      "          N Total  N Percent  D Total         ...          chargedTotal  \\\n",
      "pid                                           ...                         \n",
      "QHD43415      384        5.4      389         ...                  1552   \n",
      "QHD43416       88        6.9       62         ...                   230   \n",
      "QHD43417        8        2.9       13         ...                    49   \n",
      "QHD43418        5        6.7        1         ...                     8   \n",
      "QHD43419       11        5.0        6         ...                    39   \n",
      "\n",
      "          chargedPercent  basicTotal  basicPercent  acidicTotal  \\\n",
      "pid                                                               \n",
      "QHD43415           0.219         823         0.116          729   \n",
      "QHD43416           0.181         120         0.094          110   \n",
      "QHD43417           0.178          25         0.091           24   \n",
      "QHD43418           0.107           5         0.067            3   \n",
      "QHD43419           0.176          26         0.117           13   \n",
      "\n",
      "          acidicPercent  hydrophobicTotal  hydrophobicPercent  \\\n",
      "pid                                                             \n",
      "QHD43415          0.103              3252               0.458   \n",
      "QHD43416          0.086               557               0.438   \n",
      "QHD43417          0.087               137               0.498   \n",
      "QHD43418          0.040                47               0.627   \n",
      "QHD43419          0.059               121               0.545   \n",
      "\n",
      "          hydrophilicTotal  hydrophilicPercent  \n",
      "pid                                             \n",
      "QHD43415              1786               0.252  \n",
      "QHD43416               321               0.252  \n",
      "QHD43417                52               0.189  \n",
      "QHD43418                10               0.133  \n",
      "QHD43419                35               0.158  \n",
      "\n",
      "[5 rows x 88 columns]\n"
     ]
    }
   ],
   "source": [
    "df_coronavirus_expasy = load_data(data_loc+'coronavirus_features/coronavirus_expasy.csv')"
   ]
  },
  {
   "cell_type": "markdown",
   "metadata": {},
   "source": [
    "<span style=\"font-weight:bold; font-size:17pt; color:darkgreen;\">coronavirus_features/</span><span style=\"font-weight:bold; font-size:17pt; color:darkblue;\">coronavirus_porter.csv</span>"
   ]
  },
  {
   "cell_type": "code",
   "execution_count": 41,
   "metadata": {},
   "outputs": [
    {
     "name": "stdout",
     "output_type": "stream",
     "text": [
      "Number of rows: 9\n",
      "\n",
      "Number of columns: 7\n",
      "\n",
      "\n",
      "          helical   beta   coil  veryBuried  veryExposed  someBuried  \\\n",
      "pid                                                                    \n",
      "QHD43415    0.339  0.219  0.442       0.295        0.009       0.357   \n",
      "QHD43416    0.245  0.312  0.443       0.436        0.106       0.287   \n",
      "QHD43417    0.345  0.196  0.458       0.473        0.175       0.218   \n",
      "QHD43418    0.653  0.000  0.347       0.040        0.787       0.080   \n",
      "QHD43419    0.383  0.284  0.333       0.279        0.203       0.320   \n",
      "\n",
      "          someExposed  \n",
      "pid                    \n",
      "QHD43415        0.339  \n",
      "QHD43416        0.171  \n",
      "QHD43417        0.135  \n",
      "QHD43418        0.093  \n",
      "QHD43419        0.198  \n"
     ]
    }
   ],
   "source": [
    "df_coronavirus_porter = load_data(data_loc+'coronavirus_features/coronavirus_porter.csv')"
   ]
  },
  {
   "cell_type": "markdown",
   "metadata": {},
   "source": [
    "<span style=\"font-weight:bold; font-size:17pt; color:darkgreen;\">coronavirus_features/</span><span style=\"font-weight:bold; font-size:17pt; color:darkblue;\">coronavirus_profeat.csv</span>"
   ]
  },
  {
   "cell_type": "code",
   "execution_count": 42,
   "metadata": {},
   "outputs": [
    {
     "name": "stdout",
     "output_type": "stream",
     "text": [
      "Number of rows: 9\n",
      "\n",
      "Number of columns: 849\n",
      "\n",
      "\n",
      "          [G1.1.1.1]  [G1.1.1.2]  [G1.1.1.3]  [G1.1.1.4]  [G1.1.1.5]  \\\n",
      "QHD43415    6.863021    3.184893    5.481962    4.791432    4.918264   \n",
      "QHD43416    6.205813    3.142184    4.870385    3.770621    6.048704   \n",
      "QHD43417    4.727273    2.545455    4.727273    4.000000    5.090909   \n",
      "QHD43418    5.333333    4.000000    1.333333    2.666667    6.666667   \n",
      "QHD43419    8.558559    1.801802    2.702703    3.153153    4.954955   \n",
      "\n",
      "          [G1.1.1.6]  [G1.1.1.7]  [G1.1.1.8]  [G1.1.1.9]  [G1.1.1.10]  \\\n",
      "QHD43415    5.806088    2.043405    4.833709    6.116122     9.413754   \n",
      "QHD43416    6.441477    1.335428    5.970149    4.791830     8.483896   \n",
      "QHD43417    5.090909    2.909091    7.636364    4.000000    10.909091   \n",
      "QHD43418    1.333333    0.000000    4.000000    2.666667    18.666667   \n",
      "QHD43419    6.306306    2.252252    9.009009    3.153153    15.765766   \n",
      "\n",
      "             ...       [G7.1.1.71]  [G7.1.1.72]  [G7.1.1.73]  [G7.1.1.74]  \\\n",
      "QHD43415     ...          0.000527     0.000844     0.001346     0.000922   \n",
      "QHD43416     ...         -0.000696    -0.000724     0.002304     0.003106   \n",
      "QHD43417     ...          0.001989     0.001076    -0.000293     0.001269   \n",
      "QHD43418     ...          0.000490     0.004200    -0.001037     0.002456   \n",
      "QHD43419     ...          0.004468     0.003642     0.004706     0.005608   \n",
      "\n",
      "          [G7.1.1.75]  [G7.1.1.76]  [G7.1.1.77]  [G7.1.1.78]  [G7.1.1.79]  \\\n",
      "QHD43415     0.000320     0.000632     0.001052     0.001342     0.000306   \n",
      "QHD43416     0.000724     0.002734    -0.000548     0.000223    -0.004617   \n",
      "QHD43417     0.004673     0.005930    -0.002706     0.000263     0.003124   \n",
      "QHD43418     0.004847     0.005366     0.002756     0.006903     0.001546   \n",
      "QHD43419     0.004701     0.005750     0.004577     0.006347     0.005715   \n",
      "\n",
      "          [G7.1.1.80]  \n",
      "QHD43415     0.000374  \n",
      "QHD43416    -0.003577  \n",
      "QHD43417     0.004706  \n",
      "QHD43418     0.000493  \n",
      "QHD43419     0.009114  \n",
      "\n",
      "[5 rows x 849 columns]\n"
     ]
    }
   ],
   "source": [
    "df_coronavirus_profeat = load_data(data_loc+'coronavirus_features/coronavirus_profeat.csv')"
   ]
  },
  {
   "cell_type": "markdown",
   "metadata": {},
   "source": [
    "## Join the data\n",
    "\n",
    "Form the complete feature set by joining the data frames according to _cid_ and _pid_.\n",
    "\n",
    "See the [data readme in the Gitbug repository](https://github.com/BrianDavisMath/FDA-COVID19/tree/master/data)."
   ]
  },
  {
   "cell_type": "markdown",
   "metadata": {},
   "source": [
    "### Example Feature Concatenation"
   ]
  },
  {
   "cell_type": "code",
   "execution_count": 46,
   "metadata": {},
   "outputs": [
    {
     "name": "stdout",
     "output_type": "stream",
     "text": [
      "Number of rows: 8,813\n",
      "\n",
      "Number of columns: 1\n",
      "\n",
      "\n",
      "                    0\n",
      "0  3.4248720461173585\n",
      "1   3.612447614836665\n",
      "2   4.810351184958711\n",
      "3   5.747807206060877\n",
      "4  1.9052810017181654\n"
     ]
    }
   ],
   "source": [
    "df_example_features = load_data(data_loc+'example_feature_concatenation.csv')"
   ]
  },
  {
   "cell_type": "code",
   "execution_count": null,
   "metadata": {},
   "outputs": [],
   "source": []
  }
 ],
 "metadata": {
  "kernelspec": {
   "display_name": "Python 3",
   "language": "python",
   "name": "python3"
  },
  "language_info": {
   "codemirror_mode": {
    "name": "ipython",
    "version": 3
   },
   "file_extension": ".py",
   "mimetype": "text/x-python",
   "name": "python",
   "nbconvert_exporter": "python",
   "pygments_lexer": "ipython3",
   "version": "3.6.2"
  }
 },
 "nbformat": 4,
 "nbformat_minor": 2
}
