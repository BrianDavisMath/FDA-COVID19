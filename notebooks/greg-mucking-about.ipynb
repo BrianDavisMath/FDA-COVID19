{
 "cells": [
  {
   "cell_type": "code",
   "execution_count": 1,
   "metadata": {},
   "outputs": [
    {
     "name": "stdout",
     "output_type": "stream",
     "text": [
      "Populating the interactive namespace from numpy and matplotlib\n"
     ]
    },
    {
     "data": {
      "application/javascript": [
       "IPython.notebook.set_autosave_interval(25000)"
      ]
     },
     "metadata": {},
     "output_type": "display_data"
    },
    {
     "name": "stdout",
     "output_type": "stream",
     "text": [
      "Autosaving every 25 seconds\n"
     ]
    }
   ],
   "source": [
    "%pylab inline\n",
    "%autosave 25\n",
    "\n",
    "import pandas as pd"
   ]
  },
  {
   "cell_type": "markdown",
   "metadata": {},
   "source": [
    "## Get some data"
   ]
  },
  {
   "cell_type": "code",
   "execution_count": 2,
   "metadata": {},
   "outputs": [],
   "source": [
    "data_loc = '../data/FDA-COVID19_files_v1.0/'"
   ]
  },
  {
   "cell_type": "code",
   "execution_count": 3,
   "metadata": {},
   "outputs": [
    {
     "name": "stdout",
     "output_type": "stream",
     "text": [
      "rows: 22,172, columns: 16,391\n"
     ]
    },
    {
     "data": {
      "text/html": [
       "<div>\n",
       "<style scoped>\n",
       "    .dataframe tbody tr th:only-of-type {\n",
       "        vertical-align: middle;\n",
       "    }\n",
       "\n",
       "    .dataframe tbody tr th {\n",
       "        vertical-align: top;\n",
       "    }\n",
       "\n",
       "    .dataframe thead th {\n",
       "        text-align: right;\n",
       "    }\n",
       "</style>\n",
       "<table border=\"1\" class=\"dataframe\">\n",
       "  <thead>\n",
       "    <tr style=\"text-align: right;\">\n",
       "      <th></th>\n",
       "      <th>cid</th>\n",
       "      <th>pid</th>\n",
       "      <th>activity</th>\n",
       "      <th>AEK</th>\n",
       "      <th>VEL</th>\n",
       "      <th>EKF</th>\n",
       "      <th>LGM</th>\n",
       "      <th>VKN</th>\n",
       "      <th>LKP</th>\n",
       "      <th>NEE</th>\n",
       "      <th>...</th>\n",
       "      <th>4086</th>\n",
       "      <th>4087</th>\n",
       "      <th>4088</th>\n",
       "      <th>4089</th>\n",
       "      <th>4090</th>\n",
       "      <th>4091</th>\n",
       "      <th>4092</th>\n",
       "      <th>4093</th>\n",
       "      <th>4094</th>\n",
       "      <th>4095</th>\n",
       "    </tr>\n",
       "  </thead>\n",
       "  <tbody>\n",
       "    <tr>\n",
       "      <th>58</th>\n",
       "      <td>204</td>\n",
       "      <td>Q99VQ4</td>\n",
       "      <td>1</td>\n",
       "      <td>-1.000000</td>\n",
       "      <td>-1.0</td>\n",
       "      <td>-1.0</td>\n",
       "      <td>-1.0</td>\n",
       "      <td>-1.0</td>\n",
       "      <td>-1.0</td>\n",
       "      <td>-1.000000</td>\n",
       "      <td>...</td>\n",
       "      <td>0</td>\n",
       "      <td>0</td>\n",
       "      <td>0</td>\n",
       "      <td>0</td>\n",
       "      <td>0</td>\n",
       "      <td>0</td>\n",
       "      <td>0</td>\n",
       "      <td>0</td>\n",
       "      <td>0</td>\n",
       "      <td>0</td>\n",
       "    </tr>\n",
       "    <tr>\n",
       "      <th>97</th>\n",
       "      <td>204</td>\n",
       "      <td>EDT84149</td>\n",
       "      <td>0</td>\n",
       "      <td>3.936758</td>\n",
       "      <td>-1.0</td>\n",
       "      <td>-1.0</td>\n",
       "      <td>-1.0</td>\n",
       "      <td>-1.0</td>\n",
       "      <td>-1.0</td>\n",
       "      <td>-1.000000</td>\n",
       "      <td>...</td>\n",
       "      <td>0</td>\n",
       "      <td>0</td>\n",
       "      <td>0</td>\n",
       "      <td>0</td>\n",
       "      <td>0</td>\n",
       "      <td>0</td>\n",
       "      <td>0</td>\n",
       "      <td>0</td>\n",
       "      <td>0</td>\n",
       "      <td>0</td>\n",
       "    </tr>\n",
       "    <tr>\n",
       "      <th>98</th>\n",
       "      <td>204</td>\n",
       "      <td>AAX80043</td>\n",
       "      <td>0</td>\n",
       "      <td>-1.000000</td>\n",
       "      <td>-1.0</td>\n",
       "      <td>-1.0</td>\n",
       "      <td>-1.0</td>\n",
       "      <td>-1.0</td>\n",
       "      <td>-1.0</td>\n",
       "      <td>-1.000000</td>\n",
       "      <td>...</td>\n",
       "      <td>0</td>\n",
       "      <td>0</td>\n",
       "      <td>0</td>\n",
       "      <td>0</td>\n",
       "      <td>0</td>\n",
       "      <td>0</td>\n",
       "      <td>0</td>\n",
       "      <td>0</td>\n",
       "      <td>0</td>\n",
       "      <td>0</td>\n",
       "    </tr>\n",
       "    <tr>\n",
       "      <th>126</th>\n",
       "      <td>204</td>\n",
       "      <td>P0C6X7</td>\n",
       "      <td>1</td>\n",
       "      <td>-1.000000</td>\n",
       "      <td>-1.0</td>\n",
       "      <td>-1.0</td>\n",
       "      <td>-1.0</td>\n",
       "      <td>-1.0</td>\n",
       "      <td>-1.0</td>\n",
       "      <td>2.367871</td>\n",
       "      <td>...</td>\n",
       "      <td>0</td>\n",
       "      <td>0</td>\n",
       "      <td>0</td>\n",
       "      <td>0</td>\n",
       "      <td>0</td>\n",
       "      <td>0</td>\n",
       "      <td>0</td>\n",
       "      <td>0</td>\n",
       "      <td>0</td>\n",
       "      <td>0</td>\n",
       "    </tr>\n",
       "    <tr>\n",
       "      <th>136</th>\n",
       "      <td>8549</td>\n",
       "      <td>P08659</td>\n",
       "      <td>0</td>\n",
       "      <td>-1.000000</td>\n",
       "      <td>-1.0</td>\n",
       "      <td>-1.0</td>\n",
       "      <td>-1.0</td>\n",
       "      <td>-1.0</td>\n",
       "      <td>-1.0</td>\n",
       "      <td>-1.000000</td>\n",
       "      <td>...</td>\n",
       "      <td>0</td>\n",
       "      <td>0</td>\n",
       "      <td>0</td>\n",
       "      <td>0</td>\n",
       "      <td>0</td>\n",
       "      <td>0</td>\n",
       "      <td>0</td>\n",
       "      <td>0</td>\n",
       "      <td>0</td>\n",
       "      <td>0</td>\n",
       "    </tr>\n",
       "  </tbody>\n",
       "</table>\n",
       "<p>5 rows × 16391 columns</p>\n",
       "</div>"
      ],
      "text/plain": [
       "      cid       pid  activity       AEK  VEL  EKF  LGM  VKN  LKP       NEE  \\\n",
       "58    204    Q99VQ4         1 -1.000000 -1.0 -1.0 -1.0 -1.0 -1.0 -1.000000   \n",
       "97    204  EDT84149         0  3.936758 -1.0 -1.0 -1.0 -1.0 -1.0 -1.000000   \n",
       "98    204  AAX80043         0 -1.000000 -1.0 -1.0 -1.0 -1.0 -1.0 -1.000000   \n",
       "126   204    P0C6X7         1 -1.000000 -1.0 -1.0 -1.0 -1.0 -1.0  2.367871   \n",
       "136  8549    P08659         0 -1.000000 -1.0 -1.0 -1.0 -1.0 -1.0 -1.000000   \n",
       "\n",
       "     ...   4086  4087  4088  4089  4090  4091  4092  4093  4094  4095  \n",
       "58   ...      0     0     0     0     0     0     0     0     0     0  \n",
       "97   ...      0     0     0     0     0     0     0     0     0     0  \n",
       "98   ...      0     0     0     0     0     0     0     0     0     0  \n",
       "126  ...      0     0     0     0     0     0     0     0     0     0  \n",
       "136  ...      0     0     0     0     0     0     0     0     0     0  \n",
       "\n",
       "[5 rows x 16391 columns]"
      ]
     },
     "execution_count": 3,
     "metadata": {},
     "output_type": "execute_result"
    }
   ],
   "source": [
    "store = pd.HDFStore(data_loc + 'sampled_data.h5')\n",
    "df_features = pd.DataFrame(store['df' ])\n",
    "store.close()\n",
    "print('rows: {:,}, columns: {:,}'.format(len(df_features), len(df_features.columns)))\n",
    "\n",
    "df_features.head()"
   ]
  },
  {
   "cell_type": "markdown",
   "metadata": {},
   "source": [
    "## Check column variance\n",
    "\n",
    "How many columns have zero variance? We can drop those."
   ]
  },
  {
   "cell_type": "code",
   "execution_count": 4,
   "metadata": {},
   "outputs": [
    {
     "data": {
      "text/plain": [
       "0"
      ]
     },
     "execution_count": 4,
     "metadata": {},
     "output_type": "execute_result"
    }
   ],
   "source": [
    "no_var_cols = [col for col in df_features.columns if df_features[col].nunique() == 1]\n",
    "\n",
    "len(no_var_cols)"
   ]
  },
  {
   "cell_type": "code",
   "execution_count": 25,
   "metadata": {},
   "outputs": [
    {
     "name": "stdout",
     "output_type": "stream",
     "text": [
      "Dropped 685 columns that have zero variance.\n",
      "rows: 22,172, columns: 16,391\n"
     ]
    }
   ],
   "source": [
    "var_cols = [col for col in df_features.columns if df_features[col].nunique() > 1]\n",
    "df_novar_cols_dropped = df_features[var_cols].copy()\n",
    "\n",
    "print('Dropped {:,} columns that have zero variance.'.format(len(df_features.columns)-len(var_cols)))\n",
    "\n",
    "print('rows: {:,}, columns: {:,}'.format(len(df_novar_cols_dropped), len(df_novar_cols_dropped.columns)))"
   ]
  },
  {
   "cell_type": "markdown",
   "metadata": {},
   "source": [
    "## Scale the data"
   ]
  },
  {
   "cell_type": "code",
   "execution_count": 4,
   "metadata": {},
   "outputs": [],
   "source": [
    "df_features.drop(columns=['cid', 'pid', 'activity'], inplace=True)"
   ]
  },
  {
   "cell_type": "code",
   "execution_count": 5,
   "metadata": {},
   "outputs": [],
   "source": [
    "from sklearn.preprocessing import StandardScaler\n",
    "\n",
    "scaler = StandardScaler()\n",
    "scaled_data = scaler.fit_transform(df_features.values)"
   ]
  },
  {
   "cell_type": "code",
   "execution_count": 6,
   "metadata": {},
   "outputs": [
    {
     "data": {
      "text/plain": [
       "-5.127495838066752e-18"
      ]
     },
     "execution_count": 6,
     "metadata": {},
     "output_type": "execute_result"
    }
   ],
   "source": [
    "scaled_data.T[1000].mean()"
   ]
  },
  {
   "cell_type": "markdown",
   "metadata": {},
   "source": [
    "## Find highly correlated columns"
   ]
  },
  {
   "cell_type": "code",
   "execution_count": 7,
   "metadata": {},
   "outputs": [],
   "source": [
    "df_scaled = pd.DataFrame(scaled_data, columns=df_features.columns)"
   ]
  },
  {
   "cell_type": "code",
   "execution_count": 8,
   "metadata": {},
   "outputs": [
    {
     "data": {
      "text/html": [
       "<div>\n",
       "<style scoped>\n",
       "    .dataframe tbody tr th:only-of-type {\n",
       "        vertical-align: middle;\n",
       "    }\n",
       "\n",
       "    .dataframe tbody tr th {\n",
       "        vertical-align: top;\n",
       "    }\n",
       "\n",
       "    .dataframe thead th {\n",
       "        text-align: right;\n",
       "    }\n",
       "</style>\n",
       "<table border=\"1\" class=\"dataframe\">\n",
       "  <thead>\n",
       "    <tr style=\"text-align: right;\">\n",
       "      <th></th>\n",
       "      <th>AEK</th>\n",
       "      <th>VEL</th>\n",
       "      <th>EKF</th>\n",
       "      <th>LGM</th>\n",
       "      <th>VKN</th>\n",
       "      <th>LKP</th>\n",
       "      <th>NEE</th>\n",
       "      <th>TPN</th>\n",
       "      <th>SRL</th>\n",
       "      <th>KEY</th>\n",
       "      <th>...</th>\n",
       "      <th>4086</th>\n",
       "      <th>4087</th>\n",
       "      <th>4088</th>\n",
       "      <th>4089</th>\n",
       "      <th>4090</th>\n",
       "      <th>4091</th>\n",
       "      <th>4092</th>\n",
       "      <th>4093</th>\n",
       "      <th>4094</th>\n",
       "      <th>4095</th>\n",
       "    </tr>\n",
       "  </thead>\n",
       "  <tbody>\n",
       "    <tr>\n",
       "      <th>0</th>\n",
       "      <td>-0.248058</td>\n",
       "      <td>-0.258672</td>\n",
       "      <td>-0.172979</td>\n",
       "      <td>-0.08229</td>\n",
       "      <td>-0.168249</td>\n",
       "      <td>-0.186884</td>\n",
       "      <td>-0.208103</td>\n",
       "      <td>-0.121681</td>\n",
       "      <td>-0.254555</td>\n",
       "      <td>-0.196883</td>\n",
       "      <td>...</td>\n",
       "      <td>-0.165629</td>\n",
       "      <td>-0.133284</td>\n",
       "      <td>-0.113502</td>\n",
       "      <td>-0.139124</td>\n",
       "      <td>-0.162146</td>\n",
       "      <td>-0.110194</td>\n",
       "      <td>-0.167203</td>\n",
       "      <td>-0.109141</td>\n",
       "      <td>-0.132405</td>\n",
       "      <td>-0.114111</td>\n",
       "    </tr>\n",
       "    <tr>\n",
       "      <th>1</th>\n",
       "      <td>4.806774</td>\n",
       "      <td>-0.258672</td>\n",
       "      <td>-0.172979</td>\n",
       "      <td>-0.08229</td>\n",
       "      <td>-0.168249</td>\n",
       "      <td>-0.186884</td>\n",
       "      <td>-0.208103</td>\n",
       "      <td>-0.121681</td>\n",
       "      <td>-0.254555</td>\n",
       "      <td>3.380128</td>\n",
       "      <td>...</td>\n",
       "      <td>-0.165629</td>\n",
       "      <td>-0.133284</td>\n",
       "      <td>-0.113502</td>\n",
       "      <td>-0.139124</td>\n",
       "      <td>-0.162146</td>\n",
       "      <td>-0.110194</td>\n",
       "      <td>-0.167203</td>\n",
       "      <td>-0.109141</td>\n",
       "      <td>-0.132405</td>\n",
       "      <td>-0.114111</td>\n",
       "    </tr>\n",
       "    <tr>\n",
       "      <th>2</th>\n",
       "      <td>-0.248058</td>\n",
       "      <td>-0.258672</td>\n",
       "      <td>-0.172979</td>\n",
       "      <td>-0.08229</td>\n",
       "      <td>-0.168249</td>\n",
       "      <td>-0.186884</td>\n",
       "      <td>-0.208103</td>\n",
       "      <td>-0.121681</td>\n",
       "      <td>-0.254555</td>\n",
       "      <td>-0.196883</td>\n",
       "      <td>...</td>\n",
       "      <td>-0.165629</td>\n",
       "      <td>-0.133284</td>\n",
       "      <td>-0.113502</td>\n",
       "      <td>-0.139124</td>\n",
       "      <td>-0.162146</td>\n",
       "      <td>-0.110194</td>\n",
       "      <td>-0.167203</td>\n",
       "      <td>-0.109141</td>\n",
       "      <td>-0.132405</td>\n",
       "      <td>-0.114111</td>\n",
       "    </tr>\n",
       "    <tr>\n",
       "      <th>3</th>\n",
       "      <td>-0.248058</td>\n",
       "      <td>-0.258672</td>\n",
       "      <td>-0.172979</td>\n",
       "      <td>-0.08229</td>\n",
       "      <td>-0.168249</td>\n",
       "      <td>-0.186884</td>\n",
       "      <td>4.585527</td>\n",
       "      <td>-0.121681</td>\n",
       "      <td>-0.254555</td>\n",
       "      <td>-0.196883</td>\n",
       "      <td>...</td>\n",
       "      <td>-0.165629</td>\n",
       "      <td>-0.133284</td>\n",
       "      <td>-0.113502</td>\n",
       "      <td>-0.139124</td>\n",
       "      <td>-0.162146</td>\n",
       "      <td>-0.110194</td>\n",
       "      <td>-0.167203</td>\n",
       "      <td>-0.109141</td>\n",
       "      <td>-0.132405</td>\n",
       "      <td>-0.114111</td>\n",
       "    </tr>\n",
       "    <tr>\n",
       "      <th>4</th>\n",
       "      <td>-0.248058</td>\n",
       "      <td>-0.258672</td>\n",
       "      <td>-0.172979</td>\n",
       "      <td>-0.08229</td>\n",
       "      <td>-0.168249</td>\n",
       "      <td>-0.186884</td>\n",
       "      <td>-0.208103</td>\n",
       "      <td>-0.121681</td>\n",
       "      <td>-0.254555</td>\n",
       "      <td>-0.196883</td>\n",
       "      <td>...</td>\n",
       "      <td>-0.165629</td>\n",
       "      <td>-0.133284</td>\n",
       "      <td>-0.113502</td>\n",
       "      <td>-0.139124</td>\n",
       "      <td>-0.162146</td>\n",
       "      <td>-0.110194</td>\n",
       "      <td>-0.167203</td>\n",
       "      <td>-0.109141</td>\n",
       "      <td>-0.132405</td>\n",
       "      <td>-0.114111</td>\n",
       "    </tr>\n",
       "  </tbody>\n",
       "</table>\n",
       "<p>5 rows × 16388 columns</p>\n",
       "</div>"
      ],
      "text/plain": [
       "        AEK       VEL       EKF      LGM       VKN       LKP       NEE  \\\n",
       "0 -0.248058 -0.258672 -0.172979 -0.08229 -0.168249 -0.186884 -0.208103   \n",
       "1  4.806774 -0.258672 -0.172979 -0.08229 -0.168249 -0.186884 -0.208103   \n",
       "2 -0.248058 -0.258672 -0.172979 -0.08229 -0.168249 -0.186884 -0.208103   \n",
       "3 -0.248058 -0.258672 -0.172979 -0.08229 -0.168249 -0.186884  4.585527   \n",
       "4 -0.248058 -0.258672 -0.172979 -0.08229 -0.168249 -0.186884 -0.208103   \n",
       "\n",
       "        TPN       SRL       KEY    ...         4086      4087      4088  \\\n",
       "0 -0.121681 -0.254555 -0.196883    ...    -0.165629 -0.133284 -0.113502   \n",
       "1 -0.121681 -0.254555  3.380128    ...    -0.165629 -0.133284 -0.113502   \n",
       "2 -0.121681 -0.254555 -0.196883    ...    -0.165629 -0.133284 -0.113502   \n",
       "3 -0.121681 -0.254555 -0.196883    ...    -0.165629 -0.133284 -0.113502   \n",
       "4 -0.121681 -0.254555 -0.196883    ...    -0.165629 -0.133284 -0.113502   \n",
       "\n",
       "       4089      4090      4091      4092      4093      4094      4095  \n",
       "0 -0.139124 -0.162146 -0.110194 -0.167203 -0.109141 -0.132405 -0.114111  \n",
       "1 -0.139124 -0.162146 -0.110194 -0.167203 -0.109141 -0.132405 -0.114111  \n",
       "2 -0.139124 -0.162146 -0.110194 -0.167203 -0.109141 -0.132405 -0.114111  \n",
       "3 -0.139124 -0.162146 -0.110194 -0.167203 -0.109141 -0.132405 -0.114111  \n",
       "4 -0.139124 -0.162146 -0.110194 -0.167203 -0.109141 -0.132405 -0.114111  \n",
       "\n",
       "[5 rows x 16388 columns]"
      ]
     },
     "execution_count": 8,
     "metadata": {},
     "output_type": "execute_result"
    }
   ],
   "source": [
    "df_scaled.head()"
   ]
  },
  {
   "cell_type": "code",
   "execution_count": 9,
   "metadata": {},
   "outputs": [
    {
     "data": {
      "text/plain": [
       "[(1, 0),\n",
       " (2, 0),\n",
       " (2, 1),\n",
       " (3, 0),\n",
       " (3, 1),\n",
       " (3, 2),\n",
       " (4, 0),\n",
       " (4, 1),\n",
       " (4, 2),\n",
       " (4, 3),\n",
       " (5, 0),\n",
       " (5, 1),\n",
       " (5, 2),\n",
       " (5, 3),\n",
       " (5, 4),\n",
       " (6, 0),\n",
       " (6, 1),\n",
       " (6, 2),\n",
       " (6, 3),\n",
       " (6, 4),\n",
       " (6, 5)]"
      ]
     },
     "execution_count": 9,
     "metadata": {},
     "output_type": "execute_result"
    }
   ],
   "source": [
    "a = [0, 1, 2, 3, 4, 5, 6]\n",
    "\n",
    "res = [(x, y) for i,x in enumerate(a) for j,y in enumerate(a) if i > j]\n",
    "\n",
    "res"
   ]
  },
  {
   "cell_type": "code",
   "execution_count": 10,
   "metadata": {},
   "outputs": [
    {
     "data": {
      "text/plain": [
       "0.9882117688026186"
      ]
     },
     "execution_count": 10,
     "metadata": {},
     "output_type": "execute_result"
    }
   ],
   "source": [
    "b = [1,1,2,3,4,5,6]\n",
    "np.corrcoef(a, b)[0][1]"
   ]
  },
  {
   "cell_type": "code",
   "execution_count": 54,
   "metadata": {},
   "outputs": [],
   "source": [
    "cols = df_scaled.columns.tolist()\n",
    "\n",
    "out = [(x, y) for i,x in enumerate(cols) for j,y in enumerate(cols) if i > j and \n",
    "       np.corrcoef(df_scaled[x], df_scaled[y])[0][1] > 0.95]"
   ]
  },
  {
   "cell_type": "code",
   "execution_count": 55,
   "metadata": {},
   "outputs": [
    {
     "data": {
      "text/plain": [
       "[]"
      ]
     },
     "execution_count": 55,
     "metadata": {},
     "output_type": "execute_result"
    }
   ],
   "source": [
    "out"
   ]
  },
  {
   "cell_type": "code",
   "execution_count": null,
   "metadata": {},
   "outputs": [],
   "source": [
    "df_active = df_interactions[df_interactions['activity']==1]\n",
    "df_active = df_active.astype({'cid': 'category'})\n",
    "df_active.head()"
   ]
  },
  {
   "cell_type": "code",
   "execution_count": null,
   "metadata": {},
   "outputs": [],
   "source": [
    "num_active = len(df_active)\n",
    "total = len(df_interactions)\n",
    "print('There are {:,} active entries out of {:,} interactions ({:.2%}).'.format(num_active, total, num_active/total))"
   ]
  },
  {
   "cell_type": "code",
   "execution_count": null,
   "metadata": {},
   "outputs": [],
   "source": [
    "print('number of unique cids is {:,}.'.format(df_active['cid'].nunique()))\n",
    "print('number of unique pids is {:,}.'.format(df_active['pid'].nunique()))    "
   ]
  },
  {
   "cell_type": "code",
   "execution_count": null,
   "metadata": {},
   "outputs": [],
   "source": [
    "import seaborn as sns; sns.set(style=\"white\", color_codes=True)\n",
    "\n",
    "pyplot.figure(figsize=(15, 15))\n",
    "df_heatmap = df_active[:100].pivot_table(values='activity', index='cid', columns='pid', aggfunc=np.sum)\n",
    "sns.heatmap(df_heatmap, annot=True)\n",
    "plt.show()"
   ]
  },
  {
   "cell_type": "code",
   "execution_count": null,
   "metadata": {},
   "outputs": [],
   "source": [
    "s_cid = df_active['cid'].value_counts()\n",
    "s_pid = df_active['pid'].value_counts()\n",
    "\n",
    "print(len(s_cid[s_cid > 10]))\n",
    "\n",
    "print(len(s_pid[s_pid > 10]))"
   ]
  },
  {
   "cell_type": "code",
   "execution_count": null,
   "metadata": {},
   "outputs": [],
   "source": [
    "import matplotlib.pyplot as plt\n",
    "\n",
    "#s2 = pd.Series([1,2,3,4,5,2,3,333,2,123,434,1,2,3,1,11,11,432,3,2,4,3,3,3,54,34,24,2,223,2535334,3,1,1,0,0,0,0,0,0,0,0,0,0,0,0,0,0,0,0,30000, 2,2,2,2,2,2,2,2,2,2,2,2,2,2,2,2,2,2,2,2,2,2,2,2,2,2,2,2,2,2,2])\n",
    "#prob = s2.value_counts(normalize=True)\n",
    "#threshold = 0.02\n",
    "#mask = prob > threshold\n",
    "#tail_prob = prob.loc[~mask].sum()\n",
    "#prob = prob.loc[mask]\n",
    "#prob['other'] = tail_prob\n",
    "\n",
    "pyplot.figure(figsize=(20, 5))\n",
    "s_cid[:100].plot(kind='bar')\n",
    "plt.xticks(rotation=90)\n",
    "plt.show()\n"
   ]
  },
  {
   "cell_type": "code",
   "execution_count": null,
   "metadata": {},
   "outputs": [],
   "source": [
    "df_inactive = df_interactions[df_interactions['activity']==0]\n",
    "df_inactive = df_inactive.astype({'cid': 'category'})\n",
    "df_inactive.head()"
   ]
  },
  {
   "cell_type": "code",
   "execution_count": null,
   "metadata": {},
   "outputs": [],
   "source": []
  }
 ],
 "metadata": {
  "kernelspec": {
   "display_name": "Python 3",
   "language": "python",
   "name": "python3"
  },
  "language_info": {
   "codemirror_mode": {
    "name": "ipython",
    "version": 3
   },
   "file_extension": ".py",
   "mimetype": "text/x-python",
   "name": "python",
   "nbconvert_exporter": "python",
   "pygments_lexer": "ipython3",
   "version": "3.6.2"
  }
 },
 "nbformat": 4,
 "nbformat_minor": 4
}
