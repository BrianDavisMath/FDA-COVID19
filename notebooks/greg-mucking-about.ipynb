{
 "cells": [
  {
   "cell_type": "code",
   "execution_count": 1,
   "metadata": {},
   "outputs": [
    {
     "name": "stdout",
     "output_type": "stream",
     "text": [
      "Populating the interactive namespace from numpy and matplotlib\n"
     ]
    },
    {
     "data": {
      "application/javascript": [
       "IPython.notebook.set_autosave_interval(25000)"
      ]
     },
     "metadata": {},
     "output_type": "display_data"
    },
    {
     "name": "stdout",
     "output_type": "stream",
     "text": [
      "Autosaving every 25 seconds\n"
     ]
    }
   ],
   "source": [
    "%pylab inline\n",
    "%autosave 25\n",
    "\n",
    "import pandas as pd"
   ]
  },
  {
   "cell_type": "code",
   "execution_count": null,
   "metadata": {},
   "outputs": [],
   "source": [
    "df_active = df_interactions[df_interactions['activity']==1]\n",
    "df_active = df_active.astype({'cid': 'category'})\n",
    "df_active.head()"
   ]
  },
  {
   "cell_type": "code",
   "execution_count": null,
   "metadata": {},
   "outputs": [],
   "source": [
    "num_active = len(df_active)\n",
    "total = len(df_interactions)\n",
    "print('There are {:,} active entries out of {:,} interactions ({:.2%}).'.format(num_active, total, num_active/total))"
   ]
  },
  {
   "cell_type": "code",
   "execution_count": null,
   "metadata": {},
   "outputs": [],
   "source": [
    "print('number of unique cids is {:,}.'.format(df_active['cid'].nunique()))\n",
    "print('number of unique pids is {:,}.'.format(df_active['pid'].nunique()))    "
   ]
  },
  {
   "cell_type": "code",
   "execution_count": null,
   "metadata": {},
   "outputs": [],
   "source": [
    "import seaborn as sns; sns.set(style=\"white\", color_codes=True)\n",
    "\n",
    "pyplot.figure(figsize=(15, 15))\n",
    "df_heatmap = df_active[:100].pivot_table(values='activity', index='cid', columns='pid', aggfunc=np.sum)\n",
    "sns.heatmap(df_heatmap, annot=True)\n",
    "plt.show()"
   ]
  },
  {
   "cell_type": "code",
   "execution_count": null,
   "metadata": {},
   "outputs": [],
   "source": [
    "s_cid = df_active['cid'].value_counts()\n",
    "s_pid = df_active['pid'].value_counts()\n",
    "\n",
    "print(len(s_cid[s_cid > 10]))\n",
    "\n",
    "print(len(s_pid[s_pid > 10]))"
   ]
  },
  {
   "cell_type": "code",
   "execution_count": null,
   "metadata": {},
   "outputs": [],
   "source": [
    "import matplotlib.pyplot as plt\n",
    "\n",
    "#s2 = pd.Series([1,2,3,4,5,2,3,333,2,123,434,1,2,3,1,11,11,432,3,2,4,3,3,3,54,34,24,2,223,2535334,3,1,1,0,0,0,0,0,0,0,0,0,0,0,0,0,0,0,0,30000, 2,2,2,2,2,2,2,2,2,2,2,2,2,2,2,2,2,2,2,2,2,2,2,2,2,2,2,2,2,2,2])\n",
    "#prob = s2.value_counts(normalize=True)\n",
    "#threshold = 0.02\n",
    "#mask = prob > threshold\n",
    "#tail_prob = prob.loc[~mask].sum()\n",
    "#prob = prob.loc[mask]\n",
    "#prob['other'] = tail_prob\n",
    "\n",
    "pyplot.figure(figsize=(20, 5))\n",
    "s_cid[:100].plot(kind='bar')\n",
    "plt.xticks(rotation=90)\n",
    "plt.show()\n"
   ]
  },
  {
   "cell_type": "code",
   "execution_count": null,
   "metadata": {},
   "outputs": [],
   "source": [
    "df_inactive = df_interactions[df_interactions['activity']==0]\n",
    "df_inactive = df_inactive.astype({'cid': 'category'})\n",
    "df_inactive.head()"
   ]
  },
  {
   "cell_type": "code",
   "execution_count": null,
   "metadata": {},
   "outputs": [],
   "source": []
  }
 ],
 "metadata": {
  "kernelspec": {
   "display_name": "Python 3",
   "language": "python",
   "name": "python3"
  },
  "language_info": {
   "codemirror_mode": {
    "name": "ipython",
    "version": 3
   },
   "file_extension": ".py",
   "mimetype": "text/x-python",
   "name": "python",
   "nbconvert_exporter": "python",
   "pygments_lexer": "ipython3",
   "version": "3.6.2"
  }
 },
 "nbformat": 4,
 "nbformat_minor": 4
}
