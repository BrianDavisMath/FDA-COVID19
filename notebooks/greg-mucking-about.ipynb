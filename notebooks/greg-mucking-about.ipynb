{
 "cells": [
  {
   "cell_type": "code",
   "execution_count": 1,
   "metadata": {},
   "outputs": [
    {
     "name": "stdout",
     "output_type": "stream",
     "text": [
      "Populating the interactive namespace from numpy and matplotlib\n"
     ]
    },
    {
     "data": {
      "application/javascript": [
       "IPython.notebook.set_autosave_interval(25000)"
      ]
     },
     "metadata": {},
     "output_type": "display_data"
    },
    {
     "name": "stdout",
     "output_type": "stream",
     "text": [
      "Autosaving every 25 seconds\n"
     ]
    }
   ],
   "source": [
    "%pylab inline\n",
    "%autosave 25\n",
    "\n",
    "import pandas as pd"
   ]
  },
  {
   "cell_type": "markdown",
   "metadata": {},
   "source": [
    "## Get some data"
   ]
  },
  {
   "cell_type": "code",
   "execution_count": 2,
   "metadata": {},
   "outputs": [],
   "source": [
    "data_loc = '../data/FDA-COVID19_files_v1.0/'"
   ]
  },
  {
   "cell_type": "code",
   "execution_count": 3,
   "metadata": {},
   "outputs": [
    {
     "name": "stdout",
     "output_type": "stream",
     "text": [
      "rows: 22,172, columns: 16,391\n"
     ]
    },
    {
     "data": {
      "text/html": [
       "<div>\n",
       "<style scoped>\n",
       "    .dataframe tbody tr th:only-of-type {\n",
       "        vertical-align: middle;\n",
       "    }\n",
       "\n",
       "    .dataframe tbody tr th {\n",
       "        vertical-align: top;\n",
       "    }\n",
       "\n",
       "    .dataframe thead th {\n",
       "        text-align: right;\n",
       "    }\n",
       "</style>\n",
       "<table border=\"1\" class=\"dataframe\">\n",
       "  <thead>\n",
       "    <tr style=\"text-align: right;\">\n",
       "      <th></th>\n",
       "      <th>cid</th>\n",
       "      <th>pid</th>\n",
       "      <th>activity</th>\n",
       "      <th>AEK</th>\n",
       "      <th>VEL</th>\n",
       "      <th>EKF</th>\n",
       "      <th>LGM</th>\n",
       "      <th>VKN</th>\n",
       "      <th>LKP</th>\n",
       "      <th>NEE</th>\n",
       "      <th>...</th>\n",
       "      <th>4086</th>\n",
       "      <th>4087</th>\n",
       "      <th>4088</th>\n",
       "      <th>4089</th>\n",
       "      <th>4090</th>\n",
       "      <th>4091</th>\n",
       "      <th>4092</th>\n",
       "      <th>4093</th>\n",
       "      <th>4094</th>\n",
       "      <th>4095</th>\n",
       "    </tr>\n",
       "  </thead>\n",
       "  <tbody>\n",
       "    <tr>\n",
       "      <th>58</th>\n",
       "      <td>204</td>\n",
       "      <td>Q99VQ4</td>\n",
       "      <td>1</td>\n",
       "      <td>-1.000000</td>\n",
       "      <td>-1.0</td>\n",
       "      <td>-1.0</td>\n",
       "      <td>-1.0</td>\n",
       "      <td>-1.0</td>\n",
       "      <td>-1.0</td>\n",
       "      <td>-1.000000</td>\n",
       "      <td>...</td>\n",
       "      <td>0</td>\n",
       "      <td>0</td>\n",
       "      <td>0</td>\n",
       "      <td>0</td>\n",
       "      <td>0</td>\n",
       "      <td>0</td>\n",
       "      <td>0</td>\n",
       "      <td>0</td>\n",
       "      <td>0</td>\n",
       "      <td>0</td>\n",
       "    </tr>\n",
       "    <tr>\n",
       "      <th>97</th>\n",
       "      <td>204</td>\n",
       "      <td>EDT84149</td>\n",
       "      <td>0</td>\n",
       "      <td>3.936758</td>\n",
       "      <td>-1.0</td>\n",
       "      <td>-1.0</td>\n",
       "      <td>-1.0</td>\n",
       "      <td>-1.0</td>\n",
       "      <td>-1.0</td>\n",
       "      <td>-1.000000</td>\n",
       "      <td>...</td>\n",
       "      <td>0</td>\n",
       "      <td>0</td>\n",
       "      <td>0</td>\n",
       "      <td>0</td>\n",
       "      <td>0</td>\n",
       "      <td>0</td>\n",
       "      <td>0</td>\n",
       "      <td>0</td>\n",
       "      <td>0</td>\n",
       "      <td>0</td>\n",
       "    </tr>\n",
       "    <tr>\n",
       "      <th>98</th>\n",
       "      <td>204</td>\n",
       "      <td>AAX80043</td>\n",
       "      <td>0</td>\n",
       "      <td>-1.000000</td>\n",
       "      <td>-1.0</td>\n",
       "      <td>-1.0</td>\n",
       "      <td>-1.0</td>\n",
       "      <td>-1.0</td>\n",
       "      <td>-1.0</td>\n",
       "      <td>-1.000000</td>\n",
       "      <td>...</td>\n",
       "      <td>0</td>\n",
       "      <td>0</td>\n",
       "      <td>0</td>\n",
       "      <td>0</td>\n",
       "      <td>0</td>\n",
       "      <td>0</td>\n",
       "      <td>0</td>\n",
       "      <td>0</td>\n",
       "      <td>0</td>\n",
       "      <td>0</td>\n",
       "    </tr>\n",
       "    <tr>\n",
       "      <th>126</th>\n",
       "      <td>204</td>\n",
       "      <td>P0C6X7</td>\n",
       "      <td>1</td>\n",
       "      <td>-1.000000</td>\n",
       "      <td>-1.0</td>\n",
       "      <td>-1.0</td>\n",
       "      <td>-1.0</td>\n",
       "      <td>-1.0</td>\n",
       "      <td>-1.0</td>\n",
       "      <td>2.367871</td>\n",
       "      <td>...</td>\n",
       "      <td>0</td>\n",
       "      <td>0</td>\n",
       "      <td>0</td>\n",
       "      <td>0</td>\n",
       "      <td>0</td>\n",
       "      <td>0</td>\n",
       "      <td>0</td>\n",
       "      <td>0</td>\n",
       "      <td>0</td>\n",
       "      <td>0</td>\n",
       "    </tr>\n",
       "    <tr>\n",
       "      <th>136</th>\n",
       "      <td>8549</td>\n",
       "      <td>P08659</td>\n",
       "      <td>0</td>\n",
       "      <td>-1.000000</td>\n",
       "      <td>-1.0</td>\n",
       "      <td>-1.0</td>\n",
       "      <td>-1.0</td>\n",
       "      <td>-1.0</td>\n",
       "      <td>-1.0</td>\n",
       "      <td>-1.000000</td>\n",
       "      <td>...</td>\n",
       "      <td>0</td>\n",
       "      <td>0</td>\n",
       "      <td>0</td>\n",
       "      <td>0</td>\n",
       "      <td>0</td>\n",
       "      <td>0</td>\n",
       "      <td>0</td>\n",
       "      <td>0</td>\n",
       "      <td>0</td>\n",
       "      <td>0</td>\n",
       "    </tr>\n",
       "  </tbody>\n",
       "</table>\n",
       "<p>5 rows × 16391 columns</p>\n",
       "</div>"
      ],
      "text/plain": [
       "      cid       pid  activity       AEK  VEL  EKF  LGM  VKN  LKP       NEE  \\\n",
       "58    204    Q99VQ4         1 -1.000000 -1.0 -1.0 -1.0 -1.0 -1.0 -1.000000   \n",
       "97    204  EDT84149         0  3.936758 -1.0 -1.0 -1.0 -1.0 -1.0 -1.000000   \n",
       "98    204  AAX80043         0 -1.000000 -1.0 -1.0 -1.0 -1.0 -1.0 -1.000000   \n",
       "126   204    P0C6X7         1 -1.000000 -1.0 -1.0 -1.0 -1.0 -1.0  2.367871   \n",
       "136  8549    P08659         0 -1.000000 -1.0 -1.0 -1.0 -1.0 -1.0 -1.000000   \n",
       "\n",
       "     ...   4086  4087  4088  4089  4090  4091  4092  4093  4094  4095  \n",
       "58   ...      0     0     0     0     0     0     0     0     0     0  \n",
       "97   ...      0     0     0     0     0     0     0     0     0     0  \n",
       "98   ...      0     0     0     0     0     0     0     0     0     0  \n",
       "126  ...      0     0     0     0     0     0     0     0     0     0  \n",
       "136  ...      0     0     0     0     0     0     0     0     0     0  \n",
       "\n",
       "[5 rows x 16391 columns]"
      ]
     },
     "execution_count": 3,
     "metadata": {},
     "output_type": "execute_result"
    }
   ],
   "source": [
    "store = pd.HDFStore(data_loc + 'sampled_data.h5')\n",
    "df_features = pd.DataFrame(store['df' ])\n",
    "store.close()\n",
    "print('rows: {:,}, columns: {:,}'.format(len(df_features), len(df_features.columns)))\n",
    "\n",
    "df_features.head()"
   ]
  },
  {
   "cell_type": "markdown",
   "metadata": {},
   "source": [
    "## Check column variance\n",
    "\n",
    "How many columns have zero variance? We can drop those."
   ]
  },
  {
   "cell_type": "code",
   "execution_count": 24,
   "metadata": {},
   "outputs": [
    {
     "data": {
      "text/plain": [
       "0"
      ]
     },
     "execution_count": 24,
     "metadata": {},
     "output_type": "execute_result"
    }
   ],
   "source": [
    "no_var_cols = [col for col in df_features.columns if df_features[col].nunique() == 1]\n",
    "\n",
    "len(no_var_cols)"
   ]
  },
  {
   "cell_type": "code",
   "execution_count": null,
   "metadata": {},
   "outputs": [],
   "source": [
    "var_cols = [col for col in df_features.columns if df_features[col].nunique() > 1]\n",
    "df_novar_cols_dropped = df_features[var_cols].copy()\n",
    "\n",
    "print('Dropped {:,} columns that have zero variance.'.format(len(df_features.columns)-len(var_cols)))\n",
    "\n",
    "print('rows: {:,}, columns: {:,}'.format(len(df_novar_cols_dropped), len(df_novar_cols_dropped.columns)))"
   ]
  },
  {
   "cell_type": "markdown",
   "metadata": {},
   "source": [
    "## Scale the data"
   ]
  },
  {
   "cell_type": "code",
   "execution_count": null,
   "metadata": {},
   "outputs": [],
   "source": [
    "df_features.drop(columns=['cid', 'pid', 'activity'], inplace=True)"
   ]
  },
  {
   "cell_type": "code",
   "execution_count": null,
   "metadata": {},
   "outputs": [],
   "source": [
    "from sklearn.preprocessing import StandardScaler\n",
    "\n",
    "scaler = StandardScaler()\n",
    "scaled_data = scaler.fit_transform(df_features.values)"
   ]
  },
  {
   "cell_type": "code",
   "execution_count": null,
   "metadata": {},
   "outputs": [],
   "source": [
    "scaled_data.T[1000].mean()"
   ]
  },
  {
   "cell_type": "markdown",
   "metadata": {},
   "source": [
    "## Find highly correlated columns"
   ]
  },
  {
   "cell_type": "code",
   "execution_count": null,
   "metadata": {},
   "outputs": [],
   "source": [
    "df_scaled = pd.DataFrame(scaled_data, columns=df_features.columns)"
   ]
  },
  {
   "cell_type": "code",
   "execution_count": null,
   "metadata": {},
   "outputs": [],
   "source": [
    "df_scaled.head()"
   ]
  },
  {
   "cell_type": "code",
   "execution_count": null,
   "metadata": {},
   "outputs": [],
   "source": [
    "a = [0, 1, 2, 3, 4, 5, 6]\n",
    "\n",
    "res = [(x, y) for i,x in enumerate(a) for j,y in enumerate(a) if i > j]\n",
    "\n",
    "res"
   ]
  },
  {
   "cell_type": "code",
   "execution_count": null,
   "metadata": {},
   "outputs": [],
   "source": [
    "b = [1,1,2,3,4,5,6]\n",
    "np.corrcoef(a, b)[0][1]"
   ]
  },
  {
   "cell_type": "code",
   "execution_count": null,
   "metadata": {},
   "outputs": [],
   "source": [
    "from IPython.display import display, clear_output\n",
    "\n",
    "cols = df_scaled.columns.tolist()\n",
    "\n",
    "corr_cols = []\n",
    "\n",
    "def func(x, y):\n",
    "    i = len(corr_cols)\n",
    "    clear_output(wait=True)\n",
    "    display('processed column {:,}'.format(i))\n",
    "        \n",
    "    corr_cols.append(x)\n",
    "    return (x, y)\n",
    "    \n",
    "\n",
    "out = [func(x, y) for i,x in enumerate(cols) for j,y in enumerate(cols) if i > j and \n",
    "       np.corrcoef(df_scaled[x], df_scaled[y])[0][1] > 0.9]"
   ]
  },
  {
   "cell_type": "code",
   "execution_count": null,
   "metadata": {},
   "outputs": [],
   "source": [
    "len(out)"
   ]
  },
  {
   "cell_type": "code",
   "execution_count": null,
   "metadata": {},
   "outputs": [],
   "source": []
  },
  {
   "cell_type": "code",
   "execution_count": null,
   "metadata": {},
   "outputs": [],
   "source": []
  },
  {
   "cell_type": "markdown",
   "metadata": {},
   "source": [
    "## Find correlated columns within the fingerpirnt data"
   ]
  },
  {
   "cell_type": "code",
   "execution_count": 4,
   "metadata": {},
   "outputs": [
    {
     "name": "stdout",
     "output_type": "stream",
     "text": [
      "Number of rows: 91,756\n",
      "\n",
      "Number of columns: 4,096\n",
      "\n"
     ]
    }
   ],
   "source": [
    "df_fingerprints = pd.read_csv(data_loc+'drug_features/fingerprints.csv', index_col=0)\n",
    "\n",
    "print('Number of rows: {:,}\\n'.format(len(df_fingerprints)))\n",
    "print('Number of columns: {:,}\\n'.format(len(df_fingerprints.columns)))"
   ]
  },
  {
   "cell_type": "code",
   "execution_count": 5,
   "metadata": {},
   "outputs": [
    {
     "data": {
      "text/plain": [
       "8386560.0"
      ]
     },
     "execution_count": 5,
     "metadata": {},
     "output_type": "execute_result"
    }
   ],
   "source": [
    "num_cols = len(df_fingerprints.columns)\n",
    "num_pairwise_ops = (num_cols**2-num_cols)/2.0\n",
    "num_pairwise_ops"
   ]
  },
  {
   "cell_type": "code",
   "execution_count": null,
   "metadata": {},
   "outputs": [],
   "source": []
  },
  {
   "cell_type": "code",
   "execution_count": null,
   "metadata": {},
   "outputs": [],
   "source": []
  },
  {
   "cell_type": "code",
   "execution_count": null,
   "metadata": {},
   "outputs": [],
   "source": [
    "# See which correlation method is fastest:"
   ]
  },
  {
   "cell_type": "code",
   "execution_count": null,
   "metadata": {},
   "outputs": [],
   "source": [
    "%%timeit\n",
    "np.corrcoef(df_fingerprints['1947'], df_fingerprints['389'])"
   ]
  },
  {
   "cell_type": "code",
   "execution_count": null,
   "metadata": {},
   "outputs": [],
   "source": []
  },
  {
   "cell_type": "markdown",
   "metadata": {},
   "source": [
    "### See https://stackoverflow.com/questions/33650188/efficient-pairwise-correlation-for-two-matrices-of-features"
   ]
  },
  {
   "cell_type": "code",
   "execution_count": null,
   "metadata": {},
   "outputs": [],
   "source": [
    "fingerprint_cols = df_fingerprints.columns.tolist()\n",
    "df_sampled_fingerprint = df_features[fingerprint_cols].sample(n=1000, random_state=23)"
   ]
  },
  {
   "cell_type": "code",
   "execution_count": null,
   "metadata": {},
   "outputs": [],
   "source": [
    "# Get number of rows in either A or B\n",
    "N = len(df_sampled_fingerprint)\n",
    "\n",
    "def corr_func(a, b):\n",
    "    A = np.array([df_sampled_fingerprint[a].values]).T\n",
    "    B = np.array([df_sampled_fingerprint[b].values]).T\n",
    "\n",
    "    # Store columnw-wise in A and B, as they would be used at few places\n",
    "    sA = A.sum(0)\n",
    "    sB = B.sum(0)\n",
    "\n",
    "    # Basically there are four parts in the formula. We would compute them one-by-one\n",
    "    p1 = N*np.dot(B.T,A)\n",
    "    p2 = sA*sB[:,None]\n",
    "    p3 = N*((B**2).sum(0)) - (sB**2)\n",
    "    p4 = N*((A**2).sum(0)) - (sA**2)\n",
    "\n",
    "    # Finally compute Pearson Correlation Coefficient as 2D array \n",
    "    pcorr = ((p1 - p2)/np.sqrt(p4*p3[:,None]))\n",
    "\n",
    "    # Get the element corresponding to absolute argmax along the columns \n",
    "    return pcorr[np.nanargmax(np.abs(pcorr),axis=0),np.arange(pcorr.shape[1])][0]"
   ]
  },
  {
   "cell_type": "code",
   "execution_count": null,
   "metadata": {},
   "outputs": [],
   "source": [
    "%%timeit\n",
    "corr_func('1947', '389')"
   ]
  },
  {
   "cell_type": "code",
   "execution_count": null,
   "metadata": {},
   "outputs": [],
   "source": [
    "# corr_func is faster than np.corrcoef"
   ]
  },
  {
   "cell_type": "code",
   "execution_count": null,
   "metadata": {},
   "outputs": [],
   "source": [
    "from IPython.display import display, clear_output\n",
    "\n",
    "cols = df_sampled_fingerprint.columns.tolist()\n",
    "\n",
    "corr_cols = []\n",
    "\n",
    "def func(x, y):\n",
    "    i = len(corr_cols)\n",
    "    clear_output(wait=True)\n",
    "    display('processed column pair {:,} out of {:,}'.format(i, num_pairwise_ops))\n",
    "        \n",
    "    corr_cols.append(x)\n",
    "    return (x, y)\n",
    "    \n",
    "\n",
    "out = [func(x, y) for i,x in enumerate(cols) for j,y in enumerate(cols) if i > j and \n",
    "       corr_func(x, y) > 0.9]"
   ]
  },
  {
   "cell_type": "code",
   "execution_count": null,
   "metadata": {},
   "outputs": [],
   "source": [
    "# It's still really slow"
   ]
  },
  {
   "cell_type": "code",
   "execution_count": null,
   "metadata": {},
   "outputs": [],
   "source": [
    "out"
   ]
  },
  {
   "cell_type": "code",
   "execution_count": null,
   "metadata": {},
   "outputs": [],
   "source": []
  },
  {
   "cell_type": "code",
   "execution_count": null,
   "metadata": {},
   "outputs": [],
   "source": []
  },
  {
   "cell_type": "code",
   "execution_count": null,
   "metadata": {},
   "outputs": [],
   "source": []
  },
  {
   "cell_type": "markdown",
   "metadata": {},
   "source": [
    "### Let's try https://deepgraph.readthedocs.io/en/latest/tutorials/pairwise_correlations.html"
   ]
  },
  {
   "cell_type": "code",
   "execution_count": 5,
   "metadata": {},
   "outputs": [],
   "source": [
    "# use only the rows from the sampled data set\n",
    "# and only the columns from the fingerprints data\n",
    "fingerprint_cols = df_fingerprints.columns.tolist()\n",
    "df_sampled_fingerprint = df_features[fingerprint_cols]\n",
    "\n",
    "del df_fingerprints\n",
    "del df_features"
   ]
  },
  {
   "cell_type": "code",
   "execution_count": 9,
   "metadata": {},
   "outputs": [
    {
     "data": {
      "text/plain": [
       "(22172, 4096)"
      ]
     },
     "execution_count": 9,
     "metadata": {},
     "output_type": "execute_result"
    }
   ],
   "source": [
    "df_sampled_fingerprint.shape"
   ]
  },
  {
   "cell_type": "code",
   "execution_count": 6,
   "metadata": {},
   "outputs": [
    {
     "name": "stderr",
     "output_type": "stream",
     "text": [
      "/Library/Frameworks/Python.framework/Versions/3.6/lib/python3.6/site-packages/deepgraph/deepgraph.py:53: UserWarning: \n",
      "This call to matplotlib.use() has no effect because the backend has already\n",
      "been chosen; matplotlib.use() must be called *before* pylab, matplotlib.pyplot,\n",
      "or matplotlib.backends is imported for the first time.\n",
      "\n",
      "The backend was *originally* set to 'module://ipykernel.pylab.backend_inline' by the following code:\n",
      "  File \"/Library/Frameworks/Python.framework/Versions/3.6/lib/python3.6/runpy.py\", line 193, in _run_module_as_main\n",
      "    \"__main__\", mod_spec)\n",
      "  File \"/Library/Frameworks/Python.framework/Versions/3.6/lib/python3.6/runpy.py\", line 85, in _run_code\n",
      "    exec(code, run_globals)\n",
      "  File \"/Library/Frameworks/Python.framework/Versions/3.6/lib/python3.6/site-packages/ipykernel_launcher.py\", line 16, in <module>\n",
      "    app.launch_new_instance()\n",
      "  File \"/Library/Frameworks/Python.framework/Versions/3.6/lib/python3.6/site-packages/traitlets/config/application.py\", line 658, in launch_instance\n",
      "    app.start()\n",
      "  File \"/Library/Frameworks/Python.framework/Versions/3.6/lib/python3.6/site-packages/ipykernel/kernelapp.py\", line 505, in start\n",
      "    self.io_loop.start()\n",
      "  File \"/Library/Frameworks/Python.framework/Versions/3.6/lib/python3.6/site-packages/tornado/platform/asyncio.py\", line 148, in start\n",
      "    self.asyncio_loop.run_forever()\n",
      "  File \"/Library/Frameworks/Python.framework/Versions/3.6/lib/python3.6/asyncio/base_events.py\", line 421, in run_forever\n",
      "    self._run_once()\n",
      "  File \"/Library/Frameworks/Python.framework/Versions/3.6/lib/python3.6/asyncio/base_events.py\", line 1426, in _run_once\n",
      "    handle._run()\n",
      "  File \"/Library/Frameworks/Python.framework/Versions/3.6/lib/python3.6/asyncio/events.py\", line 127, in _run\n",
      "    self._callback(*self._args)\n",
      "  File \"/Library/Frameworks/Python.framework/Versions/3.6/lib/python3.6/site-packages/tornado/ioloop.py\", line 690, in <lambda>\n",
      "    lambda f: self._run_callback(functools.partial(callback, future))\n",
      "  File \"/Library/Frameworks/Python.framework/Versions/3.6/lib/python3.6/site-packages/tornado/ioloop.py\", line 743, in _run_callback\n",
      "    ret = callback()\n",
      "  File \"/Library/Frameworks/Python.framework/Versions/3.6/lib/python3.6/site-packages/tornado/gen.py\", line 787, in inner\n",
      "    self.run()\n",
      "  File \"/Library/Frameworks/Python.framework/Versions/3.6/lib/python3.6/site-packages/tornado/gen.py\", line 748, in run\n",
      "    yielded = self.gen.send(value)\n",
      "  File \"/Library/Frameworks/Python.framework/Versions/3.6/lib/python3.6/site-packages/ipykernel/kernelbase.py\", line 365, in process_one\n",
      "    yield gen.maybe_future(dispatch(*args))\n",
      "  File \"/Library/Frameworks/Python.framework/Versions/3.6/lib/python3.6/site-packages/tornado/gen.py\", line 209, in wrapper\n",
      "    yielded = next(result)\n",
      "  File \"/Library/Frameworks/Python.framework/Versions/3.6/lib/python3.6/site-packages/ipykernel/kernelbase.py\", line 272, in dispatch_shell\n",
      "    yield gen.maybe_future(handler(stream, idents, msg))\n",
      "  File \"/Library/Frameworks/Python.framework/Versions/3.6/lib/python3.6/site-packages/tornado/gen.py\", line 209, in wrapper\n",
      "    yielded = next(result)\n",
      "  File \"/Library/Frameworks/Python.framework/Versions/3.6/lib/python3.6/site-packages/ipykernel/kernelbase.py\", line 542, in execute_request\n",
      "    user_expressions, allow_stdin,\n",
      "  File \"/Library/Frameworks/Python.framework/Versions/3.6/lib/python3.6/site-packages/tornado/gen.py\", line 209, in wrapper\n",
      "    yielded = next(result)\n",
      "  File \"/Library/Frameworks/Python.framework/Versions/3.6/lib/python3.6/site-packages/ipykernel/ipkernel.py\", line 294, in do_execute\n",
      "    res = shell.run_cell(code, store_history=store_history, silent=silent)\n",
      "  File \"/Library/Frameworks/Python.framework/Versions/3.6/lib/python3.6/site-packages/ipykernel/zmqshell.py\", line 536, in run_cell\n",
      "    return super(ZMQInteractiveShell, self).run_cell(*args, **kwargs)\n",
      "  File \"/Library/Frameworks/Python.framework/Versions/3.6/lib/python3.6/site-packages/IPython/core/interactiveshell.py\", line 2858, in run_cell\n",
      "    self.events.trigger('post_run_cell', result)\n",
      "  File \"/Library/Frameworks/Python.framework/Versions/3.6/lib/python3.6/site-packages/IPython/core/events.py\", line 88, in trigger\n",
      "    func(*args, **kwargs)\n",
      "  File \"/Library/Frameworks/Python.framework/Versions/3.6/lib/python3.6/site-packages/ipykernel/pylab/backend_inline.py\", line 164, in configure_once\n",
      "    activate_matplotlib(backend)\n",
      "  File \"/Library/Frameworks/Python.framework/Versions/3.6/lib/python3.6/site-packages/IPython/core/pylabtools.py\", line 314, in activate_matplotlib\n",
      "    matplotlib.pyplot.switch_backend(backend)\n",
      "  File \"/Library/Frameworks/Python.framework/Versions/3.6/lib/python3.6/site-packages/matplotlib/pyplot.py\", line 231, in switch_backend\n",
      "    matplotlib.use(newbackend, warn=False, force=True)\n",
      "  File \"/Library/Frameworks/Python.framework/Versions/3.6/lib/python3.6/site-packages/matplotlib/__init__.py\", line 1422, in use\n",
      "    reload(sys.modules['matplotlib.backends'])\n",
      "  File \"/Library/Frameworks/Python.framework/Versions/3.6/lib/python3.6/importlib/__init__.py\", line 166, in reload\n",
      "    _bootstrap._exec(spec, module)\n",
      "  File \"/Library/Frameworks/Python.framework/Versions/3.6/lib/python3.6/site-packages/matplotlib/backends/__init__.py\", line 16, in <module>\n",
      "    line for line in traceback.format_stack()\n",
      "\n",
      "\n",
      "  mpl.use('Agg')\n"
     ]
    }
   ],
   "source": [
    "import os\n",
    "from multiprocessing import Pool\n",
    "import deepgraph as dg"
   ]
  },
  {
   "cell_type": "code",
   "execution_count": 7,
   "metadata": {},
   "outputs": [],
   "source": [
    "# create observations\n",
    "from numpy.random import RandomState\n",
    "prng = RandomState(0)\n",
    "n_features = len(df_sampled_fingerprint.columns)\n",
    "n_samples = 1000\n",
    "\n",
    "# run over a sample of the rows. Can do this multiple times and take consensus.\n",
    "X = df_sampled_fingerprint.sample(n=n_samples, random_state=23).values.T\n",
    "\n",
    "# whiten variables for fast parallel computation later on\n",
    "X = (X - X.mean(axis=1, keepdims=True)) / X.std(axis=1, keepdims=True)\n",
    "\n",
    "# save in binary format\n",
    "np.save(data_loc+'samples', X)"
   ]
  },
  {
   "cell_type": "code",
   "execution_count": 8,
   "metadata": {},
   "outputs": [
    {
     "data": {
      "text/plain": [
       "CompletedProcess(args='rm ../data/FDA-COVID19_files_v1.0/correlations/*', returncode=1)"
      ]
     },
     "execution_count": 8,
     "metadata": {},
     "output_type": "execute_result"
    }
   ],
   "source": [
    "import subprocess\n",
    "\n",
    "# delete old correlation files\n",
    "subprocess.run('rm {}correlations/*'.format(data_loc), shell=True)"
   ]
  },
  {
   "cell_type": "code",
   "execution_count": 9,
   "metadata": {},
   "outputs": [],
   "source": [
    "step_size = 1e3\n",
    "n_processes = 150\n",
    "\n",
    "# load samples as memory-map\n",
    "del X\n",
    "X = np.load(data_loc+'samples.npy', mmap_mode='r')\n",
    "\n",
    "# create node table that stores references to the mem-mapped samples\n",
    "v = pd.DataFrame({'index': range(X.shape[0])})\n",
    "\n",
    "# connector function to compute pairwise pearson correlations\n",
    "# index_s and index_t are equal length arrays of indices for pairwise correlation\n",
    "def corr(index_s, index_t):\n",
    "    features_s = X[index_s].T\n",
    "    features_t = X[index_t].T\n",
    "    \n",
    "    c = 1./(n_samples - 1)\n",
    "    cov_xy = c * np.dot(features_s.T, features_t)\n",
    "    var_x = c * np.sum(features_s**2, axis=0)\n",
    "    var_y = c * np.sum(features_t**2, axis=0)\n",
    "    corrcoef_xy = cov_xy / np.sqrt(var_x[:, None] * var_y[None,:])\n",
    "    corr = np.diag(corrcoef_xy)\n",
    "    \n",
    "    del cov_xy\n",
    "    del var_x\n",
    "    del var_y\n",
    "    del corrcoef_xy\n",
    "    \n",
    "    #if 1947 in index_t:\n",
    "    #    print('corrcoef_xy shape: {}, index_s shape: {}, index_t shape: {}'.format(corrcoef_xy.shape, index_s.shape, index_t.shape))\n",
    "    \n",
    "    return corr\n",
    "    \n",
    "\n",
    "# index array for parallelization\n",
    "pos_array = np.array(np.linspace(0, n_features*(n_features-1)//2, n_processes), dtype=int)\n",
    "\n",
    "# parallel computation\n",
    "def create_ei(i):\n",
    "\n",
    "    from_pos = pos_array[i]\n",
    "    to_pos = pos_array[i+1]\n",
    "\n",
    "    # initiate DeepGraph\n",
    "    g = dg.DeepGraph(v)\n",
    "\n",
    "    # create edges\n",
    "    g.create_edges(connectors=corr, step_size=step_size,\n",
    "                   from_pos=from_pos, to_pos=to_pos)\n",
    "\n",
    "    # store edge table\n",
    "    g.e.to_pickle((data_loc+'correlations/{}.pickle').format(str(i).zfill(3)))\n",
    "\n",
    "# computation\n",
    "if __name__ == '__main__':\n",
    "    os.makedirs(data_loc+'correlations/', exist_ok=True)\n",
    "    indices = np.arange(0, n_processes - 1)\n",
    "    p = Pool()\n",
    "    for _ in p.imap_unordered(create_ei, indices):\n",
    "        pass"
   ]
  },
  {
   "cell_type": "code",
   "execution_count": 10,
   "metadata": {},
   "outputs": [],
   "source": [
    "# store correlation values\n",
    "files = os.listdir(data_loc+'correlations/')\n",
    "files.sort()\n",
    "store = pd.HDFStore(data_loc+'e.h5', mode='w')\n",
    "for f in files:\n",
    "    #print((data_loc+'correlations/{}').format(f))\n",
    "    et = pd.read_pickle((data_loc+'correlations/{}').format(f))\n",
    "    store.append('e', et, format='t', data_columns=True, index=False)\n",
    "store.close()"
   ]
  },
  {
   "cell_type": "code",
   "execution_count": 11,
   "metadata": {},
   "outputs": [],
   "source": [
    "# load correlation table\n",
    "e = pd.read_hdf(data_loc+'e.h5')"
   ]
  },
  {
   "cell_type": "code",
   "execution_count": 12,
   "metadata": {},
   "outputs": [
    {
     "data": {
      "text/plain": [
       "8386560"
      ]
     },
     "execution_count": 12,
     "metadata": {},
     "output_type": "execute_result"
    }
   ],
   "source": [
    "len(e)"
   ]
  },
  {
   "cell_type": "code",
   "execution_count": null,
   "metadata": {},
   "outputs": [],
   "source": [
    "col1 = df_fingerprints.columns.get_loc('1947')\n",
    "col2 = df_fingerprints.columns.get_loc('389')"
   ]
  },
  {
   "cell_type": "code",
   "execution_count": 14,
   "metadata": {},
   "outputs": [
    {
     "data": {
      "text/plain": [
       "corr    0.962531\n",
       "dtype: float64"
      ]
     },
     "execution_count": 14,
     "metadata": {},
     "output_type": "execute_result"
    }
   ],
   "source": [
    "e.abs().max()"
   ]
  },
  {
   "cell_type": "code",
   "execution_count": 15,
   "metadata": {},
   "outputs": [
    {
     "data": {
      "text/html": [
       "<div>\n",
       "<style scoped>\n",
       "    .dataframe tbody tr th:only-of-type {\n",
       "        vertical-align: middle;\n",
       "    }\n",
       "\n",
       "    .dataframe tbody tr th {\n",
       "        vertical-align: top;\n",
       "    }\n",
       "\n",
       "    .dataframe thead th {\n",
       "        text-align: right;\n",
       "    }\n",
       "</style>\n",
       "<table border=\"1\" class=\"dataframe\">\n",
       "  <thead>\n",
       "    <tr style=\"text-align: right;\">\n",
       "      <th></th>\n",
       "      <th></th>\n",
       "      <th>corr</th>\n",
       "    </tr>\n",
       "    <tr>\n",
       "      <th>s</th>\n",
       "      <th>t</th>\n",
       "      <th></th>\n",
       "    </tr>\n",
       "  </thead>\n",
       "  <tbody>\n",
       "    <tr>\n",
       "      <th>389</th>\n",
       "      <th>1947</th>\n",
       "      <td>0.962531</td>\n",
       "    </tr>\n",
       "  </tbody>\n",
       "</table>\n",
       "</div>"
      ],
      "text/plain": [
       "              corr\n",
       "s   t             \n",
       "389 1947  0.962531"
      ]
     },
     "execution_count": 15,
     "metadata": {},
     "output_type": "execute_result"
    }
   ],
   "source": [
    "e.query('s == 389 and t == 1947')"
   ]
  },
  {
   "cell_type": "code",
   "execution_count": null,
   "metadata": {},
   "outputs": [],
   "source": []
  },
  {
   "cell_type": "code",
   "execution_count": null,
   "metadata": {},
   "outputs": [],
   "source": []
  },
  {
   "cell_type": "code",
   "execution_count": null,
   "metadata": {},
   "outputs": [],
   "source": []
  },
  {
   "cell_type": "code",
   "execution_count": null,
   "metadata": {},
   "outputs": [],
   "source": []
  },
  {
   "cell_type": "markdown",
   "metadata": {},
   "source": [
    "### XY Pearson correlation\n",
    "\n",
    "https://stackoverflow.com/questions/41538254/memory-efficient-ways-of-computing-large-correlation-matrices?rq=1"
   ]
  },
  {
   "cell_type": "code",
   "execution_count": 14,
   "metadata": {},
   "outputs": [
    {
     "data": {
      "text/plain": [
       "array([[0.9625312]])"
      ]
     },
     "execution_count": 14,
     "metadata": {},
     "output_type": "execute_result"
    }
   ],
   "source": [
    "x = X[[1947]].T\n",
    "y = X[[389]].T\n",
    "\n",
    "samples = x.shape[0]\n",
    "c = 1./(samples - 1)\n",
    "cov_xy = c * np.dot(x.T, y)\n",
    "var_x = c * np.sum(x**2, axis=0)\n",
    "var_y = c * np.sum(y**2, axis=0)\n",
    "corrcoef_xy = cov_xy / np.sqrt(var_x[:, None] * var_y[None,:])\n",
    "\n",
    "corrcoef_xy"
   ]
  },
  {
   "cell_type": "code",
   "execution_count": null,
   "metadata": {},
   "outputs": [],
   "source": []
  },
  {
   "cell_type": "code",
   "execution_count": null,
   "metadata": {},
   "outputs": [],
   "source": []
  },
  {
   "cell_type": "code",
   "execution_count": null,
   "metadata": {},
   "outputs": [],
   "source": []
  },
  {
   "cell_type": "code",
   "execution_count": null,
   "metadata": {},
   "outputs": [],
   "source": []
  },
  {
   "cell_type": "code",
   "execution_count": null,
   "metadata": {},
   "outputs": [],
   "source": []
  },
  {
   "cell_type": "markdown",
   "metadata": {},
   "source": [
    "### np.einsum for calculating pearson's correlation\n",
    "\n",
    "https://stackoverflow.com/questions/50323786/compute-correlation-in-numpy"
   ]
  },
  {
   "cell_type": "code",
   "execution_count": 9,
   "metadata": {},
   "outputs": [
    {
     "data": {
      "text/plain": [
       "(6, 6)"
      ]
     },
     "execution_count": 9,
     "metadata": {},
     "output_type": "execute_result"
    }
   ],
   "source": [
    "ma = np.random.random((5,6)).T\n",
    "mb = np.random.random((5,6)).T\n",
    " \n",
    "za = ma - ma.mean(axis=1, keepdims=True)\n",
    "za /= np.sqrt(np.einsum('ij,ij->i', za, za))[:, None]\n",
    "zb = mb - mb.mean(axis=1, keepdims=True)\n",
    "zb /= np.sqrt(np.einsum('ij,ij->i', zb, zb))[:, None]\n",
    " \n",
    "cc = np.einsum('ik,jk', za, zb)\n",
    "\n",
    "#np.allclose(cc, np.corrcoef(ma, mb)[:5, 5:])\n",
    "cc.shape"
   ]
  },
  {
   "cell_type": "code",
   "execution_count": 10,
   "metadata": {},
   "outputs": [
    {
     "data": {
      "text/plain": [
       "(6, 6)"
      ]
     },
     "execution_count": 10,
     "metadata": {},
     "output_type": "execute_result"
    }
   ],
   "source": [
    "za = ma - ma.mean(axis=1, keepdims=True)\n",
    "za /= np.sqrt(np.einsum('ij,ij->i', za, za))[:, None]\n",
    "cc = np.einsum('ik,jk', za, za)\n",
    "cc.shape"
   ]
  },
  {
   "cell_type": "code",
   "execution_count": 20,
   "metadata": {},
   "outputs": [
    {
     "data": {
      "text/plain": [
       "array([[ 0.41655389, -0.17400035, -0.76742633,  0.07599897,  0.44887383],\n",
       "       [-0.55733007,  0.80813066, -0.01135404, -0.05843796, -0.18100859],\n",
       "       [-0.51054979,  0.26521874, -0.5737303 ,  0.36262266,  0.45643869],\n",
       "       [-0.47932298, -0.04737243, -0.49224991,  0.56679005,  0.45215527],\n",
       "       [-0.59223603, -0.20378343,  0.58535125, -0.24316423,  0.45383243],\n",
       "       [-0.48578584,  0.36408273, -0.27625728,  0.68680781, -0.28884742]])"
      ]
     },
     "execution_count": 20,
     "metadata": {},
     "output_type": "execute_result"
    }
   ],
   "source": [
    "za"
   ]
  },
  {
   "cell_type": "code",
   "execution_count": 11,
   "metadata": {},
   "outputs": [],
   "source": [
    "cc2 = np.corrcoef(ma)"
   ]
  },
  {
   "cell_type": "code",
   "execution_count": 12,
   "metadata": {},
   "outputs": [
    {
     "data": {
      "text/plain": [
       "array([[ 1.        , -0.44975089,  0.41391842,  0.43238064, -0.47522053,\n",
       "        -0.13115875],\n",
       "       [-0.44975089,  1.        ,  0.40158005,  0.11948098,  0.09080366,\n",
       "         0.58025433],\n",
       "       [ 0.41391842,  0.40158005,  1.        ,  0.92648496,  0.03145487,\n",
       "         0.62028753],\n",
       "       [ 0.43238064,  0.11948098,  0.92648496,  1.        ,  0.07276661,\n",
       "         0.61026041],\n",
       "       [-0.47522053,  0.09080366,  0.03145487,  0.07276661,  1.        ,\n",
       "        -0.24629711],\n",
       "       [-0.13115875,  0.58025433,  0.62028753,  0.61026041, -0.24629711,\n",
       "         1.        ]])"
      ]
     },
     "execution_count": 12,
     "metadata": {},
     "output_type": "execute_result"
    }
   ],
   "source": [
    "cc"
   ]
  },
  {
   "cell_type": "code",
   "execution_count": 13,
   "metadata": {},
   "outputs": [
    {
     "data": {
      "text/plain": [
       "array([[ 1.        , -0.44975089,  0.41391842,  0.43238064, -0.47522053,\n",
       "        -0.13115875],\n",
       "       [-0.44975089,  1.        ,  0.40158005,  0.11948098,  0.09080366,\n",
       "         0.58025433],\n",
       "       [ 0.41391842,  0.40158005,  1.        ,  0.92648496,  0.03145487,\n",
       "         0.62028753],\n",
       "       [ 0.43238064,  0.11948098,  0.92648496,  1.        ,  0.07276661,\n",
       "         0.61026041],\n",
       "       [-0.47522053,  0.09080366,  0.03145487,  0.07276661,  1.        ,\n",
       "        -0.24629711],\n",
       "       [-0.13115875,  0.58025433,  0.62028753,  0.61026041, -0.24629711,\n",
       "         1.        ]])"
      ]
     },
     "execution_count": 13,
     "metadata": {},
     "output_type": "execute_result"
    }
   ],
   "source": [
    "cc2"
   ]
  },
  {
   "cell_type": "code",
   "execution_count": null,
   "metadata": {},
   "outputs": [],
   "source": []
  },
  {
   "cell_type": "code",
   "execution_count": null,
   "metadata": {},
   "outputs": [],
   "source": []
  },
  {
   "cell_type": "code",
   "execution_count": null,
   "metadata": {},
   "outputs": [],
   "source": []
  },
  {
   "cell_type": "code",
   "execution_count": null,
   "metadata": {},
   "outputs": [],
   "source": []
  },
  {
   "cell_type": "code",
   "execution_count": null,
   "metadata": {},
   "outputs": [],
   "source": []
  },
  {
   "cell_type": "code",
   "execution_count": null,
   "metadata": {},
   "outputs": [],
   "source": []
  },
  {
   "cell_type": "code",
   "execution_count": null,
   "metadata": {},
   "outputs": [],
   "source": []
  },
  {
   "cell_type": "code",
   "execution_count": null,
   "metadata": {},
   "outputs": [],
   "source": []
  }
 ],
 "metadata": {
  "kernelspec": {
   "display_name": "Python 3",
   "language": "python",
   "name": "python3"
  },
  "language_info": {
   "codemirror_mode": {
    "name": "ipython",
    "version": 3
   },
   "file_extension": ".py",
   "mimetype": "text/x-python",
   "name": "python",
   "nbconvert_exporter": "python",
   "pygments_lexer": "ipython3",
   "version": "3.6.2"
  }
 },
 "nbformat": 4,
 "nbformat_minor": 4
}
