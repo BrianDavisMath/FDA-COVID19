{
 "cells": [
  {
   "cell_type": "code",
   "execution_count": 1,
   "metadata": {},
   "outputs": [
    {
     "name": "stdout",
     "output_type": "stream",
     "text": [
      "Populating the interactive namespace from numpy and matplotlib\n"
     ]
    },
    {
     "data": {
      "application/javascript": [
       "IPython.notebook.set_autosave_interval(25000)"
      ]
     },
     "metadata": {},
     "output_type": "display_data"
    },
    {
     "name": "stdout",
     "output_type": "stream",
     "text": [
      "Autosaving every 25 seconds\n"
     ]
    }
   ],
   "source": [
    "%pylab inline\n",
    "%autosave 25\n",
    "\n",
    "import pandas as pd"
   ]
  },
  {
   "cell_type": "markdown",
   "metadata": {},
   "source": [
    "## Get some data"
   ]
  },
  {
   "cell_type": "code",
   "execution_count": 2,
   "metadata": {},
   "outputs": [],
   "source": [
    "data_loc = '../data/FDA-COVID19_files_v1.0/'"
   ]
  },
  {
   "cell_type": "code",
   "execution_count": 3,
   "metadata": {},
   "outputs": [
    {
     "name": "stdout",
     "output_type": "stream",
     "text": [
      "rows: 22,172, columns: 16,391\n"
     ]
    },
    {
     "data": {
      "text/html": [
       "<div>\n",
       "<style scoped>\n",
       "    .dataframe tbody tr th:only-of-type {\n",
       "        vertical-align: middle;\n",
       "    }\n",
       "\n",
       "    .dataframe tbody tr th {\n",
       "        vertical-align: top;\n",
       "    }\n",
       "\n",
       "    .dataframe thead th {\n",
       "        text-align: right;\n",
       "    }\n",
       "</style>\n",
       "<table border=\"1\" class=\"dataframe\">\n",
       "  <thead>\n",
       "    <tr style=\"text-align: right;\">\n",
       "      <th></th>\n",
       "      <th>cid</th>\n",
       "      <th>pid</th>\n",
       "      <th>activity</th>\n",
       "      <th>AEK</th>\n",
       "      <th>VEL</th>\n",
       "      <th>EKF</th>\n",
       "      <th>LGM</th>\n",
       "      <th>VKN</th>\n",
       "      <th>LKP</th>\n",
       "      <th>NEE</th>\n",
       "      <th>...</th>\n",
       "      <th>4086</th>\n",
       "      <th>4087</th>\n",
       "      <th>4088</th>\n",
       "      <th>4089</th>\n",
       "      <th>4090</th>\n",
       "      <th>4091</th>\n",
       "      <th>4092</th>\n",
       "      <th>4093</th>\n",
       "      <th>4094</th>\n",
       "      <th>4095</th>\n",
       "    </tr>\n",
       "  </thead>\n",
       "  <tbody>\n",
       "    <tr>\n",
       "      <th>58</th>\n",
       "      <td>204</td>\n",
       "      <td>Q99VQ4</td>\n",
       "      <td>1</td>\n",
       "      <td>-1.000000</td>\n",
       "      <td>-1.0</td>\n",
       "      <td>-1.0</td>\n",
       "      <td>-1.0</td>\n",
       "      <td>-1.0</td>\n",
       "      <td>-1.0</td>\n",
       "      <td>-1.000000</td>\n",
       "      <td>...</td>\n",
       "      <td>0</td>\n",
       "      <td>0</td>\n",
       "      <td>0</td>\n",
       "      <td>0</td>\n",
       "      <td>0</td>\n",
       "      <td>0</td>\n",
       "      <td>0</td>\n",
       "      <td>0</td>\n",
       "      <td>0</td>\n",
       "      <td>0</td>\n",
       "    </tr>\n",
       "    <tr>\n",
       "      <th>97</th>\n",
       "      <td>204</td>\n",
       "      <td>EDT84149</td>\n",
       "      <td>0</td>\n",
       "      <td>3.936758</td>\n",
       "      <td>-1.0</td>\n",
       "      <td>-1.0</td>\n",
       "      <td>-1.0</td>\n",
       "      <td>-1.0</td>\n",
       "      <td>-1.0</td>\n",
       "      <td>-1.000000</td>\n",
       "      <td>...</td>\n",
       "      <td>0</td>\n",
       "      <td>0</td>\n",
       "      <td>0</td>\n",
       "      <td>0</td>\n",
       "      <td>0</td>\n",
       "      <td>0</td>\n",
       "      <td>0</td>\n",
       "      <td>0</td>\n",
       "      <td>0</td>\n",
       "      <td>0</td>\n",
       "    </tr>\n",
       "    <tr>\n",
       "      <th>98</th>\n",
       "      <td>204</td>\n",
       "      <td>AAX80043</td>\n",
       "      <td>0</td>\n",
       "      <td>-1.000000</td>\n",
       "      <td>-1.0</td>\n",
       "      <td>-1.0</td>\n",
       "      <td>-1.0</td>\n",
       "      <td>-1.0</td>\n",
       "      <td>-1.0</td>\n",
       "      <td>-1.000000</td>\n",
       "      <td>...</td>\n",
       "      <td>0</td>\n",
       "      <td>0</td>\n",
       "      <td>0</td>\n",
       "      <td>0</td>\n",
       "      <td>0</td>\n",
       "      <td>0</td>\n",
       "      <td>0</td>\n",
       "      <td>0</td>\n",
       "      <td>0</td>\n",
       "      <td>0</td>\n",
       "    </tr>\n",
       "    <tr>\n",
       "      <th>126</th>\n",
       "      <td>204</td>\n",
       "      <td>P0C6X7</td>\n",
       "      <td>1</td>\n",
       "      <td>-1.000000</td>\n",
       "      <td>-1.0</td>\n",
       "      <td>-1.0</td>\n",
       "      <td>-1.0</td>\n",
       "      <td>-1.0</td>\n",
       "      <td>-1.0</td>\n",
       "      <td>2.367871</td>\n",
       "      <td>...</td>\n",
       "      <td>0</td>\n",
       "      <td>0</td>\n",
       "      <td>0</td>\n",
       "      <td>0</td>\n",
       "      <td>0</td>\n",
       "      <td>0</td>\n",
       "      <td>0</td>\n",
       "      <td>0</td>\n",
       "      <td>0</td>\n",
       "      <td>0</td>\n",
       "    </tr>\n",
       "    <tr>\n",
       "      <th>136</th>\n",
       "      <td>8549</td>\n",
       "      <td>P08659</td>\n",
       "      <td>0</td>\n",
       "      <td>-1.000000</td>\n",
       "      <td>-1.0</td>\n",
       "      <td>-1.0</td>\n",
       "      <td>-1.0</td>\n",
       "      <td>-1.0</td>\n",
       "      <td>-1.0</td>\n",
       "      <td>-1.000000</td>\n",
       "      <td>...</td>\n",
       "      <td>0</td>\n",
       "      <td>0</td>\n",
       "      <td>0</td>\n",
       "      <td>0</td>\n",
       "      <td>0</td>\n",
       "      <td>0</td>\n",
       "      <td>0</td>\n",
       "      <td>0</td>\n",
       "      <td>0</td>\n",
       "      <td>0</td>\n",
       "    </tr>\n",
       "  </tbody>\n",
       "</table>\n",
       "<p>5 rows × 16391 columns</p>\n",
       "</div>"
      ],
      "text/plain": [
       "      cid       pid  activity       AEK  VEL  EKF  LGM  VKN  LKP       NEE  \\\n",
       "58    204    Q99VQ4         1 -1.000000 -1.0 -1.0 -1.0 -1.0 -1.0 -1.000000   \n",
       "97    204  EDT84149         0  3.936758 -1.0 -1.0 -1.0 -1.0 -1.0 -1.000000   \n",
       "98    204  AAX80043         0 -1.000000 -1.0 -1.0 -1.0 -1.0 -1.0 -1.000000   \n",
       "126   204    P0C6X7         1 -1.000000 -1.0 -1.0 -1.0 -1.0 -1.0  2.367871   \n",
       "136  8549    P08659         0 -1.000000 -1.0 -1.0 -1.0 -1.0 -1.0 -1.000000   \n",
       "\n",
       "     ...   4086  4087  4088  4089  4090  4091  4092  4093  4094  4095  \n",
       "58   ...      0     0     0     0     0     0     0     0     0     0  \n",
       "97   ...      0     0     0     0     0     0     0     0     0     0  \n",
       "98   ...      0     0     0     0     0     0     0     0     0     0  \n",
       "126  ...      0     0     0     0     0     0     0     0     0     0  \n",
       "136  ...      0     0     0     0     0     0     0     0     0     0  \n",
       "\n",
       "[5 rows x 16391 columns]"
      ]
     },
     "execution_count": 3,
     "metadata": {},
     "output_type": "execute_result"
    }
   ],
   "source": [
    "store = pd.HDFStore(data_loc + 'sampled_data.h5')\n",
    "df_features = pd.DataFrame(store['df' ])\n",
    "store.close()\n",
    "print('rows: {:,}, columns: {:,}'.format(len(df_features), len(df_features.columns)))\n",
    "\n",
    "df_features.head()"
   ]
  },
  {
   "cell_type": "markdown",
   "metadata": {},
   "source": [
    "## Check column variance\n",
    "\n",
    "How many columns have zero variance? We can drop those."
   ]
  },
  {
   "cell_type": "code",
   "execution_count": 5,
   "metadata": {},
   "outputs": [
    {
     "data": {
      "text/plain": [
       "0"
      ]
     },
     "execution_count": 5,
     "metadata": {},
     "output_type": "execute_result"
    }
   ],
   "source": [
    "no_var_cols = [col for col in df_features.columns if df_features[col].nunique() == 1]\n",
    "\n",
    "len(no_var_cols)"
   ]
  },
  {
   "cell_type": "code",
   "execution_count": null,
   "metadata": {},
   "outputs": [],
   "source": [
    "var_cols = [col for col in df_features.columns if df_features[col].nunique() > 1]\n",
    "df_novar_cols_dropped = df_features[var_cols].copy()\n",
    "\n",
    "print('Dropped {:,} columns that have zero variance.'.format(len(df_features.columns)-len(var_cols)))\n",
    "\n",
    "print('rows: {:,}, columns: {:,}'.format(len(df_novar_cols_dropped), len(df_novar_cols_dropped.columns)))"
   ]
  },
  {
   "cell_type": "markdown",
   "metadata": {},
   "source": [
    "## Scale the data"
   ]
  },
  {
   "cell_type": "code",
   "execution_count": null,
   "metadata": {},
   "outputs": [],
   "source": [
    "df_features.drop(columns=['cid', 'pid', 'activity'], inplace=True)"
   ]
  },
  {
   "cell_type": "code",
   "execution_count": 5,
   "metadata": {},
   "outputs": [],
   "source": [
    "from sklearn.preprocessing import StandardScaler\n",
    "\n",
    "scaler = StandardScaler()\n",
    "scaled_data = scaler.fit_transform(df_features.values)"
   ]
  },
  {
   "cell_type": "code",
   "execution_count": 6,
   "metadata": {},
   "outputs": [
    {
     "data": {
      "text/plain": [
       "-5.127495838066752e-18"
      ]
     },
     "execution_count": 6,
     "metadata": {},
     "output_type": "execute_result"
    }
   ],
   "source": [
    "scaled_data.T[1000].mean()"
   ]
  },
  {
   "cell_type": "markdown",
   "metadata": {},
   "source": [
    "## Find highly correlated columns"
   ]
  },
  {
   "cell_type": "code",
   "execution_count": 7,
   "metadata": {},
   "outputs": [],
   "source": [
    "df_scaled = pd.DataFrame(scaled_data, columns=df_features.columns)"
   ]
  },
  {
   "cell_type": "code",
   "execution_count": 8,
   "metadata": {},
   "outputs": [
    {
     "data": {
      "text/html": [
       "<div>\n",
       "<style scoped>\n",
       "    .dataframe tbody tr th:only-of-type {\n",
       "        vertical-align: middle;\n",
       "    }\n",
       "\n",
       "    .dataframe tbody tr th {\n",
       "        vertical-align: top;\n",
       "    }\n",
       "\n",
       "    .dataframe thead th {\n",
       "        text-align: right;\n",
       "    }\n",
       "</style>\n",
       "<table border=\"1\" class=\"dataframe\">\n",
       "  <thead>\n",
       "    <tr style=\"text-align: right;\">\n",
       "      <th></th>\n",
       "      <th>AEK</th>\n",
       "      <th>VEL</th>\n",
       "      <th>EKF</th>\n",
       "      <th>LGM</th>\n",
       "      <th>VKN</th>\n",
       "      <th>LKP</th>\n",
       "      <th>NEE</th>\n",
       "      <th>TPN</th>\n",
       "      <th>SRL</th>\n",
       "      <th>KEY</th>\n",
       "      <th>...</th>\n",
       "      <th>4086</th>\n",
       "      <th>4087</th>\n",
       "      <th>4088</th>\n",
       "      <th>4089</th>\n",
       "      <th>4090</th>\n",
       "      <th>4091</th>\n",
       "      <th>4092</th>\n",
       "      <th>4093</th>\n",
       "      <th>4094</th>\n",
       "      <th>4095</th>\n",
       "    </tr>\n",
       "  </thead>\n",
       "  <tbody>\n",
       "    <tr>\n",
       "      <th>0</th>\n",
       "      <td>-0.248058</td>\n",
       "      <td>-0.258672</td>\n",
       "      <td>-0.172979</td>\n",
       "      <td>-0.08229</td>\n",
       "      <td>-0.168249</td>\n",
       "      <td>-0.186884</td>\n",
       "      <td>-0.208103</td>\n",
       "      <td>-0.121681</td>\n",
       "      <td>-0.254555</td>\n",
       "      <td>-0.196883</td>\n",
       "      <td>...</td>\n",
       "      <td>-0.165629</td>\n",
       "      <td>-0.133284</td>\n",
       "      <td>-0.113502</td>\n",
       "      <td>-0.139124</td>\n",
       "      <td>-0.162146</td>\n",
       "      <td>-0.110194</td>\n",
       "      <td>-0.167203</td>\n",
       "      <td>-0.109141</td>\n",
       "      <td>-0.132405</td>\n",
       "      <td>-0.114111</td>\n",
       "    </tr>\n",
       "    <tr>\n",
       "      <th>1</th>\n",
       "      <td>4.806774</td>\n",
       "      <td>-0.258672</td>\n",
       "      <td>-0.172979</td>\n",
       "      <td>-0.08229</td>\n",
       "      <td>-0.168249</td>\n",
       "      <td>-0.186884</td>\n",
       "      <td>-0.208103</td>\n",
       "      <td>-0.121681</td>\n",
       "      <td>-0.254555</td>\n",
       "      <td>3.380128</td>\n",
       "      <td>...</td>\n",
       "      <td>-0.165629</td>\n",
       "      <td>-0.133284</td>\n",
       "      <td>-0.113502</td>\n",
       "      <td>-0.139124</td>\n",
       "      <td>-0.162146</td>\n",
       "      <td>-0.110194</td>\n",
       "      <td>-0.167203</td>\n",
       "      <td>-0.109141</td>\n",
       "      <td>-0.132405</td>\n",
       "      <td>-0.114111</td>\n",
       "    </tr>\n",
       "    <tr>\n",
       "      <th>2</th>\n",
       "      <td>-0.248058</td>\n",
       "      <td>-0.258672</td>\n",
       "      <td>-0.172979</td>\n",
       "      <td>-0.08229</td>\n",
       "      <td>-0.168249</td>\n",
       "      <td>-0.186884</td>\n",
       "      <td>-0.208103</td>\n",
       "      <td>-0.121681</td>\n",
       "      <td>-0.254555</td>\n",
       "      <td>-0.196883</td>\n",
       "      <td>...</td>\n",
       "      <td>-0.165629</td>\n",
       "      <td>-0.133284</td>\n",
       "      <td>-0.113502</td>\n",
       "      <td>-0.139124</td>\n",
       "      <td>-0.162146</td>\n",
       "      <td>-0.110194</td>\n",
       "      <td>-0.167203</td>\n",
       "      <td>-0.109141</td>\n",
       "      <td>-0.132405</td>\n",
       "      <td>-0.114111</td>\n",
       "    </tr>\n",
       "    <tr>\n",
       "      <th>3</th>\n",
       "      <td>-0.248058</td>\n",
       "      <td>-0.258672</td>\n",
       "      <td>-0.172979</td>\n",
       "      <td>-0.08229</td>\n",
       "      <td>-0.168249</td>\n",
       "      <td>-0.186884</td>\n",
       "      <td>4.585527</td>\n",
       "      <td>-0.121681</td>\n",
       "      <td>-0.254555</td>\n",
       "      <td>-0.196883</td>\n",
       "      <td>...</td>\n",
       "      <td>-0.165629</td>\n",
       "      <td>-0.133284</td>\n",
       "      <td>-0.113502</td>\n",
       "      <td>-0.139124</td>\n",
       "      <td>-0.162146</td>\n",
       "      <td>-0.110194</td>\n",
       "      <td>-0.167203</td>\n",
       "      <td>-0.109141</td>\n",
       "      <td>-0.132405</td>\n",
       "      <td>-0.114111</td>\n",
       "    </tr>\n",
       "    <tr>\n",
       "      <th>4</th>\n",
       "      <td>-0.248058</td>\n",
       "      <td>-0.258672</td>\n",
       "      <td>-0.172979</td>\n",
       "      <td>-0.08229</td>\n",
       "      <td>-0.168249</td>\n",
       "      <td>-0.186884</td>\n",
       "      <td>-0.208103</td>\n",
       "      <td>-0.121681</td>\n",
       "      <td>-0.254555</td>\n",
       "      <td>-0.196883</td>\n",
       "      <td>...</td>\n",
       "      <td>-0.165629</td>\n",
       "      <td>-0.133284</td>\n",
       "      <td>-0.113502</td>\n",
       "      <td>-0.139124</td>\n",
       "      <td>-0.162146</td>\n",
       "      <td>-0.110194</td>\n",
       "      <td>-0.167203</td>\n",
       "      <td>-0.109141</td>\n",
       "      <td>-0.132405</td>\n",
       "      <td>-0.114111</td>\n",
       "    </tr>\n",
       "  </tbody>\n",
       "</table>\n",
       "<p>5 rows × 16388 columns</p>\n",
       "</div>"
      ],
      "text/plain": [
       "        AEK       VEL       EKF      LGM       VKN       LKP       NEE  \\\n",
       "0 -0.248058 -0.258672 -0.172979 -0.08229 -0.168249 -0.186884 -0.208103   \n",
       "1  4.806774 -0.258672 -0.172979 -0.08229 -0.168249 -0.186884 -0.208103   \n",
       "2 -0.248058 -0.258672 -0.172979 -0.08229 -0.168249 -0.186884 -0.208103   \n",
       "3 -0.248058 -0.258672 -0.172979 -0.08229 -0.168249 -0.186884  4.585527   \n",
       "4 -0.248058 -0.258672 -0.172979 -0.08229 -0.168249 -0.186884 -0.208103   \n",
       "\n",
       "        TPN       SRL       KEY    ...         4086      4087      4088  \\\n",
       "0 -0.121681 -0.254555 -0.196883    ...    -0.165629 -0.133284 -0.113502   \n",
       "1 -0.121681 -0.254555  3.380128    ...    -0.165629 -0.133284 -0.113502   \n",
       "2 -0.121681 -0.254555 -0.196883    ...    -0.165629 -0.133284 -0.113502   \n",
       "3 -0.121681 -0.254555 -0.196883    ...    -0.165629 -0.133284 -0.113502   \n",
       "4 -0.121681 -0.254555 -0.196883    ...    -0.165629 -0.133284 -0.113502   \n",
       "\n",
       "       4089      4090      4091      4092      4093      4094      4095  \n",
       "0 -0.139124 -0.162146 -0.110194 -0.167203 -0.109141 -0.132405 -0.114111  \n",
       "1 -0.139124 -0.162146 -0.110194 -0.167203 -0.109141 -0.132405 -0.114111  \n",
       "2 -0.139124 -0.162146 -0.110194 -0.167203 -0.109141 -0.132405 -0.114111  \n",
       "3 -0.139124 -0.162146 -0.110194 -0.167203 -0.109141 -0.132405 -0.114111  \n",
       "4 -0.139124 -0.162146 -0.110194 -0.167203 -0.109141 -0.132405 -0.114111  \n",
       "\n",
       "[5 rows x 16388 columns]"
      ]
     },
     "execution_count": 8,
     "metadata": {},
     "output_type": "execute_result"
    }
   ],
   "source": [
    "df_scaled.head()"
   ]
  },
  {
   "cell_type": "code",
   "execution_count": 9,
   "metadata": {},
   "outputs": [
    {
     "data": {
      "text/plain": [
       "[(1, 0),\n",
       " (2, 0),\n",
       " (2, 1),\n",
       " (3, 0),\n",
       " (3, 1),\n",
       " (3, 2),\n",
       " (4, 0),\n",
       " (4, 1),\n",
       " (4, 2),\n",
       " (4, 3),\n",
       " (5, 0),\n",
       " (5, 1),\n",
       " (5, 2),\n",
       " (5, 3),\n",
       " (5, 4),\n",
       " (6, 0),\n",
       " (6, 1),\n",
       " (6, 2),\n",
       " (6, 3),\n",
       " (6, 4),\n",
       " (6, 5)]"
      ]
     },
     "execution_count": 9,
     "metadata": {},
     "output_type": "execute_result"
    }
   ],
   "source": [
    "a = [0, 1, 2, 3, 4, 5, 6]\n",
    "\n",
    "res = [(x, y) for i,x in enumerate(a) for j,y in enumerate(a) if i > j]\n",
    "\n",
    "res"
   ]
  },
  {
   "cell_type": "code",
   "execution_count": 62,
   "metadata": {},
   "outputs": [
    {
     "data": {
      "text/plain": [
       "0.9882117688026186"
      ]
     },
     "execution_count": 62,
     "metadata": {},
     "output_type": "execute_result"
    }
   ],
   "source": [
    "b = [1,1,2,3,4,5,6]\n",
    "np.corrcoef(a, b)[0][1]"
   ]
  },
  {
   "cell_type": "code",
   "execution_count": 60,
   "metadata": {},
   "outputs": [
    {
     "data": {
      "text/plain": [
       "'processed column 6,616'"
      ]
     },
     "metadata": {},
     "output_type": "display_data"
    },
    {
     "name": "stderr",
     "output_type": "stream",
     "text": [
      "IOPub message rate exceeded.\n",
      "The notebook server will temporarily stop sending output\n",
      "to the client in order to avoid crashing it.\n",
      "To change this limit, set the config variable\n",
      "`--NotebookApp.iopub_msg_rate_limit`.\n",
      "\n",
      "Current values:\n",
      "NotebookApp.iopub_msg_rate_limit=1000.0 (msgs/sec)\n",
      "NotebookApp.rate_limit_window=3.0 (secs)\n",
      "\n"
     ]
    }
   ],
   "source": [
    "from IPython.display import display, clear_output\n",
    "\n",
    "cols = df_scaled.columns.tolist()\n",
    "\n",
    "corr_cols = []\n",
    "\n",
    "def func(x, y):\n",
    "    i = len(corr_cols)\n",
    "    clear_output(wait=True)\n",
    "    display('processed column {:,}'.format(i))\n",
    "        \n",
    "    corr_cols.append(x)\n",
    "    return (x, y)\n",
    "    \n",
    "\n",
    "out = [func(x, y) for i,x in enumerate(cols) for j,y in enumerate(cols) if i > j and \n",
    "       np.corrcoef(df_scaled[x], df_scaled[y])[0][1] > 0.9]"
   ]
  },
  {
   "cell_type": "code",
   "execution_count": null,
   "metadata": {},
   "outputs": [],
   "source": [
    "len(out)"
   ]
  },
  {
   "cell_type": "code",
   "execution_count": null,
   "metadata": {},
   "outputs": [],
   "source": []
  },
  {
   "cell_type": "code",
   "execution_count": null,
   "metadata": {},
   "outputs": [],
   "source": []
  },
  {
   "cell_type": "markdown",
   "metadata": {},
   "source": [
    "## Find correlated columns within the fingerpirnt data"
   ]
  },
  {
   "cell_type": "code",
   "execution_count": 4,
   "metadata": {},
   "outputs": [
    {
     "name": "stdout",
     "output_type": "stream",
     "text": [
      "Number of rows: 91,756\n",
      "\n",
      "Number of columns: 4,096\n",
      "\n"
     ]
    }
   ],
   "source": [
    "df_fingerprints = pd.read_csv(data_loc+'drug_features/fingerprints.csv', index_col=0)\n",
    "\n",
    "print('Number of rows: {:,}\\n'.format(len(df_fingerprints)))\n",
    "print('Number of columns: {:,}\\n'.format(len(df_fingerprints.columns)))"
   ]
  },
  {
   "cell_type": "code",
   "execution_count": 9,
   "metadata": {},
   "outputs": [
    {
     "data": {
      "text/plain": [
       "8386560.0"
      ]
     },
     "execution_count": 9,
     "metadata": {},
     "output_type": "execute_result"
    }
   ],
   "source": [
    "num_cols = len(df_fingerprints.columns)\n",
    "num_pairwise_ops = (num_cols**2-num_cols)/2.0\n",
    "num_pairwise_ops"
   ]
  },
  {
   "cell_type": "code",
   "execution_count": null,
   "metadata": {},
   "outputs": [],
   "source": []
  },
  {
   "cell_type": "code",
   "execution_count": null,
   "metadata": {},
   "outputs": [],
   "source": []
  },
  {
   "cell_type": "code",
   "execution_count": null,
   "metadata": {},
   "outputs": [],
   "source": [
    "# See which correlation method is fastest:"
   ]
  },
  {
   "cell_type": "code",
   "execution_count": 25,
   "metadata": {},
   "outputs": [
    {
     "name": "stdout",
     "output_type": "stream",
     "text": [
      "552 µs ± 4.05 µs per loop (mean ± std. dev. of 7 runs, 1000 loops each)\n"
     ]
    }
   ],
   "source": [
    "%%timeit\n",
    "np.corrcoef(df_fingerprints['1947'], df_fingerprints['389'])"
   ]
  },
  {
   "cell_type": "code",
   "execution_count": null,
   "metadata": {},
   "outputs": [],
   "source": []
  },
  {
   "cell_type": "markdown",
   "metadata": {},
   "source": [
    "### See https://stackoverflow.com/questions/33650188/efficient-pairwise-correlation-for-two-matrices-of-features"
   ]
  },
  {
   "cell_type": "code",
   "execution_count": 5,
   "metadata": {},
   "outputs": [],
   "source": [
    "fingerprint_cols = df_fingerprints.columns.tolist()\n",
    "df_sampled_fingerprint = df_features[fingerprint_cols].sample(n=1000, random_state=23)"
   ]
  },
  {
   "cell_type": "code",
   "execution_count": 6,
   "metadata": {},
   "outputs": [],
   "source": [
    "# Get number of rows in either A or B\n",
    "N = len(df_sampled_fingerprint)\n",
    "\n",
    "def corr_func(a, b):\n",
    "    A = np.array([df_sampled_fingerprint[a].values]).T\n",
    "    B = np.array([df_sampled_fingerprint[b].values]).T\n",
    "\n",
    "    # Store columnw-wise in A and B, as they would be used at few places\n",
    "    sA = A.sum(0)\n",
    "    sB = B.sum(0)\n",
    "\n",
    "    # Basically there are four parts in the formula. We would compute them one-by-one\n",
    "    p1 = N*np.dot(B.T,A)\n",
    "    p2 = sA*sB[:,None]\n",
    "    p3 = N*((B**2).sum(0)) - (sB**2)\n",
    "    p4 = N*((A**2).sum(0)) - (sA**2)\n",
    "\n",
    "    # Finally compute Pearson Correlation Coefficient as 2D array \n",
    "    pcorr = ((p1 - p2)/np.sqrt(p4*p3[:,None]))\n",
    "\n",
    "    # Get the element corresponding to absolute argmax along the columns \n",
    "    return pcorr[np.nanargmax(np.abs(pcorr),axis=0),np.arange(pcorr.shape[1])][0]"
   ]
  },
  {
   "cell_type": "code",
   "execution_count": 7,
   "metadata": {},
   "outputs": [
    {
     "name": "stdout",
     "output_type": "stream",
     "text": [
      "99.8 µs ± 841 ns per loop (mean ± std. dev. of 7 runs, 10000 loops each)\n"
     ]
    }
   ],
   "source": [
    "%%timeit\n",
    "corr_func('1947', '389')"
   ]
  },
  {
   "cell_type": "code",
   "execution_count": null,
   "metadata": {},
   "outputs": [],
   "source": [
    "# corr_func is faster than np.corrcoef"
   ]
  },
  {
   "cell_type": "code",
   "execution_count": 10,
   "metadata": {},
   "outputs": [
    {
     "data": {
      "text/plain": [
       "'processed column pair 1 out of 8,386,560.0'"
      ]
     },
     "metadata": {},
     "output_type": "display_data"
    }
   ],
   "source": [
    "from IPython.display import display, clear_output\n",
    "\n",
    "cols = df_sampled_fingerprint.columns.tolist()\n",
    "\n",
    "corr_cols = []\n",
    "\n",
    "def func(x, y):\n",
    "    i = len(corr_cols)\n",
    "    clear_output(wait=True)\n",
    "    display('processed column pair {:,} out of {:,}'.format(i, num_pairwise_ops))\n",
    "        \n",
    "    corr_cols.append(x)\n",
    "    return (x, y)\n",
    "    \n",
    "\n",
    "out = [func(x, y) for i,x in enumerate(cols) for j,y in enumerate(cols) if i > j and \n",
    "       corr_func(x, y) > 0.9]"
   ]
  },
  {
   "cell_type": "code",
   "execution_count": null,
   "metadata": {},
   "outputs": [],
   "source": [
    "# It's still really slow"
   ]
  },
  {
   "cell_type": "code",
   "execution_count": 12,
   "metadata": {},
   "outputs": [
    {
     "data": {
      "text/plain": [
       "[('1947', '389'), ('2855', '1917')]"
      ]
     },
     "execution_count": 12,
     "metadata": {},
     "output_type": "execute_result"
    }
   ],
   "source": [
    "out"
   ]
  },
  {
   "cell_type": "code",
   "execution_count": null,
   "metadata": {},
   "outputs": [],
   "source": []
  },
  {
   "cell_type": "code",
   "execution_count": null,
   "metadata": {},
   "outputs": [],
   "source": []
  },
  {
   "cell_type": "code",
   "execution_count": null,
   "metadata": {},
   "outputs": [],
   "source": []
  },
  {
   "cell_type": "markdown",
   "metadata": {},
   "source": [
    "### Let's try https://deepgraph.readthedocs.io/en/latest/tutorials/pairwise_correlations.html"
   ]
  },
  {
   "cell_type": "code",
   "execution_count": 6,
   "metadata": {},
   "outputs": [],
   "source": [
    "# use only the rows from the sampled data set\n",
    "# and only the columns from the fingerprints data\n",
    "fingerprint_cols = df_fingerprints.columns.tolist()\n",
    "df_sampled_fingerprint = df_features[fingerprint_cols]"
   ]
  },
  {
   "cell_type": "code",
   "execution_count": 6,
   "metadata": {},
   "outputs": [
    {
     "data": {
      "text/plain": [
       "(22172, 4096)"
      ]
     },
     "execution_count": 6,
     "metadata": {},
     "output_type": "execute_result"
    }
   ],
   "source": [
    "df_sampled_fingerprint.shape"
   ]
  },
  {
   "cell_type": "code",
   "execution_count": null,
   "metadata": {},
   "outputs": [],
   "source": [
    "import os\n",
    "from multiprocessing import Pool\n",
    "import deepgraph as dg"
   ]
  },
  {
   "cell_type": "code",
   "execution_count": 8,
   "metadata": {},
   "outputs": [],
   "source": [
    "# create observations\n",
    "from numpy.random import RandomState\n",
    "prng = RandomState(0)\n",
    "n_features = len(df_sampled_fingerprint.columns)\n",
    "n_samples = len(df_sampled_fingerprint)\n",
    "\n",
    "# run over a sample of the rows. Can do this multiple times and take consensus.\n",
    "X = df_sampled_fingerprint.sample(n=1000, random_state=23).values.T\n",
    "\n",
    "\n",
    "#X = prng.randint(100, size=(n_features, n_samples)).astype(np.float64)\n",
    "\n",
    "# uncomment the next line to compute ranked variables for Spearman's correlation coefficients\n",
    "# X = X.argsort(axis=1).argsort(axis=1)\n",
    "\n",
    "# whiten variables for fast parallel computation later on\n",
    "X = (X - X.mean(axis=1, keepdims=True)) / X.std(axis=1, keepdims=True)\n",
    "\n",
    "# save in binary format\n",
    "np.save(data_loc+'samples', X)\n",
    "del X"
   ]
  },
  {
   "cell_type": "code",
   "execution_count": null,
   "metadata": {},
   "outputs": [],
   "source": [
    "step_size = 1e5\n",
    "n_processes = 30\n",
    "\n",
    "# load samples as memory-map\n",
    "X = np.load(data_loc+'samples.npy', mmap_mode='r')\n",
    "\n",
    "# create node table that stores references to the mem-mapped samples\n",
    "v = pd.DataFrame({'index': range(X.shape[0])})\n",
    "\n",
    "# connector function to compute pairwise pearson correlations\n",
    "def corr(index_s, index_t):\n",
    "    #features_s = X[index_s]\n",
    "    #features_t = X[index_t]\n",
    "    #corr = np.einsum('ij,ij->i', features_s, features_t) / n_samples\n",
    "    \n",
    "    features_s = X[index_s].T\n",
    "    features_t = X[index_t].T\n",
    "    za = features_s/np.sqrt(np.einsum('ij,ij->i', features_s, features_s))[:, None]\n",
    "    zb = features_t/np.sqrt(np.einsum('ij,ij->i', features_t, features_t))[:, None]\n",
    "    corr = np.einsum('ik,jk', za, zb)\n",
    "    \n",
    "    del za\n",
    "    del zb\n",
    "    del features_s\n",
    "    del features_t\n",
    "    \n",
    "    #if 1947 in index_t:\n",
    "    #    print(corr.shape)\n",
    "    \n",
    "    return corr\n",
    "\n",
    "# index array for parallelization\n",
    "pos_array = np.array(np.linspace(0, n_features*(n_features-1)//2, n_processes), dtype=int)\n",
    "\n",
    "# parallel computation\n",
    "def create_ei(i):\n",
    "\n",
    "    from_pos = pos_array[i]\n",
    "    to_pos = pos_array[i+1]\n",
    "\n",
    "    # initiate DeepGraph\n",
    "    g = dg.DeepGraph(v)\n",
    "\n",
    "    # create edges\n",
    "    g.create_edges(connectors=corr, step_size=step_size,\n",
    "                   from_pos=from_pos, to_pos=to_pos)\n",
    "\n",
    "    # store edge table\n",
    "    g.e.to_pickle((data_loc+'correlations/{}.pickle').format(str(i).zfill(3)))\n",
    "\n",
    "# computation\n",
    "if __name__ == '__main__':\n",
    "    os.makedirs(data_loc+'correlations/', exist_ok=True)\n",
    "    indices = np.arange(0, n_processes - 1)\n",
    "    p = Pool()\n",
    "    for _ in p.imap_unordered(create_ei, indices):\n",
    "        pass"
   ]
  },
  {
   "cell_type": "code",
   "execution_count": 9,
   "metadata": {},
   "outputs": [],
   "source": [
    "# store correlation values\n",
    "files = os.listdir(data_loc+'correlations/')\n",
    "files.sort()\n",
    "store = pd.HDFStore(data_loc+'e.h5', mode='w')\n",
    "for f in files:\n",
    "    #print((data_loc+'correlations/{}').format(f))\n",
    "    et = pd.read_pickle((data_loc+'correlations/{}').format(f))\n",
    "    store.append('e', et, format='t', data_columns=True, index=False)\n",
    "store.close()"
   ]
  },
  {
   "cell_type": "code",
   "execution_count": 10,
   "metadata": {},
   "outputs": [],
   "source": [
    "# load correlation table\n",
    "e = pd.read_hdf(data_loc+'e.h5')"
   ]
  },
  {
   "cell_type": "code",
   "execution_count": 11,
   "metadata": {},
   "outputs": [
    {
     "data": {
      "text/plain": [
       "8386560"
      ]
     },
     "execution_count": 11,
     "metadata": {},
     "output_type": "execute_result"
    }
   ],
   "source": [
    "len(e)"
   ]
  },
  {
   "cell_type": "code",
   "execution_count": 12,
   "metadata": {},
   "outputs": [],
   "source": [
    "col1 = df_fingerprints.columns.get_loc('1947')\n",
    "col2 = df_fingerprints.columns.get_loc('389')"
   ]
  },
  {
   "cell_type": "code",
   "execution_count": 13,
   "metadata": {},
   "outputs": [
    {
     "data": {
      "text/plain": [
       "corr    0.043412\n",
       "dtype: float64"
      ]
     },
     "execution_count": 13,
     "metadata": {},
     "output_type": "execute_result"
    }
   ],
   "source": [
    "e.abs().max()"
   ]
  },
  {
   "cell_type": "code",
   "execution_count": 14,
   "metadata": {},
   "outputs": [
    {
     "data": {
      "text/html": [
       "<div>\n",
       "<style scoped>\n",
       "    .dataframe tbody tr th:only-of-type {\n",
       "        vertical-align: middle;\n",
       "    }\n",
       "\n",
       "    .dataframe tbody tr th {\n",
       "        vertical-align: top;\n",
       "    }\n",
       "\n",
       "    .dataframe thead th {\n",
       "        text-align: right;\n",
       "    }\n",
       "</style>\n",
       "<table border=\"1\" class=\"dataframe\">\n",
       "  <thead>\n",
       "    <tr style=\"text-align: right;\">\n",
       "      <th></th>\n",
       "      <th></th>\n",
       "      <th>corr</th>\n",
       "    </tr>\n",
       "    <tr>\n",
       "      <th>s</th>\n",
       "      <th>t</th>\n",
       "      <th></th>\n",
       "    </tr>\n",
       "  </thead>\n",
       "  <tbody>\n",
       "    <tr>\n",
       "      <th>389</th>\n",
       "      <th>1947</th>\n",
       "      <td>0.043412</td>\n",
       "    </tr>\n",
       "  </tbody>\n",
       "</table>\n",
       "</div>"
      ],
      "text/plain": [
       "              corr\n",
       "s   t             \n",
       "389 1947  0.043412"
      ]
     },
     "execution_count": 14,
     "metadata": {},
     "output_type": "execute_result"
    }
   ],
   "source": [
    "e.query('s == 389 and t == 1947')"
   ]
  },
  {
   "cell_type": "code",
   "execution_count": null,
   "metadata": {},
   "outputs": [],
   "source": []
  },
  {
   "cell_type": "code",
   "execution_count": 15,
   "metadata": {},
   "outputs": [
    {
     "data": {
      "text/plain": [
       "0.9625312037778953"
      ]
     },
     "execution_count": 15,
     "metadata": {},
     "output_type": "execute_result"
    }
   ],
   "source": [
    "df_smpled = df_sampled_fingerprint.sample(n=1000, random_state=23)\n",
    "\n",
    "np.corrcoef(df_smpled['1947'], df_smpled['389'])[0][1]"
   ]
  },
  {
   "cell_type": "code",
   "execution_count": 19,
   "metadata": {},
   "outputs": [
    {
     "data": {
      "text/plain": [
       "0.9625312037779014"
      ]
     },
     "execution_count": 19,
     "metadata": {},
     "output_type": "execute_result"
    }
   ],
   "source": [
    "np.corrcoef(X[1947], X[389])[0][1]"
   ]
  },
  {
   "cell_type": "code",
   "execution_count": null,
   "metadata": {},
   "outputs": [],
   "source": []
  },
  {
   "cell_type": "code",
   "execution_count": null,
   "metadata": {},
   "outputs": [],
   "source": []
  },
  {
   "cell_type": "code",
   "execution_count": null,
   "metadata": {},
   "outputs": [],
   "source": []
  },
  {
   "cell_type": "markdown",
   "metadata": {},
   "source": [
    "### np.einsum for calculating pearson's correlation\n",
    "\n",
    "https://stackoverflow.com/questions/50323786/compute-correlation-in-numpy"
   ]
  },
  {
   "cell_type": "code",
   "execution_count": 18,
   "metadata": {},
   "outputs": [
    {
     "data": {
      "text/plain": [
       "(6, 6)"
      ]
     },
     "execution_count": 18,
     "metadata": {},
     "output_type": "execute_result"
    }
   ],
   "source": [
    "ma = np.random.random((5,6)).T\n",
    "mb = np.random.random((5,6)).T\n",
    " \n",
    "za = ma - ma.mean(axis=1, keepdims=True)\n",
    "za /= np.sqrt(np.einsum('ij,ij->i', za, za))[:, None]\n",
    "zb = mb - mb.mean(axis=1, keepdims=True)\n",
    "zb /= np.sqrt(np.einsum('ij,ij->i', zb, zb))[:, None]\n",
    " \n",
    "cc = np.einsum('ik,jk', za, zb)\n",
    "\n",
    "#np.allclose(cc, np.corrcoef(ma, mb)[:5, 5:])\n",
    "cc.shape"
   ]
  },
  {
   "cell_type": "code",
   "execution_count": 14,
   "metadata": {},
   "outputs": [
    {
     "data": {
      "text/plain": [
       "(5, 5)"
      ]
     },
     "execution_count": 14,
     "metadata": {},
     "output_type": "execute_result"
    }
   ],
   "source": [
    "za = ma - ma.mean(axis=1, keepdims=True)\n",
    "za /= np.sqrt(np.einsum('ij,ij->i', za, za))[:, None]\n",
    "cc = np.einsum('ik,jk', za, za)\n",
    "cc.shape"
   ]
  },
  {
   "cell_type": "code",
   "execution_count": 15,
   "metadata": {},
   "outputs": [],
   "source": [
    "cc2 = np.corrcoef(ma)"
   ]
  },
  {
   "cell_type": "code",
   "execution_count": 16,
   "metadata": {},
   "outputs": [
    {
     "data": {
      "text/plain": [
       "array([[ 1.        , -0.05638311, -0.06116722,  0.36717897, -0.00165396],\n",
       "       [-0.05638311,  1.        ,  0.85106318, -0.44946919, -0.51894837],\n",
       "       [-0.06116722,  0.85106318,  1.        , -0.51878746, -0.45389857],\n",
       "       [ 0.36717897, -0.44946919, -0.51878746,  1.        ,  0.63289511],\n",
       "       [-0.00165396, -0.51894837, -0.45389857,  0.63289511,  1.        ]])"
      ]
     },
     "execution_count": 16,
     "metadata": {},
     "output_type": "execute_result"
    }
   ],
   "source": [
    "cc"
   ]
  },
  {
   "cell_type": "code",
   "execution_count": 41,
   "metadata": {},
   "outputs": [
    {
     "data": {
      "text/plain": [
       "array([[ 1.        , -0.16417269,  0.3606348 , -0.73223249, -0.0259874 ],\n",
       "       [-0.16417269,  1.        , -0.55337111,  0.5003826 , -0.86897447],\n",
       "       [ 0.3606348 , -0.55337111,  1.        , -0.07939764,  0.52313883],\n",
       "       [-0.73223249,  0.5003826 , -0.07939764,  1.        , -0.39311631],\n",
       "       [-0.0259874 , -0.86897447,  0.52313883, -0.39311631,  1.        ]])"
      ]
     },
     "execution_count": 41,
     "metadata": {},
     "output_type": "execute_result"
    }
   ],
   "source": [
    "cc2"
   ]
  },
  {
   "cell_type": "code",
   "execution_count": null,
   "metadata": {},
   "outputs": [],
   "source": []
  },
  {
   "cell_type": "code",
   "execution_count": null,
   "metadata": {},
   "outputs": [],
   "source": []
  },
  {
   "cell_type": "code",
   "execution_count": null,
   "metadata": {},
   "outputs": [],
   "source": []
  },
  {
   "cell_type": "markdown",
   "metadata": {},
   "source": [
    "## Find correlated columns within the binding data"
   ]
  },
  {
   "cell_type": "code",
   "execution_count": 4,
   "metadata": {},
   "outputs": [
    {
     "name": "stdout",
     "output_type": "stream",
     "text": [
      "Number of rows: 4,165\n",
      "\n",
      "Number of columns: 8,481\n",
      "\n"
     ]
    }
   ],
   "source": [
    "df_binding_sites = pd.read_csv(data_loc+'protein_features/binding_sites_v1.0.csv', index_col=0)\n",
    "\n",
    "print('Number of rows: {:,}\\n'.format(len(df_binding_sites)))\n",
    "print('Number of columns: {:,}\\n'.format(len(df_binding_sites.columns)))"
   ]
  },
  {
   "cell_type": "code",
   "execution_count": 7,
   "metadata": {},
   "outputs": [
    {
     "data": {
      "text/html": [
       "<div>\n",
       "<style scoped>\n",
       "    .dataframe tbody tr th:only-of-type {\n",
       "        vertical-align: middle;\n",
       "    }\n",
       "\n",
       "    .dataframe tbody tr th {\n",
       "        vertical-align: top;\n",
       "    }\n",
       "\n",
       "    .dataframe thead th {\n",
       "        text-align: right;\n",
       "    }\n",
       "</style>\n",
       "<table border=\"1\" class=\"dataframe\">\n",
       "  <thead>\n",
       "    <tr style=\"text-align: right;\">\n",
       "      <th></th>\n",
       "      <th>AEK</th>\n",
       "      <th>VEL</th>\n",
       "      <th>EKF</th>\n",
       "      <th>LGM</th>\n",
       "      <th>VKN</th>\n",
       "      <th>LKP</th>\n",
       "      <th>NEE</th>\n",
       "      <th>TPN</th>\n",
       "      <th>SRL</th>\n",
       "      <th>KEY</th>\n",
       "      <th>...</th>\n",
       "      <th>FFV</th>\n",
       "      <th>MRW</th>\n",
       "      <th>YWT</th>\n",
       "      <th>AFF</th>\n",
       "      <th>LYW</th>\n",
       "      <th>*PX</th>\n",
       "      <th>SWH</th>\n",
       "      <th>TWW</th>\n",
       "      <th>FLM</th>\n",
       "      <th>RCV</th>\n",
       "    </tr>\n",
       "  </thead>\n",
       "  <tbody>\n",
       "    <tr>\n",
       "      <th>0</th>\n",
       "      <td>6.340165</td>\n",
       "      <td>5.83644</td>\n",
       "      <td>8.119470</td>\n",
       "      <td>12.750716</td>\n",
       "      <td>5.893912</td>\n",
       "      <td>3.851747</td>\n",
       "      <td>4.62339</td>\n",
       "      <td>6.412804</td>\n",
       "      <td>3.758782</td>\n",
       "      <td>5.217041</td>\n",
       "      <td>...</td>\n",
       "      <td>-0.024301</td>\n",
       "      <td>-0.020249</td>\n",
       "      <td>-0.020249</td>\n",
       "      <td>-0.020249</td>\n",
       "      <td>-0.031816</td>\n",
       "      <td>-0.020249</td>\n",
       "      <td>-0.020249</td>\n",
       "      <td>-0.020249</td>\n",
       "      <td>-0.020249</td>\n",
       "      <td>-0.02506</td>\n",
       "    </tr>\n",
       "    <tr>\n",
       "      <th>1</th>\n",
       "      <td>5.609618</td>\n",
       "      <td>-0.20408</td>\n",
       "      <td>9.764107</td>\n",
       "      <td>-0.084641</td>\n",
       "      <td>-0.159101</td>\n",
       "      <td>-0.222109</td>\n",
       "      <td>-0.18790</td>\n",
       "      <td>-0.119188</td>\n",
       "      <td>-0.207898</td>\n",
       "      <td>-0.127372</td>\n",
       "      <td>...</td>\n",
       "      <td>-0.024301</td>\n",
       "      <td>-0.020249</td>\n",
       "      <td>-0.020249</td>\n",
       "      <td>-0.020249</td>\n",
       "      <td>-0.031816</td>\n",
       "      <td>-0.020249</td>\n",
       "      <td>-0.020249</td>\n",
       "      <td>-0.020249</td>\n",
       "      <td>-0.020249</td>\n",
       "      <td>-0.02506</td>\n",
       "    </tr>\n",
       "    <tr>\n",
       "      <th>2</th>\n",
       "      <td>2.926261</td>\n",
       "      <td>-0.20408</td>\n",
       "      <td>-0.150548</td>\n",
       "      <td>-0.084641</td>\n",
       "      <td>-0.159101</td>\n",
       "      <td>-0.222109</td>\n",
       "      <td>-0.18790</td>\n",
       "      <td>-0.119188</td>\n",
       "      <td>-0.207898</td>\n",
       "      <td>-0.127372</td>\n",
       "      <td>...</td>\n",
       "      <td>-0.024301</td>\n",
       "      <td>-0.020249</td>\n",
       "      <td>-0.020249</td>\n",
       "      <td>-0.020249</td>\n",
       "      <td>-0.031816</td>\n",
       "      <td>-0.020249</td>\n",
       "      <td>-0.020249</td>\n",
       "      <td>-0.020249</td>\n",
       "      <td>-0.020249</td>\n",
       "      <td>-0.02506</td>\n",
       "    </tr>\n",
       "    <tr>\n",
       "      <th>3</th>\n",
       "      <td>4.296038</td>\n",
       "      <td>-0.20408</td>\n",
       "      <td>-0.150548</td>\n",
       "      <td>-0.084641</td>\n",
       "      <td>-0.159101</td>\n",
       "      <td>-0.222109</td>\n",
       "      <td>-0.18790</td>\n",
       "      <td>-0.119188</td>\n",
       "      <td>-0.207898</td>\n",
       "      <td>-0.127372</td>\n",
       "      <td>...</td>\n",
       "      <td>-0.024301</td>\n",
       "      <td>-0.020249</td>\n",
       "      <td>-0.020249</td>\n",
       "      <td>-0.020249</td>\n",
       "      <td>-0.031816</td>\n",
       "      <td>-0.020249</td>\n",
       "      <td>-0.020249</td>\n",
       "      <td>-0.020249</td>\n",
       "      <td>-0.020249</td>\n",
       "      <td>-0.02506</td>\n",
       "    </tr>\n",
       "    <tr>\n",
       "      <th>4</th>\n",
       "      <td>3.916715</td>\n",
       "      <td>-0.20408</td>\n",
       "      <td>-0.150548</td>\n",
       "      <td>-0.084641</td>\n",
       "      <td>-0.159101</td>\n",
       "      <td>-0.222109</td>\n",
       "      <td>-0.18790</td>\n",
       "      <td>-0.119188</td>\n",
       "      <td>-0.207898</td>\n",
       "      <td>-0.127372</td>\n",
       "      <td>...</td>\n",
       "      <td>-0.024301</td>\n",
       "      <td>-0.020249</td>\n",
       "      <td>-0.020249</td>\n",
       "      <td>-0.020249</td>\n",
       "      <td>-0.031816</td>\n",
       "      <td>-0.020249</td>\n",
       "      <td>-0.020249</td>\n",
       "      <td>-0.020249</td>\n",
       "      <td>-0.020249</td>\n",
       "      <td>-0.02506</td>\n",
       "    </tr>\n",
       "  </tbody>\n",
       "</table>\n",
       "<p>5 rows × 8481 columns</p>\n",
       "</div>"
      ],
      "text/plain": [
       "        AEK      VEL       EKF        LGM       VKN       LKP      NEE  \\\n",
       "0  6.340165  5.83644  8.119470  12.750716  5.893912  3.851747  4.62339   \n",
       "1  5.609618 -0.20408  9.764107  -0.084641 -0.159101 -0.222109 -0.18790   \n",
       "2  2.926261 -0.20408 -0.150548  -0.084641 -0.159101 -0.222109 -0.18790   \n",
       "3  4.296038 -0.20408 -0.150548  -0.084641 -0.159101 -0.222109 -0.18790   \n",
       "4  3.916715 -0.20408 -0.150548  -0.084641 -0.159101 -0.222109 -0.18790   \n",
       "\n",
       "        TPN       SRL       KEY   ...          FFV       MRW       YWT  \\\n",
       "0  6.412804  3.758782  5.217041   ...    -0.024301 -0.020249 -0.020249   \n",
       "1 -0.119188 -0.207898 -0.127372   ...    -0.024301 -0.020249 -0.020249   \n",
       "2 -0.119188 -0.207898 -0.127372   ...    -0.024301 -0.020249 -0.020249   \n",
       "3 -0.119188 -0.207898 -0.127372   ...    -0.024301 -0.020249 -0.020249   \n",
       "4 -0.119188 -0.207898 -0.127372   ...    -0.024301 -0.020249 -0.020249   \n",
       "\n",
       "        AFF       LYW       *PX       SWH       TWW       FLM      RCV  \n",
       "0 -0.020249 -0.031816 -0.020249 -0.020249 -0.020249 -0.020249 -0.02506  \n",
       "1 -0.020249 -0.031816 -0.020249 -0.020249 -0.020249 -0.020249 -0.02506  \n",
       "2 -0.020249 -0.031816 -0.020249 -0.020249 -0.020249 -0.020249 -0.02506  \n",
       "3 -0.020249 -0.031816 -0.020249 -0.020249 -0.020249 -0.020249 -0.02506  \n",
       "4 -0.020249 -0.031816 -0.020249 -0.020249 -0.020249 -0.020249 -0.02506  \n",
       "\n",
       "[5 rows x 8481 columns]"
      ]
     },
     "execution_count": 7,
     "metadata": {},
     "output_type": "execute_result"
    }
   ],
   "source": [
    "num_cols = len(df_binding_sites.columns)\n",
    "num_pairwise_ops = (num_cols**2-num_cols)/2.0\n",
    "num_pairwise_ops"
   ]
  },
  {
   "cell_type": "code",
   "execution_count": null,
   "metadata": {},
   "outputs": [],
   "source": [
    "from IPython.display import display, clear_output\n",
    "\n",
    "cols = df_binding_sites.columns.tolist()\n",
    "\n",
    "corr_cols = []\n",
    "\n",
    "def func(x, y):\n",
    "    i = len(corr_cols)\n",
    "    clear_output(wait=True)\n",
    "    display('processed column pair {:,} out of {:,}'.format(i, num_pairwise_ops))\n",
    "        \n",
    "    corr_cols.append(x)\n",
    "    return (x, y)\n",
    "    \n",
    "\n",
    "out = [func(x, y) for i,x in enumerate(cols) for j,y in enumerate(cols) if i > j and \n",
    "       np.corrcoef(df_binding_sites[x], df_binding_sites[y])[0][1] > 0.9]"
   ]
  },
  {
   "cell_type": "code",
   "execution_count": null,
   "metadata": {},
   "outputs": [],
   "source": [
    "out"
   ]
  },
  {
   "cell_type": "code",
   "execution_count": null,
   "metadata": {},
   "outputs": [],
   "source": []
  },
  {
   "cell_type": "code",
   "execution_count": null,
   "metadata": {},
   "outputs": [],
   "source": []
  },
  {
   "cell_type": "code",
   "execution_count": null,
   "metadata": {},
   "outputs": [],
   "source": [
    "df_active = df_interactions[df_interactions['activity']==1]\n",
    "df_active = df_active.astype({'cid': 'category'})\n",
    "df_active.head()"
   ]
  },
  {
   "cell_type": "code",
   "execution_count": null,
   "metadata": {},
   "outputs": [],
   "source": [
    "num_active = len(df_active)\n",
    "total = len(df_interactions)\n",
    "print('There are {:,} active entries out of {:,} interactions ({:.2%}).'.format(num_active, total, num_active/total))"
   ]
  },
  {
   "cell_type": "code",
   "execution_count": null,
   "metadata": {},
   "outputs": [],
   "source": [
    "print('number of unique cids is {:,}.'.format(df_active['cid'].nunique()))\n",
    "print('number of unique pids is {:,}.'.format(df_active['pid'].nunique()))    "
   ]
  },
  {
   "cell_type": "code",
   "execution_count": null,
   "metadata": {},
   "outputs": [],
   "source": [
    "import seaborn as sns; sns.set(style=\"white\", color_codes=True)\n",
    "\n",
    "pyplot.figure(figsize=(15, 15))\n",
    "df_heatmap = df_active[:100].pivot_table(values='activity', index='cid', columns='pid', aggfunc=np.sum)\n",
    "sns.heatmap(df_heatmap, annot=True)\n",
    "plt.show()"
   ]
  },
  {
   "cell_type": "code",
   "execution_count": null,
   "metadata": {},
   "outputs": [],
   "source": [
    "s_cid = df_active['cid'].value_counts()\n",
    "s_pid = df_active['pid'].value_counts()\n",
    "\n",
    "print(len(s_cid[s_cid > 10]))\n",
    "\n",
    "print(len(s_pid[s_pid > 10]))"
   ]
  },
  {
   "cell_type": "code",
   "execution_count": null,
   "metadata": {},
   "outputs": [],
   "source": [
    "import matplotlib.pyplot as plt\n",
    "\n",
    "#s2 = pd.Series([1,2,3,4,5,2,3,333,2,123,434,1,2,3,1,11,11,432,3,2,4,3,3,3,54,34,24,2,223,2535334,3,1,1,0,0,0,0,0,0,0,0,0,0,0,0,0,0,0,0,30000, 2,2,2,2,2,2,2,2,2,2,2,2,2,2,2,2,2,2,2,2,2,2,2,2,2,2,2,2,2,2,2])\n",
    "#prob = s2.value_counts(normalize=True)\n",
    "#threshold = 0.02\n",
    "#mask = prob > threshold\n",
    "#tail_prob = prob.loc[~mask].sum()\n",
    "#prob = prob.loc[mask]\n",
    "#prob['other'] = tail_prob\n",
    "\n",
    "pyplot.figure(figsize=(20, 5))\n",
    "s_cid[:100].plot(kind='bar')\n",
    "plt.xticks(rotation=90)\n",
    "plt.show()\n"
   ]
  },
  {
   "cell_type": "code",
   "execution_count": null,
   "metadata": {},
   "outputs": [],
   "source": [
    "df_inactive = df_interactions[df_interactions['activity']==0]\n",
    "df_inactive = df_inactive.astype({'cid': 'category'})\n",
    "df_inactive.head()"
   ]
  },
  {
   "cell_type": "code",
   "execution_count": null,
   "metadata": {},
   "outputs": [],
   "source": []
  }
 ],
 "metadata": {
  "kernelspec": {
   "display_name": "Python 3",
   "language": "python",
   "name": "python3"
  },
  "language_info": {
   "codemirror_mode": {
    "name": "ipython",
    "version": 3
   },
   "file_extension": ".py",
   "mimetype": "text/x-python",
   "name": "python",
   "nbconvert_exporter": "python",
   "pygments_lexer": "ipython3",
   "version": "3.6.2"
  }
 },
 "nbformat": 4,
 "nbformat_minor": 4
}
