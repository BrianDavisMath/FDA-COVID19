{
 "cells": [
  {
   "cell_type": "markdown",
   "metadata": {},
   "source": [
    "# DBSCAN\n",
    "\n",
    "We run DBSCAN clustering on the full cardinality of the data obtained from _greg-features.ipynb_. But we only use the columns retained after running _centroid-sampling.ipynb_ and _dim-red-via-correlation.ipynb_.\n",
    "\n",
    "Reference material:\n",
    "\n",
    "* [sklearn DBSCAN](https://scikit-learn.org/stable/modules/generated/sklearn.cluster.DBSCAN.html)\n",
    "* [DBSCAN demo](https://scikit-learn.org/stable/auto_examples/cluster/plot_dbscan.html)\n",
    "* [Let’s cluster data points using DBSCAN](https://medium.com/@agarwalvibhor84/lets-cluster-data-points-using-dbscan-278c5459bee5)\n",
    "\n",
    "<hr>"
   ]
  },
  {
   "cell_type": "code",
   "execution_count": 1,
   "metadata": {},
   "outputs": [
    {
     "name": "stdout",
     "output_type": "stream",
     "text": [
      "Populating the interactive namespace from numpy and matplotlib\n"
     ]
    },
    {
     "data": {
      "application/javascript": [
       "IPython.notebook.set_autosave_interval(25000)"
      ]
     },
     "metadata": {},
     "output_type": "display_data"
    },
    {
     "name": "stdout",
     "output_type": "stream",
     "text": [
      "Autosaving every 25 seconds\n"
     ]
    }
   ],
   "source": [
    "%pylab inline\n",
    "%autosave 25\n",
    "\n",
    "import pandas as pd\n",
    "\n",
    "from sklearn.cluster import DBSCAN\n",
    "from sklearn.preprocessing import StandardScaler"
   ]
  },
  {
   "cell_type": "markdown",
   "metadata": {},
   "source": [
    "### Data location"
   ]
  },
  {
   "cell_type": "code",
   "execution_count": 2,
   "metadata": {},
   "outputs": [],
   "source": [
    "data_loc = '../data/FDA-COVID19_files_v1.0/'"
   ]
  },
  {
   "cell_type": "markdown",
   "metadata": {},
   "source": [
    "### Get the full data set"
   ]
  },
  {
   "cell_type": "code",
   "execution_count": 3,
   "metadata": {},
   "outputs": [
    {
     "name": "stdout",
     "output_type": "stream",
     "text": [
      "rows: 184,063, columns: 17,076\n"
     ]
    }
   ],
   "source": [
    "store = pd.HDFStore(data_loc + 'features.h5')\n",
    "df_all = pd.DataFrame(store['df' ])\n",
    "print('rows: {:,}, columns: {:,}'.format(len(df_all), len(df_all.columns)))\n",
    "store.close()"
   ]
  },
  {
   "cell_type": "markdown",
   "metadata": {},
   "source": [
    "### Take a subset of the columns\n",
    "\n",
    "Exclude zero-variance and highly correlated columns, as found from analysing the centroid-based sampled data set."
   ]
  },
  {
   "cell_type": "code",
   "execution_count": 4,
   "metadata": {},
   "outputs": [
    {
     "name": "stdout",
     "output_type": "stream",
     "text": [
      "columns: 14,730\n"
     ]
    }
   ],
   "source": [
    "store = pd.HDFStore(data_loc + 'sampled_data.h5')\n",
    "meta = store.select('df', start=1, stop=1) # Grab on the column names. Speeds things up.\n",
    "cols = meta.columns\n",
    "store.close()\n",
    "print('columns: {:,}'.format(len(cols)))"
   ]
  },
  {
   "cell_type": "markdown",
   "metadata": {},
   "source": [
    "### Original data with reduced dimensionality"
   ]
  },
  {
   "cell_type": "code",
   "execution_count": 5,
   "metadata": {},
   "outputs": [
    {
     "name": "stdout",
     "output_type": "stream",
     "text": [
      "rows: 184,063, columns: 14,730\n"
     ]
    }
   ],
   "source": [
    "df_features = df_all[cols]\n",
    "del df_all\n",
    "del cols\n",
    "print('rows: {:,}, columns: {:,}'.format(len(df_features), len(df_features.columns)))"
   ]
  },
  {
   "cell_type": "markdown",
   "metadata": {},
   "source": [
    "### Scaling\n",
    "\n",
    "We need to make sure the data are standardized. Fingerprint and binding-site features are already scaled so we can ignore those and scale the remaining features."
   ]
  },
  {
   "cell_type": "code",
   "execution_count": 13,
   "metadata": {},
   "outputs": [
    {
     "name": "stdout",
     "output_type": "stream",
     "text": [
      "12,405 don't need to be scaled\n",
      "2,325 do need to be scaled\n"
     ]
    }
   ],
   "source": [
    "cols_to_exclude = ['cid', 'pid', 'activity']\n",
    "\n",
    "# fingerprint columns\n",
    "df = pd.read_csv(data_loc+'drug_features/fingerprints.csv', index_col=0, nrows=0)\n",
    "cols_to_exclude = cols_to_exclude + df.columns.tolist()\n",
    "del df\n",
    "\n",
    "# binding-site columns\n",
    "df = pd.read_csv(data_loc+'protein_features/binding_sites_v1.0.csv', index_col=0, nrows=0)\n",
    "cols_to_exclude = cols_to_exclude + df.columns.tolist()\n",
    "del df\n",
    "\n",
    "# some columns have already been dropped in previous processing, e.g. removal of zero-variance columns\n",
    "cols_to_exclude = df_features.columns.intersection(cols_to_exclude)\n",
    "\n",
    "print('{:,} don\\'t need to be scaled'.format(len(cols_to_exclude)))\n",
    "\n",
    "cols_to_keep = df_features.drop(cols_to_exclude, axis=1).columns.tolist()\n",
    "\n",
    "print('{:,} do need to be scaled'.format(len(cols_to_keep)))"
   ]
  },
  {
   "cell_type": "code",
   "execution_count": 14,
   "metadata": {},
   "outputs": [],
   "source": [
    "# scale only the cols_to_keep\n",
    "scaler = StandardScaler()\n",
    "features = df_features[cols_to_keep]\n",
    "df_features[cols_to_keep] = scaler.fit_transform(features.values)\n",
    "del features"
   ]
  },
  {
   "cell_type": "code",
   "execution_count": 19,
   "metadata": {},
   "outputs": [],
   "source": [
    "# save the scaled features to file to save running this slow op again\n",
    "store = pd.HDFStore(data_loc + 'dbscan_scaled_data.h5')\n",
    "store['df'] = df_features\n",
    "store.close()"
   ]
  },
  {
   "cell_type": "markdown",
   "metadata": {},
   "source": [
    "### Load pre-scaled data"
   ]
  },
  {
   "cell_type": "code",
   "execution_count": 6,
   "metadata": {},
   "outputs": [
    {
     "name": "stdout",
     "output_type": "stream",
     "text": [
      "rows: 184,063, columns: 14,730\n"
     ]
    }
   ],
   "source": [
    "store = pd.HDFStore(data_loc + 'dbscan_scaled_data.h5')\n",
    "df_features = pd.DataFrame(store['df' ])\n",
    "print('rows: {:,}, columns: {:,}'.format(len(df_features), len(df_features.columns)))\n",
    "store.close()"
   ]
  },
  {
   "cell_type": "markdown",
   "metadata": {},
   "source": [
    "### Cluster"
   ]
  },
  {
   "cell_type": "code",
   "execution_count": 7,
   "metadata": {},
   "outputs": [],
   "source": [
    "X = df_features.drop(columns=['cid', 'pid', 'activity'], axis=1)"
   ]
  },
  {
   "cell_type": "code",
   "execution_count": null,
   "metadata": {},
   "outputs": [],
   "source": [
    "db = DBSCAN(eps=0.8, min_samples=10).fit(X.values)"
   ]
  },
  {
   "cell_type": "code",
   "execution_count": null,
   "metadata": {},
   "outputs": [],
   "source": [
    "labels = db.labels_\n",
    "\n",
    "# Number of clusters in labels, ignoring noise if present.\n",
    "n_clusters_ = len(set(labels)) - (1 if -1 in labels else 0)\n",
    "n_noise_ = list(labels).count(-1)"
   ]
  },
  {
   "cell_type": "code",
   "execution_count": null,
   "metadata": {},
   "outputs": [],
   "source": [
    "n_clusters_"
   ]
  },
  {
   "cell_type": "code",
   "execution_count": null,
   "metadata": {},
   "outputs": [],
   "source": [
    "n_noise_"
   ]
  },
  {
   "cell_type": "code",
   "execution_count": null,
   "metadata": {},
   "outputs": [],
   "source": []
  }
 ],
 "metadata": {
  "kernelspec": {
   "display_name": "Python 3",
   "language": "python",
   "name": "python3"
  },
  "language_info": {
   "codemirror_mode": {
    "name": "ipython",
    "version": 3
   },
   "file_extension": ".py",
   "mimetype": "text/x-python",
   "name": "python",
   "nbconvert_exporter": "python",
   "pygments_lexer": "ipython3",
   "version": "3.6.2"
  }
 },
 "nbformat": 4,
 "nbformat_minor": 4
}
