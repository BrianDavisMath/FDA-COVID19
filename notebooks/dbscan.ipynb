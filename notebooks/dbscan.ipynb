{
 "cells": [
  {
   "cell_type": "markdown",
   "metadata": {},
   "source": [
    "# DBSCAN\n",
    "\n",
    "We run DBSCAN clustering on the full cardinality of the data obtained from _greg-features.ipynb_. But we only use the columns retained after running _centroid-sampling.ipynb_ and _dim-red-via-correlation.ipynb_.\n",
    "\n",
    "Reference material:\n",
    "\n",
    "* [sklearn DBSCAN](https://scikit-learn.org/stable/modules/generated/sklearn.cluster.DBSCAN.html)\n",
    "* [DBSCAN demo](https://scikit-learn.org/stable/auto_examples/cluster/plot_dbscan.html)\n",
    "* [Let’s cluster data points using DBSCAN](https://medium.com/@agarwalvibhor84/lets-cluster-data-points-using-dbscan-278c5459bee5)\n",
    "\n",
    "<hr>"
   ]
  },
  {
   "cell_type": "code",
   "execution_count": 42,
   "metadata": {},
   "outputs": [
    {
     "name": "stdout",
     "output_type": "stream",
     "text": [
      "Populating the interactive namespace from numpy and matplotlib\n"
     ]
    },
    {
     "data": {
      "application/javascript": [
       "IPython.notebook.set_autosave_interval(25000)"
      ]
     },
     "metadata": {},
     "output_type": "display_data"
    },
    {
     "name": "stdout",
     "output_type": "stream",
     "text": [
      "Autosaving every 25 seconds\n"
     ]
    },
    {
     "name": "stderr",
     "output_type": "stream",
     "text": [
      "/Library/Frameworks/Python.framework/Versions/3.6/lib/python3.6/site-packages/sklearn/externals/joblib/__init__.py:15: DeprecationWarning: sklearn.externals.joblib is deprecated in 0.21 and will be removed in 0.23. Please import this functionality directly from joblib, which can be installed with: pip install joblib. If this warning is raised when loading pickled models, you may need to re-serialize those models with scikit-learn 0.21+.\n",
      "  warnings.warn(msg, category=DeprecationWarning)\n"
     ]
    }
   ],
   "source": [
    "%pylab inline\n",
    "%autosave 25\n",
    "\n",
    "import umap\n",
    "import pandas as pd\n",
    "import seaborn as sns\n",
    "\n",
    "from sklearn.cluster import DBSCAN\n",
    "from sklearn.preprocessing import MinMaxScaler\n",
    "from sklearn.externals import joblib"
   ]
  },
  {
   "cell_type": "markdown",
   "metadata": {},
   "source": [
    "### Data location"
   ]
  },
  {
   "cell_type": "code",
   "execution_count": 2,
   "metadata": {},
   "outputs": [],
   "source": [
    "data_loc = '../data/FDA-COVID19_files_v1.0/'"
   ]
  },
  {
   "cell_type": "markdown",
   "metadata": {},
   "source": [
    "### Get the full data set"
   ]
  },
  {
   "cell_type": "code",
   "execution_count": 3,
   "metadata": {},
   "outputs": [
    {
     "name": "stdout",
     "output_type": "stream",
     "text": [
      "rows: 184,063, columns: 17,076\n"
     ]
    }
   ],
   "source": [
    "store = pd.HDFStore(data_loc + 'features.h5')\n",
    "df_all = pd.DataFrame(store['df' ])\n",
    "print('rows: {:,}, columns: {:,}'.format(len(df_all), len(df_all.columns)))\n",
    "store.close()"
   ]
  },
  {
   "cell_type": "markdown",
   "metadata": {},
   "source": [
    "### Take a subset of the columns\n",
    "\n",
    "Exclude zero-variance and highly correlated columns, as found from analysing the centroid-based sampled data set."
   ]
  },
  {
   "cell_type": "code",
   "execution_count": 4,
   "metadata": {},
   "outputs": [
    {
     "name": "stdout",
     "output_type": "stream",
     "text": [
      "columns: 14,730\n"
     ]
    }
   ],
   "source": [
    "store = pd.HDFStore(data_loc + 'sampled_data.h5')\n",
    "meta = store.select('df', start=1, stop=1) # Grab on the column names. Speeds things up.\n",
    "cols = meta.columns\n",
    "store.close()\n",
    "print('columns: {:,}'.format(len(cols)))"
   ]
  },
  {
   "cell_type": "markdown",
   "metadata": {},
   "source": [
    "### Original data with reduced dimensionality"
   ]
  },
  {
   "cell_type": "code",
   "execution_count": 5,
   "metadata": {},
   "outputs": [
    {
     "name": "stdout",
     "output_type": "stream",
     "text": [
      "rows: 184,063, columns: 14,730\n"
     ]
    }
   ],
   "source": [
    "df_features = df_all[cols]\n",
    "del df_all\n",
    "del cols\n",
    "print('rows: {:,}, columns: {:,}'.format(len(df_features), len(df_features.columns)))"
   ]
  },
  {
   "cell_type": "markdown",
   "metadata": {},
   "source": [
    "### Scale to range (0, 1)\n",
    "\n",
    "Note: previsouly used StandardScaler on all columns except fingerprint and binding-sites but this took a lot of time and resources to calculate with no apparrent additional benefit. So switched to simpler MinMaxScaler over all columns."
   ]
  },
  {
   "cell_type": "code",
   "execution_count": 6,
   "metadata": {},
   "outputs": [],
   "source": [
    "scaler = MinMaxScaler()\n",
    "drop_cols = ['cid', 'pid', 'activity']\n",
    "features = df_features.drop(columns=drop_cols, axis=1)\n",
    "features = scaler.fit_transform(features.values)"
   ]
  },
  {
   "cell_type": "code",
   "execution_count": 7,
   "metadata": {},
   "outputs": [
    {
     "data": {
      "text/html": [
       "<div>\n",
       "<style scoped>\n",
       "    .dataframe tbody tr th:only-of-type {\n",
       "        vertical-align: middle;\n",
       "    }\n",
       "\n",
       "    .dataframe tbody tr th {\n",
       "        vertical-align: top;\n",
       "    }\n",
       "\n",
       "    .dataframe thead th {\n",
       "        text-align: right;\n",
       "    }\n",
       "</style>\n",
       "<table border=\"1\" class=\"dataframe\">\n",
       "  <thead>\n",
       "    <tr style=\"text-align: right;\">\n",
       "      <th></th>\n",
       "      <th>AEK</th>\n",
       "      <th>VEL</th>\n",
       "      <th>EKF</th>\n",
       "      <th>LGM</th>\n",
       "      <th>VKN</th>\n",
       "      <th>LKP</th>\n",
       "      <th>NEE</th>\n",
       "      <th>TPN</th>\n",
       "      <th>SRL</th>\n",
       "      <th>KEY</th>\n",
       "      <th>...</th>\n",
       "      <th>4089</th>\n",
       "      <th>4090</th>\n",
       "      <th>4091</th>\n",
       "      <th>4092</th>\n",
       "      <th>4093</th>\n",
       "      <th>4094</th>\n",
       "      <th>4095</th>\n",
       "      <th>cid</th>\n",
       "      <th>pid</th>\n",
       "      <th>activity</th>\n",
       "    </tr>\n",
       "  </thead>\n",
       "  <tbody>\n",
       "    <tr>\n",
       "      <th>0</th>\n",
       "      <td>0.000000</td>\n",
       "      <td>0.0</td>\n",
       "      <td>0.0</td>\n",
       "      <td>0.0</td>\n",
       "      <td>0.00000</td>\n",
       "      <td>0.0</td>\n",
       "      <td>0.0</td>\n",
       "      <td>0.0</td>\n",
       "      <td>0.0</td>\n",
       "      <td>0.0</td>\n",
       "      <td>...</td>\n",
       "      <td>0.0</td>\n",
       "      <td>0.0</td>\n",
       "      <td>0.0</td>\n",
       "      <td>0.0</td>\n",
       "      <td>0.0</td>\n",
       "      <td>0.0</td>\n",
       "      <td>0.0</td>\n",
       "      <td>38258</td>\n",
       "      <td>CAA96025</td>\n",
       "      <td>0</td>\n",
       "    </tr>\n",
       "    <tr>\n",
       "      <th>1</th>\n",
       "      <td>0.616716</td>\n",
       "      <td>0.0</td>\n",
       "      <td>0.0</td>\n",
       "      <td>0.0</td>\n",
       "      <td>0.59088</td>\n",
       "      <td>0.0</td>\n",
       "      <td>0.0</td>\n",
       "      <td>0.0</td>\n",
       "      <td>0.0</td>\n",
       "      <td>0.0</td>\n",
       "      <td>...</td>\n",
       "      <td>0.0</td>\n",
       "      <td>0.0</td>\n",
       "      <td>0.0</td>\n",
       "      <td>0.0</td>\n",
       "      <td>0.0</td>\n",
       "      <td>0.0</td>\n",
       "      <td>0.0</td>\n",
       "      <td>38258</td>\n",
       "      <td>XP_717710</td>\n",
       "      <td>0</td>\n",
       "    </tr>\n",
       "    <tr>\n",
       "      <th>2</th>\n",
       "      <td>0.000000</td>\n",
       "      <td>0.0</td>\n",
       "      <td>0.0</td>\n",
       "      <td>0.0</td>\n",
       "      <td>0.00000</td>\n",
       "      <td>0.0</td>\n",
       "      <td>0.0</td>\n",
       "      <td>0.0</td>\n",
       "      <td>0.0</td>\n",
       "      <td>0.0</td>\n",
       "      <td>...</td>\n",
       "      <td>0.0</td>\n",
       "      <td>0.0</td>\n",
       "      <td>0.0</td>\n",
       "      <td>0.0</td>\n",
       "      <td>0.0</td>\n",
       "      <td>0.0</td>\n",
       "      <td>0.0</td>\n",
       "      <td>38258</td>\n",
       "      <td>O86157</td>\n",
       "      <td>0</td>\n",
       "    </tr>\n",
       "    <tr>\n",
       "      <th>3</th>\n",
       "      <td>0.000000</td>\n",
       "      <td>0.0</td>\n",
       "      <td>0.0</td>\n",
       "      <td>0.0</td>\n",
       "      <td>0.00000</td>\n",
       "      <td>0.0</td>\n",
       "      <td>0.0</td>\n",
       "      <td>0.0</td>\n",
       "      <td>0.0</td>\n",
       "      <td>0.0</td>\n",
       "      <td>...</td>\n",
       "      <td>0.0</td>\n",
       "      <td>0.0</td>\n",
       "      <td>0.0</td>\n",
       "      <td>0.0</td>\n",
       "      <td>0.0</td>\n",
       "      <td>0.0</td>\n",
       "      <td>0.0</td>\n",
       "      <td>38258</td>\n",
       "      <td>P08659</td>\n",
       "      <td>0</td>\n",
       "    </tr>\n",
       "    <tr>\n",
       "      <th>4</th>\n",
       "      <td>0.000000</td>\n",
       "      <td>0.0</td>\n",
       "      <td>0.0</td>\n",
       "      <td>0.0</td>\n",
       "      <td>0.00000</td>\n",
       "      <td>0.0</td>\n",
       "      <td>0.0</td>\n",
       "      <td>0.0</td>\n",
       "      <td>0.0</td>\n",
       "      <td>0.0</td>\n",
       "      <td>...</td>\n",
       "      <td>0.0</td>\n",
       "      <td>0.0</td>\n",
       "      <td>0.0</td>\n",
       "      <td>0.0</td>\n",
       "      <td>0.0</td>\n",
       "      <td>0.0</td>\n",
       "      <td>0.0</td>\n",
       "      <td>38258</td>\n",
       "      <td>ADQ57959</td>\n",
       "      <td>0</td>\n",
       "    </tr>\n",
       "  </tbody>\n",
       "</table>\n",
       "<p>5 rows × 14730 columns</p>\n",
       "</div>"
      ],
      "text/plain": [
       "        AEK  VEL  EKF  LGM      VKN  LKP  NEE  TPN  SRL  KEY    ...     4089  \\\n",
       "0  0.000000  0.0  0.0  0.0  0.00000  0.0  0.0  0.0  0.0  0.0    ...      0.0   \n",
       "1  0.616716  0.0  0.0  0.0  0.59088  0.0  0.0  0.0  0.0  0.0    ...      0.0   \n",
       "2  0.000000  0.0  0.0  0.0  0.00000  0.0  0.0  0.0  0.0  0.0    ...      0.0   \n",
       "3  0.000000  0.0  0.0  0.0  0.00000  0.0  0.0  0.0  0.0  0.0    ...      0.0   \n",
       "4  0.000000  0.0  0.0  0.0  0.00000  0.0  0.0  0.0  0.0  0.0    ...      0.0   \n",
       "\n",
       "   4090  4091  4092  4093  4094  4095    cid        pid  activity  \n",
       "0   0.0   0.0   0.0   0.0   0.0   0.0  38258   CAA96025         0  \n",
       "1   0.0   0.0   0.0   0.0   0.0   0.0  38258  XP_717710         0  \n",
       "2   0.0   0.0   0.0   0.0   0.0   0.0  38258     O86157         0  \n",
       "3   0.0   0.0   0.0   0.0   0.0   0.0  38258     P08659         0  \n",
       "4   0.0   0.0   0.0   0.0   0.0   0.0  38258   ADQ57959         0  \n",
       "\n",
       "[5 rows x 14730 columns]"
      ]
     },
     "execution_count": 7,
     "metadata": {},
     "output_type": "execute_result"
    }
   ],
   "source": [
    "df_drop = df_features[drop_cols]\n",
    "cols = df_features.columns.tolist()[3:]\n",
    "del df_features\n",
    "\n",
    "df_features = pd.DataFrame(columns=cols, data=features)\n",
    "df_features[drop_cols] = pd.DataFrame(df_drop.values)\n",
    "\n",
    "del df_drop\n",
    "df_features.head()"
   ]
  },
  {
   "cell_type": "markdown",
   "metadata": {},
   "source": [
    "### Takes a while to scale so save for later"
   ]
  },
  {
   "cell_type": "code",
   "execution_count": 8,
   "metadata": {},
   "outputs": [
    {
     "name": "stderr",
     "output_type": "stream",
     "text": [
      "/Library/Frameworks/Python.framework/Versions/3.6/lib/python3.6/site-packages/IPython/core/interactiveshell.py:3325: PerformanceWarning: \n",
      "your performance may suffer as PyTables will pickle object types that it cannot\n",
      "map directly to c-types [inferred_type->mixed-integer,key->block1_values] [items->['cid', 'pid', 'activity']]\n",
      "\n",
      "  exec(code_obj, self.user_global_ns, self.user_ns)\n"
     ]
    }
   ],
   "source": [
    "# save the scaled features to file to save running this slow op again\n",
    "store = pd.HDFStore(data_loc + 'dbscan_scaled_data.h5')\n",
    "store['df'] = df_features\n",
    "store.close()"
   ]
  },
  {
   "cell_type": "markdown",
   "metadata": {},
   "source": [
    "### Load pre-scaled data"
   ]
  },
  {
   "cell_type": "code",
   "execution_count": 3,
   "metadata": {},
   "outputs": [
    {
     "name": "stdout",
     "output_type": "stream",
     "text": [
      "rows: 184,063, columns: 14,730\n"
     ]
    }
   ],
   "source": [
    "store = pd.HDFStore(data_loc + 'dbscan_scaled_data.h5')\n",
    "df_features = pd.DataFrame(store['df' ])\n",
    "print('rows: {:,}, columns: {:,}'.format(len(df_features), len(df_features.columns)))\n",
    "store.close()"
   ]
  },
  {
   "cell_type": "markdown",
   "metadata": {},
   "source": [
    "## Cluster — DBSCAN"
   ]
  },
  {
   "cell_type": "markdown",
   "metadata": {},
   "source": [
    "#### 1. Interpoint distances to estimate Eps\n",
    "\n",
    "Plot interpoint distances over the centroid-sample set to see if we can determine a decent value for DBSCAN's epsilon parameter.\n",
    "\n",
    "Do this by taking knn with _k = 3_ over a sample of the data and then plotting those distances. We look for a noticiable knee in the plot as a contender for DBSCAN epsilon.\n",
    "\n",
    "Reference material:\n",
    "\n",
    "* [scikit-learn: Nearest Neighbors](https://scikit-learn.org/stable/modules/neighbors.html)\n",
    "* [Knn distance plot for determining eps of DBSCAN](https://datascience.stackexchange.com/questions/10162/knn-distance-plot-for-determining-eps-of-dbscan)"
   ]
  },
  {
   "cell_type": "code",
   "execution_count": 3,
   "metadata": {},
   "outputs": [
    {
     "name": "stdout",
     "output_type": "stream",
     "text": [
      "rows: 22,172, columns: 737\n"
     ]
    }
   ],
   "source": [
    "store = pd.HDFStore(data_loc + 'xgboost_features_data.h5')\n",
    "df_sampled = pd.DataFrame(store['df' ])\n",
    "print('rows: {:,}, columns: {:,}'.format(len(df_sampled), len(df_sampled.columns)))\n",
    "store.close()"
   ]
  },
  {
   "cell_type": "code",
   "execution_count": 37,
   "metadata": {},
   "outputs": [
    {
     "name": "stdout",
     "output_type": "stream",
     "text": [
      "rows: 22,172, columns: 737\n"
     ]
    }
   ],
   "source": [
    "from sklearn.neighbors import NearestNeighbors\n",
    "\n",
    "df_sampled_sampled = df_sampled.sample(1000, random_state=42)\n",
    "X = df_sampled_sampled.drop(['cid', 'pid', 'activity'], axis=1).values\n",
    "\n",
    "X = MinMaxScaler().fit_transform(X)\n",
    "\n",
    "nbrs = NearestNeighbors(n_neighbors=3, algorithm='ball_tree').fit(X)"
   ]
  },
  {
   "cell_type": "code",
   "execution_count": 38,
   "metadata": {},
   "outputs": [],
   "source": [
    "distances, indices = nbrs.kneighbors(X)\n",
    "third_n = distances[:, 2]\n",
    "third_n.sort(axis=0)"
   ]
  },
  {
   "cell_type": "code",
   "execution_count": 39,
   "metadata": {},
   "outputs": [
    {
     "data": {
      "image/png": "[encoded data removed]",
      "text/plain": [
       "<Figure size 432x288 with 1 Axes>"
      ]
     },
     "metadata": {
      "needs_background": "light"
     },
     "output_type": "display_data"
    }
   ],
   "source": [
    "_ = plt.plot(third_n)"
   ]
  },
  {
   "cell_type": "markdown",
   "metadata": {},
   "source": [
    "#### 2. Run DBSCAN"
   ]
  },
  {
   "cell_type": "code",
   "execution_count": 4,
   "metadata": {},
   "outputs": [
    {
     "data": {
      "text/plain": [
       "(22172, 734)"
      ]
     },
     "execution_count": 4,
     "metadata": {},
     "output_type": "execute_result"
    }
   ],
   "source": [
    "X = df_sampled.drop(['cid', 'pid', 'activity'], axis=1).values\n",
    "X = MinMaxScaler().fit_transform(X)\n",
    "X.shape"
   ]
  },
  {
   "cell_type": "code",
   "execution_count": 22,
   "metadata": {},
   "outputs": [],
   "source": [
    "db = DBSCAN(eps=5, min_samples=10).fit(X)"
   ]
  },
  {
   "cell_type": "markdown",
   "metadata": {},
   "source": [
    "#### save the model"
   ]
  },
  {
   "cell_type": "code",
   "execution_count": 43,
   "metadata": {},
   "outputs": [
    {
     "data": {
      "text/plain": [
       "['../data/FDA-COVID19_files_v1.0/dbscam_sampled_model.mdl']"
      ]
     },
     "execution_count": 43,
     "metadata": {},
     "output_type": "execute_result"
    }
   ],
   "source": [
    "joblib.dump(db, data_loc + 'dbscam_sampled_model.mdl')"
   ]
  },
  {
   "cell_type": "markdown",
   "metadata": {},
   "source": [
    "#### load the model"
   ]
  },
  {
   "cell_type": "code",
   "execution_count": 44,
   "metadata": {},
   "outputs": [],
   "source": [
    "mdl = joblib.load(data_loc + 'dbscam_sampled_model.mdl')"
   ]
  },
  {
   "cell_type": "code",
   "execution_count": 45,
   "metadata": {},
   "outputs": [
    {
     "data": {
      "text/plain": [
       "array([ 0,  1,  2, ...,  0, -1,  0])"
      ]
     },
     "execution_count": 45,
     "metadata": {},
     "output_type": "execute_result"
    }
   ],
   "source": [
    "mdl.labels_"
   ]
  },
  {
   "cell_type": "code",
   "execution_count": 23,
   "metadata": {},
   "outputs": [],
   "source": [
    "labels = db.labels_\n",
    "\n",
    "# Number of clusters in labels, ignoring noise if present.\n",
    "n_clusters_ = len(set(labels)) - (1 if -1 in labels else 0)\n",
    "n_noise_ = list(labels).count(-1)"
   ]
  },
  {
   "cell_type": "code",
   "execution_count": 24,
   "metadata": {},
   "outputs": [
    {
     "data": {
      "text/plain": [
       "174"
      ]
     },
     "execution_count": 24,
     "metadata": {},
     "output_type": "execute_result"
    }
   ],
   "source": [
    "n_clusters_"
   ]
  },
  {
   "cell_type": "code",
   "execution_count": 28,
   "metadata": {},
   "outputs": [
    {
     "data": {
      "text/plain": [
       "2845"
      ]
     },
     "execution_count": 28,
     "metadata": {},
     "output_type": "execute_result"
    }
   ],
   "source": [
    "n_noise_"
   ]
  },
  {
   "cell_type": "code",
   "execution_count": 30,
   "metadata": {},
   "outputs": [
    {
     "data": {
      "text/plain": [
       "22172"
      ]
     },
     "execution_count": 30,
     "metadata": {},
     "output_type": "execute_result"
    }
   ],
   "source": [
    "len(labels)"
   ]
  },
  {
   "cell_type": "code",
   "execution_count": 29,
   "metadata": {},
   "outputs": [
    {
     "data": {
      "text/plain": [
       "(array([ 2845, 13968,   524,   563,    39,    32,    73,    13,   479,\n",
       "           20,    34,    55,    38,    60,    49,    13,    12,   124,\n",
       "           16,    39,    39,    14,    23,    14,    17,    11,    12,\n",
       "           14,    10,    46,    20,    14,    15,    85,    10,    10,\n",
       "          105,    14,    26,    10,    10,    53,    16,    13,    17,\n",
       "           29,    23,    14,    11,    22,    47,    14,    10,    24,\n",
       "           22,    42,    15,    26,    24,    25,    78,    28,    11,\n",
       "           26,    46,    53,    27,    17,    21,    11,    15,    20,\n",
       "           16,    10,    10,    10,    30,    11,    34,    12,    19,\n",
       "           15,    21,    17,    10,    46,    99,    49,    15,    26,\n",
       "           18,    60,    10,    16,    11,    13,    19,    16,   101,\n",
       "           12,    16,    10,    48,    20,    13,    16,    10,    11,\n",
       "           10,    30,    23,    14,    41,    15,    11,    13,    12,\n",
       "           14,    10,    12,    16,    10,    13,    10,    10,    29,\n",
       "           13,    10,    17,    12,    57,    11,    15,    11,    34,\n",
       "           23,    12,    14,    11,    18,    21,    17,    16,    21,\n",
       "           17,    14,    12,    11,    13,    12,    14,    15,    11,\n",
       "           13,    10,    12,    10,    11,    10,    10,    11,    12,\n",
       "           10,    12,    10,    13,    15,    10,    10,    10,    11,\n",
       "           11,    10,    21]),\n",
       " array([ -1.,   0.,   1.,   2.,   3.,   4.,   5.,   6.,   7.,   8.,   9.,\n",
       "         10.,  11.,  12.,  13.,  14.,  15.,  16.,  17.,  18.,  19.,  20.,\n",
       "         21.,  22.,  23.,  24.,  25.,  26.,  27.,  28.,  29.,  30.,  31.,\n",
       "         32.,  33.,  34.,  35.,  36.,  37.,  38.,  39.,  40.,  41.,  42.,\n",
       "         43.,  44.,  45.,  46.,  47.,  48.,  49.,  50.,  51.,  52.,  53.,\n",
       "         54.,  55.,  56.,  57.,  58.,  59.,  60.,  61.,  62.,  63.,  64.,\n",
       "         65.,  66.,  67.,  68.,  69.,  70.,  71.,  72.,  73.,  74.,  75.,\n",
       "         76.,  77.,  78.,  79.,  80.,  81.,  82.,  83.,  84.,  85.,  86.,\n",
       "         87.,  88.,  89.,  90.,  91.,  92.,  93.,  94.,  95.,  96.,  97.,\n",
       "         98.,  99., 100., 101., 102., 103., 104., 105., 106., 107., 108.,\n",
       "        109., 110., 111., 112., 113., 114., 115., 116., 117., 118., 119.,\n",
       "        120., 121., 122., 123., 124., 125., 126., 127., 128., 129., 130.,\n",
       "        131., 132., 133., 134., 135., 136., 137., 138., 139., 140., 141.,\n",
       "        142., 143., 144., 145., 146., 147., 148., 149., 150., 151., 152.,\n",
       "        153., 154., 155., 156., 157., 158., 159., 160., 161., 162., 163.,\n",
       "        164., 165., 166., 167., 168., 169., 170., 171., 172., 173.]))"
      ]
     },
     "execution_count": 29,
     "metadata": {},
     "output_type": "execute_result"
    }
   ],
   "source": [
    "np.histogram(labels, bins=174)"
   ]
  },
  {
   "cell_type": "markdown",
   "metadata": {},
   "source": [
    "#### show clusters in UMAP embedding"
   ]
  },
  {
   "cell_type": "code",
   "execution_count": 35,
   "metadata": {},
   "outputs": [],
   "source": [
    "reducer = umap.UMAP(n_neighbors=15, min_dist=0.3)\n",
    "embedding_sampled = reducer.fit_transform(X)"
   ]
  },
  {
   "cell_type": "code",
   "execution_count": 38,
   "metadata": {},
   "outputs": [],
   "source": [
    "colors = []\n",
    "for x in labels:\n",
    "    if x == 7:\n",
    "        colors.append(sns.color_palette()[9])\n",
    "    elif x > -1 and x < 9:\n",
    "        colors.append(sns.color_palette()[x])\n",
    "    else:\n",
    "        colors.append(sns.color_palette()[7]) # noise and all others are grayed out"
   ]
  },
  {
   "cell_type": "code",
   "execution_count": 41,
   "metadata": {},
   "outputs": [
    {
     "data": {
      "image/png": "[encoded data removed]",
      "text/plain": [
       "<Figure size 640x640 with 1 Axes>"
      ]
     },
     "metadata": {
      "needs_background": "light"
     },
     "output_type": "display_data"
    }
   ],
   "source": [
    "plt.figure(figsize=(8, 8), dpi=80)\n",
    "plt.scatter(embedding_sampled[:, 0], embedding_sampled[:, 1], c=colors, s=5, alpha=0.1)\n",
    "plt.gca().set_aspect('equal', 'datalim')\n",
    "plt.title('UMAP projection centroid-sampled dataset on d=734, dbscan clusters Eps=5', fontsize=18);\n",
    "ax = plt.gca()\n",
    "ax.set_facecolor((0.0, 0.0, 0.0))"
   ]
  },
  {
   "cell_type": "markdown",
   "metadata": {},
   "source": [
    "## Cluster — OPTICS\n",
    "\n",
    "Reference material:\n",
    "\n",
    "* [sklearn.cluster.OPTICS](https://scikit-learn.org/stable/modules/generated/sklearn.cluster.OPTICS.html)\n",
    "* [OPTICS algorithm](https://en.wikipedia.org/wiki/OPTICS_algorithm)\n",
    "* [Demo of OPTICS clustering algorithm](https://scikit-learn.org/stable/auto_examples/cluster/plot_optics.html)"
   ]
  },
  {
   "cell_type": "code",
   "execution_count": 6,
   "metadata": {},
   "outputs": [
    {
     "name": "stdout",
     "output_type": "stream",
     "text": [
      "rows: 22,172, columns: 13,851\n"
     ]
    }
   ],
   "source": [
    "# Test on scaled, centroid-based sample.\n",
    "store = pd.HDFStore(data_loc + 'sampled_data.h5')\n",
    "df_sampled = pd.DataFrame(store['df' ])\n",
    "print('rows: {:,}, columns: {:,}'.format(len(df_sampled), len(df_sampled.columns)))\n",
    "store.close()\n",
    "\n",
    "scaler = MinMaxScaler()\n",
    "drop_cols = ['cid', 'pid', 'activity']\n",
    "X = df_sampled.drop(columns=drop_cols, axis=1)\n",
    "X = scaler.fit_transform(X.values)"
   ]
  },
  {
   "cell_type": "code",
   "execution_count": null,
   "metadata": {},
   "outputs": [],
   "source": [
    "from sklearn.cluster import OPTICS, cluster_optics_dbscan\n",
    "\n",
    "clust = OPTICS(min_samples=50, xi=.05, min_cluster_size=.05)\n",
    "\n",
    "# Run the fit\n",
    "clust.fit(X)\n",
    "\n",
    "reachability = clust.reachability_[clust.ordering_]\n",
    "labels = clust.labels_[clust.ordering_]"
   ]
  },
  {
   "cell_type": "code",
   "execution_count": null,
   "metadata": {},
   "outputs": [],
   "source": []
  }
 ],
 "metadata": {
  "kernelspec": {
   "display_name": "Python 3",
   "language": "python",
   "name": "python3"
  },
  "language_info": {
   "codemirror_mode": {
    "name": "ipython",
    "version": 3
   },
   "file_extension": ".py",
   "mimetype": "text/x-python",
   "name": "python",
   "nbconvert_exporter": "python",
   "pygments_lexer": "ipython3",
   "version": "3.6.2"
  }
 },
 "nbformat": 4,
 "nbformat_minor": 4
}
